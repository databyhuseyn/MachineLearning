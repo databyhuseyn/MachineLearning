{
  "nbformat": 4,
  "nbformat_minor": 0,
  "metadata": {
    "colab": {
      "provenance": [],
      "toc_visible": true,
      "authorship_tag": "ABX9TyO+9g2OuRjIKY6KwRjvw4Ox",
      "include_colab_link": true
    },
    "kernelspec": {
      "name": "python3",
      "display_name": "Python 3"
    },
    "language_info": {
      "name": "python"
    }
  },
  "cells": [
    {
      "cell_type": "markdown",
      "metadata": {
        "id": "view-in-github",
        "colab_type": "text"
      },
      "source": [
        "<a href=\"https://colab.research.google.com/github/databyhuseyn/MachineLearning/blob/main/Time_series_forecasting_in_tensorflow.ipynb\" target=\"_parent\"><img src=\"https://colab.research.google.com/assets/colab-badge.svg\" alt=\"Open In Colab\"/></a>"
      ]
    },
    {
      "cell_type": "markdown",
      "source": [
        "# Milestone Project 3: Time Series forecasting in TensorFlow(BitPredict)"
      ],
      "metadata": {
        "id": "sk-URP2FVzSs"
      }
    },
    {
      "cell_type": "code",
      "source": [
        "import numpy as np"
      ],
      "metadata": {
        "id": "EKw9yQkp8hpw"
      },
      "execution_count": 32,
      "outputs": []
    },
    {
      "cell_type": "code",
      "source": [
        "!wget https://raw.githubusercontent.com/Rstam59/TaskDataRepoForStudents/main/BTC_USD_2013-10-01_2021-05-18-CoinDesk.csv"
      ],
      "metadata": {
        "colab": {
          "base_uri": "https://localhost:8080/"
        },
        "id": "HWPfG3Rza-Fn",
        "outputId": "4362a908-960e-4c0d-8a5d-72bf10e97ec7"
      },
      "execution_count": 1,
      "outputs": [
        {
          "output_type": "stream",
          "name": "stdout",
          "text": [
            "--2024-07-01 10:20:21--  https://raw.githubusercontent.com/Rstam59/TaskDataRepoForStudents/main/BTC_USD_2013-10-01_2021-05-18-CoinDesk.csv\n",
            "Resolving raw.githubusercontent.com (raw.githubusercontent.com)... 185.199.108.133, 185.199.109.133, 185.199.110.133, ...\n",
            "Connecting to raw.githubusercontent.com (raw.githubusercontent.com)|185.199.108.133|:443... connected.\n",
            "HTTP request sent, awaiting response... 200 OK\n",
            "Length: 178509 (174K) [text/plain]\n",
            "Saving to: ‘BTC_USD_2013-10-01_2021-05-18-CoinDesk.csv’\n",
            "\n",
            "BTC_USD_2013-10-01_ 100%[===================>] 174.33K  --.-KB/s    in 0.03s   \n",
            "\n",
            "2024-07-01 10:20:21 (5.34 MB/s) - ‘BTC_USD_2013-10-01_2021-05-18-CoinDesk.csv’ saved [178509/178509]\n",
            "\n"
          ]
        }
      ]
    },
    {
      "cell_type": "code",
      "source": [
        "# Import with pandas\n",
        "import pandas as pd\n",
        "df = pd.read_csv('/content/BTC_USD_2013-10-01_2021-05-18-CoinDesk.csv',\n",
        "                 parse_dates=['Date'],\n",
        "                 index_col=['Date'])\n",
        "df.head()"
      ],
      "metadata": {
        "colab": {
          "base_uri": "https://localhost:8080/",
          "height": 238
        },
        "id": "ALL71mljd9SF",
        "outputId": "1cf6bcdf-c727-4cfa-9a5c-2eb83c201819"
      },
      "execution_count": 2,
      "outputs": [
        {
          "output_type": "execute_result",
          "data": {
            "text/plain": [
              "           Currency  Closing Price (USD)  24h Open (USD)  24h High (USD)  \\\n",
              "Date                                                                       \n",
              "2013-10-01      BTC            123.65499       124.30466       124.75166   \n",
              "2013-10-02      BTC            125.45500       123.65499       125.75850   \n",
              "2013-10-03      BTC            108.58483       125.45500       125.66566   \n",
              "2013-10-04      BTC            118.67466       108.58483       118.67500   \n",
              "2013-10-05      BTC            121.33866       118.67466       121.93633   \n",
              "\n",
              "            24h Low (USD)  \n",
              "Date                       \n",
              "2013-10-01      122.56349  \n",
              "2013-10-02      123.63383  \n",
              "2013-10-03       83.32833  \n",
              "2013-10-04      107.05816  \n",
              "2013-10-05      118.00566  "
            ],
            "text/html": [
              "\n",
              "  <div id=\"df-1d2bfcda-deeb-4127-82d6-84deb0df05b4\" class=\"colab-df-container\">\n",
              "    <div>\n",
              "<style scoped>\n",
              "    .dataframe tbody tr th:only-of-type {\n",
              "        vertical-align: middle;\n",
              "    }\n",
              "\n",
              "    .dataframe tbody tr th {\n",
              "        vertical-align: top;\n",
              "    }\n",
              "\n",
              "    .dataframe thead th {\n",
              "        text-align: right;\n",
              "    }\n",
              "</style>\n",
              "<table border=\"1\" class=\"dataframe\">\n",
              "  <thead>\n",
              "    <tr style=\"text-align: right;\">\n",
              "      <th></th>\n",
              "      <th>Currency</th>\n",
              "      <th>Closing Price (USD)</th>\n",
              "      <th>24h Open (USD)</th>\n",
              "      <th>24h High (USD)</th>\n",
              "      <th>24h Low (USD)</th>\n",
              "    </tr>\n",
              "    <tr>\n",
              "      <th>Date</th>\n",
              "      <th></th>\n",
              "      <th></th>\n",
              "      <th></th>\n",
              "      <th></th>\n",
              "      <th></th>\n",
              "    </tr>\n",
              "  </thead>\n",
              "  <tbody>\n",
              "    <tr>\n",
              "      <th>2013-10-01</th>\n",
              "      <td>BTC</td>\n",
              "      <td>123.65499</td>\n",
              "      <td>124.30466</td>\n",
              "      <td>124.75166</td>\n",
              "      <td>122.56349</td>\n",
              "    </tr>\n",
              "    <tr>\n",
              "      <th>2013-10-02</th>\n",
              "      <td>BTC</td>\n",
              "      <td>125.45500</td>\n",
              "      <td>123.65499</td>\n",
              "      <td>125.75850</td>\n",
              "      <td>123.63383</td>\n",
              "    </tr>\n",
              "    <tr>\n",
              "      <th>2013-10-03</th>\n",
              "      <td>BTC</td>\n",
              "      <td>108.58483</td>\n",
              "      <td>125.45500</td>\n",
              "      <td>125.66566</td>\n",
              "      <td>83.32833</td>\n",
              "    </tr>\n",
              "    <tr>\n",
              "      <th>2013-10-04</th>\n",
              "      <td>BTC</td>\n",
              "      <td>118.67466</td>\n",
              "      <td>108.58483</td>\n",
              "      <td>118.67500</td>\n",
              "      <td>107.05816</td>\n",
              "    </tr>\n",
              "    <tr>\n",
              "      <th>2013-10-05</th>\n",
              "      <td>BTC</td>\n",
              "      <td>121.33866</td>\n",
              "      <td>118.67466</td>\n",
              "      <td>121.93633</td>\n",
              "      <td>118.00566</td>\n",
              "    </tr>\n",
              "  </tbody>\n",
              "</table>\n",
              "</div>\n",
              "    <div class=\"colab-df-buttons\">\n",
              "\n",
              "  <div class=\"colab-df-container\">\n",
              "    <button class=\"colab-df-convert\" onclick=\"convertToInteractive('df-1d2bfcda-deeb-4127-82d6-84deb0df05b4')\"\n",
              "            title=\"Convert this dataframe to an interactive table.\"\n",
              "            style=\"display:none;\">\n",
              "\n",
              "  <svg xmlns=\"http://www.w3.org/2000/svg\" height=\"24px\" viewBox=\"0 -960 960 960\">\n",
              "    <path d=\"M120-120v-720h720v720H120Zm60-500h600v-160H180v160Zm220 220h160v-160H400v160Zm0 220h160v-160H400v160ZM180-400h160v-160H180v160Zm440 0h160v-160H620v160ZM180-180h160v-160H180v160Zm440 0h160v-160H620v160Z\"/>\n",
              "  </svg>\n",
              "    </button>\n",
              "\n",
              "  <style>\n",
              "    .colab-df-container {\n",
              "      display:flex;\n",
              "      gap: 12px;\n",
              "    }\n",
              "\n",
              "    .colab-df-convert {\n",
              "      background-color: #E8F0FE;\n",
              "      border: none;\n",
              "      border-radius: 50%;\n",
              "      cursor: pointer;\n",
              "      display: none;\n",
              "      fill: #1967D2;\n",
              "      height: 32px;\n",
              "      padding: 0 0 0 0;\n",
              "      width: 32px;\n",
              "    }\n",
              "\n",
              "    .colab-df-convert:hover {\n",
              "      background-color: #E2EBFA;\n",
              "      box-shadow: 0px 1px 2px rgba(60, 64, 67, 0.3), 0px 1px 3px 1px rgba(60, 64, 67, 0.15);\n",
              "      fill: #174EA6;\n",
              "    }\n",
              "\n",
              "    .colab-df-buttons div {\n",
              "      margin-bottom: 4px;\n",
              "    }\n",
              "\n",
              "    [theme=dark] .colab-df-convert {\n",
              "      background-color: #3B4455;\n",
              "      fill: #D2E3FC;\n",
              "    }\n",
              "\n",
              "    [theme=dark] .colab-df-convert:hover {\n",
              "      background-color: #434B5C;\n",
              "      box-shadow: 0px 1px 3px 1px rgba(0, 0, 0, 0.15);\n",
              "      filter: drop-shadow(0px 1px 2px rgba(0, 0, 0, 0.3));\n",
              "      fill: #FFFFFF;\n",
              "    }\n",
              "  </style>\n",
              "\n",
              "    <script>\n",
              "      const buttonEl =\n",
              "        document.querySelector('#df-1d2bfcda-deeb-4127-82d6-84deb0df05b4 button.colab-df-convert');\n",
              "      buttonEl.style.display =\n",
              "        google.colab.kernel.accessAllowed ? 'block' : 'none';\n",
              "\n",
              "      async function convertToInteractive(key) {\n",
              "        const element = document.querySelector('#df-1d2bfcda-deeb-4127-82d6-84deb0df05b4');\n",
              "        const dataTable =\n",
              "          await google.colab.kernel.invokeFunction('convertToInteractive',\n",
              "                                                    [key], {});\n",
              "        if (!dataTable) return;\n",
              "\n",
              "        const docLinkHtml = 'Like what you see? Visit the ' +\n",
              "          '<a target=\"_blank\" href=https://colab.research.google.com/notebooks/data_table.ipynb>data table notebook</a>'\n",
              "          + ' to learn more about interactive tables.';\n",
              "        element.innerHTML = '';\n",
              "        dataTable['output_type'] = 'display_data';\n",
              "        await google.colab.output.renderOutput(dataTable, element);\n",
              "        const docLink = document.createElement('div');\n",
              "        docLink.innerHTML = docLinkHtml;\n",
              "        element.appendChild(docLink);\n",
              "      }\n",
              "    </script>\n",
              "  </div>\n",
              "\n",
              "\n",
              "<div id=\"df-d38cbaf1-3f5d-4089-ac41-48f2730bfc87\">\n",
              "  <button class=\"colab-df-quickchart\" onclick=\"quickchart('df-d38cbaf1-3f5d-4089-ac41-48f2730bfc87')\"\n",
              "            title=\"Suggest charts\"\n",
              "            style=\"display:none;\">\n",
              "\n",
              "<svg xmlns=\"http://www.w3.org/2000/svg\" height=\"24px\"viewBox=\"0 0 24 24\"\n",
              "     width=\"24px\">\n",
              "    <g>\n",
              "        <path d=\"M19 3H5c-1.1 0-2 .9-2 2v14c0 1.1.9 2 2 2h14c1.1 0 2-.9 2-2V5c0-1.1-.9-2-2-2zM9 17H7v-7h2v7zm4 0h-2V7h2v10zm4 0h-2v-4h2v4z\"/>\n",
              "    </g>\n",
              "</svg>\n",
              "  </button>\n",
              "\n",
              "<style>\n",
              "  .colab-df-quickchart {\n",
              "      --bg-color: #E8F0FE;\n",
              "      --fill-color: #1967D2;\n",
              "      --hover-bg-color: #E2EBFA;\n",
              "      --hover-fill-color: #174EA6;\n",
              "      --disabled-fill-color: #AAA;\n",
              "      --disabled-bg-color: #DDD;\n",
              "  }\n",
              "\n",
              "  [theme=dark] .colab-df-quickchart {\n",
              "      --bg-color: #3B4455;\n",
              "      --fill-color: #D2E3FC;\n",
              "      --hover-bg-color: #434B5C;\n",
              "      --hover-fill-color: #FFFFFF;\n",
              "      --disabled-bg-color: #3B4455;\n",
              "      --disabled-fill-color: #666;\n",
              "  }\n",
              "\n",
              "  .colab-df-quickchart {\n",
              "    background-color: var(--bg-color);\n",
              "    border: none;\n",
              "    border-radius: 50%;\n",
              "    cursor: pointer;\n",
              "    display: none;\n",
              "    fill: var(--fill-color);\n",
              "    height: 32px;\n",
              "    padding: 0;\n",
              "    width: 32px;\n",
              "  }\n",
              "\n",
              "  .colab-df-quickchart:hover {\n",
              "    background-color: var(--hover-bg-color);\n",
              "    box-shadow: 0 1px 2px rgba(60, 64, 67, 0.3), 0 1px 3px 1px rgba(60, 64, 67, 0.15);\n",
              "    fill: var(--button-hover-fill-color);\n",
              "  }\n",
              "\n",
              "  .colab-df-quickchart-complete:disabled,\n",
              "  .colab-df-quickchart-complete:disabled:hover {\n",
              "    background-color: var(--disabled-bg-color);\n",
              "    fill: var(--disabled-fill-color);\n",
              "    box-shadow: none;\n",
              "  }\n",
              "\n",
              "  .colab-df-spinner {\n",
              "    border: 2px solid var(--fill-color);\n",
              "    border-color: transparent;\n",
              "    border-bottom-color: var(--fill-color);\n",
              "    animation:\n",
              "      spin 1s steps(1) infinite;\n",
              "  }\n",
              "\n",
              "  @keyframes spin {\n",
              "    0% {\n",
              "      border-color: transparent;\n",
              "      border-bottom-color: var(--fill-color);\n",
              "      border-left-color: var(--fill-color);\n",
              "    }\n",
              "    20% {\n",
              "      border-color: transparent;\n",
              "      border-left-color: var(--fill-color);\n",
              "      border-top-color: var(--fill-color);\n",
              "    }\n",
              "    30% {\n",
              "      border-color: transparent;\n",
              "      border-left-color: var(--fill-color);\n",
              "      border-top-color: var(--fill-color);\n",
              "      border-right-color: var(--fill-color);\n",
              "    }\n",
              "    40% {\n",
              "      border-color: transparent;\n",
              "      border-right-color: var(--fill-color);\n",
              "      border-top-color: var(--fill-color);\n",
              "    }\n",
              "    60% {\n",
              "      border-color: transparent;\n",
              "      border-right-color: var(--fill-color);\n",
              "    }\n",
              "    80% {\n",
              "      border-color: transparent;\n",
              "      border-right-color: var(--fill-color);\n",
              "      border-bottom-color: var(--fill-color);\n",
              "    }\n",
              "    90% {\n",
              "      border-color: transparent;\n",
              "      border-bottom-color: var(--fill-color);\n",
              "    }\n",
              "  }\n",
              "</style>\n",
              "\n",
              "  <script>\n",
              "    async function quickchart(key) {\n",
              "      const quickchartButtonEl =\n",
              "        document.querySelector('#' + key + ' button');\n",
              "      quickchartButtonEl.disabled = true;  // To prevent multiple clicks.\n",
              "      quickchartButtonEl.classList.add('colab-df-spinner');\n",
              "      try {\n",
              "        const charts = await google.colab.kernel.invokeFunction(\n",
              "            'suggestCharts', [key], {});\n",
              "      } catch (error) {\n",
              "        console.error('Error during call to suggestCharts:', error);\n",
              "      }\n",
              "      quickchartButtonEl.classList.remove('colab-df-spinner');\n",
              "      quickchartButtonEl.classList.add('colab-df-quickchart-complete');\n",
              "    }\n",
              "    (() => {\n",
              "      let quickchartButtonEl =\n",
              "        document.querySelector('#df-d38cbaf1-3f5d-4089-ac41-48f2730bfc87 button');\n",
              "      quickchartButtonEl.style.display =\n",
              "        google.colab.kernel.accessAllowed ? 'block' : 'none';\n",
              "    })();\n",
              "  </script>\n",
              "</div>\n",
              "\n",
              "    </div>\n",
              "  </div>\n"
            ],
            "application/vnd.google.colaboratory.intrinsic+json": {
              "type": "dataframe",
              "variable_name": "df",
              "summary": "{\n  \"name\": \"df\",\n  \"rows\": 2787,\n  \"fields\": [\n    {\n      \"column\": \"Date\",\n      \"properties\": {\n        \"dtype\": \"date\",\n        \"min\": \"2013-10-01 00:00:00\",\n        \"max\": \"2021-05-18 00:00:00\",\n        \"num_unique_values\": 2787,\n        \"samples\": [\n          \"2019-06-11 00:00:00\",\n          \"2021-05-03 00:00:00\",\n          \"2017-10-05 00:00:00\"\n        ],\n        \"semantic_type\": \"\",\n        \"description\": \"\"\n      }\n    },\n    {\n      \"column\": \"Currency\",\n      \"properties\": {\n        \"dtype\": \"category\",\n        \"num_unique_values\": 1,\n        \"samples\": [\n          \"BTC\"\n        ],\n        \"semantic_type\": \"\",\n        \"description\": \"\"\n      }\n    },\n    {\n      \"column\": \"Closing Price (USD)\",\n      \"properties\": {\n        \"dtype\": \"number\",\n        \"std\": 10887.84744436952,\n        \"min\": 108.58483,\n        \"max\": 63346.7890351052,\n        \"num_unique_values\": 2787,\n        \"samples\": [\n          7954.0062377205\n        ],\n        \"semantic_type\": \"\",\n        \"description\": \"\"\n      }\n    },\n    {\n      \"column\": \"24h Open (USD)\",\n      \"properties\": {\n        \"dtype\": \"number\",\n        \"std\": 10863.80077212387,\n        \"min\": 108.58483,\n        \"max\": 63562.6735446382,\n        \"num_unique_values\": 2787,\n        \"samples\": [\n          7600.9225047785\n        ],\n        \"semantic_type\": \"\",\n        \"description\": \"\"\n      }\n    },\n    {\n      \"column\": \"24h High (USD)\",\n      \"properties\": {\n        \"dtype\": \"number\",\n        \"std\": 11206.779756254151,\n        \"min\": 118.675,\n        \"max\": 64801.787869525,\n        \"num_unique_values\": 2787,\n        \"samples\": [\n          8064.9001353225\n        ],\n        \"semantic_type\": \"\",\n        \"description\": \"\"\n      }\n    },\n    {\n      \"column\": \"24h Low (USD)\",\n      \"properties\": {\n        \"dtype\": \"number\",\n        \"std\": 10475.8112518284,\n        \"min\": 83.32833,\n        \"max\": 62094.6329143272,\n        \"num_unique_values\": 2785,\n        \"samples\": [\n          7714.610306452\n        ],\n        \"semantic_type\": \"\",\n        \"description\": \"\"\n      }\n    }\n  ]\n}"
            }
          },
          "metadata": {},
          "execution_count": 2
        }
      ]
    },
    {
      "cell_type": "code",
      "source": [
        "df.dtypes"
      ],
      "metadata": {
        "colab": {
          "base_uri": "https://localhost:8080/"
        },
        "id": "capFdzd3eJ7X",
        "outputId": "18908d06-4479-4d4b-d4ab-de887b682f35"
      },
      "execution_count": 3,
      "outputs": [
        {
          "output_type": "execute_result",
          "data": {
            "text/plain": [
              "Currency                object\n",
              "Closing Price (USD)    float64\n",
              "24h Open (USD)         float64\n",
              "24h High (USD)         float64\n",
              "24h Low (USD)          float64\n",
              "dtype: object"
            ]
          },
          "metadata": {},
          "execution_count": 3
        }
      ]
    },
    {
      "cell_type": "code",
      "source": [
        "df.info()"
      ],
      "metadata": {
        "colab": {
          "base_uri": "https://localhost:8080/"
        },
        "id": "zQJHggBze2Mo",
        "outputId": "8044c9dc-2b04-44fc-9d3e-9a806d785e89"
      },
      "execution_count": 4,
      "outputs": [
        {
          "output_type": "stream",
          "name": "stdout",
          "text": [
            "<class 'pandas.core.frame.DataFrame'>\n",
            "DatetimeIndex: 2787 entries, 2013-10-01 to 2021-05-18\n",
            "Data columns (total 5 columns):\n",
            " #   Column               Non-Null Count  Dtype  \n",
            "---  ------               --------------  -----  \n",
            " 0   Currency             2787 non-null   object \n",
            " 1   Closing Price (USD)  2787 non-null   float64\n",
            " 2   24h Open (USD)       2787 non-null   float64\n",
            " 3   24h High (USD)       2787 non-null   float64\n",
            " 4   24h Low (USD)        2787 non-null   float64\n",
            "dtypes: float64(4), object(1)\n",
            "memory usage: 130.6+ KB\n"
          ]
        }
      ]
    },
    {
      "cell_type": "code",
      "source": [
        "len(df)"
      ],
      "metadata": {
        "colab": {
          "base_uri": "https://localhost:8080/"
        },
        "id": "Gcxi9-d8fDju",
        "outputId": "23472149-41ce-47bf-efc6-a0e67decffbe"
      },
      "execution_count": 5,
      "outputs": [
        {
          "output_type": "execute_result",
          "data": {
            "text/plain": [
              "2787"
            ]
          },
          "metadata": {},
          "execution_count": 5
        }
      ]
    },
    {
      "cell_type": "code",
      "source": [
        "bitcoin_prices = pd.DataFrame(df['Closing Price (USD)']).rename(columns={'Closing Price (USD)': 'Price'})\n",
        "bitcoin_prices.head()"
      ],
      "metadata": {
        "colab": {
          "base_uri": "https://localhost:8080/",
          "height": 238
        },
        "id": "tcqHt8F5fKpU",
        "outputId": "84e90d43-4435-4862-a1a5-46048ecd6978"
      },
      "execution_count": 6,
      "outputs": [
        {
          "output_type": "execute_result",
          "data": {
            "text/plain": [
              "                Price\n",
              "Date                 \n",
              "2013-10-01  123.65499\n",
              "2013-10-02  125.45500\n",
              "2013-10-03  108.58483\n",
              "2013-10-04  118.67466\n",
              "2013-10-05  121.33866"
            ],
            "text/html": [
              "\n",
              "  <div id=\"df-d2692f37-003d-48c9-ac82-738b5073c4e6\" class=\"colab-df-container\">\n",
              "    <div>\n",
              "<style scoped>\n",
              "    .dataframe tbody tr th:only-of-type {\n",
              "        vertical-align: middle;\n",
              "    }\n",
              "\n",
              "    .dataframe tbody tr th {\n",
              "        vertical-align: top;\n",
              "    }\n",
              "\n",
              "    .dataframe thead th {\n",
              "        text-align: right;\n",
              "    }\n",
              "</style>\n",
              "<table border=\"1\" class=\"dataframe\">\n",
              "  <thead>\n",
              "    <tr style=\"text-align: right;\">\n",
              "      <th></th>\n",
              "      <th>Price</th>\n",
              "    </tr>\n",
              "    <tr>\n",
              "      <th>Date</th>\n",
              "      <th></th>\n",
              "    </tr>\n",
              "  </thead>\n",
              "  <tbody>\n",
              "    <tr>\n",
              "      <th>2013-10-01</th>\n",
              "      <td>123.65499</td>\n",
              "    </tr>\n",
              "    <tr>\n",
              "      <th>2013-10-02</th>\n",
              "      <td>125.45500</td>\n",
              "    </tr>\n",
              "    <tr>\n",
              "      <th>2013-10-03</th>\n",
              "      <td>108.58483</td>\n",
              "    </tr>\n",
              "    <tr>\n",
              "      <th>2013-10-04</th>\n",
              "      <td>118.67466</td>\n",
              "    </tr>\n",
              "    <tr>\n",
              "      <th>2013-10-05</th>\n",
              "      <td>121.33866</td>\n",
              "    </tr>\n",
              "  </tbody>\n",
              "</table>\n",
              "</div>\n",
              "    <div class=\"colab-df-buttons\">\n",
              "\n",
              "  <div class=\"colab-df-container\">\n",
              "    <button class=\"colab-df-convert\" onclick=\"convertToInteractive('df-d2692f37-003d-48c9-ac82-738b5073c4e6')\"\n",
              "            title=\"Convert this dataframe to an interactive table.\"\n",
              "            style=\"display:none;\">\n",
              "\n",
              "  <svg xmlns=\"http://www.w3.org/2000/svg\" height=\"24px\" viewBox=\"0 -960 960 960\">\n",
              "    <path d=\"M120-120v-720h720v720H120Zm60-500h600v-160H180v160Zm220 220h160v-160H400v160Zm0 220h160v-160H400v160ZM180-400h160v-160H180v160Zm440 0h160v-160H620v160ZM180-180h160v-160H180v160Zm440 0h160v-160H620v160Z\"/>\n",
              "  </svg>\n",
              "    </button>\n",
              "\n",
              "  <style>\n",
              "    .colab-df-container {\n",
              "      display:flex;\n",
              "      gap: 12px;\n",
              "    }\n",
              "\n",
              "    .colab-df-convert {\n",
              "      background-color: #E8F0FE;\n",
              "      border: none;\n",
              "      border-radius: 50%;\n",
              "      cursor: pointer;\n",
              "      display: none;\n",
              "      fill: #1967D2;\n",
              "      height: 32px;\n",
              "      padding: 0 0 0 0;\n",
              "      width: 32px;\n",
              "    }\n",
              "\n",
              "    .colab-df-convert:hover {\n",
              "      background-color: #E2EBFA;\n",
              "      box-shadow: 0px 1px 2px rgba(60, 64, 67, 0.3), 0px 1px 3px 1px rgba(60, 64, 67, 0.15);\n",
              "      fill: #174EA6;\n",
              "    }\n",
              "\n",
              "    .colab-df-buttons div {\n",
              "      margin-bottom: 4px;\n",
              "    }\n",
              "\n",
              "    [theme=dark] .colab-df-convert {\n",
              "      background-color: #3B4455;\n",
              "      fill: #D2E3FC;\n",
              "    }\n",
              "\n",
              "    [theme=dark] .colab-df-convert:hover {\n",
              "      background-color: #434B5C;\n",
              "      box-shadow: 0px 1px 3px 1px rgba(0, 0, 0, 0.15);\n",
              "      filter: drop-shadow(0px 1px 2px rgba(0, 0, 0, 0.3));\n",
              "      fill: #FFFFFF;\n",
              "    }\n",
              "  </style>\n",
              "\n",
              "    <script>\n",
              "      const buttonEl =\n",
              "        document.querySelector('#df-d2692f37-003d-48c9-ac82-738b5073c4e6 button.colab-df-convert');\n",
              "      buttonEl.style.display =\n",
              "        google.colab.kernel.accessAllowed ? 'block' : 'none';\n",
              "\n",
              "      async function convertToInteractive(key) {\n",
              "        const element = document.querySelector('#df-d2692f37-003d-48c9-ac82-738b5073c4e6');\n",
              "        const dataTable =\n",
              "          await google.colab.kernel.invokeFunction('convertToInteractive',\n",
              "                                                    [key], {});\n",
              "        if (!dataTable) return;\n",
              "\n",
              "        const docLinkHtml = 'Like what you see? Visit the ' +\n",
              "          '<a target=\"_blank\" href=https://colab.research.google.com/notebooks/data_table.ipynb>data table notebook</a>'\n",
              "          + ' to learn more about interactive tables.';\n",
              "        element.innerHTML = '';\n",
              "        dataTable['output_type'] = 'display_data';\n",
              "        await google.colab.output.renderOutput(dataTable, element);\n",
              "        const docLink = document.createElement('div');\n",
              "        docLink.innerHTML = docLinkHtml;\n",
              "        element.appendChild(docLink);\n",
              "      }\n",
              "    </script>\n",
              "  </div>\n",
              "\n",
              "\n",
              "<div id=\"df-f0ce2386-cdf5-4eb9-9517-c368b9505fbc\">\n",
              "  <button class=\"colab-df-quickchart\" onclick=\"quickchart('df-f0ce2386-cdf5-4eb9-9517-c368b9505fbc')\"\n",
              "            title=\"Suggest charts\"\n",
              "            style=\"display:none;\">\n",
              "\n",
              "<svg xmlns=\"http://www.w3.org/2000/svg\" height=\"24px\"viewBox=\"0 0 24 24\"\n",
              "     width=\"24px\">\n",
              "    <g>\n",
              "        <path d=\"M19 3H5c-1.1 0-2 .9-2 2v14c0 1.1.9 2 2 2h14c1.1 0 2-.9 2-2V5c0-1.1-.9-2-2-2zM9 17H7v-7h2v7zm4 0h-2V7h2v10zm4 0h-2v-4h2v4z\"/>\n",
              "    </g>\n",
              "</svg>\n",
              "  </button>\n",
              "\n",
              "<style>\n",
              "  .colab-df-quickchart {\n",
              "      --bg-color: #E8F0FE;\n",
              "      --fill-color: #1967D2;\n",
              "      --hover-bg-color: #E2EBFA;\n",
              "      --hover-fill-color: #174EA6;\n",
              "      --disabled-fill-color: #AAA;\n",
              "      --disabled-bg-color: #DDD;\n",
              "  }\n",
              "\n",
              "  [theme=dark] .colab-df-quickchart {\n",
              "      --bg-color: #3B4455;\n",
              "      --fill-color: #D2E3FC;\n",
              "      --hover-bg-color: #434B5C;\n",
              "      --hover-fill-color: #FFFFFF;\n",
              "      --disabled-bg-color: #3B4455;\n",
              "      --disabled-fill-color: #666;\n",
              "  }\n",
              "\n",
              "  .colab-df-quickchart {\n",
              "    background-color: var(--bg-color);\n",
              "    border: none;\n",
              "    border-radius: 50%;\n",
              "    cursor: pointer;\n",
              "    display: none;\n",
              "    fill: var(--fill-color);\n",
              "    height: 32px;\n",
              "    padding: 0;\n",
              "    width: 32px;\n",
              "  }\n",
              "\n",
              "  .colab-df-quickchart:hover {\n",
              "    background-color: var(--hover-bg-color);\n",
              "    box-shadow: 0 1px 2px rgba(60, 64, 67, 0.3), 0 1px 3px 1px rgba(60, 64, 67, 0.15);\n",
              "    fill: var(--button-hover-fill-color);\n",
              "  }\n",
              "\n",
              "  .colab-df-quickchart-complete:disabled,\n",
              "  .colab-df-quickchart-complete:disabled:hover {\n",
              "    background-color: var(--disabled-bg-color);\n",
              "    fill: var(--disabled-fill-color);\n",
              "    box-shadow: none;\n",
              "  }\n",
              "\n",
              "  .colab-df-spinner {\n",
              "    border: 2px solid var(--fill-color);\n",
              "    border-color: transparent;\n",
              "    border-bottom-color: var(--fill-color);\n",
              "    animation:\n",
              "      spin 1s steps(1) infinite;\n",
              "  }\n",
              "\n",
              "  @keyframes spin {\n",
              "    0% {\n",
              "      border-color: transparent;\n",
              "      border-bottom-color: var(--fill-color);\n",
              "      border-left-color: var(--fill-color);\n",
              "    }\n",
              "    20% {\n",
              "      border-color: transparent;\n",
              "      border-left-color: var(--fill-color);\n",
              "      border-top-color: var(--fill-color);\n",
              "    }\n",
              "    30% {\n",
              "      border-color: transparent;\n",
              "      border-left-color: var(--fill-color);\n",
              "      border-top-color: var(--fill-color);\n",
              "      border-right-color: var(--fill-color);\n",
              "    }\n",
              "    40% {\n",
              "      border-color: transparent;\n",
              "      border-right-color: var(--fill-color);\n",
              "      border-top-color: var(--fill-color);\n",
              "    }\n",
              "    60% {\n",
              "      border-color: transparent;\n",
              "      border-right-color: var(--fill-color);\n",
              "    }\n",
              "    80% {\n",
              "      border-color: transparent;\n",
              "      border-right-color: var(--fill-color);\n",
              "      border-bottom-color: var(--fill-color);\n",
              "    }\n",
              "    90% {\n",
              "      border-color: transparent;\n",
              "      border-bottom-color: var(--fill-color);\n",
              "    }\n",
              "  }\n",
              "</style>\n",
              "\n",
              "  <script>\n",
              "    async function quickchart(key) {\n",
              "      const quickchartButtonEl =\n",
              "        document.querySelector('#' + key + ' button');\n",
              "      quickchartButtonEl.disabled = true;  // To prevent multiple clicks.\n",
              "      quickchartButtonEl.classList.add('colab-df-spinner');\n",
              "      try {\n",
              "        const charts = await google.colab.kernel.invokeFunction(\n",
              "            'suggestCharts', [key], {});\n",
              "      } catch (error) {\n",
              "        console.error('Error during call to suggestCharts:', error);\n",
              "      }\n",
              "      quickchartButtonEl.classList.remove('colab-df-spinner');\n",
              "      quickchartButtonEl.classList.add('colab-df-quickchart-complete');\n",
              "    }\n",
              "    (() => {\n",
              "      let quickchartButtonEl =\n",
              "        document.querySelector('#df-f0ce2386-cdf5-4eb9-9517-c368b9505fbc button');\n",
              "      quickchartButtonEl.style.display =\n",
              "        google.colab.kernel.accessAllowed ? 'block' : 'none';\n",
              "    })();\n",
              "  </script>\n",
              "</div>\n",
              "\n",
              "    </div>\n",
              "  </div>\n"
            ],
            "application/vnd.google.colaboratory.intrinsic+json": {
              "type": "dataframe",
              "variable_name": "bitcoin_prices",
              "summary": "{\n  \"name\": \"bitcoin_prices\",\n  \"rows\": 2787,\n  \"fields\": [\n    {\n      \"column\": \"Date\",\n      \"properties\": {\n        \"dtype\": \"date\",\n        \"min\": \"2013-10-01 00:00:00\",\n        \"max\": \"2021-05-18 00:00:00\",\n        \"num_unique_values\": 2787,\n        \"samples\": [\n          \"2019-06-11 00:00:00\",\n          \"2021-05-03 00:00:00\",\n          \"2017-10-05 00:00:00\"\n        ],\n        \"semantic_type\": \"\",\n        \"description\": \"\"\n      }\n    },\n    {\n      \"column\": \"Price\",\n      \"properties\": {\n        \"dtype\": \"number\",\n        \"std\": 10887.84744436952,\n        \"min\": 108.58483,\n        \"max\": 63346.7890351052,\n        \"num_unique_values\": 2787,\n        \"samples\": [\n          7954.0062377205,\n          56427.0431250152,\n          4186.78374\n        ],\n        \"semantic_type\": \"\",\n        \"description\": \"\"\n      }\n    }\n  ]\n}"
            }
          },
          "metadata": {},
          "execution_count": 6
        }
      ]
    },
    {
      "cell_type": "code",
      "source": [
        "import matplotlib.pyplot as plt\n",
        "bitcoin_prices.plot(figsize=(10, 7))\n",
        "plt.ylabel(\"BTC Price\")\n",
        "plt.title('Price of Bitcoin from 1 Oct 2013 to 18 May 2021', fontsize=16)\n",
        "plt.xlabel('Dates')\n",
        "plt.legend(fontsize=14);"
      ],
      "metadata": {
        "colab": {
          "base_uri": "https://localhost:8080/",
          "height": 643
        },
        "id": "F9cfM3Ptfnys",
        "outputId": "4c2b2ad3-b5b5-462b-876b-748cab27a1c5"
      },
      "execution_count": 7,
      "outputs": [
        {
          "output_type": "display_data",
          "data": {
            "text/plain": [
              "<Figure size 1000x700 with 1 Axes>"
            ],
            "image/png": "[encoded data removed]"
          },
          "metadata": {}
        }
      ]
    },
    {
      "cell_type": "code",
      "source": [
        "import csv\n",
        "from datetime import datetime\n",
        "\n",
        "timesteps = []\n",
        "btc_price = []\n",
        "with open('/content/BTC_USD_2013-10-01_2021-05-18-CoinDesk.csv', 'r') as f:\n",
        "  csv_reader = csv.reader(f, delimiter=',')\n",
        "  next(csv_reader)\n",
        "  for line in csv_reader:\n",
        "    timesteps.append(datetime.strptime(line[1], '%Y-%m-%d'))\n",
        "    btc_price.append(float(line[2]))\n",
        "\n",
        "\n",
        "# View first 10 of each\n",
        "timesteps[:10], btc_price[:10]"
      ],
      "metadata": {
        "colab": {
          "base_uri": "https://localhost:8080/"
        },
        "id": "TiNvyNVXgL4M",
        "outputId": "06e4e8c1-1a3d-466a-8b46-fdb5c81a6eea"
      },
      "execution_count": 8,
      "outputs": [
        {
          "output_type": "execute_result",
          "data": {
            "text/plain": [
              "([datetime.datetime(2013, 10, 1, 0, 0),\n",
              "  datetime.datetime(2013, 10, 2, 0, 0),\n",
              "  datetime.datetime(2013, 10, 3, 0, 0),\n",
              "  datetime.datetime(2013, 10, 4, 0, 0),\n",
              "  datetime.datetime(2013, 10, 5, 0, 0),\n",
              "  datetime.datetime(2013, 10, 6, 0, 0),\n",
              "  datetime.datetime(2013, 10, 7, 0, 0),\n",
              "  datetime.datetime(2013, 10, 8, 0, 0),\n",
              "  datetime.datetime(2013, 10, 9, 0, 0),\n",
              "  datetime.datetime(2013, 10, 10, 0, 0)],\n",
              " [123.65499,\n",
              "  125.455,\n",
              "  108.58483,\n",
              "  118.67466,\n",
              "  121.33866,\n",
              "  120.65533,\n",
              "  121.795,\n",
              "  123.033,\n",
              "  124.049,\n",
              "  125.96116])"
            ]
          },
          "metadata": {},
          "execution_count": 8
        }
      ]
    },
    {
      "cell_type": "markdown",
      "source": [
        "# Create train and test sets for time series (the wrong way)"
      ],
      "metadata": {
        "id": "XBLucwGOiQch"
      }
    },
    {
      "cell_type": "code",
      "source": [
        "# Get bitcoin date array\n",
        "timesteps = bitcoin_prices.index.to_numpy()\n",
        "prices = bitcoin_prices[\"Price\"].to_numpy()\n",
        "\n",
        "timesteps[:10], prices[:10]"
      ],
      "metadata": {
        "colab": {
          "base_uri": "https://localhost:8080/"
        },
        "id": "cO8n-rzBkWUD",
        "outputId": "feee442f-b981-400c-902f-275517241613"
      },
      "execution_count": 9,
      "outputs": [
        {
          "output_type": "execute_result",
          "data": {
            "text/plain": [
              "(array(['2013-10-01T00:00:00.000000000', '2013-10-02T00:00:00.000000000',\n",
              "        '2013-10-03T00:00:00.000000000', '2013-10-04T00:00:00.000000000',\n",
              "        '2013-10-05T00:00:00.000000000', '2013-10-06T00:00:00.000000000',\n",
              "        '2013-10-07T00:00:00.000000000', '2013-10-08T00:00:00.000000000',\n",
              "        '2013-10-09T00:00:00.000000000', '2013-10-10T00:00:00.000000000'],\n",
              "       dtype='datetime64[ns]'),\n",
              " array([123.65499, 125.455  , 108.58483, 118.67466, 121.33866, 120.65533,\n",
              "        121.795  , 123.033  , 124.049  , 125.96116]))"
            ]
          },
          "metadata": {},
          "execution_count": 9
        }
      ]
    },
    {
      "cell_type": "code",
      "source": [
        "# Wrong way to make train/test split for time series\n",
        "from sklearn.model_selection import train_test_split\n",
        "\n",
        "X_train, X_test, y_train, y_test = train_test_split(timesteps,  # dates\n",
        "                                                    prices,     # prices\n",
        "                                                    test_size=0.2,\n",
        "                                                    random_state=42)\n",
        "\n",
        "X_train.shape, X_test.shape, y_train.shape, y_test.shape"
      ],
      "metadata": {
        "colab": {
          "base_uri": "https://localhost:8080/"
        },
        "id": "Xm5chzJykt7H",
        "outputId": "0cda99d3-a4c8-4515-eeb6-8d29f4d0ff02"
      },
      "execution_count": 10,
      "outputs": [
        {
          "output_type": "execute_result",
          "data": {
            "text/plain": [
              "((2229,), (558,), (2229,), (558,))"
            ]
          },
          "metadata": {},
          "execution_count": 10
        }
      ]
    },
    {
      "cell_type": "code",
      "source": [
        "plt.figure(figsize=(10, 7))\n",
        "plt.scatter(X_train, y_train, s=5, label='Train test')\n",
        "plt.scatter(X_test, y_test, s=5, label='Test test')\n",
        "plt.xlabel('Date')\n",
        "plt.ylabel('BTC Price')\n",
        "plt.legend(fontsize=14)"
      ],
      "metadata": {
        "colab": {
          "base_uri": "https://localhost:8080/",
          "height": 636
        },
        "id": "dPlfTXoolX90",
        "outputId": "b07f3205-3d18-4f24-c302-d7a1174ce609"
      },
      "execution_count": 11,
      "outputs": [
        {
          "output_type": "execute_result",
          "data": {
            "text/plain": [
              "<matplotlib.legend.Legend at 0x7c3945f6e170>"
            ]
          },
          "metadata": {},
          "execution_count": 11
        },
        {
          "output_type": "display_data",
          "data": {
            "text/plain": [
              "<Figure size 1000x700 with 1 Axes>"
            ],
            "image/png": "[encoded data removed]"
          },
          "metadata": {}
        }
      ]
    },
    {
      "cell_type": "markdown",
      "source": [
        "# Correct way"
      ],
      "metadata": {
        "id": "F0a5K_tgl6c4"
      }
    },
    {
      "cell_type": "code",
      "source": [
        "# Create train and test splits the right way for time series data\n",
        "split_size = int(0.8 * len(prices))     # 80% train, 20% test\n",
        "\n",
        "# Create train data splits (everything before the split)\n",
        "X_train, y_train = timesteps[:split_size], prices[:split_size]\n",
        "\n",
        "# Create train data splits (everything after the split)\n",
        "X_test, y_test = timesteps[split_size:], prices[split_size:]\n",
        "\n",
        "len(X_train), len(y_train), len(X_test), len(y_test)"
      ],
      "metadata": {
        "colab": {
          "base_uri": "https://localhost:8080/"
        },
        "id": "ZPglFz7wnJqC",
        "outputId": "ad8b07e3-fc18-4988-9c16-b0d63df8bdf7"
      },
      "execution_count": 12,
      "outputs": [
        {
          "output_type": "execute_result",
          "data": {
            "text/plain": [
              "(2229, 2229, 558, 558)"
            ]
          },
          "metadata": {},
          "execution_count": 12
        }
      ]
    },
    {
      "cell_type": "code",
      "source": [
        "plt.figure(figsize=(10, 7))\n",
        "plt.scatter(X_train, y_train, s=5, label='Train set')\n",
        "plt.scatter(X_test, y_test, s=5, label='Test set')\n",
        "plt.xlabel('Date')\n",
        "plt.ylabel('BTC Price')\n",
        "plt.legend(fontsize=14)"
      ],
      "metadata": {
        "colab": {
          "base_uri": "https://localhost:8080/",
          "height": 636
        },
        "id": "tLNfzvk1pEoK",
        "outputId": "81e6cbbe-2d2f-466b-dda2-bdb1fa3e64ad"
      },
      "execution_count": 13,
      "outputs": [
        {
          "output_type": "execute_result",
          "data": {
            "text/plain": [
              "<matplotlib.legend.Legend at 0x7c3945d93130>"
            ]
          },
          "metadata": {},
          "execution_count": 13
        },
        {
          "output_type": "display_data",
          "data": {
            "text/plain": [
              "<Figure size 1000x700 with 1 Axes>"
            ],
            "image/png": "[encoded data removed]"
          },
          "metadata": {}
        }
      ]
    },
    {
      "cell_type": "code",
      "source": [
        "# Create a function to plot time series data\n",
        "def plot_time_series(timesteps, values, format='.', start=0, end=None, label=None):\n",
        "  \"\"\"\n",
        "  Plots a timesteps (a series of points in time) against values (a series of values across timesteps).\n",
        "\n",
        "  Parameters\n",
        "  ---------\n",
        "  timesteps : array of timesteps\n",
        "  values : array of values across time\n",
        "  format : style of plot, default \".\"\n",
        "  start : where to start the plot (setting a value will index from start of timesteps & values)\n",
        "  end : where to end the plot (setting a value will index from end of timesteps & values)\n",
        "  label : label to show on plot of values\n",
        "  \"\"\"\n",
        "  # Plot the series\n",
        "  plt.plot(timesteps[start:end], values[start:end], format, label=label)\n",
        "  plt.xlabel(\"Time\")\n",
        "  plt.ylabel(\"BTC Price\")\n",
        "  if label:\n",
        "    plt.legend(fontsize=14) # make label bigger\n",
        "  plt.grid(True)"
      ],
      "metadata": {
        "id": "fJXeIUrPpVZC"
      },
      "execution_count": 14,
      "outputs": []
    },
    {
      "cell_type": "markdown",
      "source": [
        "# Naive Bayes Model"
      ],
      "metadata": {
        "id": "tXV_AhbhpyRR"
      }
    },
    {
      "cell_type": "code",
      "source": [
        "# Create a naive forecast\n",
        "naive_forecast = y_test[:-1]\n",
        "naive_forecast[:10], naive_forecast[-10:]"
      ],
      "metadata": {
        "colab": {
          "base_uri": "https://localhost:8080/"
        },
        "id": "vG2Nkx_6rBPz",
        "outputId": "1736f3b5-9224-483a-ec15-1a259e6fdda8"
      },
      "execution_count": 15,
      "outputs": [
        {
          "output_type": "execute_result",
          "data": {
            "text/plain": [
              "(array([9226.48582088, 8794.35864452, 8798.04205463, 9081.18687849,\n",
              "        8711.53433917, 8760.89271814, 8749.52059102, 8656.97092235,\n",
              "        8500.64355816, 8469.2608989 ]),\n",
              " array([57107.12067189, 58788.20967893, 58102.19142623, 55715.54665129,\n",
              "        56573.5554719 , 52147.82118698, 49764.1320816 , 50032.69313676,\n",
              "        47885.62525472, 45604.61575361]))"
            ]
          },
          "metadata": {},
          "execution_count": 15
        }
      ]
    },
    {
      "cell_type": "code",
      "source": [
        "# Plot naive forecast\n",
        "plt.figure(figsize=(10, 7))\n",
        "plot_time_series(timesteps=X_train, values=y_train, label='Train_data')\n",
        "plot_time_series(timesteps=X_test, values=y_test, label='Test_data')\n",
        "plot_time_series(timesteps=X_test[1:], values=naive_forecast, format='-', label='Naive forecast')\n"
      ],
      "metadata": {
        "colab": {
          "base_uri": "https://localhost:8080/",
          "height": 619
        },
        "id": "xtPxC7i6rKaI",
        "outputId": "c22f8fb5-096b-4b0b-fde5-86dc578a7f07"
      },
      "execution_count": 16,
      "outputs": [
        {
          "output_type": "display_data",
          "data": {
            "text/plain": [
              "<Figure size 1000x700 with 1 Axes>"
            ],
            "image/png": "[encoded data removed]"
          },
          "metadata": {}
        }
      ]
    },
    {
      "cell_type": "code",
      "source": [
        "plt.figure(figsize=(10, 7))\n",
        "offset = 300\n",
        "plot_time_series(timesteps=X_test, values=y_test, start=offset, format='-', label='Test data')\n",
        "plot_time_series(timesteps=X_test[1:], values=naive_forecast, format='-', start=offset, label='Naive forecast')"
      ],
      "metadata": {
        "id": "v9L32irCsD6x",
        "colab": {
          "base_uri": "https://localhost:8080/",
          "height": 619
        },
        "outputId": "ba55519d-73fc-4391-8999-b48c25de8323"
      },
      "execution_count": 17,
      "outputs": [
        {
          "output_type": "display_data",
          "data": {
            "text/plain": [
              "<Figure size 1000x700 with 1 Axes>"
            ],
            "image/png": "[encoded data removed]"
          },
          "metadata": {}
        }
      ]
    },
    {
      "cell_type": "code",
      "source": [
        "# import tensorflow\n",
        "import tensorflow as tf"
      ],
      "metadata": {
        "id": "GxlS9kPf0Ts0"
      },
      "execution_count": 18,
      "outputs": []
    },
    {
      "cell_type": "code",
      "source": [
        "def mean_absolute_scaled_error(y_true, y_pred):\n",
        "  \"\"\"\n",
        "  Implement MASE (assuming no seasonality of data)\n",
        "  \"\"\"\n",
        "  mae = tf.reduce_mean(tf.abs(y_true - y_pred))\n",
        "\n",
        "  # Find MAE of naive forecast (no seasonality)\n",
        "  mae_naive_no_season = tf.reduce_mean(tf.abs(y_true[1:] - y_true[:-1]))    # our seasonality is one day (hence the shifting of 1 day)\n",
        "\n",
        "  return mae / mae_naive_no_season"
      ],
      "metadata": {
        "id": "-U9qyYrO004y"
      },
      "execution_count": 19,
      "outputs": []
    },
    {
      "cell_type": "code",
      "source": [
        "def evaluate_preds(y_true, y_pred):\n",
        "  # Make sure float32 (for metric calculations\n",
        "  y_true = tf.cast(y_true, dtype=tf.float32)\n",
        "  y_pred = tf.cast(y_pred, dtype=tf.float32)\n",
        "\n",
        "  # Calculate various metrics\n",
        "  mae = tf.keras.metrics.mean_absolute_error(y_true, y_pred)\n",
        "  mse = tf.keras.metrics.mean_squared_error(y_true, y_pred)   # puts and emphasis on outlier (all errors get squared)\n",
        "  rmse = tf.sqrt(mse)\n",
        "  mape = tf.keras.metrics.mean_absolute_percentage_error(y_true, y_pred)\n",
        "  mase = mean_absolute_scaled_error(y_true, y_pred)\n",
        "\n",
        "  return {'mae': mae.numpy(),\n",
        "          'mse': mse.numpy(),\n",
        "          'rmse': rmse.numpy(),\n",
        "          'mape': mape.numpy(),\n",
        "          'mase': mase.numpy()}"
      ],
      "metadata": {
        "id": "U23SKcSr1l8u"
      },
      "execution_count": 22,
      "outputs": []
    },
    {
      "cell_type": "code",
      "source": [
        "naive_results = evaluate_preds(y_true=y_test[1:],\n",
        "                               y_pred=naive_forecast)\n",
        "naive_results"
      ],
      "metadata": {
        "colab": {
          "base_uri": "https://localhost:8080/"
        },
        "id": "8f74UOE_23RM",
        "outputId": "9cf32bf1-f4b5-4479-a82c-37310c80e2bc"
      },
      "execution_count": 23,
      "outputs": [
        {
          "output_type": "execute_result",
          "data": {
            "text/plain": [
              "{'mae': 567.9802,\n",
              " 'mse': 1147547.0,\n",
              " 'rmse': 1071.2362,\n",
              " 'mape': 2.5165248,\n",
              " 'mase': 0.99957}"
            ]
          },
          "metadata": {},
          "execution_count": 23
        }
      ]
    },
    {
      "cell_type": "code",
      "source": [
        "# Find average price of Bitcoin in test dataset\n",
        "tf.reduce_mean(y_test).numpy()"
      ],
      "metadata": {
        "colab": {
          "base_uri": "https://localhost:8080/"
        },
        "id": "l-ukx0IU3BFo",
        "outputId": "aed85e2f-2dc1-4f46-a804-81a29b7aaef9"
      },
      "execution_count": 24,
      "outputs": [
        {
          "output_type": "execute_result",
          "data": {
            "text/plain": [
              "20056.632963737226"
            ]
          },
          "metadata": {},
          "execution_count": 24
        }
      ]
    },
    {
      "cell_type": "code",
      "source": [
        "HORIZON = 1\n",
        "WINDOW_SIZE = 7"
      ],
      "metadata": {
        "id": "6tBhm4IM3pon"
      },
      "execution_count": 25,
      "outputs": []
    },
    {
      "cell_type": "code",
      "source": [
        "# Create function to label windowed data\n",
        "def get_labelled_windows(x, horizon=1):\n",
        "  \"\"\"\n",
        "  Creates labels for windowed dataset.\n",
        "\n",
        "  E.g. if horizon=1 (default)\n",
        "  Input: [1, 2, 3, 4, 5, 6] -> Output: ([1, 2, 3, 4, 5], [6])\n",
        "  \"\"\"\n",
        "\n",
        "  return x[:, :-horizon], x[:, -horizon:]"
      ],
      "metadata": {
        "id": "fQ19Wgtm48wP"
      },
      "execution_count": 26,
      "outputs": []
    },
    {
      "cell_type": "markdown",
      "source": [
        "# From here"
      ],
      "metadata": {
        "id": "06Q0zD9PKAcS"
      }
    },
    {
      "cell_type": "code",
      "source": [
        "# Test out the window labelling function\n",
        "test_window, test_label = get_labelled_windows(tf.expand_dims(tf.range(8)+1, axis=0), horizon=HORIZON)\n",
        "print(f'Window: {tf.squeeze(test_window).numpy()} -> Label: {tf.squeeze(test_label).numpy()}')"
      ],
      "metadata": {
        "colab": {
          "base_uri": "https://localhost:8080/"
        },
        "id": "FVpGtEry5Z-X",
        "outputId": "5e56eb52-d178-4815-b2a3-b4beb42d8ad8"
      },
      "execution_count": 168,
      "outputs": [
        {
          "output_type": "stream",
          "name": "stdout",
          "text": [
            "Window: 1 -> Label: [2 3 4 5 6 7 8]\n"
          ]
        }
      ]
    },
    {
      "cell_type": "code",
      "source": [
        "# Create function to view NumPy arrays as windows\n",
        "def make_windows(x, window_size=7, horizon=1):\n",
        "  \"\"\"\n",
        "  Turns 1D array into a 2D array of sequential windows of window_size\n",
        "  \"\"\"\n",
        "\n",
        "  window_step = np.expand_dims(np.arange(window_size+horizon), axis=0)\n",
        "  # print(f'Window step:\\n {window_step}')\n",
        "\n",
        "  # 2. Create a 2D array of multiple window steps (minus 1 to account for 0 indexing)\n",
        "  window_indexes = window_step + np.expand_dims(np.arange(len(x) - (window_size + horizon - 1)), axis=0).T    # create 2D array of windows of size window_size\n",
        "  # print(f'Window indexes:\\n {winow_indexes[:3], window_indexes[-3:], window_indexes.shape})\n",
        "\n",
        "  # 3. Index on the target array (time series) with 2D array of multiple window steps\n",
        "  windowed_array = x[window_indexes]\n",
        "\n",
        "  # 4. Get the labelled windows\n",
        "  windows, labels = get_labelled_windows(windowed_array, horizon=horizon)\n",
        "\n",
        "  return windows, labels"
      ],
      "metadata": {
        "id": "6os_m_FU5_vC"
      },
      "execution_count": 169,
      "outputs": []
    },
    {
      "cell_type": "code",
      "source": [
        "full_windows, full_labels = make_windows(prices, window_size=WINDOW_SIZE, horizon=HORIZON)\n",
        "len(full_windows), len(full_labels)"
      ],
      "metadata": {
        "colab": {
          "base_uri": "https://localhost:8080/"
        },
        "id": "Wo0ZCfz68R3X",
        "outputId": "065de7bc-8915-4b35-f1c8-868ed282f321"
      },
      "execution_count": 170,
      "outputs": [
        {
          "output_type": "execute_result",
          "data": {
            "text/plain": [
              "(2751, 2751)"
            ]
          },
          "metadata": {},
          "execution_count": 170
        }
      ]
    },
    {
      "cell_type": "code",
      "source": [
        "# View the first 3 windows/labels\n",
        "for i in range(3):\n",
        "  print(f'Window: {full_windows[i]} -> Label: {full_labels[i]}')"
      ],
      "metadata": {
        "colab": {
          "base_uri": "https://localhost:8080/"
        },
        "id": "anIwFrF88a8F",
        "outputId": "e6420af7-7858-4baa-ac70-eca1a3b5dac8"
      },
      "execution_count": 171,
      "outputs": [
        {
          "output_type": "stream",
          "name": "stdout",
          "text": [
            "Window: [123.65499 125.455   108.58483 118.67466 121.33866 120.65533 121.795\n",
            " 123.033   124.049   125.96116 125.27966 125.9275  126.38333 135.24199\n",
            " 133.20333 142.76333 137.92333 142.95166 152.55183 160.33883 164.31499\n",
            " 177.63333 188.29716 200.70166 180.355   175.03166 177.6965  187.15983\n",
            " 192.75666 197.4    ] -> Label: [196.02499 198.04883 198.93233 200.543   210.3075  225.02    248.25333]\n",
            "Window: [125.455   108.58483 118.67466 121.33866 120.65533 121.795   123.033\n",
            " 124.049   125.96116 125.27966 125.9275  126.38333 135.24199 133.20333\n",
            " 142.76333 137.92333 142.95166 152.55183 160.33883 164.31499 177.63333\n",
            " 188.29716 200.70166 180.355   175.03166 177.6965  187.15983 192.75666\n",
            " 197.4     196.02499] -> Label: [198.04883 198.93233 200.543   210.3075  225.02    248.25333 262.32666]\n",
            "Window: [108.58483 118.67466 121.33866 120.65533 121.795   123.033   124.049\n",
            " 125.96116 125.27966 125.9275  126.38333 135.24199 133.20333 142.76333\n",
            " 137.92333 142.95166 152.55183 160.33883 164.31499 177.63333 188.29716\n",
            " 200.70166 180.355   175.03166 177.6965  187.15983 192.75666 197.4\n",
            " 196.02499 198.04883] -> Label: [198.93233 200.543   210.3075  225.02    248.25333 262.32666 294.48699]\n"
          ]
        }
      ]
    },
    {
      "cell_type": "code",
      "source": [
        "# View the last 3 windows/laels\n",
        "for i in range(3):\n",
        "  print(f'Window {full_windows[i-3]} -> Label: {full_labels[i-3]}')"
      ],
      "metadata": {
        "colab": {
          "base_uri": "https://localhost:8080/"
        },
        "id": "vr0pDrSt84Ie",
        "outputId": "d5525368-7793-46b5-81c2-4318c94247fc"
      },
      "execution_count": 172,
      "outputs": [
        {
          "output_type": "stream",
          "name": "stdout",
          "text": [
            "Window [58171.9090187  59295.95004401 59822.90167743 59853.19724227\n",
            " 63223.88439079 62926.5571759  63346.78903511 61965.7825981\n",
            " 60574.44472823 56850.83016569 56224.10158771 56608.76974839\n",
            " 54144.42747606 51965.05955941 50669.14438218 50733.76950364\n",
            " 48542.95220298 53558.70784462 55123.86198142 54591.51532554\n",
            " 53260.29534115 57302.64642408 57677.9752219  56427.04312502\n",
            " 57255.30683756 53658.84312082 57252.7021845  56583.84987917\n",
            " 57107.12067189 58788.20967893] -> Label: [58102.19142623 55715.54665129 56573.5554719  52147.82118698\n",
            " 49764.1320816  50032.69313676 47885.62525472]\n",
            "Window [59295.95004401 59822.90167743 59853.19724227 63223.88439079\n",
            " 62926.5571759  63346.78903511 61965.7825981  60574.44472823\n",
            " 56850.83016569 56224.10158771 56608.76974839 54144.42747606\n",
            " 51965.05955941 50669.14438218 50733.76950364 48542.95220298\n",
            " 53558.70784462 55123.86198142 54591.51532554 53260.29534115\n",
            " 57302.64642408 57677.9752219  56427.04312502 57255.30683756\n",
            " 53658.84312082 57252.7021845  56583.84987917 57107.12067189\n",
            " 58788.20967893 58102.19142623] -> Label: [55715.54665129 56573.5554719  52147.82118698 49764.1320816\n",
            " 50032.69313676 47885.62525472 45604.61575361]\n",
            "Window [59822.90167743 59853.19724227 63223.88439079 62926.5571759\n",
            " 63346.78903511 61965.7825981  60574.44472823 56850.83016569\n",
            " 56224.10158771 56608.76974839 54144.42747606 51965.05955941\n",
            " 50669.14438218 50733.76950364 48542.95220298 53558.70784462\n",
            " 55123.86198142 54591.51532554 53260.29534115 57302.64642408\n",
            " 57677.9752219  56427.04312502 57255.30683756 53658.84312082\n",
            " 57252.7021845  56583.84987917 57107.12067189 58788.20967893\n",
            " 58102.19142623 55715.54665129] -> Label: [56573.5554719  52147.82118698 49764.1320816  50032.69313676\n",
            " 47885.62525472 45604.61575361 43144.47129086]\n"
          ]
        }
      ]
    },
    {
      "cell_type": "code",
      "source": [
        "# Make the train test split\n",
        "def make_train_test_splits(windows, labels, test_split=0.2):\n",
        "  \"\"\"\n",
        "  Splits matching pairs of windows and labels into tain and test splits.\n",
        "  \"\"\"\n",
        "  split_size = int(len(windows) * (1-test_split))\n",
        "  train_windows = windows[:split_size]\n",
        "  train_labels = labels[:split_size]\n",
        "  test_windows = windows[split_size:]\n",
        "  test_labels = labels[split_size:]\n",
        "  return train_windows, train_labels, test_windows, test_labels"
      ],
      "metadata": {
        "id": "SX5AkN9f_isE"
      },
      "execution_count": 173,
      "outputs": []
    },
    {
      "cell_type": "code",
      "source": [
        "train_windows, train_labels, test_windows, test_labels = make_train_test_splits(full_windows, full_labels)\n",
        "len(train_windows), len(test_windows), len(train_labels), len(test_labels)"
      ],
      "metadata": {
        "colab": {
          "base_uri": "https://localhost:8080/"
        },
        "id": "W8TmQLgUBMEq",
        "outputId": "bbd7c390-da4c-420c-fd2c-487061c08b8f"
      },
      "execution_count": 174,
      "outputs": [
        {
          "output_type": "execute_result",
          "data": {
            "text/plain": [
              "(2200, 551, 2200, 551)"
            ]
          },
          "metadata": {},
          "execution_count": 174
        }
      ]
    },
    {
      "cell_type": "code",
      "source": [
        "train_windows[:5], train_labels[:5]"
      ],
      "metadata": {
        "colab": {
          "base_uri": "https://localhost:8080/"
        },
        "id": "I35scHjwBZdQ",
        "outputId": "beaa081e-7b9e-4c9e-9039-9ac499be8806"
      },
      "execution_count": 175,
      "outputs": [
        {
          "output_type": "execute_result",
          "data": {
            "text/plain": [
              "(array([[123.65499, 125.455  , 108.58483, 118.67466, 121.33866, 120.65533,\n",
              "         121.795  , 123.033  , 124.049  , 125.96116, 125.27966, 125.9275 ,\n",
              "         126.38333, 135.24199, 133.20333, 142.76333, 137.92333, 142.95166,\n",
              "         152.55183, 160.33883, 164.31499, 177.63333, 188.29716, 200.70166,\n",
              "         180.355  , 175.03166, 177.6965 , 187.15983, 192.75666, 197.4    ],\n",
              "        [125.455  , 108.58483, 118.67466, 121.33866, 120.65533, 121.795  ,\n",
              "         123.033  , 124.049  , 125.96116, 125.27966, 125.9275 , 126.38333,\n",
              "         135.24199, 133.20333, 142.76333, 137.92333, 142.95166, 152.55183,\n",
              "         160.33883, 164.31499, 177.63333, 188.29716, 200.70166, 180.355  ,\n",
              "         175.03166, 177.6965 , 187.15983, 192.75666, 197.4    , 196.02499],\n",
              "        [108.58483, 118.67466, 121.33866, 120.65533, 121.795  , 123.033  ,\n",
              "         124.049  , 125.96116, 125.27966, 125.9275 , 126.38333, 135.24199,\n",
              "         133.20333, 142.76333, 137.92333, 142.95166, 152.55183, 160.33883,\n",
              "         164.31499, 177.63333, 188.29716, 200.70166, 180.355  , 175.03166,\n",
              "         177.6965 , 187.15983, 192.75666, 197.4    , 196.02499, 198.04883],\n",
              "        [118.67466, 121.33866, 120.65533, 121.795  , 123.033  , 124.049  ,\n",
              "         125.96116, 125.27966, 125.9275 , 126.38333, 135.24199, 133.20333,\n",
              "         142.76333, 137.92333, 142.95166, 152.55183, 160.33883, 164.31499,\n",
              "         177.63333, 188.29716, 200.70166, 180.355  , 175.03166, 177.6965 ,\n",
              "         187.15983, 192.75666, 197.4    , 196.02499, 198.04883, 198.93233],\n",
              "        [121.33866, 120.65533, 121.795  , 123.033  , 124.049  , 125.96116,\n",
              "         125.27966, 125.9275 , 126.38333, 135.24199, 133.20333, 142.76333,\n",
              "         137.92333, 142.95166, 152.55183, 160.33883, 164.31499, 177.63333,\n",
              "         188.29716, 200.70166, 180.355  , 175.03166, 177.6965 , 187.15983,\n",
              "         192.75666, 197.4    , 196.02499, 198.04883, 198.93233, 200.543  ]]),\n",
              " array([[196.02499, 198.04883, 198.93233, 200.543  , 210.3075 , 225.02   ,\n",
              "         248.25333],\n",
              "        [198.04883, 198.93233, 200.543  , 210.3075 , 225.02   , 248.25333,\n",
              "         262.32666],\n",
              "        [198.93233, 200.543  , 210.3075 , 225.02   , 248.25333, 262.32666,\n",
              "         294.48699],\n",
              "        [200.543  , 210.3075 , 225.02   , 248.25333, 262.32666, 294.48699,\n",
              "         331.10325],\n",
              "        [210.3075 , 225.02   , 248.25333, 262.32666, 294.48699, 331.10325,\n",
              "         285.8875 ]]))"
            ]
          },
          "metadata": {},
          "execution_count": 175
        }
      ]
    },
    {
      "cell_type": "code",
      "source": [
        "import os\n",
        "\n",
        "# Create a function to implement a ModelCheckpoint callback with a specific filename\n",
        "def create_model_checkpoint(model_name, save_path='model_experiments'):\n",
        "  return tf.keras.callbacks.ModelCheckpoint(filepath=os.path.join(save_path, model_name),   # create filepath to save model\n",
        "                                            verbose=0,    # only output a limited amount of text\n",
        "                                            save_best_only=True)  # save only the best model to file"
      ],
      "metadata": {
        "id": "dwNDst-9BeGn"
      },
      "execution_count": 176,
      "outputs": []
    },
    {
      "cell_type": "markdown",
      "source": [
        "# Model 1: Dense Model (window = 7, horizon = 1)"
      ],
      "metadata": {
        "id": "iPpYGy0cDnt_"
      }
    },
    {
      "cell_type": "code",
      "source": [
        "import tensorflow as tf\n",
        "from tensorflow.keras import layers"
      ],
      "metadata": {
        "id": "8mb_beyLDC2b"
      },
      "execution_count": 177,
      "outputs": []
    },
    {
      "cell_type": "code",
      "source": [
        "model_1 = tf.keras.Sequential([\n",
        "    tf.keras.layers.Dense(128, activation='relu'),\n",
        "    tf.keras.layers.Dense(HORIZON)\n",
        "])"
      ],
      "metadata": {
        "id": "86q_ZzA_D_Nq"
      },
      "execution_count": 178,
      "outputs": []
    },
    {
      "cell_type": "code",
      "source": [
        "model_1.compile(loss='mean_absolute_error',\n",
        "              optimizer='adam',\n",
        "              metrics='mean_absolute_error')"
      ],
      "metadata": {
        "id": "teTwkaflEOfd"
      },
      "execution_count": 179,
      "outputs": []
    },
    {
      "cell_type": "code",
      "source": [
        "model_1_history = model_1.fit(x=train_windows,\n",
        "            y=train_labels,\n",
        "            epochs=100,\n",
        "            verbose=1,\n",
        "            batch_size=128,\n",
        "            validation_data=(test_windows, test_labels),\n",
        "            callbacks=[create_model_checkpoint(model_name=model_1.name)])"
      ],
      "metadata": {
        "colab": {
          "base_uri": "https://localhost:8080/"
        },
        "id": "Cec0wA-lEb7z",
        "outputId": "2d248f4e-dbe9-41b2-c1e2-44df4c7bef34"
      },
      "execution_count": 180,
      "outputs": [
        {
          "output_type": "stream",
          "name": "stdout",
          "text": [
            "Epoch 1/100\n",
            "18/18 [==============================] - 2s 56ms/step - loss: 1892.9868 - mean_absolute_error: 1892.9868 - val_loss: 3098.9299 - val_mean_absolute_error: 3098.9299\n",
            "Epoch 2/100\n",
            "18/18 [==============================] - 1s 47ms/step - loss: 576.6585 - mean_absolute_error: 576.6585 - val_loss: 2479.4229 - val_mean_absolute_error: 2479.4229\n",
            "Epoch 3/100\n",
            "18/18 [==============================] - 1s 43ms/step - loss: 441.1717 - mean_absolute_error: 441.1717 - val_loss: 2013.7101 - val_mean_absolute_error: 2013.7101\n",
            "Epoch 4/100\n",
            "18/18 [==============================] - 1s 29ms/step - loss: 398.8335 - mean_absolute_error: 398.8335 - val_loss: 1951.3898 - val_mean_absolute_error: 1951.3898\n",
            "Epoch 5/100\n",
            "18/18 [==============================] - 1s 31ms/step - loss: 367.2124 - mean_absolute_error: 367.2124 - val_loss: 1842.1991 - val_mean_absolute_error: 1842.1991\n",
            "Epoch 6/100\n",
            "18/18 [==============================] - 1s 30ms/step - loss: 342.7095 - mean_absolute_error: 342.7095 - val_loss: 1837.0696 - val_mean_absolute_error: 1837.0696\n",
            "Epoch 7/100\n",
            "18/18 [==============================] - 1s 33ms/step - loss: 326.8570 - mean_absolute_error: 326.8570 - val_loss: 1775.0483 - val_mean_absolute_error: 1775.0483\n",
            "Epoch 8/100\n",
            "18/18 [==============================] - 0s 29ms/step - loss: 317.8916 - mean_absolute_error: 317.8916 - val_loss: 1658.1812 - val_mean_absolute_error: 1658.1812\n",
            "Epoch 9/100\n",
            "18/18 [==============================] - 1s 29ms/step - loss: 308.5016 - mean_absolute_error: 308.5016 - val_loss: 1621.0659 - val_mean_absolute_error: 1621.0659\n",
            "Epoch 10/100\n",
            "18/18 [==============================] - 0s 5ms/step - loss: 299.3098 - mean_absolute_error: 299.3098 - val_loss: 1628.7391 - val_mean_absolute_error: 1628.7391\n",
            "Epoch 11/100\n",
            "18/18 [==============================] - 0s 29ms/step - loss: 294.3810 - mean_absolute_error: 294.3810 - val_loss: 1530.7512 - val_mean_absolute_error: 1530.7512\n",
            "Epoch 12/100\n",
            "18/18 [==============================] - 0s 4ms/step - loss: 297.2955 - mean_absolute_error: 297.2955 - val_loss: 1627.5275 - val_mean_absolute_error: 1627.5275\n",
            "Epoch 13/100\n",
            "18/18 [==============================] - 0s 5ms/step - loss: 295.3759 - mean_absolute_error: 295.3759 - val_loss: 1603.8877 - val_mean_absolute_error: 1603.8877\n",
            "Epoch 14/100\n",
            "18/18 [==============================] - 1s 29ms/step - loss: 283.7188 - mean_absolute_error: 283.7188 - val_loss: 1512.3854 - val_mean_absolute_error: 1512.3854\n",
            "Epoch 15/100\n",
            "18/18 [==============================] - 0s 4ms/step - loss: 280.0401 - mean_absolute_error: 280.0401 - val_loss: 1517.0310 - val_mean_absolute_error: 1517.0310\n",
            "Epoch 16/100\n",
            "18/18 [==============================] - 1s 30ms/step - loss: 275.7882 - mean_absolute_error: 275.7882 - val_loss: 1488.8710 - val_mean_absolute_error: 1488.8710\n",
            "Epoch 17/100\n",
            "18/18 [==============================] - 0s 5ms/step - loss: 272.5837 - mean_absolute_error: 272.5837 - val_loss: 1497.3135 - val_mean_absolute_error: 1497.3135\n",
            "Epoch 18/100\n",
            "18/18 [==============================] - 0s 28ms/step - loss: 271.0009 - mean_absolute_error: 271.0009 - val_loss: 1447.7489 - val_mean_absolute_error: 1447.7489\n",
            "Epoch 19/100\n",
            "18/18 [==============================] - 0s 4ms/step - loss: 270.1756 - mean_absolute_error: 270.1756 - val_loss: 1696.6738 - val_mean_absolute_error: 1696.6738\n",
            "Epoch 20/100\n",
            "18/18 [==============================] - 1s 32ms/step - loss: 269.2816 - mean_absolute_error: 269.2816 - val_loss: 1412.0377 - val_mean_absolute_error: 1412.0377\n",
            "Epoch 21/100\n",
            "18/18 [==============================] - 0s 4ms/step - loss: 261.3580 - mean_absolute_error: 261.3580 - val_loss: 1455.1522 - val_mean_absolute_error: 1455.1522\n",
            "Epoch 22/100\n",
            "18/18 [==============================] - 0s 4ms/step - loss: 263.5773 - mean_absolute_error: 263.5773 - val_loss: 1537.4644 - val_mean_absolute_error: 1537.4644\n",
            "Epoch 23/100\n",
            "18/18 [==============================] - 0s 4ms/step - loss: 259.5469 - mean_absolute_error: 259.5469 - val_loss: 1434.9528 - val_mean_absolute_error: 1434.9528\n",
            "Epoch 24/100\n",
            "18/18 [==============================] - 0s 4ms/step - loss: 254.0813 - mean_absolute_error: 254.0813 - val_loss: 1422.1841 - val_mean_absolute_error: 1422.1841\n",
            "Epoch 25/100\n",
            "18/18 [==============================] - 0s 4ms/step - loss: 255.1264 - mean_absolute_error: 255.1264 - val_loss: 1544.3661 - val_mean_absolute_error: 1544.3661\n",
            "Epoch 26/100\n",
            "18/18 [==============================] - 0s 5ms/step - loss: 255.4271 - mean_absolute_error: 255.4271 - val_loss: 1606.3335 - val_mean_absolute_error: 1606.3335\n",
            "Epoch 27/100\n",
            "18/18 [==============================] - 1s 32ms/step - loss: 254.2529 - mean_absolute_error: 254.2529 - val_loss: 1358.6855 - val_mean_absolute_error: 1358.6855\n",
            "Epoch 28/100\n",
            "18/18 [==============================] - 0s 5ms/step - loss: 247.5607 - mean_absolute_error: 247.5607 - val_loss: 1404.6792 - val_mean_absolute_error: 1404.6792\n",
            "Epoch 29/100\n",
            "18/18 [==============================] - 0s 4ms/step - loss: 253.8186 - mean_absolute_error: 253.8186 - val_loss: 1644.0447 - val_mean_absolute_error: 1644.0447\n",
            "Epoch 30/100\n",
            "18/18 [==============================] - 0s 4ms/step - loss: 259.7020 - mean_absolute_error: 259.7020 - val_loss: 1450.3949 - val_mean_absolute_error: 1450.3949\n",
            "Epoch 31/100\n",
            "18/18 [==============================] - 0s 4ms/step - loss: 249.9538 - mean_absolute_error: 249.9538 - val_loss: 1621.5964 - val_mean_absolute_error: 1621.5964\n",
            "Epoch 32/100\n",
            "18/18 [==============================] - 0s 5ms/step - loss: 252.4082 - mean_absolute_error: 252.4082 - val_loss: 1483.3187 - val_mean_absolute_error: 1483.3187\n",
            "Epoch 33/100\n",
            "18/18 [==============================] - 0s 5ms/step - loss: 246.6503 - mean_absolute_error: 246.6503 - val_loss: 1415.4458 - val_mean_absolute_error: 1415.4458\n",
            "Epoch 34/100\n",
            "18/18 [==============================] - 0s 6ms/step - loss: 240.8447 - mean_absolute_error: 240.8447 - val_loss: 1462.8630 - val_mean_absolute_error: 1462.8630\n",
            "Epoch 35/100\n",
            "18/18 [==============================] - 1s 31ms/step - loss: 245.2322 - mean_absolute_error: 245.2322 - val_loss: 1349.2460 - val_mean_absolute_error: 1349.2460\n",
            "Epoch 36/100\n",
            "18/18 [==============================] - 0s 5ms/step - loss: 237.9734 - mean_absolute_error: 237.9734 - val_loss: 1381.5521 - val_mean_absolute_error: 1381.5521\n",
            "Epoch 37/100\n",
            "18/18 [==============================] - 0s 4ms/step - loss: 249.1379 - mean_absolute_error: 249.1379 - val_loss: 1450.8662 - val_mean_absolute_error: 1450.8662\n",
            "Epoch 38/100\n",
            "18/18 [==============================] - 1s 30ms/step - loss: 243.9740 - mean_absolute_error: 243.9740 - val_loss: 1331.2861 - val_mean_absolute_error: 1331.2861\n",
            "Epoch 39/100\n",
            "18/18 [==============================] - 0s 5ms/step - loss: 241.9172 - mean_absolute_error: 241.9172 - val_loss: 1358.0277 - val_mean_absolute_error: 1358.0277\n",
            "Epoch 40/100\n",
            "18/18 [==============================] - 0s 4ms/step - loss: 247.4793 - mean_absolute_error: 247.4793 - val_loss: 1494.0872 - val_mean_absolute_error: 1494.0872\n",
            "Epoch 41/100\n",
            "18/18 [==============================] - 0s 28ms/step - loss: 244.0144 - mean_absolute_error: 244.0144 - val_loss: 1298.8694 - val_mean_absolute_error: 1298.8694\n",
            "Epoch 42/100\n",
            "18/18 [==============================] - 0s 6ms/step - loss: 237.9848 - mean_absolute_error: 237.9848 - val_loss: 1320.5942 - val_mean_absolute_error: 1320.5942\n",
            "Epoch 43/100\n",
            "18/18 [==============================] - 0s 6ms/step - loss: 241.3033 - mean_absolute_error: 241.3033 - val_loss: 1401.8140 - val_mean_absolute_error: 1401.8140\n",
            "Epoch 44/100\n",
            "18/18 [==============================] - 0s 7ms/step - loss: 244.4290 - mean_absolute_error: 244.4290 - val_loss: 1336.9463 - val_mean_absolute_error: 1336.9463\n",
            "Epoch 45/100\n",
            "18/18 [==============================] - 1s 42ms/step - loss: 233.9379 - mean_absolute_error: 233.9379 - val_loss: 1284.8341 - val_mean_absolute_error: 1284.8341\n",
            "Epoch 46/100\n",
            "18/18 [==============================] - 0s 7ms/step - loss: 235.0317 - mean_absolute_error: 235.0317 - val_loss: 1492.8116 - val_mean_absolute_error: 1492.8116\n",
            "Epoch 47/100\n",
            "18/18 [==============================] - 0s 5ms/step - loss: 243.2267 - mean_absolute_error: 243.2267 - val_loss: 1341.4629 - val_mean_absolute_error: 1341.4629\n",
            "Epoch 48/100\n",
            "18/18 [==============================] - 0s 9ms/step - loss: 237.0282 - mean_absolute_error: 237.0282 - val_loss: 1371.3000 - val_mean_absolute_error: 1371.3000\n",
            "Epoch 49/100\n",
            "18/18 [==============================] - 0s 7ms/step - loss: 233.9952 - mean_absolute_error: 233.9952 - val_loss: 1336.8176 - val_mean_absolute_error: 1336.8176\n",
            "Epoch 50/100\n",
            "18/18 [==============================] - 1s 45ms/step - loss: 234.0711 - mean_absolute_error: 234.0711 - val_loss: 1278.6111 - val_mean_absolute_error: 1278.6111\n",
            "Epoch 51/100\n",
            "18/18 [==============================] - 0s 7ms/step - loss: 239.2269 - mean_absolute_error: 239.2269 - val_loss: 1309.7332 - val_mean_absolute_error: 1309.7332\n",
            "Epoch 52/100\n",
            "18/18 [==============================] - 0s 7ms/step - loss: 234.9323 - mean_absolute_error: 234.9323 - val_loss: 1442.5426 - val_mean_absolute_error: 1442.5426\n",
            "Epoch 53/100\n",
            "18/18 [==============================] - 0s 7ms/step - loss: 232.0236 - mean_absolute_error: 232.0236 - val_loss: 1315.3639 - val_mean_absolute_error: 1315.3639\n",
            "Epoch 54/100\n",
            "18/18 [==============================] - 0s 7ms/step - loss: 228.2495 - mean_absolute_error: 228.2495 - val_loss: 1283.8044 - val_mean_absolute_error: 1283.8044\n",
            "Epoch 55/100\n",
            "18/18 [==============================] - 0s 8ms/step - loss: 230.0174 - mean_absolute_error: 230.0174 - val_loss: 1393.0753 - val_mean_absolute_error: 1393.0753\n",
            "Epoch 56/100\n",
            "18/18 [==============================] - 0s 8ms/step - loss: 233.8306 - mean_absolute_error: 233.8306 - val_loss: 1297.8702 - val_mean_absolute_error: 1297.8702\n",
            "Epoch 57/100\n",
            "18/18 [==============================] - 1s 30ms/step - loss: 234.9093 - mean_absolute_error: 234.9093 - val_loss: 1267.9415 - val_mean_absolute_error: 1267.9415\n",
            "Epoch 58/100\n",
            "18/18 [==============================] - 0s 4ms/step - loss: 232.8163 - mean_absolute_error: 232.8163 - val_loss: 1306.1919 - val_mean_absolute_error: 1306.1919\n",
            "Epoch 59/100\n",
            "18/18 [==============================] - 0s 5ms/step - loss: 229.2575 - mean_absolute_error: 229.2575 - val_loss: 1336.1915 - val_mean_absolute_error: 1336.1915\n",
            "Epoch 60/100\n",
            "18/18 [==============================] - 0s 4ms/step - loss: 228.8303 - mean_absolute_error: 228.8303 - val_loss: 1324.3818 - val_mean_absolute_error: 1324.3818\n",
            "Epoch 61/100\n",
            "18/18 [==============================] - 0s 5ms/step - loss: 227.8982 - mean_absolute_error: 227.8982 - val_loss: 1311.8674 - val_mean_absolute_error: 1311.8674\n",
            "Epoch 62/100\n",
            "18/18 [==============================] - 0s 5ms/step - loss: 225.3836 - mean_absolute_error: 225.3836 - val_loss: 1269.8660 - val_mean_absolute_error: 1269.8660\n",
            "Epoch 63/100\n",
            "18/18 [==============================] - 0s 4ms/step - loss: 227.5786 - mean_absolute_error: 227.5786 - val_loss: 1343.0852 - val_mean_absolute_error: 1343.0852\n",
            "Epoch 64/100\n",
            "18/18 [==============================] - 0s 5ms/step - loss: 231.0351 - mean_absolute_error: 231.0351 - val_loss: 1307.9292 - val_mean_absolute_error: 1307.9292\n",
            "Epoch 65/100\n",
            "18/18 [==============================] - 0s 5ms/step - loss: 233.2011 - mean_absolute_error: 233.2011 - val_loss: 1321.9471 - val_mean_absolute_error: 1321.9471\n",
            "Epoch 66/100\n",
            "18/18 [==============================] - 0s 4ms/step - loss: 227.0443 - mean_absolute_error: 227.0443 - val_loss: 1349.2878 - val_mean_absolute_error: 1349.2878\n",
            "Epoch 67/100\n",
            "18/18 [==============================] - 0s 5ms/step - loss: 234.1227 - mean_absolute_error: 234.1227 - val_loss: 1431.3341 - val_mean_absolute_error: 1431.3341\n",
            "Epoch 68/100\n",
            "18/18 [==============================] - 0s 5ms/step - loss: 228.1333 - mean_absolute_error: 228.1333 - val_loss: 1756.5138 - val_mean_absolute_error: 1756.5138\n",
            "Epoch 69/100\n",
            "18/18 [==============================] - 0s 5ms/step - loss: 263.4041 - mean_absolute_error: 263.4041 - val_loss: 1410.7440 - val_mean_absolute_error: 1410.7440\n",
            "Epoch 70/100\n",
            "18/18 [==============================] - 0s 4ms/step - loss: 249.8780 - mean_absolute_error: 249.8780 - val_loss: 1445.6438 - val_mean_absolute_error: 1445.6438\n",
            "Epoch 71/100\n",
            "18/18 [==============================] - 1s 33ms/step - loss: 250.0334 - mean_absolute_error: 250.0334 - val_loss: 1238.2601 - val_mean_absolute_error: 1238.2601\n",
            "Epoch 72/100\n",
            "18/18 [==============================] - 0s 5ms/step - loss: 228.0634 - mean_absolute_error: 228.0634 - val_loss: 1336.6798 - val_mean_absolute_error: 1336.6798\n",
            "Epoch 73/100\n",
            "18/18 [==============================] - 0s 4ms/step - loss: 232.0435 - mean_absolute_error: 232.0435 - val_loss: 1327.5499 - val_mean_absolute_error: 1327.5499\n",
            "Epoch 74/100\n",
            "18/18 [==============================] - 0s 5ms/step - loss: 224.9618 - mean_absolute_error: 224.9618 - val_loss: 1253.6738 - val_mean_absolute_error: 1253.6738\n",
            "Epoch 75/100\n",
            "18/18 [==============================] - 0s 4ms/step - loss: 224.0858 - mean_absolute_error: 224.0858 - val_loss: 1444.5669 - val_mean_absolute_error: 1444.5669\n",
            "Epoch 76/100\n",
            "18/18 [==============================] - 1s 30ms/step - loss: 230.3445 - mean_absolute_error: 230.3445 - val_loss: 1237.9962 - val_mean_absolute_error: 1237.9962\n",
            "Epoch 77/100\n",
            "18/18 [==============================] - 0s 4ms/step - loss: 227.8170 - mean_absolute_error: 227.8170 - val_loss: 1319.1938 - val_mean_absolute_error: 1319.1938\n",
            "Epoch 78/100\n",
            "18/18 [==============================] - 0s 4ms/step - loss: 224.0046 - mean_absolute_error: 224.0046 - val_loss: 1408.5312 - val_mean_absolute_error: 1408.5312\n",
            "Epoch 79/100\n",
            "18/18 [==============================] - 0s 4ms/step - loss: 259.8358 - mean_absolute_error: 259.8358 - val_loss: 1262.6353 - val_mean_absolute_error: 1262.6353\n",
            "Epoch 80/100\n",
            "18/18 [==============================] - 0s 5ms/step - loss: 227.0332 - mean_absolute_error: 227.0332 - val_loss: 1397.0375 - val_mean_absolute_error: 1397.0375\n",
            "Epoch 81/100\n",
            "18/18 [==============================] - 0s 4ms/step - loss: 226.3598 - mean_absolute_error: 226.3598 - val_loss: 1297.6542 - val_mean_absolute_error: 1297.6542\n",
            "Epoch 82/100\n",
            "18/18 [==============================] - 0s 5ms/step - loss: 228.6145 - mean_absolute_error: 228.6145 - val_loss: 1273.6650 - val_mean_absolute_error: 1273.6650\n",
            "Epoch 83/100\n",
            "18/18 [==============================] - 0s 5ms/step - loss: 223.6047 - mean_absolute_error: 223.6047 - val_loss: 1670.9900 - val_mean_absolute_error: 1670.9900\n",
            "Epoch 84/100\n",
            "18/18 [==============================] - 0s 4ms/step - loss: 248.2718 - mean_absolute_error: 248.2718 - val_loss: 1626.8739 - val_mean_absolute_error: 1626.8739\n",
            "Epoch 85/100\n",
            "18/18 [==============================] - 0s 5ms/step - loss: 235.9099 - mean_absolute_error: 235.9099 - val_loss: 1276.8318 - val_mean_absolute_error: 1276.8318\n",
            "Epoch 86/100\n",
            "18/18 [==============================] - 0s 6ms/step - loss: 227.4580 - mean_absolute_error: 227.4580 - val_loss: 1250.1302 - val_mean_absolute_error: 1250.1302\n",
            "Epoch 87/100\n",
            "18/18 [==============================] - 0s 4ms/step - loss: 225.1277 - mean_absolute_error: 225.1277 - val_loss: 1243.4490 - val_mean_absolute_error: 1243.4490\n",
            "Epoch 88/100\n",
            "18/18 [==============================] - 0s 4ms/step - loss: 222.4342 - mean_absolute_error: 222.4342 - val_loss: 1247.9756 - val_mean_absolute_error: 1247.9756\n",
            "Epoch 89/100\n",
            "18/18 [==============================] - 0s 4ms/step - loss: 222.1994 - mean_absolute_error: 222.1994 - val_loss: 1285.1531 - val_mean_absolute_error: 1285.1531\n",
            "Epoch 90/100\n",
            "18/18 [==============================] - 0s 4ms/step - loss: 227.2361 - mean_absolute_error: 227.2361 - val_loss: 1410.8807 - val_mean_absolute_error: 1410.8807\n",
            "Epoch 91/100\n",
            "18/18 [==============================] - 0s 4ms/step - loss: 221.3324 - mean_absolute_error: 221.3324 - val_loss: 1239.9640 - val_mean_absolute_error: 1239.9640\n",
            "Epoch 92/100\n",
            "18/18 [==============================] - 0s 5ms/step - loss: 223.9205 - mean_absolute_error: 223.9205 - val_loss: 1275.2035 - val_mean_absolute_error: 1275.2035\n",
            "Epoch 93/100\n",
            "18/18 [==============================] - 0s 4ms/step - loss: 227.4689 - mean_absolute_error: 227.4689 - val_loss: 1616.4036 - val_mean_absolute_error: 1616.4036\n",
            "Epoch 94/100\n",
            "18/18 [==============================] - 0s 5ms/step - loss: 236.7333 - mean_absolute_error: 236.7333 - val_loss: 1310.0609 - val_mean_absolute_error: 1310.0609\n",
            "Epoch 95/100\n",
            "18/18 [==============================] - 0s 4ms/step - loss: 232.1532 - mean_absolute_error: 232.1532 - val_loss: 1275.5670 - val_mean_absolute_error: 1275.5670\n",
            "Epoch 96/100\n",
            "18/18 [==============================] - 0s 5ms/step - loss: 230.4680 - mean_absolute_error: 230.4680 - val_loss: 1298.5984 - val_mean_absolute_error: 1298.5984\n",
            "Epoch 97/100\n",
            "18/18 [==============================] - 0s 6ms/step - loss: 221.4253 - mean_absolute_error: 221.4253 - val_loss: 1262.4125 - val_mean_absolute_error: 1262.4125\n",
            "Epoch 98/100\n",
            "18/18 [==============================] - 0s 5ms/step - loss: 222.3261 - mean_absolute_error: 222.3261 - val_loss: 1246.9945 - val_mean_absolute_error: 1246.9945\n",
            "Epoch 99/100\n",
            "18/18 [==============================] - 0s 5ms/step - loss: 225.1429 - mean_absolute_error: 225.1429 - val_loss: 1255.3396 - val_mean_absolute_error: 1255.3396\n",
            "Epoch 100/100\n",
            "18/18 [==============================] - 0s 5ms/step - loss: 220.2423 - mean_absolute_error: 220.2423 - val_loss: 1263.4951 - val_mean_absolute_error: 1263.4951\n"
          ]
        }
      ]
    },
    {
      "cell_type": "code",
      "source": [
        "model_1.name"
      ],
      "metadata": {
        "colab": {
          "base_uri": "https://localhost:8080/",
          "height": 35
        },
        "id": "BMfk4TeZHE5U",
        "outputId": "7fc62f81-bf7a-42b7-b38a-56a9d44ccbe7"
      },
      "execution_count": 181,
      "outputs": [
        {
          "output_type": "execute_result",
          "data": {
            "text/plain": [
              "'sequential_17'"
            ],
            "application/vnd.google.colaboratory.intrinsic+json": {
              "type": "string"
            }
          },
          "metadata": {},
          "execution_count": 181
        }
      ]
    },
    {
      "cell_type": "code",
      "source": [
        "model_1.evaluate(test_windows, test_labels)"
      ],
      "metadata": {
        "colab": {
          "base_uri": "https://localhost:8080/"
        },
        "id": "I2OlGH70FRwy",
        "outputId": "63e0cc3e-a8b3-42b1-e741-9fb775872a28"
      },
      "execution_count": 182,
      "outputs": [
        {
          "output_type": "stream",
          "name": "stdout",
          "text": [
            "18/18 [==============================] - 0s 3ms/step - loss: 1263.4951 - mean_absolute_error: 1263.4951\n"
          ]
        },
        {
          "output_type": "execute_result",
          "data": {
            "text/plain": [
              "[1263.4951171875, 1263.4951171875]"
            ]
          },
          "metadata": {},
          "execution_count": 182
        }
      ]
    },
    {
      "cell_type": "code",
      "source": [
        "# Load in saved best performing model_1 and evaluate on test data\n",
        "model_1 = tf.keras.models.load_model('/content/model_experiments/sequential_1')\n",
        "model_1.evaluate(test_windows, test_labels)"
      ],
      "metadata": {
        "colab": {
          "base_uri": "https://localhost:8080/"
        },
        "id": "P3LoCCtaGHSS",
        "outputId": "a1097431-4bf3-45b0-e368-4586e95a26a0"
      },
      "execution_count": 183,
      "outputs": [
        {
          "output_type": "stream",
          "name": "stdout",
          "text": [
            "18/18 [==============================] - 0s 2ms/step - loss: 1230.2744 - mean_absolute_error: 1230.2744\n"
          ]
        },
        {
          "output_type": "execute_result",
          "data": {
            "text/plain": [
              "[1230.2744140625, 1230.2744140625]"
            ]
          },
          "metadata": {},
          "execution_count": 183
        }
      ]
    },
    {
      "cell_type": "code",
      "source": [
        "def make_preds(model, input_data):\n",
        "  forecast = model.predict(input_data)\n",
        "  return tf.squeeze(forecast)     # return 1D array of predictions\n"
      ],
      "metadata": {
        "id": "nruuuVKRGs_1"
      },
      "execution_count": 184,
      "outputs": []
    },
    {
      "cell_type": "code",
      "source": [
        "# Make predictions using model_1 on the test dataset and view the results\n",
        "model_1_preds = make_preds(model_1, test_windows)\n",
        "len(model_1_preds), model_1_preds[:10]"
      ],
      "metadata": {
        "colab": {
          "base_uri": "https://localhost:8080/"
        },
        "id": "YEaSxu25H0DK",
        "outputId": "d81a9ecf-413f-4cb9-c5ee-0f0107a5cb3f"
      },
      "execution_count": 185,
      "outputs": [
        {
          "output_type": "stream",
          "name": "stdout",
          "text": [
            "18/18 [==============================] - 0s 2ms/step\n"
          ]
        },
        {
          "output_type": "execute_result",
          "data": {
            "text/plain": [
              "(551,\n",
              " <tf.Tensor: shape=(10, 7), dtype=float32, numpy=\n",
              " array([[9141.812, 9388.567, 9415.538, 9380.273, 9437.528, 9523.555,\n",
              "         9468.327],\n",
              "        [8757.632, 8988.586, 8901.16 , 9086.809, 9207.8  , 9042.148,\n",
              "         9135.355],\n",
              "        [8709.111, 8827.806, 8773.305, 9073.758, 9134.357, 8815.779,\n",
              "         8956.235],\n",
              "        [8852.722, 8996.696, 8954.631, 9254.171, 9251.792, 9132.727,\n",
              "         8963.25 ],\n",
              "        [8771.464, 8981.413, 9002.684, 9237.492, 8966.019, 9047.499,\n",
              "         8843.228],\n",
              "        [8713.118, 8963.093, 9068.369, 9013.021, 8900.867, 8964.736,\n",
              "         8743.445],\n",
              "        [8566.946, 8932.046, 9084.221, 8971.156, 8904.118, 8891.275,\n",
              "         8736.788],\n",
              "        [8486.776, 8844.824, 8835.229, 8830.547, 8678.307, 8382.709,\n",
              "         8588.961],\n",
              "        [8396.085, 8717.011, 8556.494, 8497.342, 8660.117, 8283.971,\n",
              "         8454.027],\n",
              "        [8257.615, 8480.187, 8361.587, 8450.467, 8424.652, 8267.885,\n",
              "         8487.966]], dtype=float32)>)"
            ]
          },
          "metadata": {},
          "execution_count": 185
        }
      ]
    },
    {
      "cell_type": "code",
      "source": [
        "# Evaluate preds\n",
        "model_1_reults = evaluate_preds(y_true=tf.squeeze(test_labels),   # reduce to right shape\n",
        "                                y_pred=model_1_preds)\n",
        "model_1_reults"
      ],
      "metadata": {
        "colab": {
          "base_uri": "https://localhost:8080/"
        },
        "id": "lKk4jIlFIDL2",
        "outputId": "ecab02cd-4619-47a5-b9e0-729e75e98e8f"
      },
      "execution_count": 186,
      "outputs": [
        {
          "output_type": "execute_result",
          "data": {
            "text/plain": [
              "{'mae': array([ 600.44226 ,  303.81738 ,  300.64188 ,  431.40375 ,  424.19476 ,\n",
              "         457.34634 ,  529.03516 ,  450.8519  ,  490.11545 ,  596.4389  ,\n",
              "         759.3236  ,  760.41534 ,  746.35614 ,  752.73987 ,  486.49094 ,\n",
              "         189.80748 ,  176.5415  ,  319.64133 ,  299.81772 ,  311.98325 ,\n",
              "         120.969795,  165.85484 ,  239.99944 ,  222.52742 ,  143.79367 ,\n",
              "         130.13045 ,   95.91036 ,  165.75594 ,   79.01988 ,  160.71812 ,\n",
              "         283.36148 ,  342.51758 ,  265.76688 ,  322.49002 ,  251.38867 ,\n",
              "         281.2193  ,  265.5782  ,  263.62598 ,  202.57896 ,  206.32596 ,\n",
              "         515.61835 ,  122.366905,   63.21631 ,  121.21038 ,  144.07945 ,\n",
              "         122.12835 ,  100.31285 ,   98.35387 ,   76.25    ,   97.3162  ,\n",
              "         159.68416 ,  187.31592 ,  194.66504 ,  175.12172 ,  264.47476 ,\n",
              "         372.86734 ,  578.716   ,  584.9388  ,  518.1079  ,  621.40857 ,\n",
              "         405.7221  ,  257.303   ,  282.76855 ,  350.2513  ,  414.8517  ,\n",
              "         479.6739  ,  527.70624 ,  590.97955 ,  217.10379 ,  161.67494 ,\n",
              "         241.99191 ,  402.76352 ,  535.9255  ,  322.92117 ,  309.5547  ,\n",
              "         298.89133 ,  357.50278 ,  434.78473 ,  553.11395 ,  739.40753 ,\n",
              "         822.1508  ,  563.8456  ,  313.54645 ,  154.18834 ,  236.6116  ,\n",
              "         216.14119 ,  240.61607 ,  291.59445 ,  377.59445 ,  623.19543 ,\n",
              "         533.791   ,  433.0989  ,  359.76743 ,  215.42635 ,  172.43694 ,\n",
              "         305.9449  ,  326.62054 ,  450.6455  ,  549.6543  ,  711.07587 ,\n",
              "         434.09055 ,  245.12263 ,  232.01408 ,  294.15918 ,  316.6352  ,\n",
              "         372.44125 ,  510.97934 ,  683.643   ,  891.68176 ,  960.0946  ,\n",
              "         798.59656 ,  348.48047 ,  170.14803 ,  201.9774  ,  212.0494  ,\n",
              "         380.96158 ,  322.0454  ,  463.09103 ,  533.47296 , 1071.9404  ,\n",
              "        1597.6415  , 2070.9202  , 1916.7228  , 1981.0388  , 2209.3035  ,\n",
              "        2489.2104  , 1157.9203  ,  584.4207  ,  364.00455 ,  464.7553  ,\n",
              "         383.33286 ,  527.24805 ,  508.86746 ,  197.03299 ,  244.54436 ,\n",
              "         248.6732  ,  426.02567 ,  379.54764 ,  300.1656  ,  344.57687 ,\n",
              "         401.78278 ,  307.13217 ,  379.11285 ,  921.5259  ,  720.1068  ,\n",
              "         704.01807 ,  632.7075  ,  302.08978 ,  166.4668  ,  210.6702  ,\n",
              "         166.15193 ,  247.63058 ,  433.38297 ,  477.47803 ,  440.98096 ,\n",
              "         191.44957 ,  257.28598 ,  195.85799 ,  230.3524  ,  200.58586 ,\n",
              "         324.15982 ,  232.009   ,  280.01953 ,  290.6779  ,  248.36195 ,\n",
              "         371.44315 ,  566.36285 ,  754.4389  ,  595.3164  ,  629.19965 ,\n",
              "         810.2592  ,  868.6792  ,  937.76227 , 1103.4788  ,  446.25308 ,\n",
              "         304.51883 ,  405.928   ,  336.11453 ,  364.90094 ,  458.14328 ,\n",
              "         512.18304 ,  548.49274 ,  630.6224  ,  874.4664  ,  771.04004 ,\n",
              "         232.73856 ,  619.2081  ,  762.1148  ,  531.70215 ,  154.68164 ,\n",
              "         182.4015  ,  299.42203 ,  405.1748  ,  468.4979  ,  669.51843 ,\n",
              "         628.66254 ,  302.10672 ,  366.03683 ,  348.0766  ,  391.28055 ,\n",
              "         540.0893  ,  734.36426 ,  679.50726 ,  431.8273  ,  293.84097 ,\n",
              "         218.82227 ,  217.75642 ,  361.9248  ,  152.61678 ,  143.99623 ,\n",
              "         202.44531 ,  143.19002 ,   97.054405,  235.15736 ,  280.27457 ,\n",
              "         439.40457 ,  500.4446  ,  130.12068 ,  165.25906 ,  122.81794 ,\n",
              "         164.28279 ,  190.71289 ,  282.83734 ,  215.61955 ,  132.0731  ,\n",
              "         153.40123 ,  153.96848 ,  234.67006 ,  281.44113 ,  476.06277 ,\n",
              "         255.84361 ,  248.44754 ,   91.15053 ,  103.045616,  123.922295,\n",
              "          98.12598 ,  164.41797 ,  166.92564 ,  143.42258 ,  149.86942 ,\n",
              "         113.90583 ,  196.30762 ,   97.274414,  158.6783  ,  156.2694  ,\n",
              "         162.28166 ,  106.42509 ,  101.577286,  113.901505,  101.08454 ,\n",
              "         181.29256 ,  154.87793 ,  216.09459 ,  233.02455 ,  309.49136 ,\n",
              "         339.54395 ,  637.8499  ,  709.19934 ,  847.2814  ,  888.20605 ,\n",
              "        1148.4408  , 1344.6943  , 1339.1874  ,  475.99973 ,  226.94475 ,\n",
              "         223.57324 ,  278.16547 ,  325.52582 ,  321.37207 ,  149.24246 ,\n",
              "         245.5685  ,  228.08385 ,  182.37709 ,  200.77888 ,  250.14635 ,\n",
              "         202.62166 ,  307.59793 ,  244.29897 ,  221.02246 ,  340.8577  ,\n",
              "         197.91016 ,  157.20271 ,  165.87123 ,  314.41684 ,  440.08774 ,\n",
              "         613.5455  ,  305.27164 ,  351.34668 ,  229.88924 ,  129.68094 ,\n",
              "         379.96164 ,  226.51381 ,  239.99316 ,  163.57115 ,  378.46625 ,\n",
              "         399.59097 ,  587.17035 ,  824.9619  , 1063.1914  , 1447.6941  ,\n",
              "        1349.0734  ,  771.6451  ,  442.77652 ,  216.5007  ,  223.21457 ,\n",
              "         163.21346 ,  348.06168 ,  374.22418 ,  341.22922 ,  471.57086 ,\n",
              "         352.46832 ,  503.53375 ,  266.56543 ,  141.67717 ,  241.93596 ,\n",
              "         381.56918 ,  380.61176 ,  443.16644 ,  297.18695 ,  146.53334 ,\n",
              "         141.79213 ,  404.88754 ,  183.44531 ,  122.61761 ,  158.21428 ,\n",
              "         292.07324 ,  324.38992 ,  280.2903  ,  177.06961 ,  179.18178 ,\n",
              "         195.11649 ,  328.03082 ,  405.26172 ,  442.32184 ,  588.9001  ,\n",
              "         657.41223 ,  606.5433  ,  440.9135  ,  160.57826 ,  176.70508 ,\n",
              "         269.3729  ,  277.12164 ,  468.9029  ,  601.64343 ,  783.5314  ,\n",
              "        1076.9353  , 1217.9061  , 1223.3668  , 1210.2181  ,  388.18262 ,\n",
              "         206.60881 ,  236.86063 ,  245.4767  ,  292.73535 ,  433.50766 ,\n",
              "         202.65666 ,  240.70633 ,  463.11816 ,  659.98676 ,  720.4347  ,\n",
              "         796.7327  , 1132.5193  , 1202.5547  , 1216.5381  ,  494.68875 ,\n",
              "         501.08844 ,  496.34164 ,  289.38672 ,  516.5498  ,  975.6624  ,\n",
              "         823.12445 ,  868.0865  ,  980.36847 , 1293.927   , 1876.4437  ,\n",
              "        1583.7361  , 1054.6649  ,  572.15204 ,  462.69336 ,  550.18024 ,\n",
              "         846.2712  ,  892.2687  , 1018.6504  , 1031.9244  ,  945.15204 ,\n",
              "         839.46844 , 1551.8262  , 1420.4459  , 1291.1691  ,  231.1822  ,\n",
              "         344.2087  ,  604.6417  ,  979.47626 ,  515.1872  ,  552.22015 ,\n",
              "         693.1032  ,  579.0628  ,  536.4732  ,  764.2037  , 1466.8153  ,\n",
              "        2396.339   , 2801.0386  , 3009.5027  , 3274.7449  , 3411.7156  ,\n",
              "        2493.336   ,  868.2751  ,  549.976   ,  987.71844 , 1146.3611  ,\n",
              "        1355.837   , 1705.7963  , 2713.6587  , 3338.589   , 3110.9407  ,\n",
              "        2568.403   , 2604.6335  , 2876.1157  , 3526.9766  , 3427.7368  ,\n",
              "        4197.0015  , 5351.7856  , 4691.508   , 4320.827   , 5176.526   ,\n",
              "        3494.2495  , 2749.6575  , 2085.371   , 4244.8516  , 5072.098   ,\n",
              "        4533.0093  ,  856.95984 , 1861.5686  ,  698.4079  , 2291.5881  ,\n",
              "        2747.7734  , 2680.9856  , 2735.1624  , 3171.4468  , 3760.2805  ,\n",
              "        3853.5671  ,  860.62665 , 1370.9342  , 1818.3694  , 2019.8513  ,\n",
              "        1482.8887  , 1865.0377  , 3846.512   , 3579.5466  , 2237.9448  ,\n",
              "        2503.9324  , 3318.3098  , 5112.231   , 5389.3433  , 4880.0894  ,\n",
              "        5646.461   , 6552.7524  , 5522.4155  , 7709.232   , 4384.637   ,\n",
              "        1578.75    , 2413.9514  , 1575.1289  , 2192.7712  , 3236.7812  ,\n",
              "        3291.784   , 3923.0825  , 3849.168   , 2621.1853  , 3289.4153  ,\n",
              "        5141.5386  , 7032.0444  , 9632.186   , 8940.61    , 3876.7935  ,\n",
              "        2000.3845  , 1751.3572  , 2390.9192  , 2709.3862  , 4292.9634  ,\n",
              "        2687.684   , 2515.1272  , 2512.9253  , 3308.1863  , 4956.1226  ,\n",
              "        6223.179   , 7161.759   , 6330.913   , 4323.2617  , 2387.5894  ,\n",
              "        1699.4537  , 1756.8036  , 2072.486   , 3237.5508  , 1089.8209  ,\n",
              "        1794.5022  , 2423.7947  , 3636.3298  , 4192.5674  , 5048.141   ,\n",
              "        4756.9053  , 1801.4191  , 1535.0345  , 2260.2305  , 4218.702   ,\n",
              "        3730.6255  , 2330.168   , 2807.1746  , 1310.976   ,  813.24664 ,\n",
              "         825.8175  , 1160.8103  , 1178.3047  , 1143.6853  , 1086.8962  ,\n",
              "        1516.779   , 1733.2941  , 2712.7122  , 3519.6333  , 3453.1401  ,\n",
              "        2535.9666  , 1996.4174  , 2686.2466  , 3647.8064  , 5549.903   ,\n",
              "        7087.005   , 8331.958   , 7860.2314  , 5782.475   , 4485.634   ,\n",
              "        3952.2192  , 2980.77    , 1794.1105  , 2709.9028  , 3896.3198  ,\n",
              "        6061.221   , 3717.5698  , 1942.3047  , 1472.0256  , 2570.4949  ,\n",
              "        1682.5977  , 1177.1094  , 1688.7545  , 1124.8064  , 2385.7847  ,\n",
              "        1527.4833  , 2110.5208  , 3347.0786  , 5467.1104  , 7713.4814  ,\n",
              "        8056.232   ], dtype=float32),\n",
              " 'mse': array([3.91958750e+05, 1.30518305e+05, 1.17370828e+05, 2.37152281e+05,\n",
              "        2.32812203e+05, 2.58817281e+05, 3.26227719e+05, 2.83065938e+05,\n",
              "        3.59701281e+05, 4.89669281e+05, 7.95670188e+05, 7.96756000e+05,\n",
              "        6.77161062e+05, 6.41342125e+05, 2.82956656e+05, 5.88325742e+04,\n",
              "        4.28769805e+04, 1.33523531e+05, 1.13486125e+05, 1.29043109e+05,\n",
              "        2.17480137e+04, 5.18350039e+04, 7.35867031e+04, 7.85048516e+04,\n",
              "        2.79644668e+04, 2.49109980e+04, 1.26214932e+04, 3.56595898e+04,\n",
              "        1.18768232e+04, 3.48528320e+04, 8.56474922e+04, 1.29057984e+05,\n",
              "        9.51939766e+04, 1.59597641e+05, 1.23603820e+05, 1.28788539e+05,\n",
              "        1.36394750e+05, 1.27780672e+05, 8.92278750e+04, 5.31281602e+04,\n",
              "        2.92506562e+05, 1.94811445e+04, 5.58477490e+03, 2.40238262e+04,\n",
              "        2.73765273e+04, 2.30149727e+04, 1.37024170e+04, 1.10464199e+04,\n",
              "        7.66697949e+03, 1.64802012e+04, 3.09529648e+04, 3.78914492e+04,\n",
              "        5.50218867e+04, 6.05128320e+04, 1.46350953e+05, 2.43651172e+05,\n",
              "        4.35688000e+05, 4.28594906e+05, 3.17192781e+05, 4.12121219e+05,\n",
              "        1.95203500e+05, 1.21019852e+05, 1.73363031e+05, 2.22122406e+05,\n",
              "        2.69563906e+05, 3.02882812e+05, 3.41904594e+05, 3.66246562e+05,\n",
              "        6.37256953e+04, 3.81789727e+04, 7.61995781e+04, 1.92930391e+05,\n",
              "        3.27137438e+05, 1.38468625e+05, 1.21976242e+05, 1.36191359e+05,\n",
              "        1.68410594e+05, 3.09544781e+05, 4.62365719e+05, 6.14081938e+05,\n",
              "        7.08278062e+05, 3.26050219e+05, 1.13556375e+05, 3.88924258e+04,\n",
              "        8.37501953e+04, 8.71211094e+04, 8.22110859e+04, 1.41399547e+05,\n",
              "        1.93499609e+05, 4.47279344e+05, 3.63993750e+05, 2.42065219e+05,\n",
              "        1.69712250e+05, 5.85523203e+04, 3.80290078e+04, 1.05292852e+05,\n",
              "        1.71138516e+05, 2.89192438e+05, 3.60395062e+05, 5.49582625e+05,\n",
              "        2.45282375e+05, 8.41977500e+04, 7.96381719e+04, 1.01481648e+05,\n",
              "        1.80451500e+05, 2.35269531e+05, 3.99197312e+05, 5.86298312e+05,\n",
              "        9.51204312e+05, 1.05289200e+06, 6.67986438e+05, 1.54047922e+05,\n",
              "        3.62151172e+04, 8.22254844e+04, 7.53122578e+04, 1.76431672e+05,\n",
              "        1.53187141e+05, 2.63652719e+05, 3.54527938e+05, 1.99478512e+06,\n",
              "        3.94217650e+06, 5.72291150e+06, 5.09213600e+06, 5.32229700e+06,\n",
              "        5.62881750e+06, 6.26938500e+06, 1.60517362e+06, 3.97328250e+05,\n",
              "        1.79089609e+05, 2.71304219e+05, 2.61661031e+05, 3.60131594e+05,\n",
              "        2.91731156e+05, 7.05878828e+04, 8.86127891e+04, 8.08245703e+04,\n",
              "        1.99505734e+05, 1.61777469e+05, 1.13618953e+05, 1.63368906e+05,\n",
              "        2.90425125e+05, 1.71459984e+05, 2.19502109e+05, 8.97629625e+05,\n",
              "        6.03966438e+05, 5.19059438e+05, 4.65235438e+05, 1.10380430e+05,\n",
              "        3.82889648e+04, 5.47697773e+04, 5.41547148e+04, 9.25807656e+04,\n",
              "        2.42122500e+05, 2.50682156e+05, 2.35637969e+05, 5.65191641e+04,\n",
              "        8.07149297e+04, 4.97121211e+04, 6.29429062e+04, 6.49884961e+04,\n",
              "        1.53905906e+05, 8.08195234e+04, 1.00891180e+05, 1.11737102e+05,\n",
              "        7.62075000e+04, 1.88299047e+05, 3.55335000e+05, 7.84608000e+05,\n",
              "        6.78949500e+05, 7.91047438e+05, 1.00942712e+06, 9.70044812e+05,\n",
              "        1.00747069e+06, 1.22479825e+06, 2.56396078e+05, 2.20999750e+05,\n",
              "        3.20844719e+05, 1.78642578e+05, 1.95303078e+05, 2.69544406e+05,\n",
              "        3.00339562e+05, 3.71608906e+05, 6.39336375e+05, 9.83375875e+05,\n",
              "        7.27691625e+05, 7.59556172e+04, 4.47157938e+05, 6.09526438e+05,\n",
              "        3.07388312e+05, 3.80311602e+04, 6.25613945e+04, 1.12948453e+05,\n",
              "        2.34129766e+05, 2.62278688e+05, 4.93352938e+05, 4.67847156e+05,\n",
              "        1.37803141e+05, 1.60753016e+05, 1.68553484e+05, 1.88960000e+05,\n",
              "        4.97881438e+05, 6.48816062e+05, 5.06951781e+05, 2.59729156e+05,\n",
              "        1.46891891e+05, 7.77757500e+04, 1.29954930e+05, 1.59294094e+05,\n",
              "        3.23545195e+04, 2.20183223e+04, 8.47680078e+04, 3.38887656e+04,\n",
              "        3.14047773e+04, 8.01236172e+04, 9.26087031e+04, 2.20528703e+05,\n",
              "        2.75692375e+05, 2.10099531e+04, 2.93996094e+04, 2.44623086e+04,\n",
              "        3.52762383e+04, 4.48776797e+04, 9.58277422e+04, 5.45391836e+04,\n",
              "        2.78982188e+04, 3.63965820e+04, 3.13738613e+04, 7.86584375e+04,\n",
              "        8.97529609e+04, 2.56744047e+05, 1.00098734e+05, 7.64441016e+04,\n",
              "        1.32724590e+04, 1.65182734e+04, 3.02745293e+04, 1.49070537e+04,\n",
              "        3.30076641e+04, 4.06574570e+04, 2.66847383e+04, 2.95949336e+04,\n",
              "        2.27465664e+04, 5.16382070e+04, 1.43312109e+04, 3.75198438e+04,\n",
              "        3.28380586e+04, 2.96328613e+04, 1.26145547e+04, 1.42047891e+04,\n",
              "        1.72407285e+04, 1.23737051e+04, 3.40913828e+04, 3.48773164e+04,\n",
              "        6.87063906e+04, 8.22911016e+04, 1.23255938e+05, 1.56409594e+05,\n",
              "        7.49474688e+05, 9.64548562e+05, 1.26292862e+06, 1.27834125e+06,\n",
              "        1.69590988e+06, 2.04452225e+06, 1.86929588e+06, 2.71069469e+05,\n",
              "        7.93868906e+04, 6.93384531e+04, 8.52639297e+04, 1.27638547e+05,\n",
              "        1.61300469e+05, 3.49234766e+04, 7.41898594e+04, 8.53339297e+04,\n",
              "        3.86207812e+04, 7.11498359e+04, 1.02307172e+05, 7.40277891e+04,\n",
              "        1.26687922e+05, 8.53306641e+04, 1.37048828e+05, 1.60921484e+05,\n",
              "        6.74017344e+04, 5.54997422e+04, 4.05290820e+04, 1.29945289e+05,\n",
              "        2.26159703e+05, 4.07252281e+05, 1.03646938e+05, 1.57403922e+05,\n",
              "        8.94760547e+04, 2.60758320e+04, 1.58920844e+05, 7.17005703e+04,\n",
              "        8.61586719e+04, 5.41595664e+04, 1.85259375e+05, 2.05909656e+05,\n",
              "        5.39107188e+05, 9.67746938e+05, 1.34569825e+06, 2.36097500e+06,\n",
              "        1.94426125e+06, 6.69674875e+05, 2.21318953e+05, 5.85493828e+04,\n",
              "        7.70424844e+04, 5.93966484e+04, 1.90358625e+05, 2.20979297e+05,\n",
              "        1.74238359e+05, 2.67140719e+05, 1.68860750e+05, 2.62877031e+05,\n",
              "        8.11318203e+04, 4.35301367e+04, 6.93733750e+04, 1.95333406e+05,\n",
              "        1.90145750e+05, 2.60514969e+05, 1.44514406e+05, 3.75838789e+04,\n",
              "        2.66791074e+04, 1.80792906e+05, 3.92840664e+04, 2.12153555e+04,\n",
              "        2.72803594e+04, 8.76802578e+04, 1.16874750e+05, 1.09897648e+05,\n",
              "        4.95386016e+04, 3.89479258e+04, 7.23775547e+04, 2.08201672e+05,\n",
              "        2.64442781e+05, 3.42410812e+05, 4.55609688e+05, 4.68652500e+05,\n",
              "        3.84337688e+05, 2.13573406e+05, 3.35764102e+04, 5.38564297e+04,\n",
              "        8.83023359e+04, 9.90648906e+04, 4.62277531e+05, 7.82350125e+05,\n",
              "        1.10719688e+06, 1.61061162e+06, 1.74752425e+06, 1.61069738e+06,\n",
              "        1.55234312e+06, 2.16530281e+05, 5.43755391e+04, 6.48461055e+04,\n",
              "        9.07848359e+04, 1.33320922e+05, 2.37387141e+05, 6.25444570e+04,\n",
              "        1.20183984e+05, 7.02912312e+05, 9.88589688e+05, 1.02908700e+06,\n",
              "        1.03961712e+06, 1.59936275e+06, 1.61035400e+06, 1.62396975e+06,\n",
              "        3.94979656e+05, 2.97765438e+05, 3.35074719e+05, 1.06789250e+05,\n",
              "        3.68147844e+05, 1.42818025e+06, 1.27906738e+06, 1.20326400e+06,\n",
              "        1.51301112e+06, 2.32009650e+06, 3.89254750e+06, 2.64331150e+06,\n",
              "        1.22124200e+06, 4.07316188e+05, 2.59269141e+05, 7.88493000e+05,\n",
              "        1.19145225e+06, 1.32722825e+06, 1.55997162e+06, 1.71097262e+06,\n",
              "        1.46235475e+06, 1.01107131e+06, 2.60659225e+06, 2.15733550e+06,\n",
              "        1.75878462e+06, 1.08470570e+05, 1.43145766e+05, 4.03059656e+05,\n",
              "        1.14089762e+06, 4.12347250e+05, 4.49168094e+05, 6.35891562e+05,\n",
              "        5.14557156e+05, 4.31985156e+05, 1.50172512e+06, 4.71663300e+06,\n",
              "        8.71993300e+06, 1.13285050e+07, 1.19859310e+07, 1.24231860e+07,\n",
              "        1.20361940e+07, 6.33795900e+06, 8.52615688e+05, 5.07571781e+05,\n",
              "        1.44414862e+06, 1.85531338e+06, 3.40672400e+06, 4.42294250e+06,\n",
              "        1.01086960e+07, 1.35196460e+07, 1.13096780e+07, 1.01449870e+07,\n",
              "        1.15106380e+07, 1.15871310e+07, 1.53580060e+07, 1.67795720e+07,\n",
              "        2.76454900e+07, 4.04712520e+07, 3.20326680e+07, 2.49270360e+07,\n",
              "        3.14811140e+07, 1.64835630e+07, 9.47136200e+06, 8.30276400e+06,\n",
              "        2.42388640e+07, 2.85113180e+07, 2.14857240e+07, 1.00982444e+06,\n",
              "        4.29435800e+06, 1.16433412e+06, 8.01399750e+06, 1.10072450e+07,\n",
              "        1.26537450e+07, 1.15832500e+07, 1.27519180e+07, 1.61140910e+07,\n",
              "        1.54155970e+07, 1.32362200e+06, 3.59414200e+06, 5.42731250e+06,\n",
              "        6.06243600e+06, 3.30106975e+06, 5.44425850e+06, 1.76876380e+07,\n",
              "        1.60022950e+07, 7.20913150e+06, 1.03962690e+07, 1.40309630e+07,\n",
              "        3.43171920e+07, 4.40774040e+07, 3.94674280e+07, 4.77203280e+07,\n",
              "        5.35721880e+07, 3.54874320e+07, 6.16061640e+07, 2.11775160e+07,\n",
              "        3.30558775e+06, 8.26737350e+06, 3.55107125e+06, 9.13638900e+06,\n",
              "        1.82861820e+07, 1.74596000e+07, 1.90875960e+07, 1.78441580e+07,\n",
              "        8.94871400e+06, 1.27824250e+07, 3.94888280e+07, 6.13519880e+07,\n",
              "        1.02746512e+08, 8.51699600e+07, 1.91087480e+07, 6.28134800e+06,\n",
              "        4.08824925e+06, 8.52185800e+06, 1.12514470e+07, 2.03449020e+07,\n",
              "        1.02602140e+07, 1.09118130e+07, 1.34229590e+07, 1.82522620e+07,\n",
              "        3.25776640e+07, 5.13187800e+07, 6.04748760e+07, 4.45582680e+07,\n",
              "        2.24469300e+07, 8.74289800e+06, 3.75186400e+06, 4.21457900e+06,\n",
              "        5.21922750e+06, 1.09354130e+07, 2.61338225e+06, 5.54238300e+06,\n",
              "        1.01011900e+07, 1.76727280e+07, 2.25175380e+07, 3.11094880e+07,\n",
              "        2.61055340e+07, 5.64376300e+06, 4.00275400e+06, 8.39585600e+06,\n",
              "        2.02742380e+07, 1.60221760e+07, 6.50827750e+06, 8.10336050e+06,\n",
              "        2.02290362e+06, 1.22793462e+06, 1.13655975e+06, 1.71809088e+06,\n",
              "        2.08911088e+06, 2.25669500e+06, 1.95329462e+06, 2.83857650e+06,\n",
              "        6.12039450e+06, 1.18535630e+07, 1.60759270e+07, 1.36182740e+07,\n",
              "        7.75110650e+06, 5.08985100e+06, 9.60049900e+06, 2.07132280e+07,\n",
              "        3.94936560e+07, 6.08783160e+07, 8.08317280e+07, 6.92720480e+07,\n",
              "        4.11461360e+07, 2.64088320e+07, 2.15924980e+07, 1.30315710e+07,\n",
              "        4.69030950e+06, 9.39144500e+06, 1.99951580e+07, 3.91415120e+07,\n",
              "        1.49502810e+07, 4.62616100e+06, 2.81660975e+06, 7.53977150e+06,\n",
              "        3.96965600e+06, 3.32494800e+06, 4.57100700e+06, 2.02762800e+06,\n",
              "        6.57445200e+06, 2.90376675e+06, 7.66569050e+06, 1.69612480e+07,\n",
              "        4.18939640e+07, 7.64571440e+07, 8.10860880e+07], dtype=float32),\n",
              " 'rmse': array([  626.0661  ,   361.27316 ,   342.59427 ,   486.98285 ,\n",
              "          482.50616 ,   508.74088 ,   571.16345 ,   532.0394  ,\n",
              "          599.75104 ,   699.76373 ,   892.0035  ,   892.6119  ,\n",
              "          822.89795 ,   800.8384  ,   531.9367  ,   242.55428 ,\n",
              "          207.06758 ,   365.40872 ,   336.877   ,   359.2257  ,\n",
              "          147.47208 ,   227.67302 ,   271.26868 ,   280.18716 ,\n",
              "          167.2258  ,   157.83218 ,   112.34542 ,   188.83746 ,\n",
              "          108.98084 ,   186.68913 ,   292.6559  ,   359.2464  ,\n",
              "          308.53522 ,   399.49673 ,   351.57336 ,   358.87122 ,\n",
              "          369.3166  ,   357.46423 ,   298.71036 ,   230.49547 ,\n",
              "          540.83875 ,   139.57487 ,    74.73135 ,   154.99622 ,\n",
              "          165.45854 ,   151.70686 ,   117.05733 ,   105.10195 ,\n",
              "           87.56129 ,   128.37523 ,   175.93454 ,   194.65726 ,\n",
              "          234.56744 ,   245.99356 ,   382.55844 ,   493.61035 ,\n",
              "          660.06665 ,   654.67163 ,   563.1987  ,   641.9667  ,\n",
              "          441.8184  ,   347.8791  ,   416.36887 ,   471.29865 ,\n",
              "          519.19543 ,   550.3479  ,   584.7261  ,   605.1831  ,\n",
              "          252.43948 ,   195.39441 ,   276.04272 ,   439.23843 ,\n",
              "          571.9593  ,   372.11374 ,   349.25098 ,   369.04114 ,\n",
              "          410.3786  ,   556.3675  ,   679.9748  ,   783.6338  ,\n",
              "          841.5926  ,   571.00806 ,   336.98126 ,   197.21162 ,\n",
              "          289.39627 ,   295.16284 ,   286.72476 ,   376.0313  ,\n",
              "          439.8859  ,   668.7895  ,   603.319   ,   492.00125 ,\n",
              "          411.96146 ,   241.97586 ,   195.01027 ,   324.4886  ,\n",
              "          413.6889  ,   537.7662  ,   600.3291  ,   741.3384  ,\n",
              "          495.25992 ,   290.1685  ,   282.20236 ,   318.56186 ,\n",
              "          424.79584 ,   485.0459  ,   631.8206  ,   765.7012  ,\n",
              "          975.29706 ,  1026.1052  ,   817.3044  ,   392.48938 ,\n",
              "          190.3027  ,   286.74988 ,   274.4308  ,   420.0377  ,\n",
              "          391.3913  ,   513.47125 ,   595.4225  ,  1412.3687  ,\n",
              "         1985.4915  ,  2392.2607  ,  2256.5762  ,  2307.0105  ,\n",
              "         2372.513   ,  2503.874   ,  1266.9545  ,   630.3398  ,\n",
              "          423.1898  ,   520.8687  ,   511.52814 ,   600.1097  ,\n",
              "          540.1214  ,   265.6838  ,   297.67902 ,   284.29663 ,\n",
              "          446.66064 ,   402.2157  ,   337.0741  ,   404.1892  ,\n",
              "          538.9111  ,   414.07727 ,   468.51053 ,   947.43317 ,\n",
              "          777.1528  ,   720.4578  ,   682.08167 ,   332.2355  ,\n",
              "          195.67566 ,   234.02943 ,   232.71165 ,   304.27087 ,\n",
              "          492.05945 ,   500.6817  ,   485.42557 ,   237.7376  ,\n",
              "          284.10373 ,   222.96216 ,   250.88425 ,   254.92842 ,\n",
              "          392.30844 ,   284.28775 ,   317.63373 ,   334.271   ,\n",
              "          276.05707 ,   433.9344  ,   596.09985 ,   885.781   ,\n",
              "          823.98395 ,   889.40845 ,  1004.7025  ,   984.9085  ,\n",
              "         1003.7284  ,  1106.706   ,   506.35568 ,   470.1061  ,\n",
              "          566.4316  ,   422.66132 ,   441.9311  ,   519.17664 ,\n",
              "          548.0325  ,   609.59735 ,   799.58514 ,   991.6531  ,\n",
              "          853.0484  ,   275.60046 ,   668.69867 ,   780.72174 ,\n",
              "          554.4261  ,   195.0158  ,   250.12276 ,   336.07803 ,\n",
              "          483.86957 ,   512.13153 ,   702.39087 ,   683.9935  ,\n",
              "          371.21844 ,   400.94016 ,   410.55264 ,   434.69528 ,\n",
              "          705.6071  ,   805.4912  ,   712.0055  ,   509.6363  ,\n",
              "          383.26477 ,   278.88303 ,   360.4926  ,   399.11664 ,\n",
              "          179.87363 ,   148.38573 ,   291.14944 ,   184.08902 ,\n",
              "          177.21393 ,   283.06116 ,   304.31677 ,   469.60483 ,\n",
              "          525.06415 ,   144.9481  ,   171.46315 ,   156.40431 ,\n",
              "          187.8197  ,   211.84352 ,   309.56058 ,   233.53625 ,\n",
              "          167.0276  ,   190.77888 ,   177.12668 ,   280.46112 ,\n",
              "          299.58798 ,   506.69916 ,   316.38385 ,   276.48526 ,\n",
              "          115.20616 ,   128.52344 ,   173.99577 ,   122.094444,\n",
              "          181.68011 ,   201.63695 ,   163.35464 ,   172.03178 ,\n",
              "          150.81964 ,   227.24042 ,   119.713036,   193.7004  ,\n",
              "          181.21274 ,   172.14198 ,   112.31454 ,   119.183846,\n",
              "          131.30396 ,   111.23716 ,   184.63852 ,   186.7547  ,\n",
              "          262.11905 ,   286.86426 ,   351.07825 ,   395.48654 ,\n",
              "          865.72205 ,   982.1143  ,  1123.801   ,  1130.6376  ,\n",
              "         1302.271   ,  1429.8679  ,  1367.2219  ,   520.6433  ,\n",
              "          281.7568  ,   263.32196 ,   291.99988 ,   357.26538 ,\n",
              "          401.62228 ,   186.87823 ,   272.37814 ,   292.11972 ,\n",
              "          196.52171 ,   266.73926 ,   319.85492 ,   272.08047 ,\n",
              "          355.93246 ,   292.11414 ,   370.20105 ,   401.1502  ,\n",
              "          259.61844 ,   235.58383 ,   201.31836 ,   360.47925 ,\n",
              "          475.5625  ,   638.1632  ,   321.94244 ,   396.74164 ,\n",
              "          299.1255  ,   161.48013 ,   398.64877 ,   267.76962 ,\n",
              "          293.52798 ,   232.72208 ,   430.41766 ,   453.7727  ,\n",
              "          734.2392  ,   983.7413  ,  1160.0424  ,  1536.5465  ,\n",
              "         1394.3677  ,   818.3367  ,   470.4455  ,   241.9698  ,\n",
              "          277.56528 ,   243.71428 ,   436.3011  ,   470.08435 ,\n",
              "          417.4187  ,   516.85657 ,   410.9267  ,   512.71533 ,\n",
              "          284.8365  ,   208.63876 ,   263.38824 ,   441.9654  ,\n",
              "          436.05704 ,   510.40668 ,   380.1505  ,   193.86562 ,\n",
              "          163.3374  ,   425.19748 ,   198.20209 ,   145.65492 ,\n",
              "          165.16766 ,   296.10852 ,   341.8695  ,   331.50815 ,\n",
              "          222.5727  ,   197.3523  ,   269.03076 ,   456.2912  ,\n",
              "          514.24    ,   585.1588  ,   674.98865 ,   684.582   ,\n",
              "          619.94977 ,   462.14    ,   183.23866 ,   232.06989 ,\n",
              "          297.1571  ,   314.74576 ,   679.91    ,   884.50555 ,\n",
              "         1052.2343  ,  1269.0988  ,  1321.9396  ,  1269.1326  ,\n",
              "         1245.9307  ,   465.32816 ,   233.18564 ,   254.64899 ,\n",
              "          301.3052  ,   365.13138 ,   487.2239  ,   250.0889  ,\n",
              "          346.67563 ,   838.3987  ,   994.2785  ,  1014.4393  ,\n",
              "         1019.61615 ,  1264.6592  ,  1268.9972  ,  1274.3507  ,\n",
              "          628.47406 ,   545.6789  ,   578.8564  ,   326.78625 ,\n",
              "          606.7519  ,  1195.065   ,  1130.9586  ,  1096.934   ,\n",
              "         1230.0452  ,  1523.1863  ,  1972.954   ,  1625.8264  ,\n",
              "         1105.0981  ,   638.21326 ,   509.18478 ,   887.9713  ,\n",
              "         1091.5366  ,  1152.054   ,  1248.9883  ,  1308.0415  ,\n",
              "         1209.2786  ,  1005.52045 ,  1614.4944  ,  1468.7871  ,\n",
              "         1326.1918  ,   329.3487  ,   378.3461  ,   634.8698  ,\n",
              "         1068.128   ,   642.1427  ,   670.2     ,   797.4281  ,\n",
              "          717.3264  ,   657.2558  ,  1225.449   ,  2171.781   ,\n",
              "         2952.9534  ,  3365.7844  ,  3462.0703  ,  3524.654   ,\n",
              "         3469.3218  ,  2517.5303  ,   923.3719  ,   712.44073 ,\n",
              "         1201.7273  ,  1362.0989  ,  1845.7313  ,  2103.0793  ,\n",
              "         3179.4175  ,  3676.9072  ,  3362.9866  ,  3185.1196  ,\n",
              "         3392.7332  ,  3403.9875  ,  3918.9292  ,  4096.2876  ,\n",
              "         5257.898   ,  6361.702   ,  5659.741   ,  4992.698   ,\n",
              "         5610.803   ,  4059.9954  ,  3077.5579  ,  2881.4517  ,\n",
              "         4923.298   ,  5339.599   ,  4635.2695  ,  1004.9002  ,\n",
              "         2072.2832  ,  1079.0432  ,  2830.9004  ,  3317.7168  ,\n",
              "         3557.2102  ,  3403.4175  ,  3570.9827  ,  4014.236   ,\n",
              "         3926.27    ,  1150.4877  ,  1895.8223  ,  2329.6594  ,\n",
              "         2462.2014  ,  1816.8846  ,  2333.2935  ,  4205.6675  ,\n",
              "         4000.2869  ,  2684.9827  ,  3224.3245  ,  3745.7927  ,\n",
              "         5858.088   ,  6639.0815  ,  6282.3105  ,  6907.99    ,\n",
              "         7319.3022  ,  5957.133   ,  7848.9595  ,  4601.9033  ,\n",
              "         1818.1276  ,  2875.304   ,  1884.4286  ,  3022.646   ,\n",
              "         4276.2344  ,  4178.4688  ,  4368.9355  ,  4224.2344  ,\n",
              "         2991.4402  ,  3575.2517  ,  6284.0137  ,  7832.751   ,\n",
              "        10136.3955  ,  9228.757   ,  4371.3555  ,  2506.2617  ,\n",
              "         2021.9419  ,  2919.2222  ,  3354.3176  ,  4510.532   ,\n",
              "         3203.157   ,  3303.3035  ,  3663.7356  ,  4272.2666  ,\n",
              "         5707.6846  ,  7163.713   ,  7776.5596  ,  6675.1978  ,\n",
              "         4737.8193  ,  2956.839   ,  1936.9729  ,  2052.944   ,\n",
              "         2284.563   ,  3306.8735  ,  1616.5958  ,  2354.2266  ,\n",
              "         3178.2368  ,  4203.8945  ,  4745.2646  ,  5577.588   ,\n",
              "         5109.3574  ,  2375.6606  ,  2000.6884  ,  2897.5603  ,\n",
              "         4502.6924  ,  4002.771   ,  2551.1326  ,  2846.6401  ,\n",
              "         1422.2882  ,  1108.1221  ,  1066.0956  ,  1310.7596  ,\n",
              "         1445.3757  ,  1502.23    ,  1397.6031  ,  1684.8075  ,\n",
              "         2473.943   ,  3442.9004  ,  4009.4797  ,  3690.2947  ,\n",
              "         2784.0808  ,  2256.0698  ,  3098.4673  ,  4551.1787  ,\n",
              "         6284.398   ,  7802.4556  ,  8990.646   ,  8322.983   ,\n",
              "         6414.5254  ,  5138.9526  ,  4646.773   ,  3609.9268  ,\n",
              "         2165.7122  ,  3064.5464  ,  4471.5947  ,  6256.318   ,\n",
              "         3866.5593  ,  2150.8513  ,  1678.2759  ,  2745.8645  ,\n",
              "         1992.3995  ,  1823.444   ,  2137.9915  ,  1423.948   ,\n",
              "         2564.0693  ,  1704.0442  ,  2768.6982  ,  4118.404   ,\n",
              "         6472.5547  ,  8743.978   ,  9004.781   ], dtype=float32),\n",
              " 'mape': array([ 6.8519154 ,  3.5042267 ,  3.464418  ,  5.0305653 ,  5.0059414 ,\n",
              "         5.465132  ,  6.3833942 ,  5.604564  ,  6.3409815 ,  7.8572044 ,\n",
              "        10.293141  , 10.448474  , 10.312388  , 10.4108095 ,  6.750715  ,\n",
              "         2.6238751 ,  2.363035  ,  4.260076  ,  3.9998598 ,  4.1464987 ,\n",
              "         1.6123136 ,  2.2123673 ,  3.2733316 ,  3.0420969 ,  1.951619  ,\n",
              "         1.7549419 ,  1.2924584 ,  2.2273202 ,  1.0633947 ,  2.1939726 ,\n",
              "         3.9132516 ,  4.7700686 ,  3.7596054 ,  4.68564   ,  3.6710472 ,\n",
              "         4.0890174 ,  3.8852584 ,  3.84494   ,  2.9473526 ,  2.8764405 ,\n",
              "         7.1049223 ,  1.6941464 ,  0.87916106,  1.6749814 ,  1.9982574 ,\n",
              "         1.6839889 ,  1.3778965 ,  1.3589357 ,  1.0484135 ,  1.3594251 ,\n",
              "         2.223787  ,  2.6019118 ,  2.72576   ,  2.4069924 ,  3.4718268 ,\n",
              "         4.7566733 ,  7.408232  ,  7.3934307 ,  6.497493  ,  7.7444277 ,\n",
              "         5.0170965 ,  3.0868552 ,  3.2928553 ,  4.040233  ,  4.7355685 ,\n",
              "         5.449573  ,  5.989207  ,  6.7173533 ,  2.4639022 ,  1.8654151 ,\n",
              "         2.806308  ,  4.704947  ,  6.306745  ,  3.8161464 ,  3.646671  ,\n",
              "         3.4945283 ,  4.0591445 ,  4.7406607 ,  5.942645  ,  7.9782495 ,\n",
              "         8.815926  ,  6.0261602 ,  3.3465452 ,  1.6274111 ,  2.535591  ,\n",
              "         2.302314  ,  2.5116253 ,  2.9674149 ,  3.820322  ,  6.2584996 ,\n",
              "         5.2784615 ,  4.261292  ,  3.5094812 ,  2.1076334 ,  1.7107612 ,\n",
              "         3.0454814 ,  3.2967741 ,  4.585669  ,  5.6131043 ,  7.288378  ,\n",
              "         4.480207  ,  2.5234904 ,  2.3462737 ,  3.0594203 ,  3.4312167 ,\n",
              "         4.108149  ,  5.7070093 ,  7.6638556 , 10.172093  , 10.983814  ,\n",
              "         9.147879  ,  4.0015216 ,  1.9334406 ,  2.2516043 ,  2.3555455 ,\n",
              "         4.2794337 ,  3.837249  ,  5.564946  ,  6.5161    , 15.457169  ,\n",
              "        24.730118  , 33.916706  , 33.448307  , 36.630802  , 40.890385  ,\n",
              "        46.291344  , 21.802572  , 10.830305  ,  6.309481  ,  8.003662  ,\n",
              "         6.1063075 ,  8.357019  ,  7.9210224 ,  3.0555768 ,  3.8832095 ,\n",
              "         3.851857  ,  6.4951344 ,  5.840949  ,  4.7471347 ,  5.4737215 ,\n",
              "         6.4132996 ,  4.8201857 ,  5.645827  , 13.737364  , 10.479857  ,\n",
              "        10.161848  ,  8.941097  ,  4.241248  ,  2.3381448 ,  2.9662907 ,\n",
              "         2.2969408 ,  3.5611463 ,  6.216851  ,  6.9125543 ,  6.4070926 ,\n",
              "         2.7890863 ,  3.6481943 ,  2.7943263 ,  3.257639  ,  2.8242524 ,\n",
              "         4.5286603 ,  3.2104287 ,  3.873739  ,  4.0101533 ,  3.453589  ,\n",
              "         4.8949285 ,  7.437918  ,  9.42568   ,  7.0657954 ,  7.232558  ,\n",
              "         9.25755   ,  9.87812   , 10.605689  , 12.426174  ,  4.9329953 ,\n",
              "         3.2021549 ,  4.2068067 ,  3.4939036 ,  3.8027089 ,  4.845316  ,\n",
              "         5.4552174 ,  5.997037  ,  7.099413  ,  9.768839  ,  8.599542  ,\n",
              "         2.5553565 ,  6.482372  ,  7.935609  ,  5.521939  ,  1.6503681 ,\n",
              "         1.9627148 ,  3.198507  ,  4.3984475 ,  5.125187  ,  7.393878  ,\n",
              "         6.9779353 ,  3.3535879 ,  4.008408  ,  3.739145  ,  4.1770844 ,\n",
              "         5.5181475 ,  7.583172  ,  7.00249   ,  4.389487  ,  2.965122  ,\n",
              "         2.2183535 ,  2.1769402 ,  3.7450526 ,  1.5702391 ,  1.4733431 ,\n",
              "         2.128393  ,  1.4987352 ,  1.0328857 ,  2.4816458 ,  2.969983  ,\n",
              "         4.6616583 ,  5.3126183 ,  1.3807967 ,  1.7540386 ,  1.312562  ,\n",
              "         1.7511566 ,  2.0212753 ,  3.0123432 ,  2.2887306 ,  1.4022361 ,\n",
              "         1.6253514 ,  1.6352024 ,  2.5095341 ,  3.0572479 ,  5.2053576 ,\n",
              "         2.8088017 ,  2.7255301 ,  1.0007392 ,  1.1256458 ,  1.3546618 ,\n",
              "         1.0706972 ,  1.7897891 ,  1.8084288 ,  1.5510966 ,  1.6195538 ,\n",
              "         1.2224667 ,  2.109537  ,  1.0451688 ,  1.7009094 ,  1.689891  ,\n",
              "         1.7563477 ,  1.1546631 ,  1.1017829 ,  1.2403564 ,  1.1005276 ,\n",
              "         1.968253  ,  1.6618613 ,  2.2921574 ,  2.4570851 ,  3.24126   ,\n",
              "         3.5105045 ,  6.1868005 ,  6.663966  ,  7.7604175 ,  8.020299  ,\n",
              "        10.333647  , 11.941791  , 11.850801  ,  4.1890836 ,  1.9842939 ,\n",
              "         1.9566376 ,  2.4316776 ,  2.829543  ,  2.8425016 ,  1.2897228 ,\n",
              "         2.0964577 ,  1.9444877 ,  1.5623618 ,  1.7397307 ,  2.1664605 ,\n",
              "         1.7539833 ,  2.6444745 ,  2.0638297 ,  1.8131806 ,  2.8344688 ,\n",
              "         1.6371366 ,  1.3014919 ,  1.3821603 ,  2.6435013 ,  3.7605603 ,\n",
              "         5.2776475 ,  2.6339567 ,  3.060399  ,  2.0089064 ,  1.1340463 ,\n",
              "         3.3119388 ,  1.9826994 ,  2.0684605 ,  1.392796  ,  3.3170714 ,\n",
              "         3.5919528 ,  5.5018024 ,  7.868159  , 10.150772  , 14.031466  ,\n",
              "        13.153246  ,  7.5626626 ,  4.339394  ,  2.1040087 ,  2.1578674 ,\n",
              "         1.5587633 ,  3.2894003 ,  3.482065  ,  3.1554136 ,  4.352524  ,\n",
              "         3.2170172 ,  4.617781  ,  2.4407241 ,  1.3062472 ,  2.2798636 ,\n",
              "         3.611278  ,  3.6064723 ,  4.2133265 ,  2.8312678 ,  1.3876555 ,\n",
              "         1.3206782 ,  3.7664094 ,  1.7084373 ,  1.144527  ,  1.4831485 ,\n",
              "         2.737468  ,  3.0486495 ,  2.644845  ,  1.669535  ,  1.6753207 ,\n",
              "         1.7956687 ,  2.9629755 ,  3.634013  ,  3.890678  ,  5.180227  ,\n",
              "         5.783894  ,  5.310255  ,  3.84813   ,  1.3991182 ,  1.5357363 ,\n",
              "         2.3558142 ,  2.404124  ,  3.8074346 ,  4.7231936 ,  6.0866127 ,\n",
              "         8.353185  ,  9.423267  ,  9.418087  ,  9.169863  ,  2.9163635 ,\n",
              "         1.5597552 ,  1.7740762 ,  1.812616  ,  2.1361327 ,  3.1647968 ,\n",
              "         1.4897252 ,  1.7277861 ,  3.110788  ,  4.363844  ,  4.757638  ,\n",
              "         5.2142143 ,  7.4326196 ,  7.863044  ,  7.867584  ,  3.138415  ,\n",
              "         3.2009456 ,  3.101713  ,  1.8085665 ,  3.1778257 ,  5.8223886 ,\n",
              "         4.756196  ,  4.9632573 ,  5.5026975 ,  7.138419  , 10.322081  ,\n",
              "         8.642267  ,  5.6845574 ,  3.0572877 ,  2.526245  ,  3.1782422 ,\n",
              "         4.8276486 ,  5.1051626 ,  5.782685  ,  5.8844776 ,  5.3906617 ,\n",
              "         4.423279  ,  8.180041  ,  7.4406185 ,  6.7324185 ,  1.2040507 ,\n",
              "         1.8132448 ,  3.1981509 ,  5.23189   ,  2.7883568 ,  2.990443  ,\n",
              "         3.7482624 ,  3.1333492 ,  2.8590922 ,  3.7734933 ,  6.8518467 ,\n",
              "        11.075777  , 12.49486   , 13.174107  , 14.238551  , 14.733017  ,\n",
              "        10.684982  ,  3.6957898 ,  2.2974136 ,  4.0438976 ,  4.598707  ,\n",
              "         5.184246  ,  6.465458  , 10.021538  , 12.105985  , 11.068184  ,\n",
              "         8.636479  ,  8.363884  ,  9.194757  , 11.01103   , 10.18387   ,\n",
              "        11.688975  , 14.379044  , 12.139557  , 11.104692  , 13.396229  ,\n",
              "         8.930863  ,  7.121942  ,  5.8391104 , 11.840973  , 14.106807  ,\n",
              "        12.637165  ,  2.3744154 ,  5.018737  ,  1.8676732 ,  6.796378  ,\n",
              "         8.2247925 ,  8.283488  ,  8.500434  ,  9.835296  , 11.708025  ,\n",
              "        12.137456  ,  2.6546414 ,  4.152248  ,  5.45842   ,  6.034963  ,\n",
              "         4.4470544 ,  5.3807993 , 10.93903   ,  9.97975   ,  6.089619  ,\n",
              "         6.6001234 ,  8.705564  , 12.767194  , 12.659582  , 11.020871  ,\n",
              "        12.429851  , 14.261487  , 11.891796  , 16.37305   ,  9.19429   ,\n",
              "         3.2690384 ,  4.870126  ,  3.1411428 ,  4.165914  ,  6.0237164 ,\n",
              "         6.0106244 ,  7.1733394 ,  7.0595255 ,  4.936257  ,  6.3193464 ,\n",
              "        10.662762  , 14.682303  , 20.427418  , 19.008919  ,  8.314972  ,\n",
              "         4.2812386 ,  3.719768  ,  4.8796587 ,  5.496736  ,  8.664586  ,\n",
              "         5.34495   ,  4.839753  ,  4.6291165 ,  5.987546  ,  8.919489  ,\n",
              "        10.849597  , 12.343515  , 10.871755  ,  7.3902087 ,  4.030477  ,\n",
              "         2.9042277 ,  2.9852958 ,  3.6009226 ,  5.6175585 ,  1.9470003 ,\n",
              "         3.2067504 ,  4.4453826 ,  6.7255273 ,  7.7912674 ,  9.381379  ,\n",
              "         8.840218  ,  3.3601317 ,  2.7588909 ,  3.9162416 ,  7.3077106 ,\n",
              "         6.41335   ,  3.9921668 ,  4.8156104 ,  2.235787  ,  1.3942765 ,\n",
              "         1.4362531 ,  2.0131216 ,  2.0490482 ,  1.9748533 ,  1.857203  ,\n",
              "         2.6008158 ,  2.8505611 ,  4.4033203 ,  5.681771  ,  5.5700054 ,\n",
              "         4.0731606 ,  3.2424488 ,  4.472568  ,  6.3353343 ,  9.777926  ,\n",
              "        12.802865  , 15.44989   , 14.850287  , 11.276199  ,  8.803225  ,\n",
              "         7.7903337 ,  5.878656  ,  3.5023358 ,  5.020495  ,  7.004497  ,\n",
              "        10.871088  ,  6.6002393 ,  3.4487464 ,  2.5947928 ,  4.518861  ,\n",
              "         3.0044978 ,  2.1167083 ,  2.9935668 ,  2.0086143 ,  4.158735  ,\n",
              "         2.7193856 ,  3.9826314 ,  6.429377  , 10.831595  , 15.744424  ,\n",
              "        17.113705  ], dtype=float32),\n",
              " 'mase': 2.1892042}"
            ]
          },
          "metadata": {},
          "execution_count": 186
        }
      ]
    },
    {
      "cell_type": "markdown",
      "source": [
        "# Model 2"
      ],
      "metadata": {
        "id": "KswNLIP-KMOO"
      }
    },
    {
      "cell_type": "code",
      "source": [
        "# Model 2\n",
        "WINDOW_SIZE = 30\n",
        "HORIZON = 1"
      ],
      "metadata": {
        "id": "5FJQFQUvIvLC"
      },
      "execution_count": 132,
      "outputs": []
    },
    {
      "cell_type": "code",
      "source": [
        "# Test out the window labelling function\n",
        "test_window, test_label = get_labelled_windows(tf.expand_dims(tf.range(WINDOW_SIZE + 1)+1, axis=0), horizon=HORIZON)\n",
        "print(f'Window: {tf.squeeze(test_window).numpy()} -> Label: {tf.squeeze(test_label).numpy()}')"
      ],
      "metadata": {
        "colab": {
          "base_uri": "https://localhost:8080/"
        },
        "id": "RKtkH9cYKOoe",
        "outputId": "2f8be42e-aa4d-4a3d-fa02-5a45f32cf1c0"
      },
      "execution_count": 133,
      "outputs": [
        {
          "output_type": "stream",
          "name": "stdout",
          "text": [
            "Window: [ 1  2  3  4  5  6  7  8  9 10 11 12 13 14 15 16 17 18 19 20 21 22 23 24\n",
            " 25 26 27 28 29 30] -> Label: 31\n"
          ]
        }
      ]
    },
    {
      "cell_type": "code",
      "source": [
        "full_windows, full_labels = make_windows(prices, window_size=WINDOW_SIZE, horizon=HORIZON)\n",
        "len(full_windows), len(full_labels)"
      ],
      "metadata": {
        "colab": {
          "base_uri": "https://localhost:8080/"
        },
        "id": "ERNpTfaGKbrE",
        "outputId": "ce0a17a5-6817-47da-def3-deacadc30c45"
      },
      "execution_count": 134,
      "outputs": [
        {
          "output_type": "execute_result",
          "data": {
            "text/plain": [
              "(2757, 2757)"
            ]
          },
          "metadata": {},
          "execution_count": 134
        }
      ]
    },
    {
      "cell_type": "code",
      "source": [
        "train_windows, train_labels, test_windows, test_labels = make_train_test_splits(full_windows, full_labels)\n",
        "len(train_windows), len(test_windows), len(train_labels), len(test_labels)"
      ],
      "metadata": {
        "colab": {
          "base_uri": "https://localhost:8080/"
        },
        "id": "j4CY4iVNKk-F",
        "outputId": "7b253ef3-179c-4867-86a5-f60d08053736"
      },
      "execution_count": 135,
      "outputs": [
        {
          "output_type": "execute_result",
          "data": {
            "text/plain": [
              "(2205, 552, 2205, 552)"
            ]
          },
          "metadata": {},
          "execution_count": 135
        }
      ]
    },
    {
      "cell_type": "code",
      "source": [
        "model_2 = tf.keras.Sequential([\n",
        "    tf.keras.layers.Dense(128, activation='relu'),\n",
        "    tf.keras.layers.Dense(HORIZON)\n",
        "])"
      ],
      "metadata": {
        "id": "2VOulC2uKtX2"
      },
      "execution_count": 136,
      "outputs": []
    },
    {
      "cell_type": "code",
      "source": [
        "model_2.compile(loss='mean_absolute_error',\n",
        "              optimizer='adam',\n",
        "              metrics='mean_absolute_error')"
      ],
      "metadata": {
        "id": "Q28OM4cJKwOj"
      },
      "execution_count": 137,
      "outputs": []
    },
    {
      "cell_type": "code",
      "source": [
        "model_2_history = model_2.fit(x=train_windows,\n",
        "            y=train_labels,\n",
        "            epochs=100,\n",
        "            verbose=1,\n",
        "            batch_size=128,\n",
        "            validation_data=(test_windows, test_labels),\n",
        "            callbacks=[create_model_checkpoint(model_name=model_2.name)])"
      ],
      "metadata": {
        "colab": {
          "base_uri": "https://localhost:8080/"
        },
        "id": "B4FSOgjbKyZh",
        "outputId": "6d952a65-1968-4fca-eb43-84426038f940"
      },
      "execution_count": 138,
      "outputs": [
        {
          "output_type": "stream",
          "name": "stdout",
          "text": [
            "Epoch 1/100\n",
            "18/18 [==============================] - 1s 41ms/step - loss: 970.5702 - mean_absolute_error: 970.5702 - val_loss: 2112.7908 - val_mean_absolute_error: 2112.7908\n",
            "Epoch 2/100\n",
            "18/18 [==============================] - 1s 30ms/step - loss: 434.7043 - mean_absolute_error: 434.7043 - val_loss: 1483.9215 - val_mean_absolute_error: 1483.9215\n",
            "Epoch 3/100\n",
            "18/18 [==============================] - 0s 5ms/step - loss: 273.7751 - mean_absolute_error: 273.7751 - val_loss: 1709.2178 - val_mean_absolute_error: 1709.2178\n",
            "Epoch 4/100\n",
            "18/18 [==============================] - 1s 32ms/step - loss: 233.4492 - mean_absolute_error: 233.4492 - val_loss: 1186.5095 - val_mean_absolute_error: 1186.5096\n",
            "Epoch 5/100\n",
            "18/18 [==============================] - 1s 32ms/step - loss: 202.9832 - mean_absolute_error: 202.9832 - val_loss: 1126.5836 - val_mean_absolute_error: 1126.5836\n",
            "Epoch 6/100\n",
            "18/18 [==============================] - 1s 33ms/step - loss: 194.8608 - mean_absolute_error: 194.8608 - val_loss: 1040.7118 - val_mean_absolute_error: 1040.7118\n",
            "Epoch 7/100\n",
            "18/18 [==============================] - 0s 5ms/step - loss: 201.1060 - mean_absolute_error: 201.1060 - val_loss: 1122.1714 - val_mean_absolute_error: 1122.1714\n",
            "Epoch 8/100\n",
            "18/18 [==============================] - 1s 31ms/step - loss: 173.4579 - mean_absolute_error: 173.4579 - val_loss: 1013.1927 - val_mean_absolute_error: 1013.1927\n",
            "Epoch 9/100\n",
            "18/18 [==============================] - 0s 5ms/step - loss: 205.4851 - mean_absolute_error: 205.4851 - val_loss: 1575.3414 - val_mean_absolute_error: 1575.3414\n",
            "Epoch 10/100\n",
            "18/18 [==============================] - 0s 5ms/step - loss: 217.5302 - mean_absolute_error: 217.5302 - val_loss: 1037.1367 - val_mean_absolute_error: 1037.1367\n",
            "Epoch 11/100\n",
            "18/18 [==============================] - 1s 32ms/step - loss: 165.1508 - mean_absolute_error: 165.1508 - val_loss: 846.7060 - val_mean_absolute_error: 846.7060\n",
            "Epoch 12/100\n",
            "18/18 [==============================] - 0s 4ms/step - loss: 167.5808 - mean_absolute_error: 167.5808 - val_loss: 882.3843 - val_mean_absolute_error: 882.3843\n",
            "Epoch 13/100\n",
            "18/18 [==============================] - 1s 32ms/step - loss: 159.2361 - mean_absolute_error: 159.2361 - val_loss: 793.5671 - val_mean_absolute_error: 793.5671\n",
            "Epoch 14/100\n",
            "18/18 [==============================] - 0s 5ms/step - loss: 158.0958 - mean_absolute_error: 158.0958 - val_loss: 1246.0122 - val_mean_absolute_error: 1246.0122\n",
            "Epoch 15/100\n",
            "18/18 [==============================] - 0s 4ms/step - loss: 225.1558 - mean_absolute_error: 225.1558 - val_loss: 1364.0620 - val_mean_absolute_error: 1364.0619\n",
            "Epoch 16/100\n",
            "18/18 [==============================] - 0s 4ms/step - loss: 158.1601 - mean_absolute_error: 158.1601 - val_loss: 796.4879 - val_mean_absolute_error: 796.4879\n",
            "Epoch 17/100\n",
            "18/18 [==============================] - 0s 5ms/step - loss: 147.7586 - mean_absolute_error: 147.7586 - val_loss: 794.0756 - val_mean_absolute_error: 794.0756\n",
            "Epoch 18/100\n",
            "18/18 [==============================] - 1s 32ms/step - loss: 144.1182 - mean_absolute_error: 144.1182 - val_loss: 739.1814 - val_mean_absolute_error: 739.1814\n",
            "Epoch 19/100\n",
            "18/18 [==============================] - 0s 5ms/step - loss: 162.3960 - mean_absolute_error: 162.3960 - val_loss: 917.6282 - val_mean_absolute_error: 917.6282\n",
            "Epoch 20/100\n",
            "18/18 [==============================] - 0s 5ms/step - loss: 167.7760 - mean_absolute_error: 167.7760 - val_loss: 751.6379 - val_mean_absolute_error: 751.6379\n",
            "Epoch 21/100\n",
            "18/18 [==============================] - 1s 31ms/step - loss: 151.9955 - mean_absolute_error: 151.9955 - val_loss: 738.3165 - val_mean_absolute_error: 738.3165\n",
            "Epoch 22/100\n",
            "18/18 [==============================] - 0s 4ms/step - loss: 146.8133 - mean_absolute_error: 146.8133 - val_loss: 809.4332 - val_mean_absolute_error: 809.4332\n",
            "Epoch 23/100\n",
            "18/18 [==============================] - 2s 102ms/step - loss: 142.3225 - mean_absolute_error: 142.3225 - val_loss: 728.3402 - val_mean_absolute_error: 728.3402\n",
            "Epoch 24/100\n",
            "18/18 [==============================] - 0s 16ms/step - loss: 141.2506 - mean_absolute_error: 141.2506 - val_loss: 810.0268 - val_mean_absolute_error: 810.0268\n",
            "Epoch 25/100\n",
            "18/18 [==============================] - 0s 16ms/step - loss: 150.7487 - mean_absolute_error: 150.7487 - val_loss: 793.6902 - val_mean_absolute_error: 793.6902\n",
            "Epoch 26/100\n",
            "18/18 [==============================] - 0s 12ms/step - loss: 139.2594 - mean_absolute_error: 139.2594 - val_loss: 820.6557 - val_mean_absolute_error: 820.6557\n",
            "Epoch 27/100\n",
            "18/18 [==============================] - 0s 10ms/step - loss: 136.8744 - mean_absolute_error: 136.8744 - val_loss: 1033.8608 - val_mean_absolute_error: 1033.8608\n",
            "Epoch 28/100\n",
            "18/18 [==============================] - 0s 7ms/step - loss: 187.2420 - mean_absolute_error: 187.2420 - val_loss: 789.6293 - val_mean_absolute_error: 789.6293\n",
            "Epoch 29/100\n",
            "18/18 [==============================] - 1s 51ms/step - loss: 161.8980 - mean_absolute_error: 161.8980 - val_loss: 688.3669 - val_mean_absolute_error: 688.3669\n",
            "Epoch 30/100\n",
            "18/18 [==============================] - 0s 8ms/step - loss: 135.8869 - mean_absolute_error: 135.8869 - val_loss: 756.1808 - val_mean_absolute_error: 756.1808\n",
            "Epoch 31/100\n",
            "18/18 [==============================] - 0s 7ms/step - loss: 140.2808 - mean_absolute_error: 140.2808 - val_loss: 1114.6094 - val_mean_absolute_error: 1114.6094\n",
            "Epoch 32/100\n",
            "18/18 [==============================] - 0s 7ms/step - loss: 205.2798 - mean_absolute_error: 205.2798 - val_loss: 1299.7480 - val_mean_absolute_error: 1299.7480\n",
            "Epoch 33/100\n",
            "18/18 [==============================] - 0s 9ms/step - loss: 158.9226 - mean_absolute_error: 158.9226 - val_loss: 1004.0160 - val_mean_absolute_error: 1004.0160\n",
            "Epoch 34/100\n",
            "18/18 [==============================] - 1s 35ms/step - loss: 149.6295 - mean_absolute_error: 149.6295 - val_loss: 679.2743 - val_mean_absolute_error: 679.2743\n",
            "Epoch 35/100\n",
            "18/18 [==============================] - 0s 4ms/step - loss: 130.7309 - mean_absolute_error: 130.7309 - val_loss: 844.4220 - val_mean_absolute_error: 844.4220\n",
            "Epoch 36/100\n",
            "18/18 [==============================] - 1s 33ms/step - loss: 134.7952 - mean_absolute_error: 134.7952 - val_loss: 667.7929 - val_mean_absolute_error: 667.7929\n",
            "Epoch 37/100\n",
            "18/18 [==============================] - 0s 4ms/step - loss: 130.5415 - mean_absolute_error: 130.5415 - val_loss: 755.3248 - val_mean_absolute_error: 755.3248\n",
            "Epoch 38/100\n",
            "18/18 [==============================] - 0s 5ms/step - loss: 131.1859 - mean_absolute_error: 131.1859 - val_loss: 786.8748 - val_mean_absolute_error: 786.8748\n",
            "Epoch 39/100\n",
            "18/18 [==============================] - 0s 5ms/step - loss: 136.0759 - mean_absolute_error: 136.0759 - val_loss: 673.6037 - val_mean_absolute_error: 673.6037\n",
            "Epoch 40/100\n",
            "18/18 [==============================] - 0s 5ms/step - loss: 126.8855 - mean_absolute_error: 126.8855 - val_loss: 705.7183 - val_mean_absolute_error: 705.7183\n",
            "Epoch 41/100\n",
            "18/18 [==============================] - 1s 32ms/step - loss: 140.7032 - mean_absolute_error: 140.7032 - val_loss: 648.1664 - val_mean_absolute_error: 648.1664\n",
            "Epoch 42/100\n",
            "18/18 [==============================] - 1s 32ms/step - loss: 129.6739 - mean_absolute_error: 129.6739 - val_loss: 645.8328 - val_mean_absolute_error: 645.8328\n",
            "Epoch 43/100\n",
            "18/18 [==============================] - 0s 6ms/step - loss: 133.2314 - mean_absolute_error: 133.2314 - val_loss: 661.1492 - val_mean_absolute_error: 661.1492\n",
            "Epoch 44/100\n",
            "18/18 [==============================] - 0s 9ms/step - loss: 129.3701 - mean_absolute_error: 129.3701 - val_loss: 940.8532 - val_mean_absolute_error: 940.8532\n",
            "Epoch 45/100\n",
            "18/18 [==============================] - 0s 5ms/step - loss: 150.5102 - mean_absolute_error: 150.5102 - val_loss: 755.3449 - val_mean_absolute_error: 755.3449\n",
            "Epoch 46/100\n",
            "18/18 [==============================] - 1s 31ms/step - loss: 126.4297 - mean_absolute_error: 126.4297 - val_loss: 642.2721 - val_mean_absolute_error: 642.2721\n",
            "Epoch 47/100\n",
            "18/18 [==============================] - 1s 50ms/step - loss: 121.9326 - mean_absolute_error: 121.9326 - val_loss: 640.5308 - val_mean_absolute_error: 640.5308\n",
            "Epoch 48/100\n",
            "18/18 [==============================] - 0s 12ms/step - loss: 127.7929 - mean_absolute_error: 127.7929 - val_loss: 824.9237 - val_mean_absolute_error: 824.9237\n",
            "Epoch 49/100\n",
            "18/18 [==============================] - 1s 39ms/step - loss: 131.8248 - mean_absolute_error: 131.8248 - val_loss: 638.1504 - val_mean_absolute_error: 638.1504\n",
            "Epoch 50/100\n",
            "18/18 [==============================] - 0s 6ms/step - loss: 129.4787 - mean_absolute_error: 129.4787 - val_loss: 770.2593 - val_mean_absolute_error: 770.2593\n",
            "Epoch 51/100\n",
            "18/18 [==============================] - 0s 5ms/step - loss: 143.1435 - mean_absolute_error: 143.1435 - val_loss: 669.6060 - val_mean_absolute_error: 669.6060\n",
            "Epoch 52/100\n",
            "18/18 [==============================] - 0s 5ms/step - loss: 123.7257 - mean_absolute_error: 123.7257 - val_loss: 706.8902 - val_mean_absolute_error: 706.8902\n",
            "Epoch 53/100\n",
            "18/18 [==============================] - 1s 48ms/step - loss: 125.6974 - mean_absolute_error: 125.6974 - val_loss: 632.9311 - val_mean_absolute_error: 632.9311\n",
            "Epoch 54/100\n",
            "18/18 [==============================] - 1s 40ms/step - loss: 122.2854 - mean_absolute_error: 122.2854 - val_loss: 631.1475 - val_mean_absolute_error: 631.1475\n",
            "Epoch 55/100\n",
            "18/18 [==============================] - 0s 5ms/step - loss: 120.3859 - mean_absolute_error: 120.3859 - val_loss: 640.9054 - val_mean_absolute_error: 640.9054\n",
            "Epoch 56/100\n",
            "18/18 [==============================] - 0s 4ms/step - loss: 120.9454 - mean_absolute_error: 120.9454 - val_loss: 645.6725 - val_mean_absolute_error: 645.6725\n",
            "Epoch 57/100\n",
            "18/18 [==============================] - 0s 5ms/step - loss: 119.9006 - mean_absolute_error: 119.9006 - val_loss: 645.0505 - val_mean_absolute_error: 645.0505\n",
            "Epoch 58/100\n",
            "18/18 [==============================] - 0s 10ms/step - loss: 119.2697 - mean_absolute_error: 119.2697 - val_loss: 695.7763 - val_mean_absolute_error: 695.7763\n",
            "Epoch 59/100\n",
            "18/18 [==============================] - 0s 9ms/step - loss: 121.3640 - mean_absolute_error: 121.3640 - val_loss: 665.3890 - val_mean_absolute_error: 665.3890\n",
            "Epoch 60/100\n",
            "18/18 [==============================] - 0s 10ms/step - loss: 130.5548 - mean_absolute_error: 130.5548 - val_loss: 954.5596 - val_mean_absolute_error: 954.5596\n",
            "Epoch 61/100\n",
            "18/18 [==============================] - 0s 9ms/step - loss: 135.0602 - mean_absolute_error: 135.0602 - val_loss: 631.2434 - val_mean_absolute_error: 631.2434\n",
            "Epoch 62/100\n",
            "18/18 [==============================] - 0s 8ms/step - loss: 123.9150 - mean_absolute_error: 123.9150 - val_loss: 990.8383 - val_mean_absolute_error: 990.8383\n",
            "Epoch 63/100\n",
            "18/18 [==============================] - 0s 9ms/step - loss: 126.5677 - mean_absolute_error: 126.5677 - val_loss: 633.2658 - val_mean_absolute_error: 633.2658\n",
            "Epoch 64/100\n",
            "18/18 [==============================] - 0s 8ms/step - loss: 117.6406 - mean_absolute_error: 117.6406 - val_loss: 698.7208 - val_mean_absolute_error: 698.7208\n",
            "Epoch 65/100\n",
            "18/18 [==============================] - 0s 8ms/step - loss: 117.0981 - mean_absolute_error: 117.0981 - val_loss: 640.1766 - val_mean_absolute_error: 640.1766\n",
            "Epoch 66/100\n",
            "18/18 [==============================] - 0s 12ms/step - loss: 129.1444 - mean_absolute_error: 129.1444 - val_loss: 862.2732 - val_mean_absolute_error: 862.2732\n",
            "Epoch 67/100\n",
            "18/18 [==============================] - 0s 9ms/step - loss: 124.5181 - mean_absolute_error: 124.5181 - val_loss: 808.1100 - val_mean_absolute_error: 808.1100\n",
            "Epoch 68/100\n",
            "18/18 [==============================] - 0s 8ms/step - loss: 132.3928 - mean_absolute_error: 132.3928 - val_loss: 647.5331 - val_mean_absolute_error: 647.5331\n",
            "Epoch 69/100\n",
            "18/18 [==============================] - 0s 8ms/step - loss: 115.3847 - mean_absolute_error: 115.3847 - val_loss: 963.0010 - val_mean_absolute_error: 963.0010\n",
            "Epoch 70/100\n",
            "18/18 [==============================] - 2s 98ms/step - loss: 131.6916 - mean_absolute_error: 131.6916 - val_loss: 621.6270 - val_mean_absolute_error: 621.6270\n",
            "Epoch 71/100\n",
            "18/18 [==============================] - 0s 7ms/step - loss: 117.3060 - mean_absolute_error: 117.3060 - val_loss: 630.1992 - val_mean_absolute_error: 630.1992\n",
            "Epoch 72/100\n",
            "18/18 [==============================] - 0s 7ms/step - loss: 118.7290 - mean_absolute_error: 118.7290 - val_loss: 754.9255 - val_mean_absolute_error: 754.9255\n",
            "Epoch 73/100\n",
            "18/18 [==============================] - 0s 7ms/step - loss: 151.3352 - mean_absolute_error: 151.3352 - val_loss: 637.1984 - val_mean_absolute_error: 637.1984\n",
            "Epoch 74/100\n",
            "18/18 [==============================] - 0s 8ms/step - loss: 129.7785 - mean_absolute_error: 129.7785 - val_loss: 661.7771 - val_mean_absolute_error: 661.7771\n",
            "Epoch 75/100\n",
            "18/18 [==============================] - 0s 8ms/step - loss: 141.8083 - mean_absolute_error: 141.8083 - val_loss: 1091.5133 - val_mean_absolute_error: 1091.5133\n",
            "Epoch 76/100\n",
            "18/18 [==============================] - 0s 8ms/step - loss: 152.3527 - mean_absolute_error: 152.3527 - val_loss: 637.2378 - val_mean_absolute_error: 637.2378\n",
            "Epoch 77/100\n",
            "18/18 [==============================] - 0s 8ms/step - loss: 118.0227 - mean_absolute_error: 118.0227 - val_loss: 809.2863 - val_mean_absolute_error: 809.2863\n",
            "Epoch 78/100\n",
            "18/18 [==============================] - 0s 10ms/step - loss: 121.2588 - mean_absolute_error: 121.2588 - val_loss: 924.2124 - val_mean_absolute_error: 924.2124\n",
            "Epoch 79/100\n",
            "18/18 [==============================] - 0s 7ms/step - loss: 131.6767 - mean_absolute_error: 131.6767 - val_loss: 640.6517 - val_mean_absolute_error: 640.6517\n",
            "Epoch 80/100\n",
            "18/18 [==============================] - 0s 8ms/step - loss: 120.3784 - mean_absolute_error: 120.3784 - val_loss: 643.9825 - val_mean_absolute_error: 643.9825\n",
            "Epoch 81/100\n",
            "18/18 [==============================] - 0s 8ms/step - loss: 123.8374 - mean_absolute_error: 123.8374 - val_loss: 996.4564 - val_mean_absolute_error: 996.4564\n",
            "Epoch 82/100\n",
            "18/18 [==============================] - 0s 10ms/step - loss: 150.7765 - mean_absolute_error: 150.7765 - val_loss: 638.6868 - val_mean_absolute_error: 638.6868\n",
            "Epoch 83/100\n",
            "18/18 [==============================] - 1s 42ms/step - loss: 115.8749 - mean_absolute_error: 115.8749 - val_loss: 613.7970 - val_mean_absolute_error: 613.7970\n",
            "Epoch 84/100\n",
            "18/18 [==============================] - 0s 5ms/step - loss: 116.4917 - mean_absolute_error: 116.4917 - val_loss: 656.2866 - val_mean_absolute_error: 656.2866\n",
            "Epoch 85/100\n",
            "18/18 [==============================] - 0s 5ms/step - loss: 125.6711 - mean_absolute_error: 125.6711 - val_loss: 666.9882 - val_mean_absolute_error: 666.9882\n",
            "Epoch 86/100\n",
            "18/18 [==============================] - 0s 5ms/step - loss: 115.9534 - mean_absolute_error: 115.9534 - val_loss: 657.1126 - val_mean_absolute_error: 657.1126\n",
            "Epoch 87/100\n",
            "18/18 [==============================] - 0s 5ms/step - loss: 119.3793 - mean_absolute_error: 119.3793 - val_loss: 643.4495 - val_mean_absolute_error: 643.4495\n",
            "Epoch 88/100\n",
            "18/18 [==============================] - 0s 5ms/step - loss: 115.1568 - mean_absolute_error: 115.1568 - val_loss: 645.8254 - val_mean_absolute_error: 645.8254\n",
            "Epoch 89/100\n",
            "18/18 [==============================] - 0s 6ms/step - loss: 113.4164 - mean_absolute_error: 113.4164 - val_loss: 668.6624 - val_mean_absolute_error: 668.6624\n",
            "Epoch 90/100\n",
            "18/18 [==============================] - 0s 6ms/step - loss: 119.7381 - mean_absolute_error: 119.7381 - val_loss: 629.2423 - val_mean_absolute_error: 629.2423\n",
            "Epoch 91/100\n",
            "18/18 [==============================] - 0s 5ms/step - loss: 118.2052 - mean_absolute_error: 118.2052 - val_loss: 928.3454 - val_mean_absolute_error: 928.3454\n",
            "Epoch 92/100\n",
            "18/18 [==============================] - 0s 5ms/step - loss: 128.7186 - mean_absolute_error: 128.7186 - val_loss: 619.5933 - val_mean_absolute_error: 619.5933\n",
            "Epoch 93/100\n",
            "18/18 [==============================] - 1s 34ms/step - loss: 130.0236 - mean_absolute_error: 130.0236 - val_loss: 612.6888 - val_mean_absolute_error: 612.6888\n",
            "Epoch 94/100\n",
            "18/18 [==============================] - 0s 6ms/step - loss: 129.9757 - mean_absolute_error: 129.9757 - val_loss: 707.7941 - val_mean_absolute_error: 707.7941\n",
            "Epoch 95/100\n",
            "18/18 [==============================] - 1s 35ms/step - loss: 116.1802 - mean_absolute_error: 116.1802 - val_loss: 602.9904 - val_mean_absolute_error: 602.9904\n",
            "Epoch 96/100\n",
            "18/18 [==============================] - 0s 13ms/step - loss: 134.8229 - mean_absolute_error: 134.8229 - val_loss: 1197.2273 - val_mean_absolute_error: 1197.2273\n",
            "Epoch 97/100\n",
            "18/18 [==============================] - 0s 13ms/step - loss: 146.8808 - mean_absolute_error: 146.8808 - val_loss: 1231.8176 - val_mean_absolute_error: 1231.8176\n",
            "Epoch 98/100\n",
            "18/18 [==============================] - 0s 13ms/step - loss: 167.2086 - mean_absolute_error: 167.2086 - val_loss: 745.9674 - val_mean_absolute_error: 745.9674\n",
            "Epoch 99/100\n",
            "18/18 [==============================] - 0s 17ms/step - loss: 130.8712 - mean_absolute_error: 130.8712 - val_loss: 633.3705 - val_mean_absolute_error: 633.3705\n",
            "Epoch 100/100\n",
            "18/18 [==============================] - 0s 10ms/step - loss: 115.6298 - mean_absolute_error: 115.6298 - val_loss: 686.6849 - val_mean_absolute_error: 686.6849\n"
          ]
        }
      ]
    },
    {
      "cell_type": "markdown",
      "source": [
        "# Model 3"
      ],
      "metadata": {
        "id": "cABYNF5vKlXz"
      }
    },
    {
      "cell_type": "code",
      "source": [
        "# Model 3\n",
        "WINDOW_SIZE = 30\n",
        "HORIZON = 7"
      ],
      "metadata": {
        "id": "njCtvge-LJwM"
      },
      "execution_count": 139,
      "outputs": []
    },
    {
      "cell_type": "code",
      "source": [
        "# Test out the window labelling function\n",
        "test_window, test_label = get_labelled_windows(tf.expand_dims(tf.range(WINDOW_SIZE + 7)+1, axis=0), horizon=HORIZON)\n",
        "print(f'Window: {tf.squeeze(test_window).numpy()} -> Label: {tf.squeeze(test_label).numpy()}')"
      ],
      "metadata": {
        "colab": {
          "base_uri": "https://localhost:8080/"
        },
        "outputId": "c2c80c29-fb95-4e4e-fbd3-0e628b0d034a",
        "id": "MvhEij0DLJwM"
      },
      "execution_count": 140,
      "outputs": [
        {
          "output_type": "stream",
          "name": "stdout",
          "text": [
            "Window: [ 1  2  3  4  5  6  7  8  9 10 11 12 13 14 15 16 17 18 19 20 21 22 23 24\n",
            " 25 26 27 28 29 30] -> Label: [31 32 33 34 35 36 37]\n"
          ]
        }
      ]
    },
    {
      "cell_type": "code",
      "source": [
        "full_windows, full_labels = make_windows(prices, window_size=WINDOW_SIZE, horizon=HORIZON)\n",
        "len(full_windows), len(full_labels)"
      ],
      "metadata": {
        "colab": {
          "base_uri": "https://localhost:8080/"
        },
        "outputId": "9fc7843e-1213-4e93-9c67-c73b29e679f8",
        "id": "7M9nrvYpLJwN"
      },
      "execution_count": 141,
      "outputs": [
        {
          "output_type": "execute_result",
          "data": {
            "text/plain": [
              "(2751, 2751)"
            ]
          },
          "metadata": {},
          "execution_count": 141
        }
      ]
    },
    {
      "cell_type": "code",
      "source": [
        "train_windows, train_labels, test_windows, test_labels = make_train_test_splits(full_windows, full_labels)\n",
        "len(train_windows), len(test_windows), len(train_labels), len(test_labels)"
      ],
      "metadata": {
        "colab": {
          "base_uri": "https://localhost:8080/"
        },
        "outputId": "fddeef65-6651-439f-cd01-58ff8d9506e5",
        "id": "WWA1rVVELJwN"
      },
      "execution_count": 142,
      "outputs": [
        {
          "output_type": "execute_result",
          "data": {
            "text/plain": [
              "(2200, 551, 2200, 551)"
            ]
          },
          "metadata": {},
          "execution_count": 142
        }
      ]
    },
    {
      "cell_type": "code",
      "source": [
        "model_3 = tf.keras.Sequential([\n",
        "    tf.keras.layers.Dense(128, activation='relu'),\n",
        "    tf.keras.layers.Dense(HORIZON)\n",
        "])"
      ],
      "metadata": {
        "id": "YQPr2gPWLJwN"
      },
      "execution_count": 143,
      "outputs": []
    },
    {
      "cell_type": "code",
      "source": [
        "model_3.compile(loss='mean_absolute_error',\n",
        "              optimizer='adam',\n",
        "              metrics='mean_absolute_error')"
      ],
      "metadata": {
        "id": "FqEmRgQsLJwN"
      },
      "execution_count": 144,
      "outputs": []
    },
    {
      "cell_type": "code",
      "source": [
        "model_3_history = model_3.fit(x=train_windows,\n",
        "            y=train_labels,\n",
        "            epochs=100,\n",
        "            verbose=1,\n",
        "            batch_size=128,\n",
        "            validation_data=(test_windows, test_labels),\n",
        "            callbacks=[create_model_checkpoint(model_name=model_3.name)])"
      ],
      "metadata": {
        "colab": {
          "base_uri": "https://localhost:8080/"
        },
        "outputId": "b99bad5a-358c-43f1-bfb3-362f8f0ad016",
        "collapsed": true,
        "id": "wEu42pCmLJwN"
      },
      "execution_count": 145,
      "outputs": [
        {
          "output_type": "stream",
          "name": "stdout",
          "text": [
            "Epoch 1/100\n",
            "18/18 [==============================] - 1s 38ms/step - loss: 1415.3441 - mean_absolute_error: 1415.3441 - val_loss: 2473.0576 - val_mean_absolute_error: 2473.0576\n",
            "Epoch 2/100\n",
            "18/18 [==============================] - 0s 5ms/step - loss: 493.5181 - mean_absolute_error: 493.5181 - val_loss: 2488.0225 - val_mean_absolute_error: 2488.0225\n",
            "Epoch 3/100\n",
            "18/18 [==============================] - 1s 31ms/step - loss: 398.3936 - mean_absolute_error: 398.3936 - val_loss: 2222.2610 - val_mean_absolute_error: 2222.2610\n",
            "Epoch 4/100\n",
            "18/18 [==============================] - 0s 28ms/step - loss: 355.2292 - mean_absolute_error: 355.2292 - val_loss: 1764.7886 - val_mean_absolute_error: 1764.7886\n",
            "Epoch 5/100\n",
            "18/18 [==============================] - 1s 30ms/step - loss: 329.1742 - mean_absolute_error: 329.1742 - val_loss: 1641.6630 - val_mean_absolute_error: 1641.6630\n",
            "Epoch 6/100\n",
            "18/18 [==============================] - 0s 4ms/step - loss: 315.8254 - mean_absolute_error: 315.8254 - val_loss: 1711.5801 - val_mean_absolute_error: 1711.5801\n",
            "Epoch 7/100\n",
            "18/18 [==============================] - 0s 4ms/step - loss: 302.6635 - mean_absolute_error: 302.6635 - val_loss: 1700.0339 - val_mean_absolute_error: 1700.0339\n",
            "Epoch 8/100\n",
            "18/18 [==============================] - 1s 31ms/step - loss: 292.9324 - mean_absolute_error: 292.9324 - val_loss: 1635.8978 - val_mean_absolute_error: 1635.8978\n",
            "Epoch 9/100\n",
            "18/18 [==============================] - 1s 34ms/step - loss: 286.8559 - mean_absolute_error: 286.8559 - val_loss: 1576.3563 - val_mean_absolute_error: 1576.3563\n",
            "Epoch 10/100\n",
            "18/18 [==============================] - 1s 32ms/step - loss: 286.5016 - mean_absolute_error: 286.5016 - val_loss: 1517.0798 - val_mean_absolute_error: 1517.0798\n",
            "Epoch 11/100\n",
            "18/18 [==============================] - 0s 5ms/step - loss: 284.0407 - mean_absolute_error: 284.0407 - val_loss: 1540.8082 - val_mean_absolute_error: 1540.8082\n",
            "Epoch 12/100\n",
            "18/18 [==============================] - 1s 33ms/step - loss: 288.8775 - mean_absolute_error: 288.8775 - val_loss: 1511.0042 - val_mean_absolute_error: 1511.0042\n",
            "Epoch 13/100\n",
            "18/18 [==============================] - 1s 45ms/step - loss: 271.5646 - mean_absolute_error: 271.5646 - val_loss: 1449.7574 - val_mean_absolute_error: 1449.7574\n",
            "Epoch 14/100\n",
            "18/18 [==============================] - 0s 7ms/step - loss: 273.3851 - mean_absolute_error: 273.3851 - val_loss: 1493.7224 - val_mean_absolute_error: 1493.7224\n",
            "Epoch 15/100\n",
            "18/18 [==============================] - 0s 7ms/step - loss: 266.2810 - mean_absolute_error: 266.2810 - val_loss: 1449.9594 - val_mean_absolute_error: 1449.9594\n",
            "Epoch 16/100\n",
            "18/18 [==============================] - 0s 7ms/step - loss: 267.1477 - mean_absolute_error: 267.1477 - val_loss: 1459.4789 - val_mean_absolute_error: 1459.4789\n",
            "Epoch 17/100\n",
            "18/18 [==============================] - 0s 7ms/step - loss: 263.5384 - mean_absolute_error: 263.5384 - val_loss: 1494.9678 - val_mean_absolute_error: 1494.9678\n",
            "Epoch 18/100\n",
            "18/18 [==============================] - 0s 9ms/step - loss: 259.4522 - mean_absolute_error: 259.4522 - val_loss: 1528.8842 - val_mean_absolute_error: 1528.8842\n",
            "Epoch 19/100\n",
            "18/18 [==============================] - 0s 10ms/step - loss: 270.0633 - mean_absolute_error: 270.0633 - val_loss: 1588.7426 - val_mean_absolute_error: 1588.7426\n",
            "Epoch 20/100\n",
            "18/18 [==============================] - 1s 48ms/step - loss: 268.2088 - mean_absolute_error: 268.2088 - val_loss: 1438.8827 - val_mean_absolute_error: 1438.8827\n",
            "Epoch 21/100\n",
            "18/18 [==============================] - 1s 44ms/step - loss: 262.5763 - mean_absolute_error: 262.5763 - val_loss: 1418.0281 - val_mean_absolute_error: 1418.0281\n",
            "Epoch 22/100\n",
            "18/18 [==============================] - 1s 38ms/step - loss: 262.7050 - mean_absolute_error: 262.7050 - val_loss: 1415.1351 - val_mean_absolute_error: 1415.1351\n",
            "Epoch 23/100\n",
            "18/18 [==============================] - 0s 5ms/step - loss: 259.1478 - mean_absolute_error: 259.1478 - val_loss: 1438.2137 - val_mean_absolute_error: 1438.2137\n",
            "Epoch 24/100\n",
            "18/18 [==============================] - 1s 82ms/step - loss: 265.3531 - mean_absolute_error: 265.3531 - val_loss: 1382.1527 - val_mean_absolute_error: 1382.1527\n",
            "Epoch 25/100\n",
            "18/18 [==============================] - 0s 7ms/step - loss: 252.7097 - mean_absolute_error: 252.7097 - val_loss: 1387.1146 - val_mean_absolute_error: 1387.1146\n",
            "Epoch 26/100\n",
            "18/18 [==============================] - 0s 9ms/step - loss: 249.4192 - mean_absolute_error: 249.4192 - val_loss: 1436.9810 - val_mean_absolute_error: 1436.9810\n",
            "Epoch 27/100\n",
            "18/18 [==============================] - 0s 8ms/step - loss: 251.7341 - mean_absolute_error: 251.7341 - val_loss: 1398.4305 - val_mean_absolute_error: 1398.4305\n",
            "Epoch 28/100\n",
            "18/18 [==============================] - 0s 9ms/step - loss: 254.7081 - mean_absolute_error: 254.7081 - val_loss: 1397.0632 - val_mean_absolute_error: 1397.0632\n",
            "Epoch 29/100\n",
            "18/18 [==============================] - 1s 56ms/step - loss: 250.7530 - mean_absolute_error: 250.7530 - val_loss: 1381.2594 - val_mean_absolute_error: 1381.2594\n",
            "Epoch 30/100\n",
            "18/18 [==============================] - 0s 7ms/step - loss: 247.8288 - mean_absolute_error: 247.8288 - val_loss: 1466.4233 - val_mean_absolute_error: 1466.4233\n",
            "Epoch 31/100\n",
            "18/18 [==============================] - 1s 46ms/step - loss: 250.4444 - mean_absolute_error: 250.4444 - val_loss: 1374.8995 - val_mean_absolute_error: 1374.8995\n",
            "Epoch 32/100\n",
            "18/18 [==============================] - 1s 34ms/step - loss: 246.2885 - mean_absolute_error: 246.2885 - val_loss: 1367.9736 - val_mean_absolute_error: 1367.9736\n",
            "Epoch 33/100\n",
            "18/18 [==============================] - 0s 5ms/step - loss: 245.6823 - mean_absolute_error: 245.6823 - val_loss: 1422.2321 - val_mean_absolute_error: 1422.2321\n",
            "Epoch 34/100\n",
            "18/18 [==============================] - 1s 34ms/step - loss: 245.0114 - mean_absolute_error: 245.0114 - val_loss: 1342.6869 - val_mean_absolute_error: 1342.6869\n",
            "Epoch 35/100\n",
            "18/18 [==============================] - 0s 4ms/step - loss: 243.4462 - mean_absolute_error: 243.4462 - val_loss: 1427.7518 - val_mean_absolute_error: 1427.7518\n",
            "Epoch 36/100\n",
            "18/18 [==============================] - 0s 5ms/step - loss: 244.0395 - mean_absolute_error: 244.0395 - val_loss: 1401.0488 - val_mean_absolute_error: 1401.0488\n",
            "Epoch 37/100\n",
            "18/18 [==============================] - 1s 33ms/step - loss: 245.1225 - mean_absolute_error: 245.1225 - val_loss: 1341.1726 - val_mean_absolute_error: 1341.1726\n",
            "Epoch 38/100\n",
            "18/18 [==============================] - 0s 6ms/step - loss: 245.6812 - mean_absolute_error: 245.6812 - val_loss: 1343.2397 - val_mean_absolute_error: 1343.2397\n",
            "Epoch 39/100\n",
            "18/18 [==============================] - 0s 5ms/step - loss: 246.9182 - mean_absolute_error: 246.9182 - val_loss: 1352.9863 - val_mean_absolute_error: 1352.9863\n",
            "Epoch 40/100\n",
            "18/18 [==============================] - 0s 5ms/step - loss: 240.9411 - mean_absolute_error: 240.9411 - val_loss: 1445.0906 - val_mean_absolute_error: 1445.0906\n",
            "Epoch 41/100\n",
            "18/18 [==============================] - 0s 5ms/step - loss: 238.8719 - mean_absolute_error: 238.8719 - val_loss: 1344.1816 - val_mean_absolute_error: 1344.1816\n",
            "Epoch 42/100\n",
            "18/18 [==============================] - 1s 34ms/step - loss: 238.4199 - mean_absolute_error: 238.4199 - val_loss: 1321.2568 - val_mean_absolute_error: 1321.2568\n",
            "Epoch 43/100\n",
            "18/18 [==============================] - 0s 4ms/step - loss: 241.2925 - mean_absolute_error: 241.2925 - val_loss: 1512.2390 - val_mean_absolute_error: 1512.2390\n",
            "Epoch 44/100\n",
            "18/18 [==============================] - 0s 5ms/step - loss: 243.1668 - mean_absolute_error: 243.1668 - val_loss: 1395.8274 - val_mean_absolute_error: 1395.8274\n",
            "Epoch 45/100\n",
            "18/18 [==============================] - 0s 5ms/step - loss: 238.2551 - mean_absolute_error: 238.2551 - val_loss: 1399.0746 - val_mean_absolute_error: 1399.0746\n",
            "Epoch 46/100\n",
            "18/18 [==============================] - 0s 5ms/step - loss: 241.1082 - mean_absolute_error: 241.1082 - val_loss: 1334.6290 - val_mean_absolute_error: 1334.6290\n",
            "Epoch 47/100\n",
            "18/18 [==============================] - 1s 34ms/step - loss: 239.0503 - mean_absolute_error: 239.0503 - val_loss: 1310.2690 - val_mean_absolute_error: 1310.2690\n",
            "Epoch 48/100\n",
            "18/18 [==============================] - 0s 5ms/step - loss: 239.9433 - mean_absolute_error: 239.9433 - val_loss: 1349.8110 - val_mean_absolute_error: 1349.8110\n",
            "Epoch 49/100\n",
            "18/18 [==============================] - 0s 5ms/step - loss: 236.8450 - mean_absolute_error: 236.8450 - val_loss: 1339.0430 - val_mean_absolute_error: 1339.0430\n",
            "Epoch 50/100\n",
            "18/18 [==============================] - 1s 32ms/step - loss: 237.5890 - mean_absolute_error: 237.5890 - val_loss: 1307.5653 - val_mean_absolute_error: 1307.5653\n",
            "Epoch 51/100\n",
            "18/18 [==============================] - 0s 4ms/step - loss: 237.5373 - mean_absolute_error: 237.5373 - val_loss: 1310.2406 - val_mean_absolute_error: 1310.2406\n",
            "Epoch 52/100\n",
            "18/18 [==============================] - 0s 5ms/step - loss: 236.4760 - mean_absolute_error: 236.4760 - val_loss: 1327.4476 - val_mean_absolute_error: 1327.4476\n",
            "Epoch 53/100\n",
            "18/18 [==============================] - 0s 4ms/step - loss: 238.1183 - mean_absolute_error: 238.1183 - val_loss: 1318.0240 - val_mean_absolute_error: 1318.0240\n",
            "Epoch 54/100\n",
            "18/18 [==============================] - 0s 5ms/step - loss: 236.5669 - mean_absolute_error: 236.5669 - val_loss: 1352.8207 - val_mean_absolute_error: 1352.8207\n",
            "Epoch 55/100\n",
            "18/18 [==============================] - 0s 4ms/step - loss: 235.1783 - mean_absolute_error: 235.1783 - val_loss: 1419.6027 - val_mean_absolute_error: 1419.6027\n",
            "Epoch 56/100\n",
            "18/18 [==============================] - 0s 5ms/step - loss: 236.7037 - mean_absolute_error: 236.7037 - val_loss: 1360.7883 - val_mean_absolute_error: 1360.7883\n",
            "Epoch 57/100\n",
            "18/18 [==============================] - 0s 5ms/step - loss: 239.3250 - mean_absolute_error: 239.3250 - val_loss: 1332.0953 - val_mean_absolute_error: 1332.0953\n",
            "Epoch 58/100\n",
            "18/18 [==============================] - 1s 42ms/step - loss: 233.0628 - mean_absolute_error: 233.0628 - val_loss: 1296.9530 - val_mean_absolute_error: 1296.9530\n",
            "Epoch 59/100\n",
            "18/18 [==============================] - 0s 7ms/step - loss: 232.5995 - mean_absolute_error: 232.5995 - val_loss: 1352.3317 - val_mean_absolute_error: 1352.3317\n",
            "Epoch 60/100\n",
            "18/18 [==============================] - 0s 6ms/step - loss: 233.0549 - mean_absolute_error: 233.0549 - val_loss: 1377.1809 - val_mean_absolute_error: 1377.1809\n",
            "Epoch 61/100\n",
            "18/18 [==============================] - 1s 46ms/step - loss: 231.7591 - mean_absolute_error: 231.7591 - val_loss: 1296.2083 - val_mean_absolute_error: 1296.2083\n",
            "Epoch 62/100\n",
            "18/18 [==============================] - 0s 7ms/step - loss: 232.8311 - mean_absolute_error: 232.8311 - val_loss: 1329.7063 - val_mean_absolute_error: 1329.7063\n",
            "Epoch 63/100\n",
            "18/18 [==============================] - 0s 7ms/step - loss: 231.7929 - mean_absolute_error: 231.7929 - val_loss: 1325.0299 - val_mean_absolute_error: 1325.0299\n",
            "Epoch 64/100\n",
            "18/18 [==============================] - 0s 8ms/step - loss: 232.4994 - mean_absolute_error: 232.4994 - val_loss: 1304.2526 - val_mean_absolute_error: 1304.2526\n",
            "Epoch 65/100\n",
            "18/18 [==============================] - 0s 8ms/step - loss: 230.8189 - mean_absolute_error: 230.8189 - val_loss: 1388.3181 - val_mean_absolute_error: 1388.3181\n",
            "Epoch 66/100\n",
            "18/18 [==============================] - 0s 8ms/step - loss: 230.0392 - mean_absolute_error: 230.0392 - val_loss: 1315.5358 - val_mean_absolute_error: 1315.5358\n",
            "Epoch 67/100\n",
            "18/18 [==============================] - 1s 48ms/step - loss: 239.3336 - mean_absolute_error: 239.3336 - val_loss: 1296.1290 - val_mean_absolute_error: 1296.1290\n",
            "Epoch 68/100\n",
            "18/18 [==============================] - 0s 7ms/step - loss: 232.1419 - mean_absolute_error: 232.1419 - val_loss: 1335.9424 - val_mean_absolute_error: 1335.9424\n",
            "Epoch 69/100\n",
            "18/18 [==============================] - 1s 33ms/step - loss: 228.6603 - mean_absolute_error: 228.6603 - val_loss: 1266.2115 - val_mean_absolute_error: 1266.2115\n",
            "Epoch 70/100\n",
            "18/18 [==============================] - 0s 5ms/step - loss: 230.6413 - mean_absolute_error: 230.6413 - val_loss: 1311.8990 - val_mean_absolute_error: 1311.8990\n",
            "Epoch 71/100\n",
            "18/18 [==============================] - 0s 6ms/step - loss: 228.6081 - mean_absolute_error: 228.6081 - val_loss: 1404.7802 - val_mean_absolute_error: 1404.7802\n",
            "Epoch 72/100\n",
            "18/18 [==============================] - 0s 5ms/step - loss: 229.6891 - mean_absolute_error: 229.6891 - val_loss: 1336.6001 - val_mean_absolute_error: 1336.6001\n",
            "Epoch 73/100\n",
            "18/18 [==============================] - 0s 5ms/step - loss: 238.4288 - mean_absolute_error: 238.4288 - val_loss: 1301.9680 - val_mean_absolute_error: 1301.9680\n",
            "Epoch 74/100\n",
            "18/18 [==============================] - 0s 4ms/step - loss: 229.6584 - mean_absolute_error: 229.6584 - val_loss: 1280.7253 - val_mean_absolute_error: 1280.7253\n",
            "Epoch 75/100\n",
            "18/18 [==============================] - 0s 5ms/step - loss: 228.0297 - mean_absolute_error: 228.0297 - val_loss: 1282.9832 - val_mean_absolute_error: 1282.9832\n",
            "Epoch 76/100\n",
            "18/18 [==============================] - 0s 5ms/step - loss: 233.9753 - mean_absolute_error: 233.9753 - val_loss: 1318.5109 - val_mean_absolute_error: 1318.5109\n",
            "Epoch 77/100\n",
            "18/18 [==============================] - 0s 5ms/step - loss: 232.6952 - mean_absolute_error: 232.6952 - val_loss: 1266.8348 - val_mean_absolute_error: 1266.8348\n",
            "Epoch 78/100\n",
            "18/18 [==============================] - 1s 32ms/step - loss: 229.8469 - mean_absolute_error: 229.8469 - val_loss: 1255.3864 - val_mean_absolute_error: 1255.3864\n",
            "Epoch 79/100\n",
            "18/18 [==============================] - 0s 4ms/step - loss: 228.2627 - mean_absolute_error: 228.2627 - val_loss: 1268.1494 - val_mean_absolute_error: 1268.1494\n",
            "Epoch 80/100\n",
            "18/18 [==============================] - 0s 5ms/step - loss: 226.0857 - mean_absolute_error: 226.0857 - val_loss: 1347.9006 - val_mean_absolute_error: 1347.9006\n",
            "Epoch 81/100\n",
            "18/18 [==============================] - 0s 5ms/step - loss: 229.8784 - mean_absolute_error: 229.8784 - val_loss: 1295.8163 - val_mean_absolute_error: 1295.8163\n",
            "Epoch 82/100\n",
            "18/18 [==============================] - 0s 4ms/step - loss: 227.6014 - mean_absolute_error: 227.6014 - val_loss: 1272.3514 - val_mean_absolute_error: 1272.3514\n",
            "Epoch 83/100\n",
            "18/18 [==============================] - 0s 5ms/step - loss: 227.3636 - mean_absolute_error: 227.3636 - val_loss: 1259.7714 - val_mean_absolute_error: 1259.7714\n",
            "Epoch 84/100\n",
            "18/18 [==============================] - 0s 5ms/step - loss: 226.8451 - mean_absolute_error: 226.8451 - val_loss: 1280.3668 - val_mean_absolute_error: 1280.3668\n",
            "Epoch 85/100\n",
            "18/18 [==============================] - 0s 5ms/step - loss: 230.9526 - mean_absolute_error: 230.9526 - val_loss: 1346.3403 - val_mean_absolute_error: 1346.3403\n",
            "Epoch 86/100\n",
            "18/18 [==============================] - 1s 33ms/step - loss: 254.9314 - mean_absolute_error: 254.9314 - val_loss: 1245.6443 - val_mean_absolute_error: 1245.6443\n",
            "Epoch 87/100\n",
            "18/18 [==============================] - 0s 4ms/step - loss: 230.7493 - mean_absolute_error: 230.7493 - val_loss: 1308.1628 - val_mean_absolute_error: 1308.1628\n",
            "Epoch 88/100\n",
            "18/18 [==============================] - 0s 5ms/step - loss: 231.6292 - mean_absolute_error: 231.6292 - val_loss: 1268.0356 - val_mean_absolute_error: 1268.0356\n",
            "Epoch 89/100\n",
            "18/18 [==============================] - 0s 4ms/step - loss: 229.8021 - mean_absolute_error: 229.8021 - val_loss: 1255.5457 - val_mean_absolute_error: 1255.5457\n",
            "Epoch 90/100\n",
            "18/18 [==============================] - 0s 4ms/step - loss: 226.4560 - mean_absolute_error: 226.4560 - val_loss: 1294.1425 - val_mean_absolute_error: 1294.1425\n",
            "Epoch 91/100\n",
            "18/18 [==============================] - 0s 5ms/step - loss: 223.8560 - mean_absolute_error: 223.8560 - val_loss: 1398.5314 - val_mean_absolute_error: 1398.5314\n",
            "Epoch 92/100\n",
            "18/18 [==============================] - 1s 32ms/step - loss: 225.1649 - mean_absolute_error: 225.1649 - val_loss: 1245.4282 - val_mean_absolute_error: 1245.4282\n",
            "Epoch 93/100\n",
            "18/18 [==============================] - 0s 5ms/step - loss: 227.3484 - mean_absolute_error: 227.3484 - val_loss: 1359.5872 - val_mean_absolute_error: 1359.5872\n",
            "Epoch 94/100\n",
            "18/18 [==============================] - 0s 4ms/step - loss: 229.4901 - mean_absolute_error: 229.4901 - val_loss: 1254.2863 - val_mean_absolute_error: 1254.2863\n",
            "Epoch 95/100\n",
            "18/18 [==============================] - 0s 5ms/step - loss: 231.3767 - mean_absolute_error: 231.3767 - val_loss: 1275.3695 - val_mean_absolute_error: 1275.3695\n",
            "Epoch 96/100\n",
            "18/18 [==============================] - 0s 4ms/step - loss: 227.3851 - mean_absolute_error: 227.3851 - val_loss: 1263.3539 - val_mean_absolute_error: 1263.3539\n",
            "Epoch 97/100\n",
            "18/18 [==============================] - 0s 5ms/step - loss: 224.1268 - mean_absolute_error: 224.1268 - val_loss: 1401.3951 - val_mean_absolute_error: 1401.3951\n",
            "Epoch 98/100\n",
            "18/18 [==============================] - 0s 4ms/step - loss: 232.6675 - mean_absolute_error: 232.6675 - val_loss: 1385.8489 - val_mean_absolute_error: 1385.8489\n",
            "Epoch 99/100\n",
            "18/18 [==============================] - 0s 5ms/step - loss: 228.5793 - mean_absolute_error: 228.5793 - val_loss: 1249.8562 - val_mean_absolute_error: 1249.8562\n",
            "Epoch 100/100\n",
            "18/18 [==============================] - 0s 6ms/step - loss: 229.5721 - mean_absolute_error: 229.5721 - val_loss: 1305.7314 - val_mean_absolute_error: 1305.7314\n"
          ]
        }
      ]
    },
    {
      "cell_type": "markdown",
      "source": [
        "# Model 4"
      ],
      "metadata": {
        "id": "bpFfTG6cLztm"
      }
    },
    {
      "cell_type": "code",
      "source": [
        "# Model 4\n",
        "WINDOW_SIZE = 30\n",
        "HORIZON = 7"
      ],
      "metadata": {
        "id": "ROCHAgR5LyEH"
      },
      "execution_count": 146,
      "outputs": []
    },
    {
      "cell_type": "code",
      "source": [
        "# Test out the window labelling function\n",
        "test_window, test_label = get_labelled_windows(tf.expand_dims(tf.range(WINDOW_SIZE + 7)+1, axis=0), horizon=HORIZON)\n",
        "print(f'Window: {tf.squeeze(test_window).numpy()} -> Label: {tf.squeeze(test_label).numpy()}')"
      ],
      "metadata": {
        "colab": {
          "base_uri": "https://localhost:8080/"
        },
        "outputId": "5d881037-8ac7-47a3-d195-8331b7b7ef9b",
        "id": "RQbLCC4ALyEI"
      },
      "execution_count": 147,
      "outputs": [
        {
          "output_type": "stream",
          "name": "stdout",
          "text": [
            "Window: [ 1  2  3  4  5  6  7  8  9 10 11 12 13 14 15 16 17 18 19 20 21 22 23 24\n",
            " 25 26 27 28 29 30] -> Label: [31 32 33 34 35 36 37]\n"
          ]
        }
      ]
    },
    {
      "cell_type": "code",
      "source": [
        "full_windows, full_labels = make_windows(prices, window_size=WINDOW_SIZE, horizon=HORIZON)\n",
        "len(full_windows), len(full_labels)"
      ],
      "metadata": {
        "colab": {
          "base_uri": "https://localhost:8080/"
        },
        "outputId": "49a00ac3-7a58-43b9-fbf7-6aadee5d2a2b",
        "id": "qguSSQD-LyEJ"
      },
      "execution_count": 148,
      "outputs": [
        {
          "output_type": "execute_result",
          "data": {
            "text/plain": [
              "(2751, 2751)"
            ]
          },
          "metadata": {},
          "execution_count": 148
        }
      ]
    },
    {
      "cell_type": "code",
      "source": [
        "train_windows, train_labels, test_windows, test_labels = make_train_test_splits(full_windows, full_labels)\n",
        "len(train_windows), len(test_windows), len(train_labels), len(test_labels)"
      ],
      "metadata": {
        "colab": {
          "base_uri": "https://localhost:8080/"
        },
        "outputId": "97489ef9-707d-4582-b9e5-6da9d4d2a9bf",
        "id": "4ktvHOFdLyEL"
      },
      "execution_count": 149,
      "outputs": [
        {
          "output_type": "execute_result",
          "data": {
            "text/plain": [
              "(2200, 551, 2200, 551)"
            ]
          },
          "metadata": {},
          "execution_count": 149
        }
      ]
    },
    {
      "cell_type": "code",
      "source": [
        "# Expand dimensions of your data\n",
        "train_windows = np.expand_dims(train_windows, axis=-1)\n",
        "test_windows = np.expand_dims(test_windows, axis=-1)"
      ],
      "metadata": {
        "id": "lId3gaf4M0VG"
      },
      "execution_count": 150,
      "outputs": []
    },
    {
      "cell_type": "code",
      "source": [
        "model_4 = tf.keras.Sequential([\n",
        "    tf.keras.layers.Conv1D(128, activation='relu', kernel_size=(2)),\n",
        "    tf.keras.layers.Flatten(),\n",
        "    tf.keras.layers.Dense(HORIZON)\n",
        "])"
      ],
      "metadata": {
        "id": "uudNEOd7LyEL"
      },
      "execution_count": 151,
      "outputs": []
    },
    {
      "cell_type": "code",
      "source": [
        "model_4.compile(loss='mean_absolute_error',\n",
        "              optimizer='adam',\n",
        "              metrics='mean_absolute_error')"
      ],
      "metadata": {
        "id": "WnWlhLliLyEL"
      },
      "execution_count": 152,
      "outputs": []
    },
    {
      "cell_type": "code",
      "source": [
        "model_4_history = model_4.fit(x=train_windows,\n",
        "            y=train_labels,\n",
        "            epochs=100,\n",
        "            verbose=1,\n",
        "            batch_size=128,\n",
        "            validation_data=(test_windows, test_labels),\n",
        "            callbacks=[create_model_checkpoint(model_name=model_3.name)])"
      ],
      "metadata": {
        "colab": {
          "base_uri": "https://localhost:8080/"
        },
        "outputId": "99997d3a-efe5-4109-ca74-a1595c5dc0c2",
        "collapsed": true,
        "id": "wF60hYvWLyEL"
      },
      "execution_count": 153,
      "outputs": [
        {
          "output_type": "stream",
          "name": "stdout",
          "text": [
            "Epoch 1/100\n",
            "18/18 [==============================] - 2s 48ms/step - loss: 1115.1903 - mean_absolute_error: 1115.1903 - val_loss: 4821.3770 - val_mean_absolute_error: 4821.3770\n",
            "Epoch 2/100\n",
            "18/18 [==============================] - 1s 41ms/step - loss: 511.6947 - mean_absolute_error: 511.6947 - val_loss: 2919.3647 - val_mean_absolute_error: 2919.3647\n",
            "Epoch 3/100\n",
            "18/18 [==============================] - 1s 58ms/step - loss: 424.5900 - mean_absolute_error: 424.5900 - val_loss: 1869.5465 - val_mean_absolute_error: 1869.5465\n",
            "Epoch 4/100\n",
            "18/18 [==============================] - 0s 15ms/step - loss: 382.7431 - mean_absolute_error: 382.7431 - val_loss: 2016.3523 - val_mean_absolute_error: 2016.3523\n",
            "Epoch 5/100\n",
            "18/18 [==============================] - 1s 63ms/step - loss: 352.1255 - mean_absolute_error: 352.1255 - val_loss: 1631.9999 - val_mean_absolute_error: 1631.9999\n",
            "Epoch 6/100\n",
            "18/18 [==============================] - 1s 59ms/step - loss: 328.4856 - mean_absolute_error: 328.4856 - val_loss: 1624.9857 - val_mean_absolute_error: 1624.9857\n",
            "Epoch 7/100\n",
            "18/18 [==============================] - 0s 8ms/step - loss: 307.3864 - mean_absolute_error: 307.3864 - val_loss: 1790.7231 - val_mean_absolute_error: 1790.7231\n",
            "Epoch 8/100\n",
            "18/18 [==============================] - 0s 10ms/step - loss: 301.6905 - mean_absolute_error: 301.6905 - val_loss: 1792.5471 - val_mean_absolute_error: 1792.5472\n",
            "Epoch 9/100\n",
            "18/18 [==============================] - 1s 39ms/step - loss: 295.5453 - mean_absolute_error: 295.5453 - val_loss: 1560.7242 - val_mean_absolute_error: 1560.7242\n",
            "Epoch 10/100\n",
            "18/18 [==============================] - 1s 38ms/step - loss: 283.1944 - mean_absolute_error: 283.1944 - val_loss: 1516.4387 - val_mean_absolute_error: 1516.4387\n",
            "Epoch 11/100\n",
            "18/18 [==============================] - 0s 10ms/step - loss: 277.7562 - mean_absolute_error: 277.7562 - val_loss: 1820.2823 - val_mean_absolute_error: 1820.2823\n",
            "Epoch 12/100\n",
            "18/18 [==============================] - 0s 9ms/step - loss: 277.0646 - mean_absolute_error: 277.0646 - val_loss: 1555.5675 - val_mean_absolute_error: 1555.5675\n",
            "Epoch 13/100\n",
            "18/18 [==============================] - 1s 38ms/step - loss: 270.5274 - mean_absolute_error: 270.5274 - val_loss: 1452.2042 - val_mean_absolute_error: 1452.2042\n",
            "Epoch 14/100\n",
            "18/18 [==============================] - 0s 10ms/step - loss: 271.4352 - mean_absolute_error: 271.4352 - val_loss: 1647.1367 - val_mean_absolute_error: 1647.1367\n",
            "Epoch 15/100\n",
            "18/18 [==============================] - 0s 8ms/step - loss: 265.3078 - mean_absolute_error: 265.3078 - val_loss: 1564.9456 - val_mean_absolute_error: 1564.9456\n",
            "Epoch 16/100\n",
            "18/18 [==============================] - 1s 38ms/step - loss: 265.3011 - mean_absolute_error: 265.3011 - val_loss: 1417.7134 - val_mean_absolute_error: 1417.7134\n",
            "Epoch 17/100\n",
            "18/18 [==============================] - 0s 8ms/step - loss: 263.4933 - mean_absolute_error: 263.4933 - val_loss: 1464.1915 - val_mean_absolute_error: 1464.1915\n",
            "Epoch 18/100\n",
            "18/18 [==============================] - 0s 9ms/step - loss: 268.1262 - mean_absolute_error: 268.1262 - val_loss: 1507.0703 - val_mean_absolute_error: 1507.0703\n",
            "Epoch 19/100\n",
            "18/18 [==============================] - 0s 8ms/step - loss: 258.1570 - mean_absolute_error: 258.1570 - val_loss: 1570.7548 - val_mean_absolute_error: 1570.7548\n",
            "Epoch 20/100\n",
            "18/18 [==============================] - 0s 8ms/step - loss: 252.1731 - mean_absolute_error: 252.1731 - val_loss: 1932.9598 - val_mean_absolute_error: 1932.9598\n",
            "Epoch 21/100\n",
            "18/18 [==============================] - 0s 9ms/step - loss: 274.6239 - mean_absolute_error: 274.6239 - val_loss: 1568.4337 - val_mean_absolute_error: 1568.4337\n",
            "Epoch 22/100\n",
            "18/18 [==============================] - 0s 8ms/step - loss: 279.7096 - mean_absolute_error: 279.7096 - val_loss: 1581.9501 - val_mean_absolute_error: 1581.9501\n",
            "Epoch 23/100\n",
            "18/18 [==============================] - 0s 8ms/step - loss: 265.0840 - mean_absolute_error: 265.0840 - val_loss: 1482.0515 - val_mean_absolute_error: 1482.0515\n",
            "Epoch 24/100\n",
            "18/18 [==============================] - 0s 9ms/step - loss: 248.7867 - mean_absolute_error: 248.7867 - val_loss: 1496.4226 - val_mean_absolute_error: 1496.4226\n",
            "Epoch 25/100\n",
            "18/18 [==============================] - 0s 8ms/step - loss: 248.6167 - mean_absolute_error: 248.6167 - val_loss: 1673.7540 - val_mean_absolute_error: 1673.7540\n",
            "Epoch 26/100\n",
            "18/18 [==============================] - 0s 8ms/step - loss: 258.3843 - mean_absolute_error: 258.3843 - val_loss: 1445.3293 - val_mean_absolute_error: 1445.3293\n",
            "Epoch 27/100\n",
            "18/18 [==============================] - 0s 12ms/step - loss: 248.6337 - mean_absolute_error: 248.6337 - val_loss: 1474.6870 - val_mean_absolute_error: 1474.6870\n",
            "Epoch 28/100\n",
            "18/18 [==============================] - 1s 73ms/step - loss: 241.9388 - mean_absolute_error: 241.9388 - val_loss: 1363.2885 - val_mean_absolute_error: 1363.2885\n",
            "Epoch 29/100\n",
            "18/18 [==============================] - 1s 39ms/step - loss: 243.8023 - mean_absolute_error: 243.8023 - val_loss: 1348.0287 - val_mean_absolute_error: 1348.0287\n",
            "Epoch 30/100\n",
            "18/18 [==============================] - 1s 38ms/step - loss: 243.6272 - mean_absolute_error: 243.6272 - val_loss: 1322.8898 - val_mean_absolute_error: 1322.8898\n",
            "Epoch 31/100\n",
            "18/18 [==============================] - 0s 8ms/step - loss: 239.9240 - mean_absolute_error: 239.9240 - val_loss: 1469.6992 - val_mean_absolute_error: 1469.6992\n",
            "Epoch 32/100\n",
            "18/18 [==============================] - 0s 9ms/step - loss: 270.6464 - mean_absolute_error: 270.6464 - val_loss: 1495.4675 - val_mean_absolute_error: 1495.4675\n",
            "Epoch 33/100\n",
            "18/18 [==============================] - 0s 8ms/step - loss: 268.6841 - mean_absolute_error: 268.6841 - val_loss: 1403.0667 - val_mean_absolute_error: 1403.0667\n",
            "Epoch 34/100\n",
            "18/18 [==============================] - 0s 9ms/step - loss: 239.8678 - mean_absolute_error: 239.8678 - val_loss: 1611.2025 - val_mean_absolute_error: 1611.2024\n",
            "Epoch 35/100\n",
            "18/18 [==============================] - 0s 9ms/step - loss: 242.2559 - mean_absolute_error: 242.2559 - val_loss: 1375.1877 - val_mean_absolute_error: 1375.1877\n",
            "Epoch 36/100\n",
            "18/18 [==============================] - 1s 41ms/step - loss: 233.6497 - mean_absolute_error: 233.6497 - val_loss: 1320.9817 - val_mean_absolute_error: 1320.9817\n",
            "Epoch 37/100\n",
            "18/18 [==============================] - 1s 51ms/step - loss: 232.9705 - mean_absolute_error: 232.9705 - val_loss: 1274.6552 - val_mean_absolute_error: 1274.6552\n",
            "Epoch 38/100\n",
            "18/18 [==============================] - 0s 14ms/step - loss: 233.0530 - mean_absolute_error: 233.0530 - val_loss: 1335.0826 - val_mean_absolute_error: 1335.0826\n",
            "Epoch 39/100\n",
            "18/18 [==============================] - 0s 12ms/step - loss: 230.6338 - mean_absolute_error: 230.6338 - val_loss: 1282.1482 - val_mean_absolute_error: 1282.1482\n",
            "Epoch 40/100\n",
            "18/18 [==============================] - 0s 16ms/step - loss: 235.8134 - mean_absolute_error: 235.8134 - val_loss: 1366.9078 - val_mean_absolute_error: 1366.9078\n",
            "Epoch 41/100\n",
            "18/18 [==============================] - 0s 15ms/step - loss: 237.2455 - mean_absolute_error: 237.2455 - val_loss: 1325.0948 - val_mean_absolute_error: 1325.0948\n",
            "Epoch 42/100\n",
            "18/18 [==============================] - 0s 17ms/step - loss: 233.2127 - mean_absolute_error: 233.2127 - val_loss: 1338.4594 - val_mean_absolute_error: 1338.4594\n",
            "Epoch 43/100\n",
            "18/18 [==============================] - 0s 14ms/step - loss: 230.2846 - mean_absolute_error: 230.2846 - val_loss: 1274.7303 - val_mean_absolute_error: 1274.7303\n",
            "Epoch 44/100\n",
            "18/18 [==============================] - 1s 57ms/step - loss: 228.4278 - mean_absolute_error: 228.4278 - val_loss: 1263.5964 - val_mean_absolute_error: 1263.5964\n",
            "Epoch 45/100\n",
            "18/18 [==============================] - 0s 9ms/step - loss: 232.1482 - mean_absolute_error: 232.1482 - val_loss: 1348.8376 - val_mean_absolute_error: 1348.8376\n",
            "Epoch 46/100\n",
            "18/18 [==============================] - 0s 11ms/step - loss: 230.8504 - mean_absolute_error: 230.8504 - val_loss: 1314.7080 - val_mean_absolute_error: 1314.7080\n",
            "Epoch 47/100\n",
            "18/18 [==============================] - 0s 8ms/step - loss: 227.1241 - mean_absolute_error: 227.1241 - val_loss: 1268.5951 - val_mean_absolute_error: 1268.5951\n",
            "Epoch 48/100\n",
            "18/18 [==============================] - 0s 8ms/step - loss: 227.3975 - mean_absolute_error: 227.3975 - val_loss: 1280.1854 - val_mean_absolute_error: 1280.1854\n",
            "Epoch 49/100\n",
            "18/18 [==============================] - 1s 38ms/step - loss: 229.4119 - mean_absolute_error: 229.4119 - val_loss: 1240.4393 - val_mean_absolute_error: 1240.4393\n",
            "Epoch 50/100\n",
            "18/18 [==============================] - 0s 8ms/step - loss: 223.5798 - mean_absolute_error: 223.5798 - val_loss: 1545.3662 - val_mean_absolute_error: 1545.3662\n",
            "Epoch 51/100\n",
            "18/18 [==============================] - 0s 8ms/step - loss: 232.0928 - mean_absolute_error: 232.0928 - val_loss: 1272.5061 - val_mean_absolute_error: 1272.5061\n",
            "Epoch 52/100\n",
            "18/18 [==============================] - 0s 9ms/step - loss: 227.0520 - mean_absolute_error: 227.0520 - val_loss: 1240.5459 - val_mean_absolute_error: 1240.5459\n",
            "Epoch 53/100\n",
            "18/18 [==============================] - 0s 8ms/step - loss: 230.0436 - mean_absolute_error: 230.0436 - val_loss: 1539.5039 - val_mean_absolute_error: 1539.5039\n",
            "Epoch 54/100\n",
            "18/18 [==============================] - 0s 8ms/step - loss: 235.9734 - mean_absolute_error: 235.9734 - val_loss: 1260.9119 - val_mean_absolute_error: 1260.9119\n",
            "Epoch 55/100\n",
            "18/18 [==============================] - 0s 10ms/step - loss: 232.3420 - mean_absolute_error: 232.3420 - val_loss: 1366.3636 - val_mean_absolute_error: 1366.3636\n",
            "Epoch 56/100\n",
            "18/18 [==============================] - 0s 10ms/step - loss: 224.9974 - mean_absolute_error: 224.9974 - val_loss: 1264.1324 - val_mean_absolute_error: 1264.1324\n",
            "Epoch 57/100\n",
            "18/18 [==============================] - 0s 9ms/step - loss: 226.1432 - mean_absolute_error: 226.1432 - val_loss: 1350.0085 - val_mean_absolute_error: 1350.0085\n",
            "Epoch 58/100\n",
            "18/18 [==============================] - 0s 8ms/step - loss: 229.6361 - mean_absolute_error: 229.6361 - val_loss: 1469.7477 - val_mean_absolute_error: 1469.7477\n",
            "Epoch 59/100\n",
            "18/18 [==============================] - 0s 9ms/step - loss: 231.4058 - mean_absolute_error: 231.4058 - val_loss: 1475.3882 - val_mean_absolute_error: 1475.3882\n",
            "Epoch 60/100\n",
            "18/18 [==============================] - 1s 40ms/step - loss: 228.8902 - mean_absolute_error: 228.8902 - val_loss: 1217.6898 - val_mean_absolute_error: 1217.6898\n",
            "Epoch 61/100\n",
            "18/18 [==============================] - 0s 8ms/step - loss: 227.5606 - mean_absolute_error: 227.5606 - val_loss: 1276.8962 - val_mean_absolute_error: 1276.8962\n",
            "Epoch 62/100\n",
            "18/18 [==============================] - 0s 9ms/step - loss: 226.5556 - mean_absolute_error: 226.5556 - val_loss: 1315.9468 - val_mean_absolute_error: 1315.9468\n",
            "Epoch 63/100\n",
            "18/18 [==============================] - 0s 9ms/step - loss: 223.7522 - mean_absolute_error: 223.7522 - val_loss: 1332.3357 - val_mean_absolute_error: 1332.3357\n",
            "Epoch 64/100\n",
            "18/18 [==============================] - 0s 10ms/step - loss: 224.6576 - mean_absolute_error: 224.6576 - val_loss: 1285.6310 - val_mean_absolute_error: 1285.6310\n",
            "Epoch 65/100\n",
            "18/18 [==============================] - 0s 8ms/step - loss: 221.7812 - mean_absolute_error: 221.7812 - val_loss: 1346.2906 - val_mean_absolute_error: 1346.2906\n",
            "Epoch 66/100\n",
            "18/18 [==============================] - 0s 9ms/step - loss: 224.9338 - mean_absolute_error: 224.9338 - val_loss: 1246.2446 - val_mean_absolute_error: 1246.2446\n",
            "Epoch 67/100\n",
            "18/18 [==============================] - 0s 8ms/step - loss: 227.3508 - mean_absolute_error: 227.3508 - val_loss: 1320.3467 - val_mean_absolute_error: 1320.3467\n",
            "Epoch 68/100\n",
            "18/18 [==============================] - 0s 9ms/step - loss: 228.2905 - mean_absolute_error: 228.2905 - val_loss: 1271.0304 - val_mean_absolute_error: 1271.0304\n",
            "Epoch 69/100\n",
            "18/18 [==============================] - 0s 9ms/step - loss: 240.4769 - mean_absolute_error: 240.4769 - val_loss: 1363.8066 - val_mean_absolute_error: 1363.8066\n",
            "Epoch 70/100\n",
            "18/18 [==============================] - 0s 11ms/step - loss: 230.6609 - mean_absolute_error: 230.6609 - val_loss: 1305.8214 - val_mean_absolute_error: 1305.8214\n",
            "Epoch 71/100\n",
            "18/18 [==============================] - 0s 10ms/step - loss: 223.4844 - mean_absolute_error: 223.4844 - val_loss: 1262.2516 - val_mean_absolute_error: 1262.2516\n",
            "Epoch 72/100\n",
            "18/18 [==============================] - 1s 38ms/step - loss: 222.5963 - mean_absolute_error: 222.5963 - val_loss: 1210.6638 - val_mean_absolute_error: 1210.6638\n",
            "Epoch 73/100\n",
            "18/18 [==============================] - 0s 10ms/step - loss: 226.8429 - mean_absolute_error: 226.8429 - val_loss: 1267.5582 - val_mean_absolute_error: 1267.5582\n",
            "Epoch 74/100\n",
            "18/18 [==============================] - 0s 9ms/step - loss: 225.0132 - mean_absolute_error: 225.0132 - val_loss: 1481.1105 - val_mean_absolute_error: 1481.1105\n",
            "Epoch 75/100\n",
            "18/18 [==============================] - 0s 9ms/step - loss: 228.9242 - mean_absolute_error: 228.9242 - val_loss: 1253.7410 - val_mean_absolute_error: 1253.7410\n",
            "Epoch 76/100\n",
            "18/18 [==============================] - 0s 9ms/step - loss: 218.9811 - mean_absolute_error: 218.9811 - val_loss: 1211.9556 - val_mean_absolute_error: 1211.9556\n",
            "Epoch 77/100\n",
            "18/18 [==============================] - 1s 40ms/step - loss: 224.8688 - mean_absolute_error: 224.8688 - val_loss: 1208.2474 - val_mean_absolute_error: 1208.2474\n",
            "Epoch 78/100\n",
            "18/18 [==============================] - 0s 8ms/step - loss: 227.9630 - mean_absolute_error: 227.9630 - val_loss: 1308.7982 - val_mean_absolute_error: 1308.7982\n",
            "Epoch 79/100\n",
            "18/18 [==============================] - 0s 9ms/step - loss: 223.5207 - mean_absolute_error: 223.5207 - val_loss: 1304.7471 - val_mean_absolute_error: 1304.7471\n",
            "Epoch 80/100\n",
            "18/18 [==============================] - 0s 8ms/step - loss: 223.8583 - mean_absolute_error: 223.8583 - val_loss: 1258.2141 - val_mean_absolute_error: 1258.2141\n",
            "Epoch 81/100\n",
            "18/18 [==============================] - 0s 10ms/step - loss: 225.8951 - mean_absolute_error: 225.8951 - val_loss: 1211.8514 - val_mean_absolute_error: 1211.8514\n",
            "Epoch 82/100\n",
            "18/18 [==============================] - 0s 11ms/step - loss: 218.6220 - mean_absolute_error: 218.6220 - val_loss: 1522.0433 - val_mean_absolute_error: 1522.0433\n",
            "Epoch 83/100\n",
            "18/18 [==============================] - 0s 8ms/step - loss: 222.9668 - mean_absolute_error: 222.9668 - val_loss: 1226.0724 - val_mean_absolute_error: 1226.0724\n",
            "Epoch 84/100\n",
            "18/18 [==============================] - 0s 9ms/step - loss: 233.1255 - mean_absolute_error: 233.1255 - val_loss: 1343.1766 - val_mean_absolute_error: 1343.1766\n",
            "Epoch 85/100\n",
            "18/18 [==============================] - 0s 9ms/step - loss: 229.5117 - mean_absolute_error: 229.5117 - val_loss: 1248.0989 - val_mean_absolute_error: 1248.0989\n",
            "Epoch 86/100\n",
            "18/18 [==============================] - 0s 8ms/step - loss: 218.3414 - mean_absolute_error: 218.3414 - val_loss: 1211.2877 - val_mean_absolute_error: 1211.2877\n",
            "Epoch 87/100\n",
            "18/18 [==============================] - 0s 9ms/step - loss: 218.9482 - mean_absolute_error: 218.9482 - val_loss: 1286.1835 - val_mean_absolute_error: 1286.1835\n",
            "Epoch 88/100\n",
            "18/18 [==============================] - 0s 12ms/step - loss: 225.5745 - mean_absolute_error: 225.5745 - val_loss: 1273.5531 - val_mean_absolute_error: 1273.5531\n",
            "Epoch 89/100\n",
            "18/18 [==============================] - 0s 9ms/step - loss: 223.6793 - mean_absolute_error: 223.6793 - val_loss: 1371.6700 - val_mean_absolute_error: 1371.6700\n",
            "Epoch 90/100\n",
            "18/18 [==============================] - 0s 13ms/step - loss: 223.2956 - mean_absolute_error: 223.2956 - val_loss: 1345.1770 - val_mean_absolute_error: 1345.1770\n",
            "Epoch 91/100\n",
            "18/18 [==============================] - 0s 14ms/step - loss: 237.3557 - mean_absolute_error: 237.3557 - val_loss: 1425.3682 - val_mean_absolute_error: 1425.3682\n",
            "Epoch 92/100\n",
            "18/18 [==============================] - 0s 18ms/step - loss: 240.9536 - mean_absolute_error: 240.9536 - val_loss: 1341.8889 - val_mean_absolute_error: 1341.8889\n",
            "Epoch 93/100\n",
            "18/18 [==============================] - 0s 14ms/step - loss: 225.9268 - mean_absolute_error: 225.9268 - val_loss: 1235.2113 - val_mean_absolute_error: 1235.2113\n",
            "Epoch 94/100\n",
            "18/18 [==============================] - 0s 13ms/step - loss: 223.3037 - mean_absolute_error: 223.3037 - val_loss: 1360.6459 - val_mean_absolute_error: 1360.6459\n",
            "Epoch 95/100\n",
            "18/18 [==============================] - 0s 13ms/step - loss: 223.1735 - mean_absolute_error: 223.1735 - val_loss: 1295.9352 - val_mean_absolute_error: 1295.9352\n",
            "Epoch 96/100\n",
            "18/18 [==============================] - 0s 18ms/step - loss: 225.1159 - mean_absolute_error: 225.1159 - val_loss: 1407.3363 - val_mean_absolute_error: 1407.3363\n",
            "Epoch 97/100\n",
            "18/18 [==============================] - 0s 16ms/step - loss: 219.2573 - mean_absolute_error: 219.2573 - val_loss: 1335.2670 - val_mean_absolute_error: 1335.2670\n",
            "Epoch 98/100\n",
            "18/18 [==============================] - 0s 16ms/step - loss: 221.7117 - mean_absolute_error: 221.7117 - val_loss: 1277.7537 - val_mean_absolute_error: 1277.7537\n",
            "Epoch 99/100\n",
            "18/18 [==============================] - 0s 18ms/step - loss: 218.4625 - mean_absolute_error: 218.4625 - val_loss: 1217.6359 - val_mean_absolute_error: 1217.6359\n",
            "Epoch 100/100\n",
            "18/18 [==============================] - 0s 15ms/step - loss: 223.5634 - mean_absolute_error: 223.5634 - val_loss: 1410.8613 - val_mean_absolute_error: 1410.8613\n"
          ]
        }
      ]
    },
    {
      "cell_type": "markdown",
      "source": [
        "# Model 5 - RNN"
      ],
      "metadata": {
        "id": "gyTlg6H2J4aT"
      }
    },
    {
      "cell_type": "code",
      "source": [
        "# Model 4\n",
        "WINDOW_SIZE = 30\n",
        "HORIZON = 7"
      ],
      "metadata": {
        "id": "DXlW6kgCNBUj"
      },
      "execution_count": 154,
      "outputs": []
    },
    {
      "cell_type": "code",
      "source": [
        "# Test out the window labelling function\n",
        "test_window, test_label = get_labelled_windows(tf.expand_dims(tf.range(WINDOW_SIZE + 7)+1, axis=0), horizon=HORIZON)\n",
        "print(f'Window: {tf.squeeze(test_window).numpy()} -> Label: {tf.squeeze(test_label).numpy()}')"
      ],
      "metadata": {
        "colab": {
          "base_uri": "https://localhost:8080/"
        },
        "outputId": "a3b8c274-9c12-498f-b613-e0883b2d4c7c",
        "id": "fQcPilDtNBUj"
      },
      "execution_count": 155,
      "outputs": [
        {
          "output_type": "stream",
          "name": "stdout",
          "text": [
            "Window: [ 1  2  3  4  5  6  7  8  9 10 11 12 13 14 15 16 17 18 19 20 21 22 23 24\n",
            " 25 26 27 28 29 30] -> Label: [31 32 33 34 35 36 37]\n"
          ]
        }
      ]
    },
    {
      "cell_type": "code",
      "source": [
        "full_windows, full_labels = make_windows(prices, window_size=WINDOW_SIZE, horizon=HORIZON)\n",
        "len(full_windows), len(full_labels)"
      ],
      "metadata": {
        "colab": {
          "base_uri": "https://localhost:8080/"
        },
        "outputId": "b03a398d-dc21-4975-f158-4573f6c1df52",
        "id": "3Fh-Gv8nNBUj"
      },
      "execution_count": 156,
      "outputs": [
        {
          "output_type": "execute_result",
          "data": {
            "text/plain": [
              "(2751, 2751)"
            ]
          },
          "metadata": {},
          "execution_count": 156
        }
      ]
    },
    {
      "cell_type": "code",
      "source": [
        "train_windows, train_labels, test_windows, test_labels = make_train_test_splits(full_windows, full_labels)\n",
        "len(train_windows), len(test_windows), len(train_labels), len(test_labels)"
      ],
      "metadata": {
        "colab": {
          "base_uri": "https://localhost:8080/"
        },
        "outputId": "dbafd57e-9f5c-4c9a-99b9-90e44e797e88",
        "id": "ijeUu7k5NBUj"
      },
      "execution_count": 157,
      "outputs": [
        {
          "output_type": "execute_result",
          "data": {
            "text/plain": [
              "(2200, 551, 2200, 551)"
            ]
          },
          "metadata": {},
          "execution_count": 157
        }
      ]
    },
    {
      "cell_type": "code",
      "source": [
        "# Expand dimensions of your data\n",
        "train_windows = np.expand_dims(train_windows, axis=-1)\n",
        "test_windows = np.expand_dims(test_windows, axis=-1)"
      ],
      "metadata": {
        "id": "BYIuEE4iNBUj"
      },
      "execution_count": 158,
      "outputs": []
    },
    {
      "cell_type": "code",
      "source": [
        "model_5 = tf.keras.Sequential([\n",
        "    tf.keras.layers.LSTM(128, activation='relu'),\n",
        "    tf.keras.layers.Flatten(),\n",
        "    tf.keras.layers.Dense(HORIZON)\n",
        "])"
      ],
      "metadata": {
        "id": "-PkNY6KyNBUk"
      },
      "execution_count": 159,
      "outputs": []
    },
    {
      "cell_type": "code",
      "source": [
        "model_5.compile(loss='mean_absolute_error',\n",
        "              optimizer='adam',\n",
        "              metrics='mean_absolute_error')"
      ],
      "metadata": {
        "id": "g9ZLA91fNBUk"
      },
      "execution_count": 160,
      "outputs": []
    },
    {
      "cell_type": "code",
      "source": [
        "model_5_history = model_5.fit(x=train_windows,\n",
        "            y=train_labels,\n",
        "            epochs=100,\n",
        "            verbose=1,\n",
        "            batch_size=128,\n",
        "            validation_data=(test_windows, test_labels),\n",
        "            callbacks=[create_model_checkpoint(model_name=model_3.name)])"
      ],
      "metadata": {
        "colab": {
          "base_uri": "https://localhost:8080/"
        },
        "outputId": "bad36f47-d9f0-46e1-8f81-d4c627cf94ed",
        "collapsed": true,
        "id": "zPhEIDn1NBUk"
      },
      "execution_count": 161,
      "outputs": [
        {
          "output_type": "stream",
          "name": "stdout",
          "text": [
            "Epoch 1/100\n",
            "18/18 [==============================] - 9s 226ms/step - loss: 2847.0337 - mean_absolute_error: 2847.0337 - val_loss: 16241.2432 - val_mean_absolute_error: 16241.2432\n",
            "Epoch 2/100\n",
            "18/18 [==============================] - 3s 191ms/step - loss: 2499.4111 - mean_absolute_error: 2499.4111 - val_loss: 12820.9033 - val_mean_absolute_error: 12820.9033\n",
            "Epoch 3/100\n",
            "18/18 [==============================] - 3s 149ms/step - loss: 2980.7402 - mean_absolute_error: 2980.7402 - val_loss: 16674.3281 - val_mean_absolute_error: 16674.3281\n",
            "Epoch 4/100\n",
            "18/18 [==============================] - 4s 253ms/step - loss: 2841.5867 - mean_absolute_error: 2841.5867 - val_loss: 11967.1172 - val_mean_absolute_error: 11967.1172\n",
            "Epoch 5/100\n",
            "18/18 [==============================] - 5s 266ms/step - loss: 2131.4309 - mean_absolute_error: 2131.4309 - val_loss: 7502.8623 - val_mean_absolute_error: 7502.8623\n",
            "Epoch 6/100\n",
            "18/18 [==============================] - 1s 82ms/step - loss: 2550.1497 - mean_absolute_error: 2550.1497 - val_loss: 9869.5605 - val_mean_absolute_error: 9869.5605\n",
            "Epoch 7/100\n",
            "18/18 [==============================] - 7s 379ms/step - loss: 1555.0012 - mean_absolute_error: 1555.0012 - val_loss: 3587.1990 - val_mean_absolute_error: 3587.1990\n",
            "Epoch 8/100\n",
            "18/18 [==============================] - 3s 183ms/step - loss: 804.5256 - mean_absolute_error: 804.5256 - val_loss: 3424.7891 - val_mean_absolute_error: 3424.7891\n",
            "Epoch 9/100\n",
            "18/18 [==============================] - 3s 180ms/step - loss: 640.9967 - mean_absolute_error: 640.9967 - val_loss: 3234.1213 - val_mean_absolute_error: 3234.1213\n",
            "Epoch 10/100\n",
            "18/18 [==============================] - 2s 125ms/step - loss: 594.3418 - mean_absolute_error: 594.3418 - val_loss: 3237.1421 - val_mean_absolute_error: 3237.1421\n",
            "Epoch 11/100\n",
            "18/18 [==============================] - 7s 414ms/step - loss: 574.2270 - mean_absolute_error: 574.2270 - val_loss: 3078.6184 - val_mean_absolute_error: 3078.6184\n",
            "Epoch 12/100\n",
            "18/18 [==============================] - 2s 126ms/step - loss: 558.3931 - mean_absolute_error: 558.3931 - val_loss: 3197.7932 - val_mean_absolute_error: 3197.7932\n",
            "Epoch 13/100\n",
            "18/18 [==============================] - 2s 91ms/step - loss: 614.2063 - mean_absolute_error: 614.2063 - val_loss: 3210.5217 - val_mean_absolute_error: 3210.5217\n",
            "Epoch 14/100\n",
            "18/18 [==============================] - 2s 131ms/step - loss: 581.0211 - mean_absolute_error: 581.0211 - val_loss: 3291.3350 - val_mean_absolute_error: 3291.3350\n",
            "Epoch 15/100\n",
            "18/18 [==============================] - 7s 399ms/step - loss: 609.0219 - mean_absolute_error: 609.0219 - val_loss: 2978.4177 - val_mean_absolute_error: 2978.4177\n",
            "Epoch 16/100\n",
            "18/18 [==============================] - 4s 230ms/step - loss: 548.1265 - mean_absolute_error: 548.1265 - val_loss: 2707.3499 - val_mean_absolute_error: 2707.3499\n",
            "Epoch 17/100\n",
            "18/18 [==============================] - 4s 239ms/step - loss: 538.4625 - mean_absolute_error: 538.4625 - val_loss: 2703.9954 - val_mean_absolute_error: 2703.9954\n",
            "Epoch 18/100\n",
            "18/18 [==============================] - 3s 182ms/step - loss: 528.4604 - mean_absolute_error: 528.4604 - val_loss: 3063.0625 - val_mean_absolute_error: 3063.0625\n",
            "Epoch 19/100\n",
            "18/18 [==============================] - 2s 112ms/step - loss: 535.3896 - mean_absolute_error: 535.3896 - val_loss: 2972.6843 - val_mean_absolute_error: 2972.6843\n",
            "Epoch 20/100\n",
            "18/18 [==============================] - 2s 93ms/step - loss: 541.2606 - mean_absolute_error: 541.2606 - val_loss: 3038.7158 - val_mean_absolute_error: 3038.7158\n",
            "Epoch 21/100\n",
            "18/18 [==============================] - 1s 83ms/step - loss: 560.6031 - mean_absolute_error: 560.6031 - val_loss: 2940.4343 - val_mean_absolute_error: 2940.4343\n",
            "Epoch 22/100\n",
            "18/18 [==============================] - 2s 86ms/step - loss: 529.5486 - mean_absolute_error: 529.5486 - val_loss: 2859.3694 - val_mean_absolute_error: 2859.3694\n",
            "Epoch 23/100\n",
            "18/18 [==============================] - 2s 86ms/step - loss: 562.6575 - mean_absolute_error: 562.6575 - val_loss: 2955.0503 - val_mean_absolute_error: 2955.0503\n",
            "Epoch 24/100\n",
            "18/18 [==============================] - 2s 89ms/step - loss: 540.9552 - mean_absolute_error: 540.9552 - val_loss: 3072.3584 - val_mean_absolute_error: 3072.3584\n",
            "Epoch 25/100\n",
            "18/18 [==============================] - 2s 97ms/step - loss: 519.4158 - mean_absolute_error: 519.4158 - val_loss: 2766.8276 - val_mean_absolute_error: 2766.8276\n",
            "Epoch 26/100\n",
            "18/18 [==============================] - 3s 141ms/step - loss: 522.7068 - mean_absolute_error: 522.7068 - val_loss: 2822.6470 - val_mean_absolute_error: 2822.6470\n",
            "Epoch 27/100\n",
            "18/18 [==============================] - 4s 207ms/step - loss: 516.7003 - mean_absolute_error: 516.7003 - val_loss: 2677.8296 - val_mean_absolute_error: 2677.8296\n",
            "Epoch 28/100\n",
            "18/18 [==============================] - 3s 187ms/step - loss: 521.5601 - mean_absolute_error: 521.5601 - val_loss: 2542.7944 - val_mean_absolute_error: 2542.7944\n",
            "Epoch 29/100\n",
            "18/18 [==============================] - 1s 82ms/step - loss: 499.1398 - mean_absolute_error: 499.1398 - val_loss: 2814.1604 - val_mean_absolute_error: 2814.1604\n",
            "Epoch 30/100\n",
            "18/18 [==============================] - 1s 83ms/step - loss: 506.7542 - mean_absolute_error: 506.7542 - val_loss: 2697.2971 - val_mean_absolute_error: 2697.2971\n",
            "Epoch 31/100\n",
            "18/18 [==============================] - 2s 95ms/step - loss: 504.7287 - mean_absolute_error: 504.7287 - val_loss: 2669.1846 - val_mean_absolute_error: 2669.1846\n",
            "Epoch 32/100\n",
            "18/18 [==============================] - 3s 141ms/step - loss: 516.4665 - mean_absolute_error: 516.4665 - val_loss: 2734.2593 - val_mean_absolute_error: 2734.2593\n",
            "Epoch 33/100\n",
            "18/18 [==============================] - 2s 93ms/step - loss: 517.5629 - mean_absolute_error: 517.5629 - val_loss: 2649.1716 - val_mean_absolute_error: 2649.1716\n",
            "Epoch 34/100\n",
            "18/18 [==============================] - 2s 93ms/step - loss: 507.4064 - mean_absolute_error: 507.4064 - val_loss: 2555.0852 - val_mean_absolute_error: 2555.0852\n",
            "Epoch 35/100\n",
            "18/18 [==============================] - 3s 184ms/step - loss: 499.5392 - mean_absolute_error: 499.5392 - val_loss: 2487.7476 - val_mean_absolute_error: 2487.7476\n",
            "Epoch 36/100\n",
            "18/18 [==============================] - 3s 184ms/step - loss: 490.1293 - mean_absolute_error: 490.1293 - val_loss: 2477.3245 - val_mean_absolute_error: 2477.3245\n",
            "Epoch 37/100\n",
            "18/18 [==============================] - 2s 110ms/step - loss: 502.2601 - mean_absolute_error: 502.2601 - val_loss: 2646.2998 - val_mean_absolute_error: 2646.2998\n",
            "Epoch 38/100\n",
            "18/18 [==============================] - 2s 139ms/step - loss: 512.7028 - mean_absolute_error: 512.7028 - val_loss: 2736.6770 - val_mean_absolute_error: 2736.6770\n",
            "Epoch 39/100\n",
            "18/18 [==============================] - 2s 86ms/step - loss: 535.7756 - mean_absolute_error: 535.7756 - val_loss: 2786.9141 - val_mean_absolute_error: 2786.9141\n",
            "Epoch 40/100\n",
            "18/18 [==============================] - 1s 82ms/step - loss: 533.6517 - mean_absolute_error: 533.6517 - val_loss: 2961.0715 - val_mean_absolute_error: 2961.0715\n",
            "Epoch 41/100\n",
            "18/18 [==============================] - 1s 81ms/step - loss: 518.5886 - mean_absolute_error: 518.5886 - val_loss: 2761.2900 - val_mean_absolute_error: 2761.2900\n",
            "Epoch 42/100\n",
            "18/18 [==============================] - 2s 84ms/step - loss: 511.2568 - mean_absolute_error: 511.2568 - val_loss: 2789.4641 - val_mean_absolute_error: 2789.4641\n",
            "Epoch 43/100\n",
            "18/18 [==============================] - 1s 81ms/step - loss: 527.0999 - mean_absolute_error: 527.0999 - val_loss: 3448.9246 - val_mean_absolute_error: 3448.9246\n",
            "Epoch 44/100\n",
            "18/18 [==============================] - 1s 81ms/step - loss: 563.1359 - mean_absolute_error: 563.1359 - val_loss: 2723.7585 - val_mean_absolute_error: 2723.7585\n",
            "Epoch 45/100\n",
            "18/18 [==============================] - 2s 92ms/step - loss: 633.6744 - mean_absolute_error: 633.6744 - val_loss: 3326.4785 - val_mean_absolute_error: 3326.4785\n",
            "Epoch 46/100\n",
            "18/18 [==============================] - 2s 138ms/step - loss: 693.7094 - mean_absolute_error: 693.7094 - val_loss: 3016.5559 - val_mean_absolute_error: 3016.5559\n",
            "Epoch 47/100\n",
            "18/18 [==============================] - 2s 92ms/step - loss: 568.2511 - mean_absolute_error: 568.2511 - val_loss: 2851.5725 - val_mean_absolute_error: 2851.5725\n",
            "Epoch 48/100\n",
            "18/18 [==============================] - 1s 81ms/step - loss: 548.3809 - mean_absolute_error: 548.3809 - val_loss: 3053.4446 - val_mean_absolute_error: 3053.4446\n",
            "Epoch 49/100\n",
            "18/18 [==============================] - 1s 82ms/step - loss: 551.6783 - mean_absolute_error: 551.6783 - val_loss: 2628.9873 - val_mean_absolute_error: 2628.9873\n",
            "Epoch 50/100\n",
            "18/18 [==============================] - 1s 81ms/step - loss: 552.9115 - mean_absolute_error: 552.9115 - val_loss: 2924.4761 - val_mean_absolute_error: 2924.4761\n",
            "Epoch 51/100\n",
            "18/18 [==============================] - 1s 82ms/step - loss: 553.3062 - mean_absolute_error: 553.3062 - val_loss: 2725.3906 - val_mean_absolute_error: 2725.3906\n",
            "Epoch 52/100\n",
            "18/18 [==============================] - 1s 82ms/step - loss: 523.6430 - mean_absolute_error: 523.6430 - val_loss: 2667.7756 - val_mean_absolute_error: 2667.7756\n",
            "Epoch 53/100\n",
            "18/18 [==============================] - 1s 81ms/step - loss: 517.7803 - mean_absolute_error: 517.7803 - val_loss: 2778.6416 - val_mean_absolute_error: 2778.6416\n",
            "Epoch 54/100\n",
            "18/18 [==============================] - 2s 130ms/step - loss: 529.8008 - mean_absolute_error: 529.8008 - val_loss: 2568.8728 - val_mean_absolute_error: 2568.8728\n",
            "Epoch 55/100\n",
            "18/18 [==============================] - 3s 159ms/step - loss: 534.8203 - mean_absolute_error: 534.8203 - val_loss: 2723.1125 - val_mean_absolute_error: 2723.1125\n",
            "Epoch 56/100\n",
            "18/18 [==============================] - 3s 143ms/step - loss: 533.0670 - mean_absolute_error: 533.0670 - val_loss: 2791.8733 - val_mean_absolute_error: 2791.8733\n",
            "Epoch 57/100\n",
            "18/18 [==============================] - 1s 80ms/step - loss: 523.9800 - mean_absolute_error: 523.9800 - val_loss: 2982.1287 - val_mean_absolute_error: 2982.1287\n",
            "Epoch 58/100\n",
            "18/18 [==============================] - 1s 82ms/step - loss: 517.1354 - mean_absolute_error: 517.1354 - val_loss: 2735.4670 - val_mean_absolute_error: 2735.4670\n",
            "Epoch 59/100\n",
            "18/18 [==============================] - 1s 81ms/step - loss: 498.4386 - mean_absolute_error: 498.4386 - val_loss: 2547.8372 - val_mean_absolute_error: 2547.8372\n",
            "Epoch 60/100\n",
            "18/18 [==============================] - 1s 81ms/step - loss: 494.8356 - mean_absolute_error: 494.8356 - val_loss: 2498.6665 - val_mean_absolute_error: 2498.6665\n",
            "Epoch 61/100\n",
            "18/18 [==============================] - 2s 98ms/step - loss: 516.6837 - mean_absolute_error: 516.6837 - val_loss: 3034.8193 - val_mean_absolute_error: 3034.8193\n",
            "Epoch 62/100\n",
            "18/18 [==============================] - 2s 138ms/step - loss: 580.5481 - mean_absolute_error: 580.5481 - val_loss: 3136.8271 - val_mean_absolute_error: 3136.8271\n",
            "Epoch 63/100\n",
            "18/18 [==============================] - 1s 81ms/step - loss: 525.5244 - mean_absolute_error: 525.5244 - val_loss: 2547.7717 - val_mean_absolute_error: 2547.7717\n",
            "Epoch 64/100\n",
            "18/18 [==============================] - 1s 81ms/step - loss: 568.3343 - mean_absolute_error: 568.3343 - val_loss: 2506.7773 - val_mean_absolute_error: 2506.7773\n",
            "Epoch 65/100\n",
            "18/18 [==============================] - 1s 82ms/step - loss: 540.0392 - mean_absolute_error: 540.0392 - val_loss: 2661.6604 - val_mean_absolute_error: 2661.6604\n",
            "Epoch 66/100\n",
            "18/18 [==============================] - 1s 82ms/step - loss: 518.3872 - mean_absolute_error: 518.3872 - val_loss: 2533.9312 - val_mean_absolute_error: 2533.9312\n",
            "Epoch 67/100\n",
            "18/18 [==============================] - 1s 82ms/step - loss: 517.7805 - mean_absolute_error: 517.7805 - val_loss: 2859.1506 - val_mean_absolute_error: 2859.1506\n",
            "Epoch 68/100\n",
            "18/18 [==============================] - 3s 195ms/step - loss: 514.4299 - mean_absolute_error: 514.4299 - val_loss: 2471.3025 - val_mean_absolute_error: 2471.3025\n",
            "Epoch 69/100\n",
            "18/18 [==============================] - 2s 139ms/step - loss: 507.5794 - mean_absolute_error: 507.5794 - val_loss: 2558.3074 - val_mean_absolute_error: 2558.3074\n",
            "Epoch 70/100\n",
            "18/18 [==============================] - 2s 89ms/step - loss: 523.0771 - mean_absolute_error: 523.0771 - val_loss: 2750.8484 - val_mean_absolute_error: 2750.8484\n",
            "Epoch 71/100\n",
            "18/18 [==============================] - 1s 83ms/step - loss: 496.0912 - mean_absolute_error: 496.0912 - val_loss: 2764.0920 - val_mean_absolute_error: 2764.0920\n",
            "Epoch 72/100\n",
            "18/18 [==============================] - 1s 83ms/step - loss: 504.6565 - mean_absolute_error: 504.6565 - val_loss: 2827.5845 - val_mean_absolute_error: 2827.5845\n",
            "Epoch 73/100\n",
            "18/18 [==============================] - 1s 79ms/step - loss: 506.5480 - mean_absolute_error: 506.5480 - val_loss: 2532.6824 - val_mean_absolute_error: 2532.6824\n",
            "Epoch 74/100\n",
            "18/18 [==============================] - 1s 81ms/step - loss: 492.8309 - mean_absolute_error: 492.8309 - val_loss: 2494.2939 - val_mean_absolute_error: 2494.2939\n",
            "Epoch 75/100\n",
            "18/18 [==============================] - 1s 80ms/step - loss: 502.3839 - mean_absolute_error: 502.3839 - val_loss: 2773.4600 - val_mean_absolute_error: 2773.4600\n",
            "Epoch 76/100\n",
            "18/18 [==============================] - 5s 289ms/step - loss: 499.2610 - mean_absolute_error: 499.2610 - val_loss: 2460.0276 - val_mean_absolute_error: 2460.0276\n",
            "Epoch 77/100\n",
            "18/18 [==============================] - 1s 83ms/step - loss: 511.0149 - mean_absolute_error: 511.0149 - val_loss: 2562.6968 - val_mean_absolute_error: 2562.6968\n",
            "Epoch 78/100\n",
            "18/18 [==============================] - 2s 84ms/step - loss: 490.7490 - mean_absolute_error: 490.7490 - val_loss: 2525.6074 - val_mean_absolute_error: 2525.6074\n",
            "Epoch 79/100\n",
            "18/18 [==============================] - 2s 84ms/step - loss: 468.8426 - mean_absolute_error: 468.8426 - val_loss: 2576.3042 - val_mean_absolute_error: 2576.3042\n",
            "Epoch 80/100\n",
            "18/18 [==============================] - 1s 84ms/step - loss: 470.3047 - mean_absolute_error: 470.3047 - val_loss: 2572.7500 - val_mean_absolute_error: 2572.7500\n",
            "Epoch 81/100\n",
            "18/18 [==============================] - 2s 83ms/step - loss: 664.9690 - mean_absolute_error: 664.9690 - val_loss: 8213.7090 - val_mean_absolute_error: 8213.7090\n",
            "Epoch 82/100\n",
            "18/18 [==============================] - 1s 83ms/step - loss: 922.9007 - mean_absolute_error: 922.9007 - val_loss: 2679.7761 - val_mean_absolute_error: 2679.7761\n",
            "Epoch 83/100\n",
            "18/18 [==============================] - 2s 113ms/step - loss: 736.9662 - mean_absolute_error: 736.9662 - val_loss: 9861.2607 - val_mean_absolute_error: 9861.2607\n",
            "Epoch 84/100\n",
            "18/18 [==============================] - 3s 141ms/step - loss: 1957.6448 - mean_absolute_error: 1957.6448 - val_loss: 9517.6641 - val_mean_absolute_error: 9517.6641\n",
            "Epoch 85/100\n",
            "18/18 [==============================] - 2s 123ms/step - loss: 938.0051 - mean_absolute_error: 938.0051 - val_loss: 3245.8225 - val_mean_absolute_error: 3245.8225\n",
            "Epoch 86/100\n",
            "18/18 [==============================] - 3s 168ms/step - loss: 590.4609 - mean_absolute_error: 590.4609 - val_loss: 3011.6099 - val_mean_absolute_error: 3011.6099\n",
            "Epoch 87/100\n",
            "18/18 [==============================] - 3s 142ms/step - loss: 542.1981 - mean_absolute_error: 542.1981 - val_loss: 2981.6704 - val_mean_absolute_error: 2981.6704\n",
            "Epoch 88/100\n",
            "18/18 [==============================] - 2s 127ms/step - loss: 534.2267 - mean_absolute_error: 534.2267 - val_loss: 3410.9639 - val_mean_absolute_error: 3410.9639\n",
            "Epoch 89/100\n",
            "18/18 [==============================] - 3s 173ms/step - loss: 533.2413 - mean_absolute_error: 533.2413 - val_loss: 2934.3340 - val_mean_absolute_error: 2934.3340\n",
            "Epoch 90/100\n",
            "18/18 [==============================] - 3s 176ms/step - loss: 517.5004 - mean_absolute_error: 517.5004 - val_loss: 2773.7644 - val_mean_absolute_error: 2773.7644\n",
            "Epoch 91/100\n",
            "18/18 [==============================] - 2s 120ms/step - loss: 534.7098 - mean_absolute_error: 534.7098 - val_loss: 2958.3652 - val_mean_absolute_error: 2958.3652\n",
            "Epoch 92/100\n",
            "18/18 [==============================] - 2s 95ms/step - loss: 547.1635 - mean_absolute_error: 547.1635 - val_loss: 2962.1284 - val_mean_absolute_error: 2962.1284\n",
            "Epoch 93/100\n",
            "18/18 [==============================] - 2s 84ms/step - loss: 533.0197 - mean_absolute_error: 533.0197 - val_loss: 3198.4272 - val_mean_absolute_error: 3198.4270\n",
            "Epoch 94/100\n",
            "18/18 [==============================] - 2s 89ms/step - loss: 526.7229 - mean_absolute_error: 526.7229 - val_loss: 2779.8855 - val_mean_absolute_error: 2779.8855\n",
            "Epoch 95/100\n",
            "18/18 [==============================] - 2s 85ms/step - loss: 522.2245 - mean_absolute_error: 522.2245 - val_loss: 2922.1748 - val_mean_absolute_error: 2922.1748\n",
            "Epoch 96/100\n",
            "18/18 [==============================] - 2s 141ms/step - loss: 519.0485 - mean_absolute_error: 519.0485 - val_loss: 2937.4412 - val_mean_absolute_error: 2937.4412\n",
            "Epoch 97/100\n",
            "18/18 [==============================] - 2s 115ms/step - loss: 514.9263 - mean_absolute_error: 514.9263 - val_loss: 3040.2610 - val_mean_absolute_error: 3040.2610\n",
            "Epoch 98/100\n",
            "18/18 [==============================] - 2s 84ms/step - loss: 508.0419 - mean_absolute_error: 508.0419 - val_loss: 2845.5422 - val_mean_absolute_error: 2845.5422\n",
            "Epoch 99/100\n",
            "18/18 [==============================] - 2s 95ms/step - loss: 503.0343 - mean_absolute_error: 503.0343 - val_loss: 2996.6074 - val_mean_absolute_error: 2996.6074\n",
            "Epoch 100/100\n",
            "18/18 [==============================] - 2s 87ms/step - loss: 499.1866 - mean_absolute_error: 499.1866 - val_loss: 2770.9150 - val_mean_absolute_error: 2770.9150\n"
          ]
        }
      ]
    },
    {
      "cell_type": "markdown",
      "source": [
        "# Comparison"
      ],
      "metadata": {
        "id": "puvYZlqKQd5x"
      }
    },
    {
      "cell_type": "code",
      "source": [
        "mae_1 = model_1_history.history['mean_absolute_error'][-1]\n",
        "mae_2 = model_2_history.history['mean_absolute_error'][-1]\n",
        "mae_3 = model_3_history.history['mean_absolute_error'][-1]\n",
        "mae_4 = model_4_history.history['mean_absolute_error'][-1]\n",
        "mae_5 = model_5_history.history['mean_absolute_error'][-1]"
      ],
      "metadata": {
        "collapsed": true,
        "id": "fBfxenKkM9OI"
      },
      "execution_count": 190,
      "outputs": []
    },
    {
      "cell_type": "code",
      "source": [
        "val_mae_1 = model_1_history.history['val_mean_absolute_error'][-1]\n",
        "val_mae_2 = model_2_history.history['val_mean_absolute_error'][-1]\n",
        "val_mae_3 = model_3_history.history['val_mean_absolute_error'][-1]\n",
        "val_mae_4 = model_4_history.history['val_mean_absolute_error'][-1]\n",
        "val_mae_5 = model_5_history.history['val_mean_absolute_error'][-1]"
      ],
      "metadata": {
        "id": "so9Z5X2pfJb6"
      },
      "execution_count": 216,
      "outputs": []
    },
    {
      "cell_type": "code",
      "source": [
        "names = ['mae_1', 'mae_2', 'mae_3', 'mae_4', 'mae_5']\n",
        "val_names = ['val_mae_1', 'val_mae_2', 'val_mae_3', 'val_mae_4', 'val_mae_5']\n"
      ],
      "metadata": {
        "id": "Z80-kxSWe9Kk"
      },
      "execution_count": 218,
      "outputs": []
    },
    {
      "cell_type": "code",
      "source": [
        "fig, ax = plt.subplots(figsize=(14, 7))\n",
        "plt.subplot(121)\n",
        "plt.bar(names, [mae_1, mae_2, mae_3, mae_4, mae_5])\n",
        "plt.title(\"MAE of train\")\n",
        "plt.subplot(122)\n",
        "plt.bar(val_names, [val_mae_1, val_mae_2, val_mae_3, val_mae_4, val_mae_5])\n",
        "plt.title(\"MAE of validation\")"
      ],
      "metadata": {
        "colab": {
          "base_uri": "https://localhost:8080/",
          "height": 694
        },
        "id": "mgKsKflCecVA",
        "outputId": "64cd43eb-4bba-4114-fdc3-071f4a51d104"
      },
      "execution_count": 222,
      "outputs": [
        {
          "output_type": "stream",
          "name": "stderr",
          "text": [
            "<ipython-input-222-4a9f05c7377b>:2: MatplotlibDeprecationWarning: Auto-removal of overlapping axes is deprecated since 3.6 and will be removed two minor releases later; explicitly call ax.remove() as needed.\n",
            "  plt.subplot(121)\n"
          ]
        },
        {
          "output_type": "execute_result",
          "data": {
            "text/plain": [
              "Text(0.5, 1.0, 'MAE of validation')"
            ]
          },
          "metadata": {},
          "execution_count": 222
        },
        {
          "output_type": "display_data",
          "data": {
            "text/plain": [
              "<Figure size 1400x700 with 2 Axes>"
            ],
            "image/png": "[encoded data removed]"
          },
          "metadata": {}
        }
      ]
    },
    {
      "cell_type": "code",
      "source": [
        "for n in mae_list:\n",
        "  plt.plot(n.keys(), n.values(), kind='bar')\n",
        "  if n == mae_5:\n",
        "    plt.title('Mean Absloute Error of Train')"
      ],
      "metadata": {
        "colab": {
          "base_uri": "https://localhost:8080/",
          "height": 193
        },
        "id": "wpM4kxTxO3qI",
        "outputId": "02e2428d-e649-4a22-9235-1126d05c69ca"
      },
      "execution_count": 205,
      "outputs": [
        {
          "output_type": "error",
          "ename": "AttributeError",
          "evalue": "'str' object has no attribute 'keys'",
          "traceback": [
            "\u001b[0;31m---------------------------------------------------------------------------\u001b[0m",
            "\u001b[0;31mAttributeError\u001b[0m                            Traceback (most recent call last)",
            "\u001b[0;32m<ipython-input-205-16f8d187065a>\u001b[0m in \u001b[0;36m<cell line: 1>\u001b[0;34m()\u001b[0m\n\u001b[1;32m      1\u001b[0m \u001b[0;32mfor\u001b[0m \u001b[0mn\u001b[0m \u001b[0;32min\u001b[0m \u001b[0mmae_list\u001b[0m\u001b[0;34m:\u001b[0m\u001b[0;34m\u001b[0m\u001b[0;34m\u001b[0m\u001b[0m\n\u001b[0;32m----> 2\u001b[0;31m   \u001b[0mplt\u001b[0m\u001b[0;34m.\u001b[0m\u001b[0mplot\u001b[0m\u001b[0;34m(\u001b[0m\u001b[0mn\u001b[0m\u001b[0;34m.\u001b[0m\u001b[0mkeys\u001b[0m\u001b[0;34m(\u001b[0m\u001b[0;34m)\u001b[0m\u001b[0;34m,\u001b[0m \u001b[0mn\u001b[0m\u001b[0;34m.\u001b[0m\u001b[0mvalues\u001b[0m\u001b[0;34m(\u001b[0m\u001b[0;34m)\u001b[0m\u001b[0;34m,\u001b[0m \u001b[0mkind\u001b[0m\u001b[0;34m=\u001b[0m\u001b[0;34m'bar'\u001b[0m\u001b[0;34m)\u001b[0m\u001b[0;34m\u001b[0m\u001b[0;34m\u001b[0m\u001b[0m\n\u001b[0m\u001b[1;32m      3\u001b[0m   \u001b[0;32mif\u001b[0m \u001b[0mn\u001b[0m \u001b[0;34m==\u001b[0m \u001b[0mmae_5\u001b[0m\u001b[0;34m:\u001b[0m\u001b[0;34m\u001b[0m\u001b[0;34m\u001b[0m\u001b[0m\n\u001b[1;32m      4\u001b[0m     \u001b[0mplt\u001b[0m\u001b[0;34m.\u001b[0m\u001b[0mtitle\u001b[0m\u001b[0;34m(\u001b[0m\u001b[0;34m'Mean Absloute Error of Train'\u001b[0m\u001b[0;34m)\u001b[0m\u001b[0;34m\u001b[0m\u001b[0;34m\u001b[0m\u001b[0m\n",
            "\u001b[0;31mAttributeError\u001b[0m: 'str' object has no attribute 'keys'"
          ]
        }
      ]
    },
    {
      "cell_type": "code",
      "source": [],
      "metadata": {
        "id": "5ziwHm1qQAyf"
      },
      "execution_count": null,
      "outputs": []
    }
  ]
}