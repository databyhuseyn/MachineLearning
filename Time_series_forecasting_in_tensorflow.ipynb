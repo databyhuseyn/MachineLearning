{
  "nbformat": 4,
  "nbformat_minor": 0,
  "metadata": {
    "colab": {
      "provenance": [],
      "authorship_tag": "ABX9TyPQE8y9Czg/MBC5SfLT5gvN",
      "include_colab_link": true
    },
    "kernelspec": {
      "name": "python3",
      "display_name": "Python 3"
    },
    "language_info": {
      "name": "python"
    }
  },
  "cells": [
    {
      "cell_type": "markdown",
      "metadata": {
        "id": "view-in-github",
        "colab_type": "text"
      },
      "source": [
        "<a href=\"https://colab.research.google.com/github/databyhuseyn/MachineLearning/blob/main/Time_series_forecasting_in_tensorflow.ipynb\" target=\"_parent\"><img src=\"https://colab.research.google.com/assets/colab-badge.svg\" alt=\"Open In Colab\"/></a>"
      ]
    },
    {
      "cell_type": "markdown",
      "source": [
        "# Milestone Project 3: Time Series forecasting in TensorFlow(BitPredict)"
      ],
      "metadata": {
        "id": "sk-URP2FVzSs"
      }
    },
    {
      "cell_type": "code",
      "source": [
        "import numpy as np"
      ],
      "metadata": {
        "id": "EKw9yQkp8hpw"
      },
      "execution_count": 135,
      "outputs": []
    },
    {
      "cell_type": "code",
      "source": [
        "!wget https://raw.githubusercontent.com/Rstam59/TaskDataRepoForStudents/main/BTC_USD_2013-10-01_2021-05-18-CoinDesk.csv"
      ],
      "metadata": {
        "colab": {
          "base_uri": "https://localhost:8080/"
        },
        "id": "HWPfG3Rza-Fn",
        "outputId": "5d96a5dd-1a46-4c91-a9cd-83e3f233ae2c"
      },
      "execution_count": 136,
      "outputs": [
        {
          "output_type": "stream",
          "name": "stdout",
          "text": [
            "--2024-07-03 10:39:11--  https://raw.githubusercontent.com/Rstam59/TaskDataRepoForStudents/main/BTC_USD_2013-10-01_2021-05-18-CoinDesk.csv\n",
            "Resolving raw.githubusercontent.com (raw.githubusercontent.com)... 185.199.111.133, 185.199.108.133, 185.199.110.133, ...\n",
            "Connecting to raw.githubusercontent.com (raw.githubusercontent.com)|185.199.111.133|:443... connected.\n",
            "HTTP request sent, awaiting response... 200 OK\n",
            "Length: 178509 (174K) [text/plain]\n",
            "Saving to: ‘BTC_USD_2013-10-01_2021-05-18-CoinDesk.csv.2’\n",
            "\n",
            "BTC_USD_2013-10-01_ 100%[===================>] 174.33K  --.-KB/s    in 0.1s    \n",
            "\n",
            "2024-07-03 10:39:12 (1.44 MB/s) - ‘BTC_USD_2013-10-01_2021-05-18-CoinDesk.csv.2’ saved [178509/178509]\n",
            "\n"
          ]
        }
      ]
    },
    {
      "cell_type": "code",
      "source": [
        "# Import with pandas\n",
        "import pandas as pd\n",
        "df = pd.read_csv('/content/BTC_USD_2013-10-01_2021-05-18-CoinDesk.csv',\n",
        "                 parse_dates=['Date'],\n",
        "                 index_col=['Date'])\n",
        "df.head()"
      ],
      "metadata": {
        "colab": {
          "base_uri": "https://localhost:8080/",
          "height": 238
        },
        "id": "ALL71mljd9SF",
        "outputId": "06387fa2-8565-42db-c0a8-77ea3ca1b043"
      },
      "execution_count": 137,
      "outputs": [
        {
          "output_type": "execute_result",
          "data": {
            "text/plain": [
              "           Currency  Closing Price (USD)  24h Open (USD)  24h High (USD)  \\\n",
              "Date                                                                       \n",
              "2013-10-01      BTC            123.65499       124.30466       124.75166   \n",
              "2013-10-02      BTC            125.45500       123.65499       125.75850   \n",
              "2013-10-03      BTC            108.58483       125.45500       125.66566   \n",
              "2013-10-04      BTC            118.67466       108.58483       118.67500   \n",
              "2013-10-05      BTC            121.33866       118.67466       121.93633   \n",
              "\n",
              "            24h Low (USD)  \n",
              "Date                       \n",
              "2013-10-01      122.56349  \n",
              "2013-10-02      123.63383  \n",
              "2013-10-03       83.32833  \n",
              "2013-10-04      107.05816  \n",
              "2013-10-05      118.00566  "
            ],
            "text/html": [
              "\n",
              "  <div id=\"df-99c6c157-0b6f-4790-b475-5464f8696004\" class=\"colab-df-container\">\n",
              "    <div>\n",
              "<style scoped>\n",
              "    .dataframe tbody tr th:only-of-type {\n",
              "        vertical-align: middle;\n",
              "    }\n",
              "\n",
              "    .dataframe tbody tr th {\n",
              "        vertical-align: top;\n",
              "    }\n",
              "\n",
              "    .dataframe thead th {\n",
              "        text-align: right;\n",
              "    }\n",
              "</style>\n",
              "<table border=\"1\" class=\"dataframe\">\n",
              "  <thead>\n",
              "    <tr style=\"text-align: right;\">\n",
              "      <th></th>\n",
              "      <th>Currency</th>\n",
              "      <th>Closing Price (USD)</th>\n",
              "      <th>24h Open (USD)</th>\n",
              "      <th>24h High (USD)</th>\n",
              "      <th>24h Low (USD)</th>\n",
              "    </tr>\n",
              "    <tr>\n",
              "      <th>Date</th>\n",
              "      <th></th>\n",
              "      <th></th>\n",
              "      <th></th>\n",
              "      <th></th>\n",
              "      <th></th>\n",
              "    </tr>\n",
              "  </thead>\n",
              "  <tbody>\n",
              "    <tr>\n",
              "      <th>2013-10-01</th>\n",
              "      <td>BTC</td>\n",
              "      <td>123.65499</td>\n",
              "      <td>124.30466</td>\n",
              "      <td>124.75166</td>\n",
              "      <td>122.56349</td>\n",
              "    </tr>\n",
              "    <tr>\n",
              "      <th>2013-10-02</th>\n",
              "      <td>BTC</td>\n",
              "      <td>125.45500</td>\n",
              "      <td>123.65499</td>\n",
              "      <td>125.75850</td>\n",
              "      <td>123.63383</td>\n",
              "    </tr>\n",
              "    <tr>\n",
              "      <th>2013-10-03</th>\n",
              "      <td>BTC</td>\n",
              "      <td>108.58483</td>\n",
              "      <td>125.45500</td>\n",
              "      <td>125.66566</td>\n",
              "      <td>83.32833</td>\n",
              "    </tr>\n",
              "    <tr>\n",
              "      <th>2013-10-04</th>\n",
              "      <td>BTC</td>\n",
              "      <td>118.67466</td>\n",
              "      <td>108.58483</td>\n",
              "      <td>118.67500</td>\n",
              "      <td>107.05816</td>\n",
              "    </tr>\n",
              "    <tr>\n",
              "      <th>2013-10-05</th>\n",
              "      <td>BTC</td>\n",
              "      <td>121.33866</td>\n",
              "      <td>118.67466</td>\n",
              "      <td>121.93633</td>\n",
              "      <td>118.00566</td>\n",
              "    </tr>\n",
              "  </tbody>\n",
              "</table>\n",
              "</div>\n",
              "    <div class=\"colab-df-buttons\">\n",
              "\n",
              "  <div class=\"colab-df-container\">\n",
              "    <button class=\"colab-df-convert\" onclick=\"convertToInteractive('df-99c6c157-0b6f-4790-b475-5464f8696004')\"\n",
              "            title=\"Convert this dataframe to an interactive table.\"\n",
              "            style=\"display:none;\">\n",
              "\n",
              "  <svg xmlns=\"http://www.w3.org/2000/svg\" height=\"24px\" viewBox=\"0 -960 960 960\">\n",
              "    <path d=\"M120-120v-720h720v720H120Zm60-500h600v-160H180v160Zm220 220h160v-160H400v160Zm0 220h160v-160H400v160ZM180-400h160v-160H180v160Zm440 0h160v-160H620v160ZM180-180h160v-160H180v160Zm440 0h160v-160H620v160Z\"/>\n",
              "  </svg>\n",
              "    </button>\n",
              "\n",
              "  <style>\n",
              "    .colab-df-container {\n",
              "      display:flex;\n",
              "      gap: 12px;\n",
              "    }\n",
              "\n",
              "    .colab-df-convert {\n",
              "      background-color: #E8F0FE;\n",
              "      border: none;\n",
              "      border-radius: 50%;\n",
              "      cursor: pointer;\n",
              "      display: none;\n",
              "      fill: #1967D2;\n",
              "      height: 32px;\n",
              "      padding: 0 0 0 0;\n",
              "      width: 32px;\n",
              "    }\n",
              "\n",
              "    .colab-df-convert:hover {\n",
              "      background-color: #E2EBFA;\n",
              "      box-shadow: 0px 1px 2px rgba(60, 64, 67, 0.3), 0px 1px 3px 1px rgba(60, 64, 67, 0.15);\n",
              "      fill: #174EA6;\n",
              "    }\n",
              "\n",
              "    .colab-df-buttons div {\n",
              "      margin-bottom: 4px;\n",
              "    }\n",
              "\n",
              "    [theme=dark] .colab-df-convert {\n",
              "      background-color: #3B4455;\n",
              "      fill: #D2E3FC;\n",
              "    }\n",
              "\n",
              "    [theme=dark] .colab-df-convert:hover {\n",
              "      background-color: #434B5C;\n",
              "      box-shadow: 0px 1px 3px 1px rgba(0, 0, 0, 0.15);\n",
              "      filter: drop-shadow(0px 1px 2px rgba(0, 0, 0, 0.3));\n",
              "      fill: #FFFFFF;\n",
              "    }\n",
              "  </style>\n",
              "\n",
              "    <script>\n",
              "      const buttonEl =\n",
              "        document.querySelector('#df-99c6c157-0b6f-4790-b475-5464f8696004 button.colab-df-convert');\n",
              "      buttonEl.style.display =\n",
              "        google.colab.kernel.accessAllowed ? 'block' : 'none';\n",
              "\n",
              "      async function convertToInteractive(key) {\n",
              "        const element = document.querySelector('#df-99c6c157-0b6f-4790-b475-5464f8696004');\n",
              "        const dataTable =\n",
              "          await google.colab.kernel.invokeFunction('convertToInteractive',\n",
              "                                                    [key], {});\n",
              "        if (!dataTable) return;\n",
              "\n",
              "        const docLinkHtml = 'Like what you see? Visit the ' +\n",
              "          '<a target=\"_blank\" href=https://colab.research.google.com/notebooks/data_table.ipynb>data table notebook</a>'\n",
              "          + ' to learn more about interactive tables.';\n",
              "        element.innerHTML = '';\n",
              "        dataTable['output_type'] = 'display_data';\n",
              "        await google.colab.output.renderOutput(dataTable, element);\n",
              "        const docLink = document.createElement('div');\n",
              "        docLink.innerHTML = docLinkHtml;\n",
              "        element.appendChild(docLink);\n",
              "      }\n",
              "    </script>\n",
              "  </div>\n",
              "\n",
              "\n",
              "<div id=\"df-89bf791c-bfc5-41c2-8bf4-57a077082bc2\">\n",
              "  <button class=\"colab-df-quickchart\" onclick=\"quickchart('df-89bf791c-bfc5-41c2-8bf4-57a077082bc2')\"\n",
              "            title=\"Suggest charts\"\n",
              "            style=\"display:none;\">\n",
              "\n",
              "<svg xmlns=\"http://www.w3.org/2000/svg\" height=\"24px\"viewBox=\"0 0 24 24\"\n",
              "     width=\"24px\">\n",
              "    <g>\n",
              "        <path d=\"M19 3H5c-1.1 0-2 .9-2 2v14c0 1.1.9 2 2 2h14c1.1 0 2-.9 2-2V5c0-1.1-.9-2-2-2zM9 17H7v-7h2v7zm4 0h-2V7h2v10zm4 0h-2v-4h2v4z\"/>\n",
              "    </g>\n",
              "</svg>\n",
              "  </button>\n",
              "\n",
              "<style>\n",
              "  .colab-df-quickchart {\n",
              "      --bg-color: #E8F0FE;\n",
              "      --fill-color: #1967D2;\n",
              "      --hover-bg-color: #E2EBFA;\n",
              "      --hover-fill-color: #174EA6;\n",
              "      --disabled-fill-color: #AAA;\n",
              "      --disabled-bg-color: #DDD;\n",
              "  }\n",
              "\n",
              "  [theme=dark] .colab-df-quickchart {\n",
              "      --bg-color: #3B4455;\n",
              "      --fill-color: #D2E3FC;\n",
              "      --hover-bg-color: #434B5C;\n",
              "      --hover-fill-color: #FFFFFF;\n",
              "      --disabled-bg-color: #3B4455;\n",
              "      --disabled-fill-color: #666;\n",
              "  }\n",
              "\n",
              "  .colab-df-quickchart {\n",
              "    background-color: var(--bg-color);\n",
              "    border: none;\n",
              "    border-radius: 50%;\n",
              "    cursor: pointer;\n",
              "    display: none;\n",
              "    fill: var(--fill-color);\n",
              "    height: 32px;\n",
              "    padding: 0;\n",
              "    width: 32px;\n",
              "  }\n",
              "\n",
              "  .colab-df-quickchart:hover {\n",
              "    background-color: var(--hover-bg-color);\n",
              "    box-shadow: 0 1px 2px rgba(60, 64, 67, 0.3), 0 1px 3px 1px rgba(60, 64, 67, 0.15);\n",
              "    fill: var(--button-hover-fill-color);\n",
              "  }\n",
              "\n",
              "  .colab-df-quickchart-complete:disabled,\n",
              "  .colab-df-quickchart-complete:disabled:hover {\n",
              "    background-color: var(--disabled-bg-color);\n",
              "    fill: var(--disabled-fill-color);\n",
              "    box-shadow: none;\n",
              "  }\n",
              "\n",
              "  .colab-df-spinner {\n",
              "    border: 2px solid var(--fill-color);\n",
              "    border-color: transparent;\n",
              "    border-bottom-color: var(--fill-color);\n",
              "    animation:\n",
              "      spin 1s steps(1) infinite;\n",
              "  }\n",
              "\n",
              "  @keyframes spin {\n",
              "    0% {\n",
              "      border-color: transparent;\n",
              "      border-bottom-color: var(--fill-color);\n",
              "      border-left-color: var(--fill-color);\n",
              "    }\n",
              "    20% {\n",
              "      border-color: transparent;\n",
              "      border-left-color: var(--fill-color);\n",
              "      border-top-color: var(--fill-color);\n",
              "    }\n",
              "    30% {\n",
              "      border-color: transparent;\n",
              "      border-left-color: var(--fill-color);\n",
              "      border-top-color: var(--fill-color);\n",
              "      border-right-color: var(--fill-color);\n",
              "    }\n",
              "    40% {\n",
              "      border-color: transparent;\n",
              "      border-right-color: var(--fill-color);\n",
              "      border-top-color: var(--fill-color);\n",
              "    }\n",
              "    60% {\n",
              "      border-color: transparent;\n",
              "      border-right-color: var(--fill-color);\n",
              "    }\n",
              "    80% {\n",
              "      border-color: transparent;\n",
              "      border-right-color: var(--fill-color);\n",
              "      border-bottom-color: var(--fill-color);\n",
              "    }\n",
              "    90% {\n",
              "      border-color: transparent;\n",
              "      border-bottom-color: var(--fill-color);\n",
              "    }\n",
              "  }\n",
              "</style>\n",
              "\n",
              "  <script>\n",
              "    async function quickchart(key) {\n",
              "      const quickchartButtonEl =\n",
              "        document.querySelector('#' + key + ' button');\n",
              "      quickchartButtonEl.disabled = true;  // To prevent multiple clicks.\n",
              "      quickchartButtonEl.classList.add('colab-df-spinner');\n",
              "      try {\n",
              "        const charts = await google.colab.kernel.invokeFunction(\n",
              "            'suggestCharts', [key], {});\n",
              "      } catch (error) {\n",
              "        console.error('Error during call to suggestCharts:', error);\n",
              "      }\n",
              "      quickchartButtonEl.classList.remove('colab-df-spinner');\n",
              "      quickchartButtonEl.classList.add('colab-df-quickchart-complete');\n",
              "    }\n",
              "    (() => {\n",
              "      let quickchartButtonEl =\n",
              "        document.querySelector('#df-89bf791c-bfc5-41c2-8bf4-57a077082bc2 button');\n",
              "      quickchartButtonEl.style.display =\n",
              "        google.colab.kernel.accessAllowed ? 'block' : 'none';\n",
              "    })();\n",
              "  </script>\n",
              "</div>\n",
              "\n",
              "    </div>\n",
              "  </div>\n"
            ],
            "application/vnd.google.colaboratory.intrinsic+json": {
              "type": "dataframe",
              "variable_name": "df",
              "summary": "{\n  \"name\": \"df\",\n  \"rows\": 2787,\n  \"fields\": [\n    {\n      \"column\": \"Date\",\n      \"properties\": {\n        \"dtype\": \"date\",\n        \"min\": \"2013-10-01 00:00:00\",\n        \"max\": \"2021-05-18 00:00:00\",\n        \"num_unique_values\": 2787,\n        \"samples\": [\n          \"2019-06-11 00:00:00\",\n          \"2021-05-03 00:00:00\",\n          \"2017-10-05 00:00:00\"\n        ],\n        \"semantic_type\": \"\",\n        \"description\": \"\"\n      }\n    },\n    {\n      \"column\": \"Currency\",\n      \"properties\": {\n        \"dtype\": \"category\",\n        \"num_unique_values\": 1,\n        \"samples\": [\n          \"BTC\"\n        ],\n        \"semantic_type\": \"\",\n        \"description\": \"\"\n      }\n    },\n    {\n      \"column\": \"Closing Price (USD)\",\n      \"properties\": {\n        \"dtype\": \"number\",\n        \"std\": 10887.84744436952,\n        \"min\": 108.58483,\n        \"max\": 63346.7890351052,\n        \"num_unique_values\": 2787,\n        \"samples\": [\n          7954.0062377205\n        ],\n        \"semantic_type\": \"\",\n        \"description\": \"\"\n      }\n    },\n    {\n      \"column\": \"24h Open (USD)\",\n      \"properties\": {\n        \"dtype\": \"number\",\n        \"std\": 10863.80077212387,\n        \"min\": 108.58483,\n        \"max\": 63562.6735446382,\n        \"num_unique_values\": 2787,\n        \"samples\": [\n          7600.9225047785\n        ],\n        \"semantic_type\": \"\",\n        \"description\": \"\"\n      }\n    },\n    {\n      \"column\": \"24h High (USD)\",\n      \"properties\": {\n        \"dtype\": \"number\",\n        \"std\": 11206.779756254151,\n        \"min\": 118.675,\n        \"max\": 64801.787869525,\n        \"num_unique_values\": 2787,\n        \"samples\": [\n          8064.9001353225\n        ],\n        \"semantic_type\": \"\",\n        \"description\": \"\"\n      }\n    },\n    {\n      \"column\": \"24h Low (USD)\",\n      \"properties\": {\n        \"dtype\": \"number\",\n        \"std\": 10475.8112518284,\n        \"min\": 83.32833,\n        \"max\": 62094.6329143272,\n        \"num_unique_values\": 2785,\n        \"samples\": [\n          7714.610306452\n        ],\n        \"semantic_type\": \"\",\n        \"description\": \"\"\n      }\n    }\n  ]\n}"
            }
          },
          "metadata": {},
          "execution_count": 137
        }
      ]
    },
    {
      "cell_type": "code",
      "source": [
        "df.dtypes"
      ],
      "metadata": {
        "colab": {
          "base_uri": "https://localhost:8080/"
        },
        "id": "capFdzd3eJ7X",
        "outputId": "24bfd92b-9cca-458c-b6a2-9957fffae4be"
      },
      "execution_count": 138,
      "outputs": [
        {
          "output_type": "execute_result",
          "data": {
            "text/plain": [
              "Currency                object\n",
              "Closing Price (USD)    float64\n",
              "24h Open (USD)         float64\n",
              "24h High (USD)         float64\n",
              "24h Low (USD)          float64\n",
              "dtype: object"
            ]
          },
          "metadata": {},
          "execution_count": 138
        }
      ]
    },
    {
      "cell_type": "code",
      "source": [
        "df.info()"
      ],
      "metadata": {
        "colab": {
          "base_uri": "https://localhost:8080/"
        },
        "id": "zQJHggBze2Mo",
        "outputId": "e68a1840-4c41-4ea7-f61d-be6109d0a04f"
      },
      "execution_count": 139,
      "outputs": [
        {
          "output_type": "stream",
          "name": "stdout",
          "text": [
            "<class 'pandas.core.frame.DataFrame'>\n",
            "DatetimeIndex: 2787 entries, 2013-10-01 to 2021-05-18\n",
            "Data columns (total 5 columns):\n",
            " #   Column               Non-Null Count  Dtype  \n",
            "---  ------               --------------  -----  \n",
            " 0   Currency             2787 non-null   object \n",
            " 1   Closing Price (USD)  2787 non-null   float64\n",
            " 2   24h Open (USD)       2787 non-null   float64\n",
            " 3   24h High (USD)       2787 non-null   float64\n",
            " 4   24h Low (USD)        2787 non-null   float64\n",
            "dtypes: float64(4), object(1)\n",
            "memory usage: 130.6+ KB\n"
          ]
        }
      ]
    },
    {
      "cell_type": "code",
      "source": [
        "len(df)"
      ],
      "metadata": {
        "colab": {
          "base_uri": "https://localhost:8080/"
        },
        "id": "Gcxi9-d8fDju",
        "outputId": "e6d0a5f2-6dc1-4673-8e44-39a418fbd8ea"
      },
      "execution_count": 140,
      "outputs": [
        {
          "output_type": "execute_result",
          "data": {
            "text/plain": [
              "2787"
            ]
          },
          "metadata": {},
          "execution_count": 140
        }
      ]
    },
    {
      "cell_type": "code",
      "source": [
        "bitcoin_prices = pd.DataFrame(df['Closing Price (USD)']).rename(columns={'Closing Price (USD)': 'Price'})\n",
        "bitcoin_prices.head()"
      ],
      "metadata": {
        "colab": {
          "base_uri": "https://localhost:8080/",
          "height": 238
        },
        "id": "tcqHt8F5fKpU",
        "outputId": "caf634d3-5282-42a1-c9f1-0057288b9769"
      },
      "execution_count": 141,
      "outputs": [
        {
          "output_type": "execute_result",
          "data": {
            "text/plain": [
              "                Price\n",
              "Date                 \n",
              "2013-10-01  123.65499\n",
              "2013-10-02  125.45500\n",
              "2013-10-03  108.58483\n",
              "2013-10-04  118.67466\n",
              "2013-10-05  121.33866"
            ],
            "text/html": [
              "\n",
              "  <div id=\"df-612f73e1-3d0a-4ad4-a0d0-1bdc1d1808ab\" class=\"colab-df-container\">\n",
              "    <div>\n",
              "<style scoped>\n",
              "    .dataframe tbody tr th:only-of-type {\n",
              "        vertical-align: middle;\n",
              "    }\n",
              "\n",
              "    .dataframe tbody tr th {\n",
              "        vertical-align: top;\n",
              "    }\n",
              "\n",
              "    .dataframe thead th {\n",
              "        text-align: right;\n",
              "    }\n",
              "</style>\n",
              "<table border=\"1\" class=\"dataframe\">\n",
              "  <thead>\n",
              "    <tr style=\"text-align: right;\">\n",
              "      <th></th>\n",
              "      <th>Price</th>\n",
              "    </tr>\n",
              "    <tr>\n",
              "      <th>Date</th>\n",
              "      <th></th>\n",
              "    </tr>\n",
              "  </thead>\n",
              "  <tbody>\n",
              "    <tr>\n",
              "      <th>2013-10-01</th>\n",
              "      <td>123.65499</td>\n",
              "    </tr>\n",
              "    <tr>\n",
              "      <th>2013-10-02</th>\n",
              "      <td>125.45500</td>\n",
              "    </tr>\n",
              "    <tr>\n",
              "      <th>2013-10-03</th>\n",
              "      <td>108.58483</td>\n",
              "    </tr>\n",
              "    <tr>\n",
              "      <th>2013-10-04</th>\n",
              "      <td>118.67466</td>\n",
              "    </tr>\n",
              "    <tr>\n",
              "      <th>2013-10-05</th>\n",
              "      <td>121.33866</td>\n",
              "    </tr>\n",
              "  </tbody>\n",
              "</table>\n",
              "</div>\n",
              "    <div class=\"colab-df-buttons\">\n",
              "\n",
              "  <div class=\"colab-df-container\">\n",
              "    <button class=\"colab-df-convert\" onclick=\"convertToInteractive('df-612f73e1-3d0a-4ad4-a0d0-1bdc1d1808ab')\"\n",
              "            title=\"Convert this dataframe to an interactive table.\"\n",
              "            style=\"display:none;\">\n",
              "\n",
              "  <svg xmlns=\"http://www.w3.org/2000/svg\" height=\"24px\" viewBox=\"0 -960 960 960\">\n",
              "    <path d=\"M120-120v-720h720v720H120Zm60-500h600v-160H180v160Zm220 220h160v-160H400v160Zm0 220h160v-160H400v160ZM180-400h160v-160H180v160Zm440 0h160v-160H620v160ZM180-180h160v-160H180v160Zm440 0h160v-160H620v160Z\"/>\n",
              "  </svg>\n",
              "    </button>\n",
              "\n",
              "  <style>\n",
              "    .colab-df-container {\n",
              "      display:flex;\n",
              "      gap: 12px;\n",
              "    }\n",
              "\n",
              "    .colab-df-convert {\n",
              "      background-color: #E8F0FE;\n",
              "      border: none;\n",
              "      border-radius: 50%;\n",
              "      cursor: pointer;\n",
              "      display: none;\n",
              "      fill: #1967D2;\n",
              "      height: 32px;\n",
              "      padding: 0 0 0 0;\n",
              "      width: 32px;\n",
              "    }\n",
              "\n",
              "    .colab-df-convert:hover {\n",
              "      background-color: #E2EBFA;\n",
              "      box-shadow: 0px 1px 2px rgba(60, 64, 67, 0.3), 0px 1px 3px 1px rgba(60, 64, 67, 0.15);\n",
              "      fill: #174EA6;\n",
              "    }\n",
              "\n",
              "    .colab-df-buttons div {\n",
              "      margin-bottom: 4px;\n",
              "    }\n",
              "\n",
              "    [theme=dark] .colab-df-convert {\n",
              "      background-color: #3B4455;\n",
              "      fill: #D2E3FC;\n",
              "    }\n",
              "\n",
              "    [theme=dark] .colab-df-convert:hover {\n",
              "      background-color: #434B5C;\n",
              "      box-shadow: 0px 1px 3px 1px rgba(0, 0, 0, 0.15);\n",
              "      filter: drop-shadow(0px 1px 2px rgba(0, 0, 0, 0.3));\n",
              "      fill: #FFFFFF;\n",
              "    }\n",
              "  </style>\n",
              "\n",
              "    <script>\n",
              "      const buttonEl =\n",
              "        document.querySelector('#df-612f73e1-3d0a-4ad4-a0d0-1bdc1d1808ab button.colab-df-convert');\n",
              "      buttonEl.style.display =\n",
              "        google.colab.kernel.accessAllowed ? 'block' : 'none';\n",
              "\n",
              "      async function convertToInteractive(key) {\n",
              "        const element = document.querySelector('#df-612f73e1-3d0a-4ad4-a0d0-1bdc1d1808ab');\n",
              "        const dataTable =\n",
              "          await google.colab.kernel.invokeFunction('convertToInteractive',\n",
              "                                                    [key], {});\n",
              "        if (!dataTable) return;\n",
              "\n",
              "        const docLinkHtml = 'Like what you see? Visit the ' +\n",
              "          '<a target=\"_blank\" href=https://colab.research.google.com/notebooks/data_table.ipynb>data table notebook</a>'\n",
              "          + ' to learn more about interactive tables.';\n",
              "        element.innerHTML = '';\n",
              "        dataTable['output_type'] = 'display_data';\n",
              "        await google.colab.output.renderOutput(dataTable, element);\n",
              "        const docLink = document.createElement('div');\n",
              "        docLink.innerHTML = docLinkHtml;\n",
              "        element.appendChild(docLink);\n",
              "      }\n",
              "    </script>\n",
              "  </div>\n",
              "\n",
              "\n",
              "<div id=\"df-e4a91a35-bed8-4a75-81bd-0d677d0d129b\">\n",
              "  <button class=\"colab-df-quickchart\" onclick=\"quickchart('df-e4a91a35-bed8-4a75-81bd-0d677d0d129b')\"\n",
              "            title=\"Suggest charts\"\n",
              "            style=\"display:none;\">\n",
              "\n",
              "<svg xmlns=\"http://www.w3.org/2000/svg\" height=\"24px\"viewBox=\"0 0 24 24\"\n",
              "     width=\"24px\">\n",
              "    <g>\n",
              "        <path d=\"M19 3H5c-1.1 0-2 .9-2 2v14c0 1.1.9 2 2 2h14c1.1 0 2-.9 2-2V5c0-1.1-.9-2-2-2zM9 17H7v-7h2v7zm4 0h-2V7h2v10zm4 0h-2v-4h2v4z\"/>\n",
              "    </g>\n",
              "</svg>\n",
              "  </button>\n",
              "\n",
              "<style>\n",
              "  .colab-df-quickchart {\n",
              "      --bg-color: #E8F0FE;\n",
              "      --fill-color: #1967D2;\n",
              "      --hover-bg-color: #E2EBFA;\n",
              "      --hover-fill-color: #174EA6;\n",
              "      --disabled-fill-color: #AAA;\n",
              "      --disabled-bg-color: #DDD;\n",
              "  }\n",
              "\n",
              "  [theme=dark] .colab-df-quickchart {\n",
              "      --bg-color: #3B4455;\n",
              "      --fill-color: #D2E3FC;\n",
              "      --hover-bg-color: #434B5C;\n",
              "      --hover-fill-color: #FFFFFF;\n",
              "      --disabled-bg-color: #3B4455;\n",
              "      --disabled-fill-color: #666;\n",
              "  }\n",
              "\n",
              "  .colab-df-quickchart {\n",
              "    background-color: var(--bg-color);\n",
              "    border: none;\n",
              "    border-radius: 50%;\n",
              "    cursor: pointer;\n",
              "    display: none;\n",
              "    fill: var(--fill-color);\n",
              "    height: 32px;\n",
              "    padding: 0;\n",
              "    width: 32px;\n",
              "  }\n",
              "\n",
              "  .colab-df-quickchart:hover {\n",
              "    background-color: var(--hover-bg-color);\n",
              "    box-shadow: 0 1px 2px rgba(60, 64, 67, 0.3), 0 1px 3px 1px rgba(60, 64, 67, 0.15);\n",
              "    fill: var(--button-hover-fill-color);\n",
              "  }\n",
              "\n",
              "  .colab-df-quickchart-complete:disabled,\n",
              "  .colab-df-quickchart-complete:disabled:hover {\n",
              "    background-color: var(--disabled-bg-color);\n",
              "    fill: var(--disabled-fill-color);\n",
              "    box-shadow: none;\n",
              "  }\n",
              "\n",
              "  .colab-df-spinner {\n",
              "    border: 2px solid var(--fill-color);\n",
              "    border-color: transparent;\n",
              "    border-bottom-color: var(--fill-color);\n",
              "    animation:\n",
              "      spin 1s steps(1) infinite;\n",
              "  }\n",
              "\n",
              "  @keyframes spin {\n",
              "    0% {\n",
              "      border-color: transparent;\n",
              "      border-bottom-color: var(--fill-color);\n",
              "      border-left-color: var(--fill-color);\n",
              "    }\n",
              "    20% {\n",
              "      border-color: transparent;\n",
              "      border-left-color: var(--fill-color);\n",
              "      border-top-color: var(--fill-color);\n",
              "    }\n",
              "    30% {\n",
              "      border-color: transparent;\n",
              "      border-left-color: var(--fill-color);\n",
              "      border-top-color: var(--fill-color);\n",
              "      border-right-color: var(--fill-color);\n",
              "    }\n",
              "    40% {\n",
              "      border-color: transparent;\n",
              "      border-right-color: var(--fill-color);\n",
              "      border-top-color: var(--fill-color);\n",
              "    }\n",
              "    60% {\n",
              "      border-color: transparent;\n",
              "      border-right-color: var(--fill-color);\n",
              "    }\n",
              "    80% {\n",
              "      border-color: transparent;\n",
              "      border-right-color: var(--fill-color);\n",
              "      border-bottom-color: var(--fill-color);\n",
              "    }\n",
              "    90% {\n",
              "      border-color: transparent;\n",
              "      border-bottom-color: var(--fill-color);\n",
              "    }\n",
              "  }\n",
              "</style>\n",
              "\n",
              "  <script>\n",
              "    async function quickchart(key) {\n",
              "      const quickchartButtonEl =\n",
              "        document.querySelector('#' + key + ' button');\n",
              "      quickchartButtonEl.disabled = true;  // To prevent multiple clicks.\n",
              "      quickchartButtonEl.classList.add('colab-df-spinner');\n",
              "      try {\n",
              "        const charts = await google.colab.kernel.invokeFunction(\n",
              "            'suggestCharts', [key], {});\n",
              "      } catch (error) {\n",
              "        console.error('Error during call to suggestCharts:', error);\n",
              "      }\n",
              "      quickchartButtonEl.classList.remove('colab-df-spinner');\n",
              "      quickchartButtonEl.classList.add('colab-df-quickchart-complete');\n",
              "    }\n",
              "    (() => {\n",
              "      let quickchartButtonEl =\n",
              "        document.querySelector('#df-e4a91a35-bed8-4a75-81bd-0d677d0d129b button');\n",
              "      quickchartButtonEl.style.display =\n",
              "        google.colab.kernel.accessAllowed ? 'block' : 'none';\n",
              "    })();\n",
              "  </script>\n",
              "</div>\n",
              "\n",
              "    </div>\n",
              "  </div>\n"
            ],
            "application/vnd.google.colaboratory.intrinsic+json": {
              "type": "dataframe",
              "variable_name": "bitcoin_prices",
              "summary": "{\n  \"name\": \"bitcoin_prices\",\n  \"rows\": 2787,\n  \"fields\": [\n    {\n      \"column\": \"Date\",\n      \"properties\": {\n        \"dtype\": \"date\",\n        \"min\": \"2013-10-01 00:00:00\",\n        \"max\": \"2021-05-18 00:00:00\",\n        \"num_unique_values\": 2787,\n        \"samples\": [\n          \"2019-06-11 00:00:00\",\n          \"2021-05-03 00:00:00\",\n          \"2017-10-05 00:00:00\"\n        ],\n        \"semantic_type\": \"\",\n        \"description\": \"\"\n      }\n    },\n    {\n      \"column\": \"Price\",\n      \"properties\": {\n        \"dtype\": \"number\",\n        \"std\": 10887.84744436952,\n        \"min\": 108.58483,\n        \"max\": 63346.7890351052,\n        \"num_unique_values\": 2787,\n        \"samples\": [\n          7954.0062377205,\n          56427.0431250152,\n          4186.78374\n        ],\n        \"semantic_type\": \"\",\n        \"description\": \"\"\n      }\n    }\n  ]\n}"
            }
          },
          "metadata": {},
          "execution_count": 141
        }
      ]
    },
    {
      "cell_type": "code",
      "source": [
        "import matplotlib.pyplot as plt\n",
        "bitcoin_prices.plot(figsize=(10, 7))\n",
        "plt.ylabel(\"BTC Price\")\n",
        "plt.title('Price of Bitcoin from 1 Oct 2013 to 18 May 2021', fontsize=16)\n",
        "plt.xlabel('Dates')\n",
        "plt.legend(fontsize=14);"
      ],
      "metadata": {
        "colab": {
          "base_uri": "https://localhost:8080/",
          "height": 643
        },
        "id": "F9cfM3Ptfnys",
        "outputId": "5285905f-fc16-413d-f1e2-10b6affc2be6"
      },
      "execution_count": 142,
      "outputs": [
        {
          "output_type": "display_data",
          "data": {
            "text/plain": [
              "<Figure size 1000x700 with 1 Axes>"
            ],
            "image/png": "[encoded data removed]"
          },
          "metadata": {}
        }
      ]
    },
    {
      "cell_type": "code",
      "source": [
        "import csv\n",
        "from datetime import datetime\n",
        "\n",
        "timesteps = []\n",
        "btc_price = []\n",
        "with open('/content/BTC_USD_2013-10-01_2021-05-18-CoinDesk.csv', 'r') as f:\n",
        "  csv_reader = csv.reader(f, delimiter=',')\n",
        "  next(csv_reader)\n",
        "  for line in csv_reader:\n",
        "    timesteps.append(datetime.strptime(line[1], '%Y-%m-%d'))\n",
        "    btc_price.append(float(line[2]))\n",
        "\n",
        "\n",
        "# View first 10 of each\n",
        "timesteps[:10], btc_price[:10]"
      ],
      "metadata": {
        "colab": {
          "base_uri": "https://localhost:8080/"
        },
        "id": "TiNvyNVXgL4M",
        "outputId": "a2280d0c-828d-499b-9884-ea7a22d900c6"
      },
      "execution_count": 143,
      "outputs": [
        {
          "output_type": "execute_result",
          "data": {
            "text/plain": [
              "([datetime.datetime(2013, 10, 1, 0, 0),\n",
              "  datetime.datetime(2013, 10, 2, 0, 0),\n",
              "  datetime.datetime(2013, 10, 3, 0, 0),\n",
              "  datetime.datetime(2013, 10, 4, 0, 0),\n",
              "  datetime.datetime(2013, 10, 5, 0, 0),\n",
              "  datetime.datetime(2013, 10, 6, 0, 0),\n",
              "  datetime.datetime(2013, 10, 7, 0, 0),\n",
              "  datetime.datetime(2013, 10, 8, 0, 0),\n",
              "  datetime.datetime(2013, 10, 9, 0, 0),\n",
              "  datetime.datetime(2013, 10, 10, 0, 0)],\n",
              " [123.65499,\n",
              "  125.455,\n",
              "  108.58483,\n",
              "  118.67466,\n",
              "  121.33866,\n",
              "  120.65533,\n",
              "  121.795,\n",
              "  123.033,\n",
              "  124.049,\n",
              "  125.96116])"
            ]
          },
          "metadata": {},
          "execution_count": 143
        }
      ]
    },
    {
      "cell_type": "markdown",
      "source": [
        "# Create train and test sets for time series (the wrong way)"
      ],
      "metadata": {
        "id": "XBLucwGOiQch"
      }
    },
    {
      "cell_type": "code",
      "source": [
        "# Get bitcoin date array\n",
        "timesteps = bitcoin_prices.index.to_numpy()\n",
        "prices = bitcoin_prices[\"Price\"].to_numpy()\n",
        "\n",
        "timesteps[:10], prices[:10]"
      ],
      "metadata": {
        "colab": {
          "base_uri": "https://localhost:8080/"
        },
        "id": "cO8n-rzBkWUD",
        "outputId": "3adb91cf-7735-4830-bb6c-38fa2d0010b2"
      },
      "execution_count": 144,
      "outputs": [
        {
          "output_type": "execute_result",
          "data": {
            "text/plain": [
              "(array(['2013-10-01T00:00:00.000000000', '2013-10-02T00:00:00.000000000',\n",
              "        '2013-10-03T00:00:00.000000000', '2013-10-04T00:00:00.000000000',\n",
              "        '2013-10-05T00:00:00.000000000', '2013-10-06T00:00:00.000000000',\n",
              "        '2013-10-07T00:00:00.000000000', '2013-10-08T00:00:00.000000000',\n",
              "        '2013-10-09T00:00:00.000000000', '2013-10-10T00:00:00.000000000'],\n",
              "       dtype='datetime64[ns]'),\n",
              " array([123.65499, 125.455  , 108.58483, 118.67466, 121.33866, 120.65533,\n",
              "        121.795  , 123.033  , 124.049  , 125.96116]))"
            ]
          },
          "metadata": {},
          "execution_count": 144
        }
      ]
    },
    {
      "cell_type": "code",
      "source": [
        "# Wrong way to make train/test split for time series\n",
        "from sklearn.model_selection import train_test_split\n",
        "\n",
        "X_train, X_test, y_train, y_test = train_test_split(timesteps,  # dates\n",
        "                                                    prices,     # prices\n",
        "                                                    test_size=0.2,\n",
        "                                                    random_state=42)\n",
        "\n",
        "X_train.shape, X_test.shape, y_train.shape, y_test.shape"
      ],
      "metadata": {
        "colab": {
          "base_uri": "https://localhost:8080/"
        },
        "id": "Xm5chzJykt7H",
        "outputId": "f83ccdb5-0d01-466e-c4e9-cd65093f0fa9"
      },
      "execution_count": 145,
      "outputs": [
        {
          "output_type": "execute_result",
          "data": {
            "text/plain": [
              "((2229,), (558,), (2229,), (558,))"
            ]
          },
          "metadata": {},
          "execution_count": 145
        }
      ]
    },
    {
      "cell_type": "code",
      "source": [
        "plt.figure(figsize=(10, 7))\n",
        "plt.scatter(X_train, y_train, s=5, label='Train test')\n",
        "plt.scatter(X_test, y_test, s=5, label='Test test')\n",
        "plt.xlabel('Date')\n",
        "plt.ylabel('BTC Price')\n",
        "plt.legend(fontsize=14)"
      ],
      "metadata": {
        "colab": {
          "base_uri": "https://localhost:8080/",
          "height": 636
        },
        "id": "dPlfTXoolX90",
        "outputId": "0bd85402-96b4-4c30-8274-7c753c270404"
      },
      "execution_count": 146,
      "outputs": [
        {
          "output_type": "execute_result",
          "data": {
            "text/plain": [
              "<matplotlib.legend.Legend at 0x7ae670fbaad0>"
            ]
          },
          "metadata": {},
          "execution_count": 146
        },
        {
          "output_type": "display_data",
          "data": {
            "text/plain": [
              "<Figure size 1000x700 with 1 Axes>"
            ],
            "image/png": "[encoded data removed]"
          },
          "metadata": {}
        }
      ]
    },
    {
      "cell_type": "markdown",
      "source": [
        "# Correct way"
      ],
      "metadata": {
        "id": "F0a5K_tgl6c4"
      }
    },
    {
      "cell_type": "code",
      "source": [
        "# Create train and test splits the right way for time series data\n",
        "split_size = int(0.8 * len(prices))     # 80% train, 20% test\n",
        "\n",
        "# Create train data splits (everything before the split)\n",
        "X_train, y_train = timesteps[:split_size], prices[:split_size]\n",
        "\n",
        "# Create train data splits (everything after the split)\n",
        "X_test, y_test = timesteps[split_size:], prices[split_size:]\n",
        "\n",
        "len(X_train), len(y_train), len(X_test), len(y_test)"
      ],
      "metadata": {
        "colab": {
          "base_uri": "https://localhost:8080/"
        },
        "id": "ZPglFz7wnJqC",
        "outputId": "9d76e071-757f-4d22-de98-00d121711e41"
      },
      "execution_count": 147,
      "outputs": [
        {
          "output_type": "execute_result",
          "data": {
            "text/plain": [
              "(2229, 2229, 558, 558)"
            ]
          },
          "metadata": {},
          "execution_count": 147
        }
      ]
    },
    {
      "cell_type": "code",
      "source": [
        "plt.figure(figsize=(10, 7))\n",
        "plt.scatter(X_train, y_train, s=5, label='Train set')\n",
        "plt.scatter(X_test, y_test, s=5, label='Test set')\n",
        "plt.xlabel('Date')\n",
        "plt.ylabel('BTC Price')\n",
        "plt.legend(fontsize=14)"
      ],
      "metadata": {
        "colab": {
          "base_uri": "https://localhost:8080/",
          "height": 636
        },
        "id": "tLNfzvk1pEoK",
        "outputId": "e24dd8d4-254d-44b6-8037-764b4c2bf652"
      },
      "execution_count": 148,
      "outputs": [
        {
          "output_type": "execute_result",
          "data": {
            "text/plain": [
              "<matplotlib.legend.Legend at 0x7ae671578880>"
            ]
          },
          "metadata": {},
          "execution_count": 148
        },
        {
          "output_type": "display_data",
          "data": {
            "text/plain": [
              "<Figure size 1000x700 with 1 Axes>"
            ],
            "image/png": "[encoded data removed]"
          },
          "metadata": {}
        }
      ]
    },
    {
      "cell_type": "code",
      "source": [
        "# Create a function to plot time series data\n",
        "def plot_time_series(timesteps, values, format='.', start=0, end=None, label=None):\n",
        "  \"\"\"\n",
        "  Plots a timesteps (a series of points in time) against values (a series of values across timesteps).\n",
        "\n",
        "  Parameters\n",
        "  ---------\n",
        "  timesteps : array of timesteps\n",
        "  values : array of values across time\n",
        "  format : style of plot, default \".\"\n",
        "  start : where to start the plot (setting a value will index from start of timesteps & values)\n",
        "  end : where to end the plot (setting a value will index from end of timesteps & values)\n",
        "  label : label to show on plot of values\n",
        "  \"\"\"\n",
        "  # Plot the series\n",
        "  plt.plot(timesteps[start:end], values[start:end], format, label=label)\n",
        "  plt.xlabel(\"Time\")\n",
        "  plt.ylabel(\"BTC Price\")\n",
        "  if label:\n",
        "    plt.legend(fontsize=14) # make label bigger\n",
        "  plt.grid(True)"
      ],
      "metadata": {
        "id": "fJXeIUrPpVZC"
      },
      "execution_count": 149,
      "outputs": []
    },
    {
      "cell_type": "markdown",
      "source": [
        "# Naive Bayes Model"
      ],
      "metadata": {
        "id": "tXV_AhbhpyRR"
      }
    },
    {
      "cell_type": "code",
      "source": [
        "# Create a naive forecast\n",
        "naive_forecast = y_test[:-1]\n",
        "naive_forecast[:10], naive_forecast[-10:]"
      ],
      "metadata": {
        "colab": {
          "base_uri": "https://localhost:8080/"
        },
        "id": "vG2Nkx_6rBPz",
        "outputId": "83013d75-e184-4ee9-ac88-442f33ce94e7"
      },
      "execution_count": 150,
      "outputs": [
        {
          "output_type": "execute_result",
          "data": {
            "text/plain": [
              "(array([9226.48582088, 8794.35864452, 8798.04205463, 9081.18687849,\n",
              "        8711.53433917, 8760.89271814, 8749.52059102, 8656.97092235,\n",
              "        8500.64355816, 8469.2608989 ]),\n",
              " array([57107.12067189, 58788.20967893, 58102.19142623, 55715.54665129,\n",
              "        56573.5554719 , 52147.82118698, 49764.1320816 , 50032.69313676,\n",
              "        47885.62525472, 45604.61575361]))"
            ]
          },
          "metadata": {},
          "execution_count": 150
        }
      ]
    },
    {
      "cell_type": "code",
      "source": [
        "# Plot naive forecast\n",
        "plt.figure(figsize=(10, 7))\n",
        "plot_time_series(timesteps=X_train, values=y_train, label='Train_data')\n",
        "plot_time_series(timesteps=X_test, values=y_test, label='Test_data')\n",
        "plot_time_series(timesteps=X_test[1:], values=naive_forecast, format='-', label='Naive forecast')\n"
      ],
      "metadata": {
        "colab": {
          "base_uri": "https://localhost:8080/",
          "height": 619
        },
        "id": "xtPxC7i6rKaI",
        "outputId": "776873b3-c07e-4f26-dc33-b0be9c7f86cd"
      },
      "execution_count": 151,
      "outputs": [
        {
          "output_type": "display_data",
          "data": {
            "text/plain": [
              "<Figure size 1000x700 with 1 Axes>"
            ],
            "image/png": "[encoded data removed]"
          },
          "metadata": {}
        }
      ]
    },
    {
      "cell_type": "code",
      "source": [
        "plt.figure(figsize=(10, 7))\n",
        "offset = 300\n",
        "plot_time_series(timesteps=X_test, values=y_test, start=offset, format='-', label='Test data')\n",
        "plot_time_series(timesteps=X_test[1:], values=naive_forecast, format='-', start=offset, label='Naive forecast')"
      ],
      "metadata": {
        "id": "v9L32irCsD6x",
        "colab": {
          "base_uri": "https://localhost:8080/",
          "height": 619
        },
        "outputId": "e7058621-96ec-4d2a-e4eb-67a958b064c0"
      },
      "execution_count": 152,
      "outputs": [
        {
          "output_type": "display_data",
          "data": {
            "text/plain": [
              "<Figure size 1000x700 with 1 Axes>"
            ],
            "image/png": "[encoded data removed]"
          },
          "metadata": {}
        }
      ]
    },
    {
      "cell_type": "code",
      "source": [
        "# import tensorflow\n",
        "import tensorflow as tf"
      ],
      "metadata": {
        "id": "GxlS9kPf0Ts0"
      },
      "execution_count": 153,
      "outputs": []
    },
    {
      "cell_type": "code",
      "source": [
        "def mean_absolute_scaled_error(y_true, y_pred):\n",
        "  \"\"\"\n",
        "  Implement MASE (assuming no seasonality of data)\n",
        "  \"\"\"\n",
        "  mae = tf.reduce_mean(tf.abs(y_true - y_pred))\n",
        "\n",
        "  # Find MAE of naive forecast (no seasonality)\n",
        "  mae_naive_no_season = tf.reduce_mean(tf.abs(y_true[1:] - y_true[:-1]))    # our seasonality is one day (hence the shifting of 1 day)\n",
        "\n",
        "  return mae / mae_naive_no_season"
      ],
      "metadata": {
        "id": "-U9qyYrO004y"
      },
      "execution_count": 154,
      "outputs": []
    },
    {
      "cell_type": "code",
      "source": [
        "def evaluate_preds(y_true, y_pred):\n",
        "  # Make sure float32 (for metric calculations\n",
        "  y_true = tf.cast(y_true, dtype=tf.float32)\n",
        "  y_pred = tf.cast(y_pred, dtype=tf.float32)\n",
        "\n",
        "  # Calculate various metrics\n",
        "  mae = tf.keras.metrics.mean_absolute_error(y_true, y_pred)\n",
        "  mse = tf.keras.metrics.mean_squared_error(y_true, y_pred)   # puts and emphasis on outlier (all errors get squared)\n",
        "  rmse = tf.sqrt(mse)\n",
        "  mape = tf.keras.metrics.mean_absolute_percentage_error(y_true, y_pred)\n",
        "  mase = mean_absolute_scaled_error(y_true, y_pred)\n",
        "\n",
        "  return {'mae': mae.numpy(),\n",
        "          'mse': mse.numpy(),\n",
        "          'rmse': rmse.numpy(),\n",
        "          'mape': mape.numpy(),\n",
        "          'mase': mase.numpy()}"
      ],
      "metadata": {
        "id": "U23SKcSr1l8u"
      },
      "execution_count": 155,
      "outputs": []
    },
    {
      "cell_type": "code",
      "source": [
        "naive_results = evaluate_preds(y_true=y_test[1:],\n",
        "                               y_pred=naive_forecast)\n",
        "naive_results"
      ],
      "metadata": {
        "colab": {
          "base_uri": "https://localhost:8080/"
        },
        "id": "8f74UOE_23RM",
        "outputId": "4a14f76c-97e5-4412-c8bd-e25c92c8e00f"
      },
      "execution_count": 156,
      "outputs": [
        {
          "output_type": "execute_result",
          "data": {
            "text/plain": [
              "{'mae': 567.9802,\n",
              " 'mse': 1147547.0,\n",
              " 'rmse': 1071.2362,\n",
              " 'mape': 2.5165248,\n",
              " 'mase': 0.99957}"
            ]
          },
          "metadata": {},
          "execution_count": 156
        }
      ]
    },
    {
      "cell_type": "code",
      "source": [
        "# Find average price of Bitcoin in test dataset\n",
        "tf.reduce_mean(y_test).numpy()"
      ],
      "metadata": {
        "colab": {
          "base_uri": "https://localhost:8080/"
        },
        "id": "l-ukx0IU3BFo",
        "outputId": "96f0db76-d2f3-4fb2-e4fc-684d1987b27e"
      },
      "execution_count": 157,
      "outputs": [
        {
          "output_type": "execute_result",
          "data": {
            "text/plain": [
              "20056.632963737226"
            ]
          },
          "metadata": {},
          "execution_count": 157
        }
      ]
    },
    {
      "cell_type": "code",
      "source": [
        "HORIZON = 1\n",
        "WINDOW_SIZE = 7"
      ],
      "metadata": {
        "id": "6tBhm4IM3pon"
      },
      "execution_count": 158,
      "outputs": []
    },
    {
      "cell_type": "code",
      "source": [
        "# Create function to label windowed data\n",
        "def get_labelled_windows(x, horizon=1):\n",
        "  \"\"\"\n",
        "  Creates labels for windowed dataset.\n",
        "\n",
        "  E.g. if horizon=1 (default)\n",
        "  Input: [1, 2, 3, 4, 5, 6] -> Output: ([1, 2, 3, 4, 5], [6])\n",
        "  \"\"\"\n",
        "\n",
        "  return x[:, :-horizon], x[:, -horizon:]"
      ],
      "metadata": {
        "id": "fQ19Wgtm48wP"
      },
      "execution_count": 159,
      "outputs": []
    },
    {
      "cell_type": "code",
      "source": [
        "# Test out the window labelling function\n",
        "test_window, test_label = get_labelled_windows(tf.expand_dims(tf.range(8)+1, axis=0), horizon=HORIZON)\n",
        "print(f'Window: {tf.squeeze(test_window).numpy()} -> Label: {tf.squeeze(test_label).numpy()}')"
      ],
      "metadata": {
        "colab": {
          "base_uri": "https://localhost:8080/"
        },
        "id": "FVpGtEry5Z-X",
        "outputId": "5d2e352d-c715-403e-99ba-851795af5e1d"
      },
      "execution_count": 160,
      "outputs": [
        {
          "output_type": "stream",
          "name": "stdout",
          "text": [
            "Window: [1 2 3 4 5 6 7] -> Label: 8\n"
          ]
        }
      ]
    },
    {
      "cell_type": "code",
      "source": [
        "# Create function to view NumPy arrays as windows\n",
        "def make_windows(x, window_size=7, horizon=1):\n",
        "  \"\"\"\n",
        "  Turns 1D array into a 2D array of sequential windows of window_size\n",
        "  \"\"\"\n",
        "\n",
        "  window_step = np.expand_dims(np.arange(window_size+horizon), axis=0)\n",
        "  # print(f'Window step:\\n {window_step}')\n",
        "\n",
        "  # 2. Create a 2D array of multiple window steps (minus 1 to account for 0 indexing)\n",
        "  window_indexes = window_step + np.expand_dims(np.arange(len(x) - (window_size + horizon - 1)), axis=0).T    # create 2D array of windows of size window_size\n",
        "  # print(f'Window indexes:\\n {winow_indexes[:3], window_indexes[-3:], window_indexes.shape})\n",
        "\n",
        "  # 3. Index on the target array (time series) with 2D array of multiple window steps\n",
        "  windowed_array = x[window_indexes]\n",
        "\n",
        "  # 4. Get the labelled windows\n",
        "  windows, labels = get_labelled_windows(windowed_array, horizon=horizon)\n",
        "\n",
        "  return windows, labels"
      ],
      "metadata": {
        "id": "6os_m_FU5_vC"
      },
      "execution_count": 161,
      "outputs": []
    },
    {
      "cell_type": "code",
      "source": [
        "full_windows, full_labels = make_windows(prices, window_size=WINDOW_SIZE, horizon=HORIZON)\n",
        "len(full_windows), len(full_labels)"
      ],
      "metadata": {
        "colab": {
          "base_uri": "https://localhost:8080/"
        },
        "id": "Wo0ZCfz68R3X",
        "outputId": "d27525b4-1197-4372-eb52-98b9307dc0fb"
      },
      "execution_count": 162,
      "outputs": [
        {
          "output_type": "execute_result",
          "data": {
            "text/plain": [
              "(2780, 2780)"
            ]
          },
          "metadata": {},
          "execution_count": 162
        }
      ]
    },
    {
      "cell_type": "code",
      "source": [
        "# View the first 3 windows/labels\n",
        "for i in range(3):\n",
        "  print(f'Window: {full_windows[i]} -> Label: {full_labels[i]}')"
      ],
      "metadata": {
        "colab": {
          "base_uri": "https://localhost:8080/"
        },
        "id": "anIwFrF88a8F",
        "outputId": "f4e72059-4d74-48c2-aa29-8e1740ba6375"
      },
      "execution_count": 163,
      "outputs": [
        {
          "output_type": "stream",
          "name": "stdout",
          "text": [
            "Window: [123.65499 125.455   108.58483 118.67466 121.33866 120.65533 121.795  ] -> Label: [123.033]\n",
            "Window: [125.455   108.58483 118.67466 121.33866 120.65533 121.795   123.033  ] -> Label: [124.049]\n",
            "Window: [108.58483 118.67466 121.33866 120.65533 121.795   123.033   124.049  ] -> Label: [125.96116]\n"
          ]
        }
      ]
    },
    {
      "cell_type": "code",
      "source": [
        "# View the last 3 windows/laels\n",
        "for i in range(3):\n",
        "  print(f'Window {full_windows[i-3]} -> Label: {full_labels[i-3]}')"
      ],
      "metadata": {
        "colab": {
          "base_uri": "https://localhost:8080/"
        },
        "id": "vr0pDrSt84Ie",
        "outputId": "f507cdac-6cc2-4f90-c6b9-b6992669a46d"
      },
      "execution_count": 164,
      "outputs": [
        {
          "output_type": "stream",
          "name": "stdout",
          "text": [
            "Window [58788.20967893 58102.19142623 55715.54665129 56573.5554719\n",
            " 52147.82118698 49764.1320816  50032.69313676] -> Label: [47885.62525472]\n",
            "Window [58102.19142623 55715.54665129 56573.5554719  52147.82118698\n",
            " 49764.1320816  50032.69313676 47885.62525472] -> Label: [45604.61575361]\n",
            "Window [55715.54665129 56573.5554719  52147.82118698 49764.1320816\n",
            " 50032.69313676 47885.62525472 45604.61575361] -> Label: [43144.47129086]\n"
          ]
        }
      ]
    },
    {
      "cell_type": "code",
      "source": [
        "# Make the train test split\n",
        "def make_train_test_splits(windows, labels, test_split=0.2):\n",
        "  \"\"\"\n",
        "  Splits matching pairs of windows and labels into tain and test splits.\n",
        "  \"\"\"\n",
        "  split_size = int(len(windows) * (1-test_split))\n",
        "  train_windows = windows[:split_size]\n",
        "  train_labels = labels[:split_size]\n",
        "  test_windows = windows[split_size:]\n",
        "  test_labels = labels[split_size:]\n",
        "  return train_windows, train_labels, test_windows, test_labels"
      ],
      "metadata": {
        "id": "SX5AkN9f_isE"
      },
      "execution_count": 165,
      "outputs": []
    },
    {
      "cell_type": "code",
      "source": [
        "train_windows, train_labels, test_windows, test_labels = make_train_test_splits(full_windows, full_labels)\n",
        "len(train_windows), len(test_windows), len(train_labels), len(test_labels)"
      ],
      "metadata": {
        "colab": {
          "base_uri": "https://localhost:8080/"
        },
        "id": "W8TmQLgUBMEq",
        "outputId": "9f194c1f-cec2-4570-bc25-852ca7a07dd8"
      },
      "execution_count": 166,
      "outputs": [
        {
          "output_type": "execute_result",
          "data": {
            "text/plain": [
              "(2224, 556, 2224, 556)"
            ]
          },
          "metadata": {},
          "execution_count": 166
        }
      ]
    },
    {
      "cell_type": "code",
      "source": [
        "train_windows[:5], train_labels[:5]"
      ],
      "metadata": {
        "colab": {
          "base_uri": "https://localhost:8080/"
        },
        "id": "I35scHjwBZdQ",
        "outputId": "2c54a6ca-ad69-4f34-cb44-8f598e2749b6"
      },
      "execution_count": 167,
      "outputs": [
        {
          "output_type": "execute_result",
          "data": {
            "text/plain": [
              "(array([[123.65499, 125.455  , 108.58483, 118.67466, 121.33866, 120.65533,\n",
              "         121.795  ],\n",
              "        [125.455  , 108.58483, 118.67466, 121.33866, 120.65533, 121.795  ,\n",
              "         123.033  ],\n",
              "        [108.58483, 118.67466, 121.33866, 120.65533, 121.795  , 123.033  ,\n",
              "         124.049  ],\n",
              "        [118.67466, 121.33866, 120.65533, 121.795  , 123.033  , 124.049  ,\n",
              "         125.96116],\n",
              "        [121.33866, 120.65533, 121.795  , 123.033  , 124.049  , 125.96116,\n",
              "         125.27966]]),\n",
              " array([[123.033  ],\n",
              "        [124.049  ],\n",
              "        [125.96116],\n",
              "        [125.27966],\n",
              "        [125.9275 ]]))"
            ]
          },
          "metadata": {},
          "execution_count": 167
        }
      ]
    },
    {
      "cell_type": "code",
      "source": [
        "import os\n",
        "\n",
        "# Create a function to implement a ModelCheckpoint callback with a specific filename\n",
        "def create_model_checkpoint(model_name, save_path='model_experiments'):\n",
        "  return tf.keras.callbacks.ModelCheckpoint(filepath=os.path.join(save_path, model_name),   # create filepath to save model\n",
        "                                            verbose=0,    # only output a limited amount of text\n",
        "                                            save_best_only=True)  # save only the best model to file"
      ],
      "metadata": {
        "id": "dwNDst-9BeGn"
      },
      "execution_count": 168,
      "outputs": []
    },
    {
      "cell_type": "markdown",
      "source": [
        "# Model 1: Dense Model (window = 7, horizon = 1)"
      ],
      "metadata": {
        "id": "iPpYGy0cDnt_"
      }
    },
    {
      "cell_type": "code",
      "source": [
        "import tensorflow as tf\n",
        "from tensorflow.keras import layers"
      ],
      "metadata": {
        "id": "8mb_beyLDC2b"
      },
      "execution_count": 169,
      "outputs": []
    },
    {
      "cell_type": "code",
      "source": [
        "model_1 = tf.keras.Sequential([\n",
        "    tf.keras.layers.Dense(128, activation='relu'),\n",
        "    tf.keras.layers.Dense(HORIZON)\n",
        "])"
      ],
      "metadata": {
        "id": "86q_ZzA_D_Nq"
      },
      "execution_count": 170,
      "outputs": []
    },
    {
      "cell_type": "code",
      "source": [
        "model_1.compile(loss='mean_absolute_error',\n",
        "              optimizer='adam',\n",
        "              metrics='mean_absolute_error')"
      ],
      "metadata": {
        "id": "teTwkaflEOfd"
      },
      "execution_count": 171,
      "outputs": []
    },
    {
      "cell_type": "code",
      "source": [
        "model_1_history = model_1.fit(x=train_windows,\n",
        "            y=train_labels,\n",
        "            epochs=100,\n",
        "            verbose=1,\n",
        "            batch_size=128,\n",
        "            validation_data=(test_windows, test_labels),\n",
        "            callbacks=[create_model_checkpoint(model_name=model_1.name)])"
      ],
      "metadata": {
        "colab": {
          "base_uri": "https://localhost:8080/"
        },
        "id": "Cec0wA-lEb7z",
        "outputId": "8d6a42e7-53d3-46e5-914c-dfd29faa0cfc"
      },
      "execution_count": 172,
      "outputs": [
        {
          "output_type": "stream",
          "name": "stdout",
          "text": [
            "Epoch 1/100\n",
            "18/18 [==============================] - 1s 38ms/step - loss: 1538.2528 - mean_absolute_error: 1538.2528 - val_loss: 1829.5729 - val_mean_absolute_error: 1829.5729\n",
            "Epoch 2/100\n",
            "18/18 [==============================] - 1s 36ms/step - loss: 356.3104 - mean_absolute_error: 356.3104 - val_loss: 1728.2561 - val_mean_absolute_error: 1728.2561\n",
            "Epoch 3/100\n",
            "18/18 [==============================] - 1s 34ms/step - loss: 214.4043 - mean_absolute_error: 214.4043 - val_loss: 1165.7942 - val_mean_absolute_error: 1165.7942\n",
            "Epoch 4/100\n",
            "18/18 [==============================] - 1s 52ms/step - loss: 193.8112 - mean_absolute_error: 193.8112 - val_loss: 1071.7144 - val_mean_absolute_error: 1071.7144\n",
            "Epoch 5/100\n",
            "18/18 [==============================] - 1s 50ms/step - loss: 188.4361 - mean_absolute_error: 188.4361 - val_loss: 1039.1965 - val_mean_absolute_error: 1039.1965\n",
            "Epoch 6/100\n",
            "18/18 [==============================] - 1s 48ms/step - loss: 182.3057 - mean_absolute_error: 182.3057 - val_loss: 1013.7519 - val_mean_absolute_error: 1013.7519\n",
            "Epoch 7/100\n",
            "18/18 [==============================] - 1s 53ms/step - loss: 178.5018 - mean_absolute_error: 178.5018 - val_loss: 986.4374 - val_mean_absolute_error: 986.4374\n",
            "Epoch 8/100\n",
            "18/18 [==============================] - 2s 105ms/step - loss: 173.3242 - mean_absolute_error: 173.3242 - val_loss: 981.0845 - val_mean_absolute_error: 981.0845\n",
            "Epoch 9/100\n",
            "18/18 [==============================] - 1s 58ms/step - loss: 174.9381 - mean_absolute_error: 174.9381 - val_loss: 965.5610 - val_mean_absolute_error: 965.5610\n",
            "Epoch 10/100\n",
            "18/18 [==============================] - 1s 41ms/step - loss: 164.9883 - mean_absolute_error: 164.9883 - val_loss: 924.9875 - val_mean_absolute_error: 924.9875\n",
            "Epoch 11/100\n",
            "18/18 [==============================] - 0s 4ms/step - loss: 169.4181 - mean_absolute_error: 169.4181 - val_loss: 1133.3307 - val_mean_absolute_error: 1133.3307\n",
            "Epoch 12/100\n",
            "18/18 [==============================] - 1s 33ms/step - loss: 165.0554 - mean_absolute_error: 165.0554 - val_loss: 877.6181 - val_mean_absolute_error: 877.6181\n",
            "Epoch 13/100\n",
            "18/18 [==============================] - 0s 6ms/step - loss: 154.7196 - mean_absolute_error: 154.7196 - val_loss: 890.2670 - val_mean_absolute_error: 890.2670\n",
            "Epoch 14/100\n",
            "18/18 [==============================] - 1s 42ms/step - loss: 152.3035 - mean_absolute_error: 152.3035 - val_loss: 870.4797 - val_mean_absolute_error: 870.4797\n",
            "Epoch 15/100\n",
            "18/18 [==============================] - 1s 36ms/step - loss: 148.9442 - mean_absolute_error: 148.9442 - val_loss: 820.3303 - val_mean_absolute_error: 820.3303\n",
            "Epoch 16/100\n",
            "18/18 [==============================] - 0s 5ms/step - loss: 146.5038 - mean_absolute_error: 146.5038 - val_loss: 833.5654 - val_mean_absolute_error: 833.5654\n",
            "Epoch 17/100\n",
            "18/18 [==============================] - 1s 37ms/step - loss: 150.5948 - mean_absolute_error: 150.5948 - val_loss: 801.8973 - val_mean_absolute_error: 801.8973\n",
            "Epoch 18/100\n",
            "18/18 [==============================] - 1s 29ms/step - loss: 141.3542 - mean_absolute_error: 141.3542 - val_loss: 788.1928 - val_mean_absolute_error: 788.1928\n",
            "Epoch 19/100\n",
            "18/18 [==============================] - 0s 28ms/step - loss: 141.6747 - mean_absolute_error: 141.6747 - val_loss: 765.9556 - val_mean_absolute_error: 765.9556\n",
            "Epoch 20/100\n",
            "18/18 [==============================] - 0s 4ms/step - loss: 136.2636 - mean_absolute_error: 136.2636 - val_loss: 784.2695 - val_mean_absolute_error: 784.2695\n",
            "Epoch 21/100\n",
            "18/18 [==============================] - 0s 28ms/step - loss: 136.4619 - mean_absolute_error: 136.4619 - val_loss: 747.2091 - val_mean_absolute_error: 747.2091\n",
            "Epoch 22/100\n",
            "18/18 [==============================] - 0s 28ms/step - loss: 135.9370 - mean_absolute_error: 135.9370 - val_loss: 739.5590 - val_mean_absolute_error: 739.5590\n",
            "Epoch 23/100\n",
            "18/18 [==============================] - 0s 3ms/step - loss: 132.1171 - mean_absolute_error: 132.1171 - val_loss: 747.5242 - val_mean_absolute_error: 747.5242\n",
            "Epoch 24/100\n",
            "18/18 [==============================] - 0s 3ms/step - loss: 130.7454 - mean_absolute_error: 130.7454 - val_loss: 802.9781 - val_mean_absolute_error: 802.9781\n",
            "Epoch 25/100\n",
            "18/18 [==============================] - 0s 27ms/step - loss: 133.4992 - mean_absolute_error: 133.4992 - val_loss: 703.7372 - val_mean_absolute_error: 703.7372\n",
            "Epoch 26/100\n",
            "18/18 [==============================] - 0s 28ms/step - loss: 133.2045 - mean_absolute_error: 133.2045 - val_loss: 694.0508 - val_mean_absolute_error: 694.0508\n",
            "Epoch 27/100\n",
            "18/18 [==============================] - 0s 4ms/step - loss: 131.5211 - mean_absolute_error: 131.5211 - val_loss: 706.5383 - val_mean_absolute_error: 706.5383\n",
            "Epoch 28/100\n",
            "18/18 [==============================] - 0s 5ms/step - loss: 131.1048 - mean_absolute_error: 131.1048 - val_loss: 703.9977 - val_mean_absolute_error: 703.9977\n",
            "Epoch 29/100\n",
            "18/18 [==============================] - 0s 4ms/step - loss: 135.6815 - mean_absolute_error: 135.6815 - val_loss: 697.5591 - val_mean_absolute_error: 697.5591\n",
            "Epoch 30/100\n",
            "18/18 [==============================] - 0s 29ms/step - loss: 126.3023 - mean_absolute_error: 126.3023 - val_loss: 667.5401 - val_mean_absolute_error: 667.5401\n",
            "Epoch 31/100\n",
            "18/18 [==============================] - 0s 3ms/step - loss: 123.3532 - mean_absolute_error: 123.3532 - val_loss: 700.2170 - val_mean_absolute_error: 700.2170\n",
            "Epoch 32/100\n",
            "18/18 [==============================] - 1s 29ms/step - loss: 125.4308 - mean_absolute_error: 125.4308 - val_loss: 657.3925 - val_mean_absolute_error: 657.3925\n",
            "Epoch 33/100\n",
            "18/18 [==============================] - 0s 3ms/step - loss: 127.8602 - mean_absolute_error: 127.8602 - val_loss: 749.7548 - val_mean_absolute_error: 749.7548\n",
            "Epoch 34/100\n",
            "18/18 [==============================] - 0s 4ms/step - loss: 128.7168 - mean_absolute_error: 128.7168 - val_loss: 694.3868 - val_mean_absolute_error: 694.3868\n",
            "Epoch 35/100\n",
            "18/18 [==============================] - 0s 4ms/step - loss: 128.3056 - mean_absolute_error: 128.3056 - val_loss: 676.9597 - val_mean_absolute_error: 676.9597\n",
            "Epoch 36/100\n",
            "18/18 [==============================] - 0s 4ms/step - loss: 128.3742 - mean_absolute_error: 128.3742 - val_loss: 663.7839 - val_mean_absolute_error: 663.7839\n",
            "Epoch 37/100\n",
            "18/18 [==============================] - 0s 4ms/step - loss: 122.6244 - mean_absolute_error: 122.6244 - val_loss: 779.1506 - val_mean_absolute_error: 779.1506\n",
            "Epoch 38/100\n",
            "18/18 [==============================] - 0s 29ms/step - loss: 128.4324 - mean_absolute_error: 128.4324 - val_loss: 633.2346 - val_mean_absolute_error: 633.2346\n",
            "Epoch 39/100\n",
            "18/18 [==============================] - 0s 26ms/step - loss: 118.7073 - mean_absolute_error: 118.7073 - val_loss: 632.3889 - val_mean_absolute_error: 632.3889\n",
            "Epoch 40/100\n",
            "18/18 [==============================] - 1s 36ms/step - loss: 117.5748 - mean_absolute_error: 117.5748 - val_loss: 629.8799 - val_mean_absolute_error: 629.8799\n",
            "Epoch 41/100\n",
            "18/18 [==============================] - 0s 6ms/step - loss: 116.3738 - mean_absolute_error: 116.3738 - val_loss: 636.6650 - val_mean_absolute_error: 636.6650\n",
            "Epoch 42/100\n",
            "18/18 [==============================] - 0s 5ms/step - loss: 117.5694 - mean_absolute_error: 117.5694 - val_loss: 708.3262 - val_mean_absolute_error: 708.3262\n",
            "Epoch 43/100\n",
            "18/18 [==============================] - 0s 5ms/step - loss: 120.6187 - mean_absolute_error: 120.6187 - val_loss: 705.8057 - val_mean_absolute_error: 705.8057\n",
            "Epoch 44/100\n",
            "18/18 [==============================] - 1s 38ms/step - loss: 116.8273 - mean_absolute_error: 116.8273 - val_loss: 625.7809 - val_mean_absolute_error: 625.7809\n",
            "Epoch 45/100\n",
            "18/18 [==============================] - 0s 5ms/step - loss: 118.3708 - mean_absolute_error: 118.3708 - val_loss: 626.3505 - val_mean_absolute_error: 626.3505\n",
            "Epoch 46/100\n",
            "18/18 [==============================] - 1s 40ms/step - loss: 116.1346 - mean_absolute_error: 116.1346 - val_loss: 615.9445 - val_mean_absolute_error: 615.9445\n",
            "Epoch 47/100\n",
            "18/18 [==============================] - 1s 44ms/step - loss: 118.3402 - mean_absolute_error: 118.3402 - val_loss: 610.2379 - val_mean_absolute_error: 610.2379\n",
            "Epoch 48/100\n",
            "18/18 [==============================] - 1s 30ms/step - loss: 118.5059 - mean_absolute_error: 118.5059 - val_loss: 604.3779 - val_mean_absolute_error: 604.3779\n",
            "Epoch 49/100\n",
            "18/18 [==============================] - 0s 4ms/step - loss: 117.0795 - mean_absolute_error: 117.0795 - val_loss: 652.8975 - val_mean_absolute_error: 652.8975\n",
            "Epoch 50/100\n",
            "18/18 [==============================] - 0s 27ms/step - loss: 117.3017 - mean_absolute_error: 117.3017 - val_loss: 600.9363 - val_mean_absolute_error: 600.9363\n",
            "Epoch 51/100\n",
            "18/18 [==============================] - 0s 4ms/step - loss: 115.6810 - mean_absolute_error: 115.6810 - val_loss: 604.7641 - val_mean_absolute_error: 604.7641\n",
            "Epoch 52/100\n",
            "18/18 [==============================] - 0s 4ms/step - loss: 113.4132 - mean_absolute_error: 113.4132 - val_loss: 616.1037 - val_mean_absolute_error: 616.1037\n",
            "Epoch 53/100\n",
            "18/18 [==============================] - 0s 4ms/step - loss: 114.7284 - mean_absolute_error: 114.7284 - val_loss: 679.5178 - val_mean_absolute_error: 679.5178\n",
            "Epoch 54/100\n",
            "18/18 [==============================] - 0s 4ms/step - loss: 116.6141 - mean_absolute_error: 116.6141 - val_loss: 601.0235 - val_mean_absolute_error: 601.0235\n",
            "Epoch 55/100\n",
            "18/18 [==============================] - 0s 4ms/step - loss: 111.9245 - mean_absolute_error: 111.9245 - val_loss: 617.6340 - val_mean_absolute_error: 617.6340\n",
            "Epoch 56/100\n",
            "18/18 [==============================] - 0s 5ms/step - loss: 111.9146 - mean_absolute_error: 111.9146 - val_loss: 613.0440 - val_mean_absolute_error: 613.0440\n",
            "Epoch 57/100\n",
            "18/18 [==============================] - 0s 29ms/step - loss: 111.7438 - mean_absolute_error: 111.7438 - val_loss: 600.6909 - val_mean_absolute_error: 600.6909\n",
            "Epoch 58/100\n",
            "18/18 [==============================] - 0s 4ms/step - loss: 111.2509 - mean_absolute_error: 111.2509 - val_loss: 602.7944 - val_mean_absolute_error: 602.7944\n",
            "Epoch 59/100\n",
            "18/18 [==============================] - 0s 27ms/step - loss: 113.5314 - mean_absolute_error: 113.5314 - val_loss: 589.3534 - val_mean_absolute_error: 589.3534\n",
            "Epoch 60/100\n",
            "18/18 [==============================] - 0s 4ms/step - loss: 116.1726 - mean_absolute_error: 116.1726 - val_loss: 761.4286 - val_mean_absolute_error: 761.4286\n",
            "Epoch 61/100\n",
            "18/18 [==============================] - 0s 4ms/step - loss: 122.3297 - mean_absolute_error: 122.3297 - val_loss: 599.3438 - val_mean_absolute_error: 599.3438\n",
            "Epoch 62/100\n",
            "18/18 [==============================] - 0s 5ms/step - loss: 112.1586 - mean_absolute_error: 112.1586 - val_loss: 602.5444 - val_mean_absolute_error: 602.5444\n",
            "Epoch 63/100\n",
            "18/18 [==============================] - 0s 28ms/step - loss: 112.0115 - mean_absolute_error: 112.0115 - val_loss: 584.6517 - val_mean_absolute_error: 584.6517\n",
            "Epoch 64/100\n",
            "18/18 [==============================] - 0s 4ms/step - loss: 110.3326 - mean_absolute_error: 110.3326 - val_loss: 585.8875 - val_mean_absolute_error: 585.8875\n",
            "Epoch 65/100\n",
            "18/18 [==============================] - 0s 4ms/step - loss: 110.0979 - mean_absolute_error: 110.0979 - val_loss: 593.0577 - val_mean_absolute_error: 593.0577\n",
            "Epoch 66/100\n",
            "18/18 [==============================] - 0s 5ms/step - loss: 112.6555 - mean_absolute_error: 112.6555 - val_loss: 601.4801 - val_mean_absolute_error: 601.4801\n",
            "Epoch 67/100\n",
            "18/18 [==============================] - 0s 27ms/step - loss: 111.2146 - mean_absolute_error: 111.2146 - val_loss: 583.4317 - val_mean_absolute_error: 583.4317\n",
            "Epoch 68/100\n",
            "18/18 [==============================] - 0s 27ms/step - loss: 113.2839 - mean_absolute_error: 113.2839 - val_loss: 581.0865 - val_mean_absolute_error: 581.0865\n",
            "Epoch 69/100\n",
            "18/18 [==============================] - 0s 5ms/step - loss: 114.9673 - mean_absolute_error: 114.9673 - val_loss: 586.5203 - val_mean_absolute_error: 586.5203\n",
            "Epoch 70/100\n",
            "18/18 [==============================] - 0s 3ms/step - loss: 110.1422 - mean_absolute_error: 110.1422 - val_loss: 588.0267 - val_mean_absolute_error: 588.0267\n",
            "Epoch 71/100\n",
            "18/18 [==============================] - 0s 5ms/step - loss: 110.5949 - mean_absolute_error: 110.5949 - val_loss: 627.2892 - val_mean_absolute_error: 627.2892\n",
            "Epoch 72/100\n",
            "18/18 [==============================] - 0s 5ms/step - loss: 109.1565 - mean_absolute_error: 109.1565 - val_loss: 617.7069 - val_mean_absolute_error: 617.7069\n",
            "Epoch 73/100\n",
            "18/18 [==============================] - 0s 4ms/step - loss: 108.0922 - mean_absolute_error: 108.0922 - val_loss: 649.6033 - val_mean_absolute_error: 649.6033\n",
            "Epoch 74/100\n",
            "18/18 [==============================] - 0s 4ms/step - loss: 112.3420 - mean_absolute_error: 112.3420 - val_loss: 724.5748 - val_mean_absolute_error: 724.5749\n",
            "Epoch 75/100\n",
            "18/18 [==============================] - 0s 4ms/step - loss: 120.4592 - mean_absolute_error: 120.4592 - val_loss: 645.4235 - val_mean_absolute_error: 645.4235\n",
            "Epoch 76/100\n",
            "18/18 [==============================] - 0s 4ms/step - loss: 115.0822 - mean_absolute_error: 115.0822 - val_loss: 585.4550 - val_mean_absolute_error: 585.4550\n",
            "Epoch 77/100\n",
            "18/18 [==============================] - 0s 4ms/step - loss: 111.7862 - mean_absolute_error: 111.7862 - val_loss: 591.4817 - val_mean_absolute_error: 591.4817\n",
            "Epoch 78/100\n",
            "18/18 [==============================] - 1s 63ms/step - loss: 107.8965 - mean_absolute_error: 107.8965 - val_loss: 580.7842 - val_mean_absolute_error: 580.7842\n",
            "Epoch 79/100\n",
            "18/18 [==============================] - 1s 31ms/step - loss: 110.2253 - mean_absolute_error: 110.2253 - val_loss: 578.2502 - val_mean_absolute_error: 578.2502\n",
            "Epoch 80/100\n",
            "18/18 [==============================] - 0s 4ms/step - loss: 116.3710 - mean_absolute_error: 116.3710 - val_loss: 597.0552 - val_mean_absolute_error: 597.0552\n",
            "Epoch 81/100\n",
            "18/18 [==============================] - 0s 4ms/step - loss: 109.5505 - mean_absolute_error: 109.5505 - val_loss: 585.1380 - val_mean_absolute_error: 585.1380\n",
            "Epoch 82/100\n",
            "18/18 [==============================] - 0s 4ms/step - loss: 110.5566 - mean_absolute_error: 110.5566 - val_loss: 587.0947 - val_mean_absolute_error: 587.0947\n",
            "Epoch 83/100\n",
            "18/18 [==============================] - 1s 30ms/step - loss: 108.4292 - mean_absolute_error: 108.4292 - val_loss: 571.3625 - val_mean_absolute_error: 571.3625\n",
            "Epoch 84/100\n",
            "18/18 [==============================] - 0s 4ms/step - loss: 111.2547 - mean_absolute_error: 111.2547 - val_loss: 664.3046 - val_mean_absolute_error: 664.3046\n",
            "Epoch 85/100\n",
            "18/18 [==============================] - 0s 5ms/step - loss: 113.2698 - mean_absolute_error: 113.2698 - val_loss: 578.8967 - val_mean_absolute_error: 578.8967\n",
            "Epoch 86/100\n",
            "18/18 [==============================] - 0s 4ms/step - loss: 109.0336 - mean_absolute_error: 109.0336 - val_loss: 714.7182 - val_mean_absolute_error: 714.7182\n",
            "Epoch 87/100\n",
            "18/18 [==============================] - 0s 4ms/step - loss: 114.7384 - mean_absolute_error: 114.7384 - val_loss: 605.6979 - val_mean_absolute_error: 605.6979\n",
            "Epoch 88/100\n",
            "18/18 [==============================] - 0s 4ms/step - loss: 110.0542 - mean_absolute_error: 110.0542 - val_loss: 583.9231 - val_mean_absolute_error: 583.9231\n",
            "Epoch 89/100\n",
            "18/18 [==============================] - 0s 5ms/step - loss: 109.5111 - mean_absolute_error: 109.5111 - val_loss: 669.4890 - val_mean_absolute_error: 669.4890\n",
            "Epoch 90/100\n",
            "18/18 [==============================] - 0s 3ms/step - loss: 111.2506 - mean_absolute_error: 111.2506 - val_loss: 725.2197 - val_mean_absolute_error: 725.2197\n",
            "Epoch 91/100\n",
            "18/18 [==============================] - 0s 4ms/step - loss: 116.5199 - mean_absolute_error: 116.5199 - val_loss: 600.2667 - val_mean_absolute_error: 600.2667\n",
            "Epoch 92/100\n",
            "18/18 [==============================] - 0s 3ms/step - loss: 113.1018 - mean_absolute_error: 113.1018 - val_loss: 659.9218 - val_mean_absolute_error: 659.9218\n",
            "Epoch 93/100\n",
            "18/18 [==============================] - 0s 4ms/step - loss: 116.3648 - mean_absolute_error: 116.3648 - val_loss: 572.2416 - val_mean_absolute_error: 572.2416\n",
            "Epoch 94/100\n",
            "18/18 [==============================] - 0s 4ms/step - loss: 110.4754 - mean_absolute_error: 110.4754 - val_loss: 621.2156 - val_mean_absolute_error: 621.2156\n",
            "Epoch 95/100\n",
            "18/18 [==============================] - 0s 4ms/step - loss: 110.6092 - mean_absolute_error: 110.6092 - val_loss: 585.0588 - val_mean_absolute_error: 585.0588\n",
            "Epoch 96/100\n",
            "18/18 [==============================] - 0s 4ms/step - loss: 106.9299 - mean_absolute_error: 106.9299 - val_loss: 583.9645 - val_mean_absolute_error: 583.9645\n",
            "Epoch 97/100\n",
            "18/18 [==============================] - 1s 32ms/step - loss: 110.5807 - mean_absolute_error: 110.5807 - val_loss: 567.1140 - val_mean_absolute_error: 567.1140\n",
            "Epoch 98/100\n",
            "18/18 [==============================] - 0s 4ms/step - loss: 106.9684 - mean_absolute_error: 106.9684 - val_loss: 598.3905 - val_mean_absolute_error: 598.3905\n",
            "Epoch 99/100\n",
            "18/18 [==============================] - 0s 29ms/step - loss: 107.2800 - mean_absolute_error: 107.2800 - val_loss: 566.9113 - val_mean_absolute_error: 566.9113\n",
            "Epoch 100/100\n",
            "18/18 [==============================] - 0s 3ms/step - loss: 107.6164 - mean_absolute_error: 107.6164 - val_loss: 601.9078 - val_mean_absolute_error: 601.9078\n"
          ]
        }
      ]
    },
    {
      "cell_type": "code",
      "source": [
        "model_1.name"
      ],
      "metadata": {
        "colab": {
          "base_uri": "https://localhost:8080/",
          "height": 35
        },
        "id": "BMfk4TeZHE5U",
        "outputId": "6e6b49eb-7cc5-4d3c-f672-2aa83b1d2edf"
      },
      "execution_count": 173,
      "outputs": [
        {
          "output_type": "execute_result",
          "data": {
            "text/plain": [
              "'sequential_6'"
            ],
            "application/vnd.google.colaboratory.intrinsic+json": {
              "type": "string"
            }
          },
          "metadata": {},
          "execution_count": 173
        }
      ]
    },
    {
      "cell_type": "code",
      "source": [
        "model_1.evaluate(test_windows, test_labels)"
      ],
      "metadata": {
        "colab": {
          "base_uri": "https://localhost:8080/"
        },
        "id": "I2OlGH70FRwy",
        "outputId": "9dadab40-fdb6-4171-dbd6-95b18e13d473"
      },
      "execution_count": 174,
      "outputs": [
        {
          "output_type": "stream",
          "name": "stdout",
          "text": [
            "18/18 [==============================] - 0s 1ms/step - loss: 601.9078 - mean_absolute_error: 601.9078\n"
          ]
        },
        {
          "output_type": "execute_result",
          "data": {
            "text/plain": [
              "[601.9078369140625, 601.9078369140625]"
            ]
          },
          "metadata": {},
          "execution_count": 174
        }
      ]
    },
    {
      "cell_type": "code",
      "source": [
        "# Load in saved best performing model_1 and evaluate on test data\n",
        "model_1 = tf.keras.models.load_model('/content/model_experiments/sequential')\n",
        "model_1.evaluate(test_windows, test_labels)"
      ],
      "metadata": {
        "colab": {
          "base_uri": "https://localhost:8080/"
        },
        "id": "P3LoCCtaGHSS",
        "outputId": "b389d9a9-a706-4492-9c20-151b381a5019"
      },
      "execution_count": 175,
      "outputs": [
        {
          "output_type": "stream",
          "name": "stdout",
          "text": [
            "18/18 [==============================] - 0s 2ms/step - loss: 565.6333 - mean_absolute_error: 565.6333\n"
          ]
        },
        {
          "output_type": "execute_result",
          "data": {
            "text/plain": [
              "[565.63330078125, 565.63330078125]"
            ]
          },
          "metadata": {},
          "execution_count": 175
        }
      ]
    },
    {
      "cell_type": "code",
      "source": [
        "def make_preds(model, input_data):\n",
        "  forecast = model.predict(input_data)\n",
        "  return tf.squeeze(forecast)     # return 1D array of predictions\n"
      ],
      "metadata": {
        "id": "nruuuVKRGs_1"
      },
      "execution_count": 176,
      "outputs": []
    },
    {
      "cell_type": "code",
      "source": [
        "# Make predictions using model_1 on the test dataset and view the results\n",
        "model_1_preds = make_preds(model_1, test_windows)\n",
        "len(model_1_preds), model_1_preds[:10]"
      ],
      "metadata": {
        "colab": {
          "base_uri": "https://localhost:8080/"
        },
        "id": "YEaSxu25H0DK",
        "outputId": "04c44bee-d4e6-458a-de7d-75a05e2470ee"
      },
      "execution_count": 177,
      "outputs": [
        {
          "output_type": "stream",
          "name": "stdout",
          "text": [
            "18/18 [==============================] - 0s 2ms/step\n"
          ]
        },
        {
          "output_type": "execute_result",
          "data": {
            "text/plain": [
              "(556,\n",
              " <tf.Tensor: shape=(10,), dtype=float32, numpy=\n",
              " array([8848.501, 8792.168, 9023.411, 8795.997, 8752.48 , 8701.206,\n",
              "        8695.032, 8528.692, 8445.505, 8530.079], dtype=float32)>)"
            ]
          },
          "metadata": {},
          "execution_count": 177
        }
      ]
    },
    {
      "cell_type": "code",
      "source": [
        "# Evaluate preds\n",
        "model_1_results = evaluate_preds(y_true=tf.squeeze(test_labels),   # reduce to right shape\n",
        "                                y_pred=model_1_preds)\n",
        "model_1_results"
      ],
      "metadata": {
        "colab": {
          "base_uri": "https://localhost:8080/"
        },
        "id": "lKk4jIlFIDL2",
        "outputId": "c98a42ed-c23e-4fbc-c5e3-954ed356c490"
      },
      "execution_count": 178,
      "outputs": [
        {
          "output_type": "execute_result",
          "data": {
            "text/plain": [
              "{'mae': 565.6335,\n",
              " 'mse': 1159463.1,\n",
              " 'rmse': 1076.7837,\n",
              " 'mape': 2.5273826,\n",
              " 'mase': 0.99366134}"
            ]
          },
          "metadata": {},
          "execution_count": 178
        }
      ]
    },
    {
      "cell_type": "markdown",
      "source": [
        "# Model 2"
      ],
      "metadata": {
        "id": "KswNLIP-KMOO"
      }
    },
    {
      "cell_type": "code",
      "source": [
        "# Model 2\n",
        "WINDOW_SIZE = 30\n",
        "HORIZON = 1"
      ],
      "metadata": {
        "id": "5FJQFQUvIvLC"
      },
      "execution_count": 179,
      "outputs": []
    },
    {
      "cell_type": "code",
      "source": [
        "full_windows, full_labels = make_windows(prices, window_size=WINDOW_SIZE, horizon=HORIZON)\n",
        "len(full_windows), len(full_labels)"
      ],
      "metadata": {
        "colab": {
          "base_uri": "https://localhost:8080/"
        },
        "id": "ERNpTfaGKbrE",
        "outputId": "4f749475-2781-4587-c90f-4d9324a0b9fa"
      },
      "execution_count": 180,
      "outputs": [
        {
          "output_type": "execute_result",
          "data": {
            "text/plain": [
              "(2757, 2757)"
            ]
          },
          "metadata": {},
          "execution_count": 180
        }
      ]
    },
    {
      "cell_type": "code",
      "source": [
        "train_windows, train_labels, test_windows, test_labels = make_train_test_splits(full_windows, full_labels)\n",
        "len(train_windows), len(test_windows), len(train_labels), len(test_labels)"
      ],
      "metadata": {
        "colab": {
          "base_uri": "https://localhost:8080/"
        },
        "id": "j4CY4iVNKk-F",
        "outputId": "9bfb5f14-cc73-4c9e-cd63-c9fc9d163b31"
      },
      "execution_count": 181,
      "outputs": [
        {
          "output_type": "execute_result",
          "data": {
            "text/plain": [
              "(2205, 552, 2205, 552)"
            ]
          },
          "metadata": {},
          "execution_count": 181
        }
      ]
    },
    {
      "cell_type": "code",
      "source": [
        "model_2 = tf.keras.Sequential([\n",
        "    tf.keras.layers.Dense(128, activation='relu'),\n",
        "    tf.keras.layers.Dense(HORIZON)\n",
        "])"
      ],
      "metadata": {
        "id": "2VOulC2uKtX2"
      },
      "execution_count": 182,
      "outputs": []
    },
    {
      "cell_type": "code",
      "source": [
        "model_2.compile(loss='mean_absolute_error',\n",
        "              optimizer='adam',\n",
        "              metrics='mean_absolute_error')"
      ],
      "metadata": {
        "id": "Q28OM4cJKwOj"
      },
      "execution_count": 183,
      "outputs": []
    },
    {
      "cell_type": "code",
      "source": [
        "model_2_history = model_2.fit(x=train_windows,\n",
        "            y=train_labels,\n",
        "            epochs=100,\n",
        "            verbose=1,\n",
        "            batch_size=128,\n",
        "            validation_data=(test_windows, test_labels),\n",
        "            callbacks=[create_model_checkpoint(model_name=model_2.name)])"
      ],
      "metadata": {
        "colab": {
          "base_uri": "https://localhost:8080/"
        },
        "id": "B4FSOgjbKyZh",
        "outputId": "82776c21-e534-4803-80e1-39aab324102e"
      },
      "execution_count": 184,
      "outputs": [
        {
          "output_type": "stream",
          "name": "stdout",
          "text": [
            "Epoch 1/100\n",
            "18/18 [==============================] - 1s 53ms/step - loss: 1383.9099 - mean_absolute_error: 1383.9099 - val_loss: 4026.0774 - val_mean_absolute_error: 4026.0774\n",
            "Epoch 2/100\n",
            "18/18 [==============================] - 1s 40ms/step - loss: 452.4228 - mean_absolute_error: 452.4228 - val_loss: 2392.3420 - val_mean_absolute_error: 2392.3420\n",
            "Epoch 3/100\n",
            "18/18 [==============================] - 1s 43ms/step - loss: 323.5700 - mean_absolute_error: 323.5700 - val_loss: 1334.8684 - val_mean_absolute_error: 1334.8684\n",
            "Epoch 4/100\n",
            "18/18 [==============================] - 0s 6ms/step - loss: 259.6561 - mean_absolute_error: 259.6561 - val_loss: 1448.9226 - val_mean_absolute_error: 1448.9226\n",
            "Epoch 5/100\n",
            "18/18 [==============================] - 0s 7ms/step - loss: 262.3589 - mean_absolute_error: 262.3589 - val_loss: 1499.9680 - val_mean_absolute_error: 1499.9680\n",
            "Epoch 6/100\n",
            "18/18 [==============================] - 1s 43ms/step - loss: 248.9001 - mean_absolute_error: 248.9001 - val_loss: 1265.8175 - val_mean_absolute_error: 1265.8175\n",
            "Epoch 7/100\n",
            "18/18 [==============================] - 1s 34ms/step - loss: 233.7151 - mean_absolute_error: 233.7151 - val_loss: 1113.3197 - val_mean_absolute_error: 1113.3197\n",
            "Epoch 8/100\n",
            "18/18 [==============================] - 0s 28ms/step - loss: 197.7862 - mean_absolute_error: 197.7862 - val_loss: 1065.2633 - val_mean_absolute_error: 1065.2633\n",
            "Epoch 9/100\n",
            "18/18 [==============================] - 0s 29ms/step - loss: 196.7873 - mean_absolute_error: 196.7873 - val_loss: 1053.1360 - val_mean_absolute_error: 1053.1360\n",
            "Epoch 10/100\n",
            "18/18 [==============================] - 0s 27ms/step - loss: 190.1134 - mean_absolute_error: 190.1134 - val_loss: 1048.9178 - val_mean_absolute_error: 1048.9178\n",
            "Epoch 11/100\n",
            "18/18 [==============================] - 0s 28ms/step - loss: 181.1094 - mean_absolute_error: 181.1094 - val_loss: 1002.1829 - val_mean_absolute_error: 1002.1829\n",
            "Epoch 12/100\n",
            "18/18 [==============================] - 0s 29ms/step - loss: 184.1998 - mean_absolute_error: 184.1998 - val_loss: 972.4929 - val_mean_absolute_error: 972.4929\n",
            "Epoch 13/100\n",
            "18/18 [==============================] - 0s 28ms/step - loss: 173.1005 - mean_absolute_error: 173.1005 - val_loss: 952.1531 - val_mean_absolute_error: 952.1531\n",
            "Epoch 14/100\n",
            "18/18 [==============================] - 0s 4ms/step - loss: 171.0755 - mean_absolute_error: 171.0755 - val_loss: 985.8982 - val_mean_absolute_error: 985.8982\n",
            "Epoch 15/100\n",
            "18/18 [==============================] - 0s 29ms/step - loss: 186.9696 - mean_absolute_error: 186.9696 - val_loss: 937.3532 - val_mean_absolute_error: 937.3532\n",
            "Epoch 16/100\n",
            "18/18 [==============================] - 0s 29ms/step - loss: 165.6258 - mean_absolute_error: 165.6258 - val_loss: 913.1556 - val_mean_absolute_error: 913.1556\n",
            "Epoch 17/100\n",
            "18/18 [==============================] - 0s 27ms/step - loss: 164.7934 - mean_absolute_error: 164.7934 - val_loss: 900.9132 - val_mean_absolute_error: 900.9132\n",
            "Epoch 18/100\n",
            "18/18 [==============================] - 0s 3ms/step - loss: 156.2809 - mean_absolute_error: 156.2809 - val_loss: 992.9012 - val_mean_absolute_error: 992.9012\n",
            "Epoch 19/100\n",
            "18/18 [==============================] - 0s 28ms/step - loss: 161.9826 - mean_absolute_error: 161.9826 - val_loss: 871.3922 - val_mean_absolute_error: 871.3922\n",
            "Epoch 20/100\n",
            "18/18 [==============================] - 0s 28ms/step - loss: 153.7771 - mean_absolute_error: 153.7771 - val_loss: 854.5056 - val_mean_absolute_error: 854.5056\n",
            "Epoch 21/100\n",
            "18/18 [==============================] - 0s 28ms/step - loss: 159.4223 - mean_absolute_error: 159.4223 - val_loss: 842.0332 - val_mean_absolute_error: 842.0332\n",
            "Epoch 22/100\n",
            "18/18 [==============================] - 0s 4ms/step - loss: 168.6461 - mean_absolute_error: 168.6461 - val_loss: 1419.8938 - val_mean_absolute_error: 1419.8938\n",
            "Epoch 23/100\n",
            "18/18 [==============================] - 0s 4ms/step - loss: 212.9636 - mean_absolute_error: 212.9636 - val_loss: 1090.4897 - val_mean_absolute_error: 1090.4897\n",
            "Epoch 24/100\n",
            "18/18 [==============================] - 0s 5ms/step - loss: 180.6898 - mean_absolute_error: 180.6898 - val_loss: 1095.4415 - val_mean_absolute_error: 1095.4415\n",
            "Epoch 25/100\n",
            "18/18 [==============================] - 0s 27ms/step - loss: 190.1786 - mean_absolute_error: 190.1786 - val_loss: 807.4454 - val_mean_absolute_error: 807.4454\n",
            "Epoch 26/100\n",
            "18/18 [==============================] - 0s 5ms/step - loss: 151.2979 - mean_absolute_error: 151.2979 - val_loss: 893.8322 - val_mean_absolute_error: 893.8322\n",
            "Epoch 27/100\n",
            "18/18 [==============================] - 0s 4ms/step - loss: 152.1974 - mean_absolute_error: 152.1974 - val_loss: 814.4728 - val_mean_absolute_error: 814.4728\n",
            "Epoch 28/100\n",
            "18/18 [==============================] - 0s 4ms/step - loss: 152.0690 - mean_absolute_error: 152.0690 - val_loss: 837.5736 - val_mean_absolute_error: 837.5736\n",
            "Epoch 29/100\n",
            "18/18 [==============================] - 0s 4ms/step - loss: 157.0591 - mean_absolute_error: 157.0591 - val_loss: 907.8990 - val_mean_absolute_error: 907.8990\n",
            "Epoch 30/100\n",
            "18/18 [==============================] - 0s 4ms/step - loss: 155.2333 - mean_absolute_error: 155.2333 - val_loss: 922.0352 - val_mean_absolute_error: 922.0352\n",
            "Epoch 31/100\n",
            "18/18 [==============================] - 1s 29ms/step - loss: 149.9541 - mean_absolute_error: 149.9541 - val_loss: 774.1141 - val_mean_absolute_error: 774.1141\n",
            "Epoch 32/100\n",
            "18/18 [==============================] - 0s 4ms/step - loss: 158.7274 - mean_absolute_error: 158.7274 - val_loss: 774.5790 - val_mean_absolute_error: 774.5790\n",
            "Epoch 33/100\n",
            "18/18 [==============================] - 0s 3ms/step - loss: 150.0723 - mean_absolute_error: 150.0723 - val_loss: 993.5093 - val_mean_absolute_error: 993.5093\n",
            "Epoch 34/100\n",
            "18/18 [==============================] - 1s 29ms/step - loss: 141.3763 - mean_absolute_error: 141.3763 - val_loss: 772.9312 - val_mean_absolute_error: 772.9312\n",
            "Epoch 35/100\n",
            "18/18 [==============================] - 0s 4ms/step - loss: 141.5088 - mean_absolute_error: 141.5088 - val_loss: 809.1992 - val_mean_absolute_error: 809.1992\n",
            "Epoch 36/100\n",
            "18/18 [==============================] - 0s 4ms/step - loss: 136.0796 - mean_absolute_error: 136.0796 - val_loss: 1006.2131 - val_mean_absolute_error: 1006.2131\n",
            "Epoch 37/100\n",
            "18/18 [==============================] - 1s 56ms/step - loss: 151.1507 - mean_absolute_error: 151.1507 - val_loss: 744.2599 - val_mean_absolute_error: 744.2599\n",
            "Epoch 38/100\n",
            "18/18 [==============================] - 0s 4ms/step - loss: 138.3115 - mean_absolute_error: 138.3115 - val_loss: 763.7007 - val_mean_absolute_error: 763.7007\n",
            "Epoch 39/100\n",
            "18/18 [==============================] - 0s 5ms/step - loss: 135.1792 - mean_absolute_error: 135.1792 - val_loss: 811.5264 - val_mean_absolute_error: 811.5264\n",
            "Epoch 40/100\n",
            "18/18 [==============================] - 1s 42ms/step - loss: 143.0448 - mean_absolute_error: 143.0448 - val_loss: 740.4792 - val_mean_absolute_error: 740.4792\n",
            "Epoch 41/100\n",
            "18/18 [==============================] - 0s 5ms/step - loss: 140.5467 - mean_absolute_error: 140.5467 - val_loss: 807.8402 - val_mean_absolute_error: 807.8403\n",
            "Epoch 42/100\n",
            "18/18 [==============================] - 1s 42ms/step - loss: 135.5496 - mean_absolute_error: 135.5496 - val_loss: 725.7545 - val_mean_absolute_error: 725.7545\n",
            "Epoch 43/100\n",
            "18/18 [==============================] - 0s 6ms/step - loss: 145.4855 - mean_absolute_error: 145.4855 - val_loss: 1098.4529 - val_mean_absolute_error: 1098.4529\n",
            "Epoch 44/100\n",
            "18/18 [==============================] - 0s 7ms/step - loss: 149.2995 - mean_absolute_error: 149.2995 - val_loss: 945.9598 - val_mean_absolute_error: 945.9598\n",
            "Epoch 45/100\n",
            "18/18 [==============================] - 0s 6ms/step - loss: 138.6867 - mean_absolute_error: 138.6867 - val_loss: 775.5892 - val_mean_absolute_error: 775.5892\n",
            "Epoch 46/100\n",
            "18/18 [==============================] - 0s 7ms/step - loss: 130.2477 - mean_absolute_error: 130.2477 - val_loss: 737.6234 - val_mean_absolute_error: 737.6234\n",
            "Epoch 47/100\n",
            "18/18 [==============================] - 0s 6ms/step - loss: 131.4334 - mean_absolute_error: 131.4334 - val_loss: 756.7996 - val_mean_absolute_error: 756.7996\n",
            "Epoch 48/100\n",
            "18/18 [==============================] - 0s 6ms/step - loss: 130.5172 - mean_absolute_error: 130.5172 - val_loss: 848.7887 - val_mean_absolute_error: 848.7887\n",
            "Epoch 49/100\n",
            "18/18 [==============================] - 1s 43ms/step - loss: 133.1062 - mean_absolute_error: 133.1062 - val_loss: 709.2437 - val_mean_absolute_error: 709.2437\n",
            "Epoch 50/100\n",
            "18/18 [==============================] - 0s 5ms/step - loss: 130.2756 - mean_absolute_error: 130.2756 - val_loss: 771.0672 - val_mean_absolute_error: 771.0672\n",
            "Epoch 51/100\n",
            "18/18 [==============================] - 0s 29ms/step - loss: 130.8304 - mean_absolute_error: 130.8304 - val_loss: 696.9125 - val_mean_absolute_error: 696.9125\n",
            "Epoch 52/100\n",
            "18/18 [==============================] - 0s 4ms/step - loss: 132.6669 - mean_absolute_error: 132.6669 - val_loss: 733.1455 - val_mean_absolute_error: 733.1455\n",
            "Epoch 53/100\n",
            "18/18 [==============================] - 0s 29ms/step - loss: 128.3862 - mean_absolute_error: 128.3862 - val_loss: 690.9629 - val_mean_absolute_error: 690.9629\n",
            "Epoch 54/100\n",
            "18/18 [==============================] - 0s 4ms/step - loss: 128.4628 - mean_absolute_error: 128.4628 - val_loss: 716.2133 - val_mean_absolute_error: 716.2133\n",
            "Epoch 55/100\n",
            "18/18 [==============================] - 0s 4ms/step - loss: 130.0968 - mean_absolute_error: 130.0968 - val_loss: 733.8073 - val_mean_absolute_error: 733.8073\n",
            "Epoch 56/100\n",
            "18/18 [==============================] - 0s 4ms/step - loss: 136.0124 - mean_absolute_error: 136.0124 - val_loss: 700.4372 - val_mean_absolute_error: 700.4372\n",
            "Epoch 57/100\n",
            "18/18 [==============================] - 0s 5ms/step - loss: 125.3943 - mean_absolute_error: 125.3943 - val_loss: 924.3226 - val_mean_absolute_error: 924.3226\n",
            "Epoch 58/100\n",
            "18/18 [==============================] - 0s 5ms/step - loss: 139.7269 - mean_absolute_error: 139.7269 - val_loss: 852.5390 - val_mean_absolute_error: 852.5390\n",
            "Epoch 59/100\n",
            "18/18 [==============================] - 1s 29ms/step - loss: 135.5448 - mean_absolute_error: 135.5448 - val_loss: 686.1726 - val_mean_absolute_error: 686.1726\n",
            "Epoch 60/100\n",
            "18/18 [==============================] - 0s 29ms/step - loss: 137.8951 - mean_absolute_error: 137.8951 - val_loss: 676.3733 - val_mean_absolute_error: 676.3733\n",
            "Epoch 61/100\n",
            "18/18 [==============================] - 0s 4ms/step - loss: 132.3476 - mean_absolute_error: 132.3476 - val_loss: 737.4655 - val_mean_absolute_error: 737.4655\n",
            "Epoch 62/100\n",
            "18/18 [==============================] - 0s 4ms/step - loss: 128.8138 - mean_absolute_error: 128.8138 - val_loss: 801.0901 - val_mean_absolute_error: 801.0901\n",
            "Epoch 63/100\n",
            "18/18 [==============================] - 0s 4ms/step - loss: 126.3203 - mean_absolute_error: 126.3203 - val_loss: 1172.6586 - val_mean_absolute_error: 1172.6586\n",
            "Epoch 64/100\n",
            "18/18 [==============================] - 0s 4ms/step - loss: 133.5276 - mean_absolute_error: 133.5276 - val_loss: 760.5076 - val_mean_absolute_error: 760.5076\n",
            "Epoch 65/100\n",
            "18/18 [==============================] - 0s 4ms/step - loss: 134.7522 - mean_absolute_error: 134.7522 - val_loss: 758.4404 - val_mean_absolute_error: 758.4404\n",
            "Epoch 66/100\n",
            "18/18 [==============================] - 0s 27ms/step - loss: 125.5754 - mean_absolute_error: 125.5754 - val_loss: 658.0013 - val_mean_absolute_error: 658.0013\n",
            "Epoch 67/100\n",
            "18/18 [==============================] - 0s 5ms/step - loss: 122.8745 - mean_absolute_error: 122.8745 - val_loss: 955.3376 - val_mean_absolute_error: 955.3376\n",
            "Epoch 68/100\n",
            "18/18 [==============================] - 0s 5ms/step - loss: 154.3448 - mean_absolute_error: 154.3448 - val_loss: 659.9695 - val_mean_absolute_error: 659.9695\n",
            "Epoch 69/100\n",
            "18/18 [==============================] - 0s 4ms/step - loss: 122.6872 - mean_absolute_error: 122.6872 - val_loss: 756.0585 - val_mean_absolute_error: 756.0585\n",
            "Epoch 70/100\n",
            "18/18 [==============================] - 0s 4ms/step - loss: 140.2025 - mean_absolute_error: 140.2025 - val_loss: 803.2603 - val_mean_absolute_error: 803.2603\n",
            "Epoch 71/100\n",
            "18/18 [==============================] - 0s 4ms/step - loss: 134.4416 - mean_absolute_error: 134.4416 - val_loss: 774.1746 - val_mean_absolute_error: 774.1746\n",
            "Epoch 72/100\n",
            "18/18 [==============================] - 0s 4ms/step - loss: 130.4765 - mean_absolute_error: 130.4765 - val_loss: 785.0637 - val_mean_absolute_error: 785.0637\n",
            "Epoch 73/100\n",
            "18/18 [==============================] - 0s 4ms/step - loss: 121.8003 - mean_absolute_error: 121.8003 - val_loss: 684.2544 - val_mean_absolute_error: 684.2544\n",
            "Epoch 74/100\n",
            "18/18 [==============================] - 0s 4ms/step - loss: 137.3926 - mean_absolute_error: 137.3926 - val_loss: 890.8767 - val_mean_absolute_error: 890.8767\n",
            "Epoch 75/100\n",
            "18/18 [==============================] - 0s 3ms/step - loss: 143.3027 - mean_absolute_error: 143.3027 - val_loss: 1037.5527 - val_mean_absolute_error: 1037.5527\n",
            "Epoch 76/100\n",
            "18/18 [==============================] - 0s 4ms/step - loss: 145.4572 - mean_absolute_error: 145.4572 - val_loss: 694.6219 - val_mean_absolute_error: 694.6219\n",
            "Epoch 77/100\n",
            "18/18 [==============================] - 0s 4ms/step - loss: 129.9258 - mean_absolute_error: 129.9258 - val_loss: 761.0828 - val_mean_absolute_error: 761.0828\n",
            "Epoch 78/100\n",
            "18/18 [==============================] - 1s 29ms/step - loss: 125.6666 - mean_absolute_error: 125.6666 - val_loss: 647.5629 - val_mean_absolute_error: 647.5629\n",
            "Epoch 79/100\n",
            "18/18 [==============================] - 0s 4ms/step - loss: 135.9863 - mean_absolute_error: 135.9863 - val_loss: 1012.7015 - val_mean_absolute_error: 1012.7015\n",
            "Epoch 80/100\n",
            "18/18 [==============================] - 0s 4ms/step - loss: 155.7733 - mean_absolute_error: 155.7733 - val_loss: 753.0045 - val_mean_absolute_error: 753.0045\n",
            "Epoch 81/100\n",
            "18/18 [==============================] - 0s 4ms/step - loss: 137.0292 - mean_absolute_error: 137.0292 - val_loss: 876.1418 - val_mean_absolute_error: 876.1418\n",
            "Epoch 82/100\n",
            "18/18 [==============================] - 0s 4ms/step - loss: 157.4338 - mean_absolute_error: 157.4338 - val_loss: 855.8760 - val_mean_absolute_error: 855.8760\n",
            "Epoch 83/100\n",
            "18/18 [==============================] - 0s 4ms/step - loss: 129.2800 - mean_absolute_error: 129.2800 - val_loss: 721.2015 - val_mean_absolute_error: 721.2015\n",
            "Epoch 84/100\n",
            "18/18 [==============================] - 0s 5ms/step - loss: 137.5113 - mean_absolute_error: 137.5113 - val_loss: 788.1623 - val_mean_absolute_error: 788.1623\n",
            "Epoch 85/100\n",
            "18/18 [==============================] - 0s 5ms/step - loss: 122.3059 - mean_absolute_error: 122.3059 - val_loss: 697.6920 - val_mean_absolute_error: 697.6920\n",
            "Epoch 86/100\n",
            "18/18 [==============================] - 0s 4ms/step - loss: 117.7896 - mean_absolute_error: 117.7896 - val_loss: 735.2116 - val_mean_absolute_error: 735.2116\n",
            "Epoch 87/100\n",
            "18/18 [==============================] - 0s 5ms/step - loss: 125.6152 - mean_absolute_error: 125.6152 - val_loss: 720.6190 - val_mean_absolute_error: 720.6190\n",
            "Epoch 88/100\n",
            "18/18 [==============================] - 1s 29ms/step - loss: 119.7784 - mean_absolute_error: 119.7784 - val_loss: 630.0583 - val_mean_absolute_error: 630.0583\n",
            "Epoch 89/100\n",
            "18/18 [==============================] - 0s 3ms/step - loss: 115.7494 - mean_absolute_error: 115.7494 - val_loss: 706.7936 - val_mean_absolute_error: 706.7936\n",
            "Epoch 90/100\n",
            "18/18 [==============================] - 0s 4ms/step - loss: 124.3355 - mean_absolute_error: 124.3355 - val_loss: 721.2231 - val_mean_absolute_error: 721.2231\n",
            "Epoch 91/100\n",
            "18/18 [==============================] - 0s 4ms/step - loss: 122.0362 - mean_absolute_error: 122.0362 - val_loss: 678.7430 - val_mean_absolute_error: 678.7430\n",
            "Epoch 92/100\n",
            "18/18 [==============================] - 0s 4ms/step - loss: 118.8460 - mean_absolute_error: 118.8460 - val_loss: 676.0264 - val_mean_absolute_error: 676.0264\n",
            "Epoch 93/100\n",
            "18/18 [==============================] - 0s 3ms/step - loss: 123.8287 - mean_absolute_error: 123.8287 - val_loss: 862.9425 - val_mean_absolute_error: 862.9425\n",
            "Epoch 94/100\n",
            "18/18 [==============================] - 0s 29ms/step - loss: 118.0281 - mean_absolute_error: 118.0281 - val_loss: 620.4449 - val_mean_absolute_error: 620.4449\n",
            "Epoch 95/100\n",
            "18/18 [==============================] - 0s 4ms/step - loss: 115.8813 - mean_absolute_error: 115.8813 - val_loss: 697.0830 - val_mean_absolute_error: 697.0830\n",
            "Epoch 96/100\n",
            "18/18 [==============================] - 0s 4ms/step - loss: 137.2332 - mean_absolute_error: 137.2332 - val_loss: 966.9879 - val_mean_absolute_error: 966.9879\n",
            "Epoch 97/100\n",
            "18/18 [==============================] - 0s 4ms/step - loss: 153.9165 - mean_absolute_error: 153.9165 - val_loss: 939.9918 - val_mean_absolute_error: 939.9918\n",
            "Epoch 98/100\n",
            "18/18 [==============================] - 0s 4ms/step - loss: 130.6616 - mean_absolute_error: 130.6616 - val_loss: 680.3810 - val_mean_absolute_error: 680.3810\n",
            "Epoch 99/100\n",
            "18/18 [==============================] - 0s 4ms/step - loss: 116.3272 - mean_absolute_error: 116.3272 - val_loss: 685.8100 - val_mean_absolute_error: 685.8100\n",
            "Epoch 100/100\n",
            "18/18 [==============================] - 0s 4ms/step - loss: 136.6334 - mean_absolute_error: 136.6334 - val_loss: 936.4529 - val_mean_absolute_error: 936.4529\n"
          ]
        }
      ]
    },
    {
      "cell_type": "code",
      "source": [
        "model_2.evaluate(test_windows, test_labels)"
      ],
      "metadata": {
        "colab": {
          "base_uri": "https://localhost:8080/"
        },
        "id": "0Y5K9JwEEOuV",
        "outputId": "dbcbab4a-b6cb-4c50-fb32-5a7f82fd461a"
      },
      "execution_count": 185,
      "outputs": [
        {
          "output_type": "stream",
          "name": "stdout",
          "text": [
            "18/18 [==============================] - 0s 2ms/step - loss: 936.4528 - mean_absolute_error: 936.4528\n"
          ]
        },
        {
          "output_type": "execute_result",
          "data": {
            "text/plain": [
              "[936.4528198242188, 936.4528198242188]"
            ]
          },
          "metadata": {},
          "execution_count": 185
        }
      ]
    },
    {
      "cell_type": "code",
      "source": [
        "model_2 = tf.keras.models.load_model('/content/model_experiments/sequential_1')\n",
        "model_2.evaluate(test_windows, test_labels)"
      ],
      "metadata": {
        "colab": {
          "base_uri": "https://localhost:8080/"
        },
        "id": "td_jRGovEQ1u",
        "outputId": "5ec350ea-9a6d-4ab8-bf15-4e2553c839b6"
      },
      "execution_count": 186,
      "outputs": [
        {
          "output_type": "stream",
          "name": "stdout",
          "text": [
            "18/18 [==============================] - 0s 1ms/step - loss: 622.6317 - mean_absolute_error: 622.6317\n"
          ]
        },
        {
          "output_type": "execute_result",
          "data": {
            "text/plain": [
              "[622.6316528320312, 622.6316528320312]"
            ]
          },
          "metadata": {},
          "execution_count": 186
        }
      ]
    },
    {
      "cell_type": "code",
      "source": [
        "model_2_preds = make_preds(model_2,\n",
        "                           input_data = test_windows)"
      ],
      "metadata": {
        "colab": {
          "base_uri": "https://localhost:8080/"
        },
        "id": "Aa9338LDLPUn",
        "outputId": "2685ba28-0e8e-4524-c0ef-20613e77d0e2"
      },
      "execution_count": 187,
      "outputs": [
        {
          "output_type": "stream",
          "name": "stdout",
          "text": [
            "18/18 [==============================] - 0s 1ms/step\n"
          ]
        }
      ]
    },
    {
      "cell_type": "code",
      "source": [
        "model_2_results = evaluate_preds(y_true=tf.squeeze(test_labels),\n",
        "                                 y_pred=model_2_preds)\n",
        "model_2_results"
      ],
      "metadata": {
        "colab": {
          "base_uri": "https://localhost:8080/"
        },
        "id": "tj2JO7VnLISt",
        "outputId": "31f1cc15-44f7-4ae5-f66a-85de946a6844"
      },
      "execution_count": 188,
      "outputs": [
        {
          "output_type": "execute_result",
          "data": {
            "text/plain": [
              "{'mae': 622.63153,\n",
              " 'mse': 1304683.2,\n",
              " 'rmse': 1142.2273,\n",
              " 'mape': 2.7962086,\n",
              " 'mase': 1.0883659}"
            ]
          },
          "metadata": {},
          "execution_count": 188
        }
      ]
    },
    {
      "cell_type": "markdown",
      "source": [
        "# Model  3"
      ],
      "metadata": {
        "id": "cABYNF5vKlXz"
      }
    },
    {
      "cell_type": "code",
      "source": [
        "def evaluate_preds(y_true, y_pred):\n",
        "  # Make sure float32 (for metric calculations)\n",
        "  y_true = tf.cast(y_true, dtype=tf.float32)\n",
        "  y_pred = tf.cast(y_pred, dtype=tf.float32)\n",
        "\n",
        "  # Calculate various metrics\n",
        "  mae = tf.keras.metrics.mean_absolute_error(y_true, y_pred)\n",
        "  mse = tf.keras.metrics.mean_squared_error(y_true, y_pred)\n",
        "  rmse = tf.sqrt(mse)\n",
        "  mape = tf.keras.metrics.mean_absolute_percentage_error(y_true, y_pred)\n",
        "  mase = mean_absolute_scaled_error(y_true, y_pred)\n",
        "\n",
        "  # Account for different sized metrics (for longer horizons, reduce to single number)\n",
        "  if mae.ndim > 0:\n",
        "    mae = tf.reduce_mean(mae)\n",
        "    mse = tf.reduce_mean(mse)\n",
        "    rmse = tf.reduce_mean(rmse)\n",
        "    mape = tf.reduce_mean(mape)\n",
        "    mase = tf.reduce_mean(mase)\n",
        "\n",
        "  return {\n",
        "      'mae': mae.numpy(),\n",
        "      'mse': mse.numpy(),\n",
        "      'rmse': rmse.numpy(),\n",
        "      'mape': mape.numpy(),\n",
        "      'mase': mase.numpy(),\n",
        "  }"
      ],
      "metadata": {
        "id": "wwZM3zbAGNAK"
      },
      "execution_count": 189,
      "outputs": []
    },
    {
      "cell_type": "code",
      "source": [
        "# Model 3\n",
        "WINDOW_SIZE = 30\n",
        "HORIZON = 7"
      ],
      "metadata": {
        "id": "njCtvge-LJwM"
      },
      "execution_count": 190,
      "outputs": []
    },
    {
      "cell_type": "code",
      "source": [
        "full_windows, full_labels = make_windows(prices, window_size=WINDOW_SIZE, horizon=HORIZON)\n",
        "len(full_windows), len(full_labels)"
      ],
      "metadata": {
        "colab": {
          "base_uri": "https://localhost:8080/"
        },
        "outputId": "8ce5dbe7-0a20-4409-f2e5-121a748fc100",
        "id": "7M9nrvYpLJwN"
      },
      "execution_count": 191,
      "outputs": [
        {
          "output_type": "execute_result",
          "data": {
            "text/plain": [
              "(2751, 2751)"
            ]
          },
          "metadata": {},
          "execution_count": 191
        }
      ]
    },
    {
      "cell_type": "code",
      "source": [
        "train_windows, train_labels, test_windows, test_labels = make_train_test_splits(full_windows, full_labels)\n",
        "len(train_windows), len(test_windows), len(train_labels), len(test_labels)"
      ],
      "metadata": {
        "colab": {
          "base_uri": "https://localhost:8080/"
        },
        "outputId": "20dba46a-37d0-4888-a25d-6736fa2833d5",
        "id": "WWA1rVVELJwN"
      },
      "execution_count": 192,
      "outputs": [
        {
          "output_type": "execute_result",
          "data": {
            "text/plain": [
              "(2200, 551, 2200, 551)"
            ]
          },
          "metadata": {},
          "execution_count": 192
        }
      ]
    },
    {
      "cell_type": "code",
      "source": [
        "model_3 = tf.keras.Sequential([\n",
        "    tf.keras.layers.Dense(128, activation='relu'),\n",
        "    tf.keras.layers.Dense(HORIZON)\n",
        "])"
      ],
      "metadata": {
        "id": "YQPr2gPWLJwN"
      },
      "execution_count": 193,
      "outputs": []
    },
    {
      "cell_type": "code",
      "source": [
        "model_3.compile(loss='mean_absolute_error',\n",
        "              optimizer='adam',\n",
        "              metrics='mean_absolute_error')"
      ],
      "metadata": {
        "id": "FqEmRgQsLJwN"
      },
      "execution_count": 194,
      "outputs": []
    },
    {
      "cell_type": "code",
      "source": [
        "model_3_history = model_3.fit(x=train_windows,\n",
        "            y=train_labels,\n",
        "            epochs=100,\n",
        "            verbose=1,\n",
        "            batch_size=128,\n",
        "            validation_data=(test_windows, test_labels),\n",
        "            callbacks=[create_model_checkpoint(model_name=model_3.name)])"
      ],
      "metadata": {
        "colab": {
          "base_uri": "https://localhost:8080/"
        },
        "outputId": "31554f9e-274f-4f2f-8b78-089d8e0971ca",
        "collapsed": true,
        "id": "wEu42pCmLJwN"
      },
      "execution_count": 195,
      "outputs": [
        {
          "output_type": "stream",
          "name": "stdout",
          "text": [
            "Epoch 1/100\n",
            "18/18 [==============================] - 1s 36ms/step - loss: 1869.1185 - mean_absolute_error: 1869.1185 - val_loss: 3118.7031 - val_mean_absolute_error: 3118.7031\n",
            "Epoch 2/100\n",
            "18/18 [==============================] - 0s 29ms/step - loss: 544.5072 - mean_absolute_error: 544.5072 - val_loss: 2316.6042 - val_mean_absolute_error: 2316.6042\n",
            "Epoch 3/100\n",
            "18/18 [==============================] - 1s 39ms/step - loss: 384.1332 - mean_absolute_error: 384.1332 - val_loss: 1972.7556 - val_mean_absolute_error: 1972.7556\n",
            "Epoch 4/100\n",
            "18/18 [==============================] - 1s 39ms/step - loss: 354.5713 - mean_absolute_error: 354.5713 - val_loss: 1865.8433 - val_mean_absolute_error: 1865.8433\n",
            "Epoch 5/100\n",
            "18/18 [==============================] - 1s 42ms/step - loss: 329.4797 - mean_absolute_error: 329.4797 - val_loss: 1633.4706 - val_mean_absolute_error: 1633.4706\n",
            "Epoch 6/100\n",
            "18/18 [==============================] - 0s 6ms/step - loss: 314.8094 - mean_absolute_error: 314.8094 - val_loss: 1733.5093 - val_mean_absolute_error: 1733.5093\n",
            "Epoch 7/100\n",
            "18/18 [==============================] - 0s 5ms/step - loss: 301.9379 - mean_absolute_error: 301.9379 - val_loss: 1937.5312 - val_mean_absolute_error: 1937.5312\n",
            "Epoch 8/100\n",
            "18/18 [==============================] - 1s 42ms/step - loss: 305.1187 - mean_absolute_error: 305.1187 - val_loss: 1630.4806 - val_mean_absolute_error: 1630.4806\n",
            "Epoch 9/100\n",
            "18/18 [==============================] - 0s 29ms/step - loss: 288.7040 - mean_absolute_error: 288.7040 - val_loss: 1485.3534 - val_mean_absolute_error: 1485.3534\n",
            "Epoch 10/100\n",
            "18/18 [==============================] - 0s 4ms/step - loss: 282.0344 - mean_absolute_error: 282.0344 - val_loss: 1517.4695 - val_mean_absolute_error: 1517.4695\n",
            "Epoch 11/100\n",
            "18/18 [==============================] - 0s 4ms/step - loss: 280.9913 - mean_absolute_error: 280.9913 - val_loss: 1545.4381 - val_mean_absolute_error: 1545.4381\n",
            "Epoch 12/100\n",
            "18/18 [==============================] - 0s 28ms/step - loss: 276.3512 - mean_absolute_error: 276.3512 - val_loss: 1463.5243 - val_mean_absolute_error: 1463.5243\n",
            "Epoch 13/100\n",
            "18/18 [==============================] - 0s 4ms/step - loss: 272.3925 - mean_absolute_error: 272.3925 - val_loss: 1554.8394 - val_mean_absolute_error: 1554.8394\n",
            "Epoch 14/100\n",
            "18/18 [==============================] - 1s 30ms/step - loss: 267.5718 - mean_absolute_error: 267.5718 - val_loss: 1445.7656 - val_mean_absolute_error: 1445.7656\n",
            "Epoch 15/100\n",
            "18/18 [==============================] - 0s 4ms/step - loss: 262.6658 - mean_absolute_error: 262.6658 - val_loss: 1568.0378 - val_mean_absolute_error: 1568.0378\n",
            "Epoch 16/100\n",
            "18/18 [==============================] - 0s 4ms/step - loss: 260.2844 - mean_absolute_error: 260.2844 - val_loss: 1511.7871 - val_mean_absolute_error: 1511.7871\n",
            "Epoch 17/100\n",
            "18/18 [==============================] - 0s 28ms/step - loss: 258.0710 - mean_absolute_error: 258.0710 - val_loss: 1390.9410 - val_mean_absolute_error: 1390.9410\n",
            "Epoch 18/100\n",
            "18/18 [==============================] - 0s 4ms/step - loss: 254.8382 - mean_absolute_error: 254.8382 - val_loss: 1592.2123 - val_mean_absolute_error: 1592.2123\n",
            "Epoch 19/100\n",
            "18/18 [==============================] - 0s 28ms/step - loss: 258.3713 - mean_absolute_error: 258.3713 - val_loss: 1378.2970 - val_mean_absolute_error: 1378.2970\n",
            "Epoch 20/100\n",
            "18/18 [==============================] - 0s 4ms/step - loss: 254.9546 - mean_absolute_error: 254.9546 - val_loss: 1459.6725 - val_mean_absolute_error: 1459.6725\n",
            "Epoch 21/100\n",
            "18/18 [==============================] - 0s 4ms/step - loss: 254.8718 - mean_absolute_error: 254.8718 - val_loss: 1428.0693 - val_mean_absolute_error: 1428.0693\n",
            "Epoch 22/100\n",
            "18/18 [==============================] - 0s 28ms/step - loss: 250.9277 - mean_absolute_error: 250.9277 - val_loss: 1364.7072 - val_mean_absolute_error: 1364.7072\n",
            "Epoch 23/100\n",
            "18/18 [==============================] - 0s 4ms/step - loss: 262.4650 - mean_absolute_error: 262.4650 - val_loss: 1389.7700 - val_mean_absolute_error: 1389.7700\n",
            "Epoch 24/100\n",
            "18/18 [==============================] - 0s 3ms/step - loss: 250.1973 - mean_absolute_error: 250.1973 - val_loss: 1509.2393 - val_mean_absolute_error: 1509.2393\n",
            "Epoch 25/100\n",
            "18/18 [==============================] - 0s 4ms/step - loss: 255.2189 - mean_absolute_error: 255.2189 - val_loss: 1380.5415 - val_mean_absolute_error: 1380.5415\n",
            "Epoch 26/100\n",
            "18/18 [==============================] - 0s 3ms/step - loss: 244.3057 - mean_absolute_error: 244.3057 - val_loss: 1418.9136 - val_mean_absolute_error: 1418.9136\n",
            "Epoch 27/100\n",
            "18/18 [==============================] - 0s 4ms/step - loss: 248.6128 - mean_absolute_error: 248.6128 - val_loss: 1371.9249 - val_mean_absolute_error: 1371.9249\n",
            "Epoch 28/100\n",
            "18/18 [==============================] - 0s 3ms/step - loss: 248.0802 - mean_absolute_error: 248.0802 - val_loss: 1547.4191 - val_mean_absolute_error: 1547.4191\n",
            "Epoch 29/100\n",
            "18/18 [==============================] - 0s 29ms/step - loss: 247.7430 - mean_absolute_error: 247.7430 - val_loss: 1346.8998 - val_mean_absolute_error: 1346.8998\n",
            "Epoch 30/100\n",
            "18/18 [==============================] - 0s 5ms/step - loss: 244.9298 - mean_absolute_error: 244.9298 - val_loss: 1363.9884 - val_mean_absolute_error: 1363.9884\n",
            "Epoch 31/100\n",
            "18/18 [==============================] - 1s 56ms/step - loss: 241.3892 - mean_absolute_error: 241.3892 - val_loss: 1319.5824 - val_mean_absolute_error: 1319.5824\n",
            "Epoch 32/100\n",
            "18/18 [==============================] - 0s 4ms/step - loss: 243.1092 - mean_absolute_error: 243.1092 - val_loss: 1321.5393 - val_mean_absolute_error: 1321.5393\n",
            "Epoch 33/100\n",
            "18/18 [==============================] - 0s 5ms/step - loss: 241.9703 - mean_absolute_error: 241.9703 - val_loss: 1415.9656 - val_mean_absolute_error: 1415.9656\n",
            "Epoch 34/100\n",
            "18/18 [==============================] - 0s 5ms/step - loss: 242.6225 - mean_absolute_error: 242.6225 - val_loss: 1516.4807 - val_mean_absolute_error: 1516.4807\n",
            "Epoch 35/100\n",
            "18/18 [==============================] - 0s 4ms/step - loss: 254.9934 - mean_absolute_error: 254.9934 - val_loss: 1456.5249 - val_mean_absolute_error: 1456.5249\n",
            "Epoch 36/100\n",
            "18/18 [==============================] - 0s 4ms/step - loss: 258.7340 - mean_absolute_error: 258.7340 - val_loss: 1530.6434 - val_mean_absolute_error: 1530.6434\n",
            "Epoch 37/100\n",
            "18/18 [==============================] - 0s 5ms/step - loss: 245.1590 - mean_absolute_error: 245.1590 - val_loss: 1672.4537 - val_mean_absolute_error: 1672.4537\n",
            "Epoch 38/100\n",
            "18/18 [==============================] - 0s 4ms/step - loss: 252.6524 - mean_absolute_error: 252.6524 - val_loss: 1489.7716 - val_mean_absolute_error: 1489.7716\n",
            "Epoch 39/100\n",
            "18/18 [==============================] - 1s 30ms/step - loss: 237.1084 - mean_absolute_error: 237.1084 - val_loss: 1310.4292 - val_mean_absolute_error: 1310.4292\n",
            "Epoch 40/100\n",
            "18/18 [==============================] - 0s 4ms/step - loss: 235.5249 - mean_absolute_error: 235.5249 - val_loss: 1499.8280 - val_mean_absolute_error: 1499.8280\n",
            "Epoch 41/100\n",
            "18/18 [==============================] - 0s 4ms/step - loss: 235.8989 - mean_absolute_error: 235.8989 - val_loss: 1399.3390 - val_mean_absolute_error: 1399.3390\n",
            "Epoch 42/100\n",
            "18/18 [==============================] - 0s 5ms/step - loss: 234.5879 - mean_absolute_error: 234.5879 - val_loss: 1325.2686 - val_mean_absolute_error: 1325.2686\n",
            "Epoch 43/100\n",
            "18/18 [==============================] - 0s 5ms/step - loss: 232.6913 - mean_absolute_error: 232.6913 - val_loss: 1404.2385 - val_mean_absolute_error: 1404.2385\n",
            "Epoch 44/100\n",
            "18/18 [==============================] - 0s 28ms/step - loss: 234.7427 - mean_absolute_error: 234.7427 - val_loss: 1303.8010 - val_mean_absolute_error: 1303.8010\n",
            "Epoch 45/100\n",
            "18/18 [==============================] - 0s 5ms/step - loss: 234.4211 - mean_absolute_error: 234.4211 - val_loss: 1345.9998 - val_mean_absolute_error: 1345.9998\n",
            "Epoch 46/100\n",
            "18/18 [==============================] - 0s 5ms/step - loss: 236.5599 - mean_absolute_error: 236.5599 - val_loss: 1524.7644 - val_mean_absolute_error: 1524.7644\n",
            "Epoch 47/100\n",
            "18/18 [==============================] - 0s 4ms/step - loss: 242.6249 - mean_absolute_error: 242.6249 - val_loss: 1436.8831 - val_mean_absolute_error: 1436.8831\n",
            "Epoch 48/100\n",
            "18/18 [==============================] - 0s 4ms/step - loss: 249.8386 - mean_absolute_error: 249.8386 - val_loss: 1323.5801 - val_mean_absolute_error: 1323.5801\n",
            "Epoch 49/100\n",
            "18/18 [==============================] - 1s 30ms/step - loss: 233.5953 - mean_absolute_error: 233.5953 - val_loss: 1278.3462 - val_mean_absolute_error: 1278.3462\n",
            "Epoch 50/100\n",
            "18/18 [==============================] - 0s 4ms/step - loss: 231.5398 - mean_absolute_error: 231.5398 - val_loss: 1397.7017 - val_mean_absolute_error: 1397.7017\n",
            "Epoch 51/100\n",
            "18/18 [==============================] - 0s 5ms/step - loss: 233.0391 - mean_absolute_error: 233.0391 - val_loss: 1309.7988 - val_mean_absolute_error: 1309.7988\n",
            "Epoch 52/100\n",
            "18/18 [==============================] - 0s 5ms/step - loss: 233.2870 - mean_absolute_error: 233.2870 - val_loss: 1318.4447 - val_mean_absolute_error: 1318.4447\n",
            "Epoch 53/100\n",
            "18/18 [==============================] - 0s 4ms/step - loss: 232.1431 - mean_absolute_error: 232.1431 - val_loss: 1356.3560 - val_mean_absolute_error: 1356.3560\n",
            "Epoch 54/100\n",
            "18/18 [==============================] - 0s 4ms/step - loss: 230.0476 - mean_absolute_error: 230.0476 - val_loss: 1315.4739 - val_mean_absolute_error: 1315.4739\n",
            "Epoch 55/100\n",
            "18/18 [==============================] - 1s 29ms/step - loss: 228.6401 - mean_absolute_error: 228.6401 - val_loss: 1271.1591 - val_mean_absolute_error: 1271.1591\n",
            "Epoch 56/100\n",
            "18/18 [==============================] - 0s 4ms/step - loss: 231.3554 - mean_absolute_error: 231.3554 - val_loss: 1289.9286 - val_mean_absolute_error: 1289.9286\n",
            "Epoch 57/100\n",
            "18/18 [==============================] - 0s 5ms/step - loss: 228.6002 - mean_absolute_error: 228.6002 - val_loss: 1373.6976 - val_mean_absolute_error: 1373.6976\n",
            "Epoch 58/100\n",
            "18/18 [==============================] - 0s 5ms/step - loss: 238.6406 - mean_absolute_error: 238.6406 - val_loss: 1299.1809 - val_mean_absolute_error: 1299.1809\n",
            "Epoch 59/100\n",
            "18/18 [==============================] - 0s 5ms/step - loss: 232.6333 - mean_absolute_error: 232.6333 - val_loss: 1322.4680 - val_mean_absolute_error: 1322.4680\n",
            "Epoch 60/100\n",
            "18/18 [==============================] - 0s 4ms/step - loss: 238.0182 - mean_absolute_error: 238.0182 - val_loss: 1324.1005 - val_mean_absolute_error: 1324.1005\n",
            "Epoch 61/100\n",
            "18/18 [==============================] - 0s 4ms/step - loss: 229.8481 - mean_absolute_error: 229.8481 - val_loss: 1346.6758 - val_mean_absolute_error: 1346.6758\n",
            "Epoch 62/100\n",
            "18/18 [==============================] - 0s 7ms/step - loss: 233.4133 - mean_absolute_error: 233.4133 - val_loss: 1409.7046 - val_mean_absolute_error: 1409.7046\n",
            "Epoch 63/100\n",
            "18/18 [==============================] - 0s 27ms/step - loss: 227.8749 - mean_absolute_error: 227.8749 - val_loss: 1276.7230 - val_mean_absolute_error: 1276.7230\n",
            "Epoch 64/100\n",
            "18/18 [==============================] - 0s 18ms/step - loss: 234.9693 - mean_absolute_error: 234.9693 - val_loss: 1289.7849 - val_mean_absolute_error: 1289.7849\n",
            "Epoch 65/100\n",
            "18/18 [==============================] - 0s 23ms/step - loss: 243.2530 - mean_absolute_error: 243.2530 - val_loss: 1530.2434 - val_mean_absolute_error: 1530.2434\n",
            "Epoch 66/100\n",
            "18/18 [==============================] - 1s 44ms/step - loss: 230.9319 - mean_absolute_error: 230.9319 - val_loss: 1260.8982 - val_mean_absolute_error: 1260.8982\n",
            "Epoch 67/100\n",
            "18/18 [==============================] - 0s 6ms/step - loss: 226.5082 - mean_absolute_error: 226.5082 - val_loss: 1272.6746 - val_mean_absolute_error: 1272.6746\n",
            "Epoch 68/100\n",
            "18/18 [==============================] - 0s 6ms/step - loss: 226.0845 - mean_absolute_error: 226.0845 - val_loss: 1356.4229 - val_mean_absolute_error: 1356.4229\n",
            "Epoch 69/100\n",
            "18/18 [==============================] - 0s 7ms/step - loss: 229.2885 - mean_absolute_error: 229.2885 - val_loss: 1339.6088 - val_mean_absolute_error: 1339.6088\n",
            "Epoch 70/100\n",
            "18/18 [==============================] - 0s 6ms/step - loss: 236.2217 - mean_absolute_error: 236.2217 - val_loss: 1333.0894 - val_mean_absolute_error: 1333.0894\n",
            "Epoch 71/100\n",
            "18/18 [==============================] - 0s 9ms/step - loss: 225.4861 - mean_absolute_error: 225.4861 - val_loss: 1263.4818 - val_mean_absolute_error: 1263.4818\n",
            "Epoch 72/100\n",
            "18/18 [==============================] - 0s 7ms/step - loss: 226.2859 - mean_absolute_error: 226.2859 - val_loss: 1346.5985 - val_mean_absolute_error: 1346.5985\n",
            "Epoch 73/100\n",
            "18/18 [==============================] - 0s 5ms/step - loss: 226.2157 - mean_absolute_error: 226.2157 - val_loss: 1387.3544 - val_mean_absolute_error: 1387.3544\n",
            "Epoch 74/100\n",
            "18/18 [==============================] - 0s 9ms/step - loss: 227.5785 - mean_absolute_error: 227.5785 - val_loss: 1317.3599 - val_mean_absolute_error: 1317.3599\n",
            "Epoch 75/100\n",
            "18/18 [==============================] - 0s 6ms/step - loss: 224.7376 - mean_absolute_error: 224.7376 - val_loss: 1348.0032 - val_mean_absolute_error: 1348.0032\n",
            "Epoch 76/100\n",
            "18/18 [==============================] - 0s 6ms/step - loss: 230.7891 - mean_absolute_error: 230.7891 - val_loss: 1384.8833 - val_mean_absolute_error: 1384.8833\n",
            "Epoch 77/100\n",
            "18/18 [==============================] - 1s 38ms/step - loss: 226.4472 - mean_absolute_error: 226.4472 - val_loss: 1259.7860 - val_mean_absolute_error: 1259.7860\n",
            "Epoch 78/100\n",
            "18/18 [==============================] - 0s 5ms/step - loss: 225.8086 - mean_absolute_error: 225.8086 - val_loss: 1274.5983 - val_mean_absolute_error: 1274.5983\n",
            "Epoch 79/100\n",
            "18/18 [==============================] - 0s 4ms/step - loss: 227.0902 - mean_absolute_error: 227.0902 - val_loss: 1327.1819 - val_mean_absolute_error: 1327.1819\n",
            "Epoch 80/100\n",
            "18/18 [==============================] - 0s 4ms/step - loss: 231.8866 - mean_absolute_error: 231.8866 - val_loss: 1279.5569 - val_mean_absolute_error: 1279.5569\n",
            "Epoch 81/100\n",
            "18/18 [==============================] - 0s 4ms/step - loss: 225.0605 - mean_absolute_error: 225.0605 - val_loss: 1316.0206 - val_mean_absolute_error: 1316.0206\n",
            "Epoch 82/100\n",
            "18/18 [==============================] - 1s 30ms/step - loss: 224.3969 - mean_absolute_error: 224.3969 - val_loss: 1238.5585 - val_mean_absolute_error: 1238.5585\n",
            "Epoch 83/100\n",
            "18/18 [==============================] - 0s 5ms/step - loss: 227.8405 - mean_absolute_error: 227.8405 - val_loss: 1321.2484 - val_mean_absolute_error: 1321.2484\n",
            "Epoch 84/100\n",
            "18/18 [==============================] - 0s 4ms/step - loss: 223.4148 - mean_absolute_error: 223.4148 - val_loss: 1340.9913 - val_mean_absolute_error: 1340.9913\n",
            "Epoch 85/100\n",
            "18/18 [==============================] - 0s 4ms/step - loss: 226.4550 - mean_absolute_error: 226.4550 - val_loss: 1267.3884 - val_mean_absolute_error: 1267.3884\n",
            "Epoch 86/100\n",
            "18/18 [==============================] - 0s 28ms/step - loss: 226.5971 - mean_absolute_error: 226.5971 - val_loss: 1236.3906 - val_mean_absolute_error: 1236.3906\n",
            "Epoch 87/100\n",
            "18/18 [==============================] - 0s 4ms/step - loss: 227.0878 - mean_absolute_error: 227.0878 - val_loss: 1384.4215 - val_mean_absolute_error: 1384.4215\n",
            "Epoch 88/100\n",
            "18/18 [==============================] - 0s 5ms/step - loss: 225.8559 - mean_absolute_error: 225.8559 - val_loss: 1245.6533 - val_mean_absolute_error: 1245.6533\n",
            "Epoch 89/100\n",
            "18/18 [==============================] - 0s 5ms/step - loss: 245.7651 - mean_absolute_error: 245.7651 - val_loss: 1477.7162 - val_mean_absolute_error: 1477.7162\n",
            "Epoch 90/100\n",
            "18/18 [==============================] - 0s 4ms/step - loss: 237.3401 - mean_absolute_error: 237.3401 - val_loss: 1406.5153 - val_mean_absolute_error: 1406.5153\n",
            "Epoch 91/100\n",
            "18/18 [==============================] - 0s 4ms/step - loss: 229.8139 - mean_absolute_error: 229.8139 - val_loss: 1254.7526 - val_mean_absolute_error: 1254.7526\n",
            "Epoch 92/100\n",
            "18/18 [==============================] - 0s 4ms/step - loss: 224.0589 - mean_absolute_error: 224.0589 - val_loss: 1257.0742 - val_mean_absolute_error: 1257.0742\n",
            "Epoch 93/100\n",
            "18/18 [==============================] - 0s 4ms/step - loss: 225.9880 - mean_absolute_error: 225.9880 - val_loss: 1276.9022 - val_mean_absolute_error: 1276.9022\n",
            "Epoch 94/100\n",
            "18/18 [==============================] - 0s 4ms/step - loss: 222.5931 - mean_absolute_error: 222.5931 - val_loss: 1308.1099 - val_mean_absolute_error: 1308.1099\n",
            "Epoch 95/100\n",
            "18/18 [==============================] - 0s 4ms/step - loss: 224.0112 - mean_absolute_error: 224.0112 - val_loss: 1368.1915 - val_mean_absolute_error: 1368.1915\n",
            "Epoch 96/100\n",
            "18/18 [==============================] - 0s 5ms/step - loss: 232.8707 - mean_absolute_error: 232.8707 - val_loss: 1306.0199 - val_mean_absolute_error: 1306.0199\n",
            "Epoch 97/100\n",
            "18/18 [==============================] - 0s 5ms/step - loss: 223.6426 - mean_absolute_error: 223.6426 - val_loss: 1286.9518 - val_mean_absolute_error: 1286.9518\n",
            "Epoch 98/100\n",
            "18/18 [==============================] - 1s 30ms/step - loss: 222.1925 - mean_absolute_error: 222.1925 - val_loss: 1223.4441 - val_mean_absolute_error: 1223.4441\n",
            "Epoch 99/100\n",
            "18/18 [==============================] - 0s 5ms/step - loss: 222.1320 - mean_absolute_error: 222.1320 - val_loss: 1300.3613 - val_mean_absolute_error: 1300.3613\n",
            "Epoch 100/100\n",
            "18/18 [==============================] - 0s 4ms/step - loss: 222.9967 - mean_absolute_error: 222.9967 - val_loss: 1238.0454 - val_mean_absolute_error: 1238.0454\n"
          ]
        }
      ]
    },
    {
      "cell_type": "code",
      "source": [
        "model_3.evaluate(test_windows, test_labels)"
      ],
      "metadata": {
        "colab": {
          "base_uri": "https://localhost:8080/"
        },
        "id": "15Nr8IPQEnXe",
        "outputId": "175a9631-7d74-4db9-9c5e-a69b78b3ea1f"
      },
      "execution_count": 196,
      "outputs": [
        {
          "output_type": "stream",
          "name": "stdout",
          "text": [
            "18/18 [==============================] - 0s 2ms/step - loss: 1238.0455 - mean_absolute_error: 1238.0455\n"
          ]
        },
        {
          "output_type": "execute_result",
          "data": {
            "text/plain": [
              "[1238.0455322265625, 1238.0455322265625]"
            ]
          },
          "metadata": {},
          "execution_count": 196
        }
      ]
    },
    {
      "cell_type": "code",
      "source": [
        "model_3 = tf.keras.models.load_model('/content/model_experiments/sequential_2')\n",
        "model_3.evaluate(test_windows, test_labels)"
      ],
      "metadata": {
        "colab": {
          "base_uri": "https://localhost:8080/"
        },
        "id": "jGWGapbvEnXf",
        "outputId": "2af5b24e-eed6-4587-be41-578975c0b55c"
      },
      "execution_count": 197,
      "outputs": [
        {
          "output_type": "stream",
          "name": "stdout",
          "text": [
            "18/18 [==============================] - 0s 2ms/step - loss: 1218.7041 - mean_absolute_error: 1218.7041\n"
          ]
        },
        {
          "output_type": "execute_result",
          "data": {
            "text/plain": [
              "[1218.7041015625, 1218.7041015625]"
            ]
          },
          "metadata": {},
          "execution_count": 197
        }
      ]
    },
    {
      "cell_type": "code",
      "source": [
        "model_3_preds = make_preds(model_3,\n",
        "                           input_data = test_windows)"
      ],
      "metadata": {
        "colab": {
          "base_uri": "https://localhost:8080/"
        },
        "id": "_Ugs7L9fIwvz",
        "outputId": "c9fee3ad-dcbb-4864-9dc0-93caaf14c18a"
      },
      "execution_count": 198,
      "outputs": [
        {
          "output_type": "stream",
          "name": "stdout",
          "text": [
            "18/18 [==============================] - 0s 1ms/step\n"
          ]
        }
      ]
    },
    {
      "cell_type": "code",
      "source": [
        "model_3_results = evaluate_preds(y_true=tf.squeeze(test_labels),\n",
        "                                 y_pred=model_3_preds)\n",
        "model_3_results"
      ],
      "metadata": {
        "colab": {
          "base_uri": "https://localhost:8080/"
        },
        "id": "-UwfZyEzImvM",
        "outputId": "8e9d90eb-e585-4cfc-c702-1bee1d387238"
      },
      "execution_count": 199,
      "outputs": [
        {
          "output_type": "execute_result",
          "data": {
            "text/plain": [
              "{'mae': 1218.7041,\n",
              " 'mse': 5238897.5,\n",
              " 'rmse': 1408.8033,\n",
              " 'mape': 5.5761843,\n",
              " 'mase': 2.1686156}"
            ]
          },
          "metadata": {},
          "execution_count": 199
        }
      ]
    },
    {
      "cell_type": "code",
      "source": [
        "pd.DataFrame({'naive': naive_results['mae'],\n",
        "              'horizon_1_window_7': model_1_results['mae'],\n",
        "              'horizon_1_window_30': model_2_results['mae'],\n",
        "              'horizon_7_window_30': model_3_results['mae']\n",
        "              }, index=['mae']).plot(figsize=(10, 7), kind='bar')"
      ],
      "metadata": {
        "colab": {
          "base_uri": "https://localhost:8080/",
          "height": 633
        },
        "id": "fq-YqGgiJWoh",
        "outputId": "2908cd88-79d6-4b7e-89ff-697cb8053a68"
      },
      "execution_count": 202,
      "outputs": [
        {
          "output_type": "execute_result",
          "data": {
            "text/plain": [
              "<Axes: >"
            ]
          },
          "metadata": {},
          "execution_count": 202
        },
        {
          "output_type": "display_data",
          "data": {
            "text/plain": [
              "<Figure size 1000x700 with 1 Axes>"
            ],
            "image/png": "[encoded data removed]"
          },
          "metadata": {}
        }
      ]
    },
    {
      "cell_type": "markdown",
      "source": [
        "# Model 4"
      ],
      "metadata": {
        "id": "bpFfTG6cLztm"
      }
    },
    {
      "cell_type": "code",
      "source": [
        "# Model 4\n",
        "WINDOW_SIZE = 7\n",
        "HORIZON = 1"
      ],
      "metadata": {
        "id": "ROCHAgR5LyEH"
      },
      "execution_count": 212,
      "outputs": []
    },
    {
      "cell_type": "code",
      "source": [
        "full_windows, full_labels = make_windows(prices, window_size=WINDOW_SIZE, horizon=HORIZON)\n",
        "len(full_windows), len(full_labels)"
      ],
      "metadata": {
        "colab": {
          "base_uri": "https://localhost:8080/"
        },
        "outputId": "4d2d8538-b381-442e-f160-fa244917f573",
        "id": "qguSSQD-LyEJ"
      },
      "execution_count": 225,
      "outputs": [
        {
          "output_type": "execute_result",
          "data": {
            "text/plain": [
              "(2780, 2780)"
            ]
          },
          "metadata": {},
          "execution_count": 225
        }
      ]
    },
    {
      "cell_type": "code",
      "source": [
        "train_windows, train_labels, test_windows, test_labels = make_train_test_splits(full_windows, full_labels)\n",
        "len(train_windows), len(test_windows), len(train_labels), len(test_labels)"
      ],
      "metadata": {
        "colab": {
          "base_uri": "https://localhost:8080/"
        },
        "outputId": "c51e8473-00c2-4e35-9cd8-7597f580e9c3",
        "id": "4ktvHOFdLyEL"
      },
      "execution_count": 226,
      "outputs": [
        {
          "output_type": "execute_result",
          "data": {
            "text/plain": [
              "(2224, 556, 2224, 556)"
            ]
          },
          "metadata": {},
          "execution_count": 226
        }
      ]
    },
    {
      "cell_type": "code",
      "source": [
        "model_4.evaluate(test_windows, test_labels)"
      ],
      "metadata": {
        "colab": {
          "base_uri": "https://localhost:8080/"
        },
        "id": "r-xyNcpuEt6w",
        "outputId": "6b8805ac-7b32-4b13-c05f-3ebd7fcaed40"
      },
      "execution_count": 219,
      "outputs": [
        {
          "output_type": "stream",
          "name": "stdout",
          "text": [
            "18/18 [==============================] - 0s 2ms/step - loss: 576.6687 - mean_absolute_error: 576.6687\n"
          ]
        },
        {
          "output_type": "execute_result",
          "data": {
            "text/plain": [
              "[576.668701171875, 576.668701171875]"
            ]
          },
          "metadata": {},
          "execution_count": 219
        }
      ]
    },
    {
      "cell_type": "markdown",
      "source": [
        "Since\n",
        "expand dims won't be initialized if we do not\n",
        "initialize it outside model, it's better if we write it in our model using lambda"
      ],
      "metadata": {
        "id": "0sPbJJg2NWz6"
      }
    },
    {
      "cell_type": "code",
      "source": [
        "x = tf.constant(train_windows[0])\n",
        "expand_dims_layer = layers.Lambda(lambda x: tf.expand_dims(x, axis=1))\n",
        "print(f'Original shape: {x.shape}')\n",
        "print(f'Expanded shape: {expand_dims_layer(x).shape}')\n",
        "print(f'Original values with expanded shape:\\n {expand_dims_layer(x)}')"
      ],
      "metadata": {
        "colab": {
          "base_uri": "https://localhost:8080/"
        },
        "id": "vdbCR-rPNWZs",
        "outputId": "00813895-6579-46d8-a9d8-5a3ff4487765"
      },
      "execution_count": 220,
      "outputs": [
        {
          "output_type": "stream",
          "name": "stdout",
          "text": [
            "Original shape: (7, 1)\n",
            "Expanded shape: (7, 1, 1)\n",
            "Original values with expanded shape:\n",
            " [[[123.65499]]\n",
            "\n",
            " [[125.455  ]]\n",
            "\n",
            " [[108.58483]]\n",
            "\n",
            " [[118.67466]]\n",
            "\n",
            " [[121.33866]]\n",
            "\n",
            " [[120.65533]]\n",
            "\n",
            " [[121.795  ]]]\n"
          ]
        }
      ]
    },
    {
      "cell_type": "code",
      "source": [
        "# Let's create our model again\n",
        "\n",
        "tf.random.set_seed(42)\n",
        "\n",
        "# Create model\n",
        "model_4 = tf.keras.Sequential([\n",
        "    # Create lambda layer to reshape inputs, without this layer, the model will error\n",
        "    layers.Lambda(lambda x: tf.expand_dims(x, axis=1)),   # resize the inputs to adjust for windows size / Conv 1D 3D\n",
        "    layers.Conv1D(filters=128, kernel_size=5, padding='causal', activation='relu'),\n",
        "    layers.Dense(HORIZON)\n",
        "], name='model_4_conv1D')\n",
        "\n",
        "# Compile model\n",
        "model_4.compile(loss='mae',\n",
        "                optimizer=tf.keras.optimizers.Adam())\n",
        "\n",
        "model_4_history = model_4.fit(x=train_windows,\n",
        "            y=train_labels,\n",
        "            epochs=100,\n",
        "            verbose=0,\n",
        "            batch_size=128,\n",
        "            validation_data=(test_windows, test_labels),\n",
        "            callbacks=[create_model_checkpoint(model_name=model_4.name)])"
      ],
      "metadata": {
        "id": "kuJHBl9OO8u3"
      },
      "execution_count": 227,
      "outputs": []
    },
    {
      "cell_type": "code",
      "source": [
        "model_4.summary()"
      ],
      "metadata": {
        "colab": {
          "base_uri": "https://localhost:8080/"
        },
        "id": "TWfy1GmtSq4G",
        "outputId": "d1330e11-cc68-40dc-e2f3-78eaf96f883f"
      },
      "execution_count": 228,
      "outputs": [
        {
          "output_type": "stream",
          "name": "stdout",
          "text": [
            "Model: \"model_4_conv1D\"\n",
            "_________________________________________________________________\n",
            " Layer (type)                Output Shape              Param #   \n",
            "=================================================================\n",
            " lambda_5 (Lambda)           (None, 1, 7)              0         \n",
            "                                                                 \n",
            " conv1d_5 (Conv1D)           (None, 1, 128)            4608      \n",
            "                                                                 \n",
            " dense_23 (Dense)            (None, 1, 1)              129       \n",
            "                                                                 \n",
            "=================================================================\n",
            "Total params: 4737 (18.50 KB)\n",
            "Trainable params: 4737 (18.50 KB)\n",
            "Non-trainable params: 0 (0.00 Byte)\n",
            "_________________________________________________________________\n"
          ]
        }
      ]
    },
    {
      "cell_type": "code",
      "source": [
        "model_4 = tf.keras.models.load_model('/content/model_experiments/sequential_3')\n",
        "model_4.evaluate(test_windows, test_labels)"
      ],
      "metadata": {
        "colab": {
          "base_uri": "https://localhost:8080/"
        },
        "id": "tDrPuQ0HSwGf",
        "outputId": "3f25e0b8-fda2-4b59-b6b6-d23a645aa2aa"
      },
      "execution_count": 229,
      "outputs": [
        {
          "output_type": "stream",
          "name": "stdout",
          "text": [
            "18/18 [==============================] - 0s 4ms/step - loss: 564.4478 - mean_absolute_error: 564.4478\n"
          ]
        },
        {
          "output_type": "execute_result",
          "data": {
            "text/plain": [
              "[564.44775390625, 564.44775390625]"
            ]
          },
          "metadata": {},
          "execution_count": 229
        }
      ]
    },
    {
      "cell_type": "code",
      "source": [
        "model_4_preds = make_preds(model_4, test_windows)\n",
        "model_4_preds[:10]"
      ],
      "metadata": {
        "colab": {
          "base_uri": "https://localhost:8080/"
        },
        "id": "CZoGzN3PS3EV",
        "outputId": "c6a06c43-cf76-434f-e26b-41a5cc232f38"
      },
      "execution_count": 230,
      "outputs": [
        {
          "output_type": "stream",
          "name": "stdout",
          "text": [
            "18/18 [==============================] - 0s 2ms/step\n"
          ]
        },
        {
          "output_type": "execute_result",
          "data": {
            "text/plain": [
              "<tf.Tensor: shape=(10,), dtype=float32, numpy=\n",
              "array([8856.483, 8796.907, 9039.607, 8794.8  , 8752.317, 8719.206,\n",
              "       8691.122, 8535.639, 8457.994, 8534.313], dtype=float32)>"
            ]
          },
          "metadata": {},
          "execution_count": 230
        }
      ]
    },
    {
      "cell_type": "markdown",
      "source": [
        "# Model 5 - RNN"
      ],
      "metadata": {
        "id": "gyTlg6H2J4aT"
      }
    },
    {
      "cell_type": "code",
      "source": [
        "# Model 4\n",
        "WINDOW_SIZE = 30\n",
        "HORIZON = 7"
      ],
      "metadata": {
        "id": "DXlW6kgCNBUj"
      },
      "execution_count": 231,
      "outputs": []
    },
    {
      "cell_type": "code",
      "source": [
        "full_windows, full_labels = make_windows(prices, window_size=WINDOW_SIZE, horizon=HORIZON)\n",
        "len(full_windows), len(full_labels)"
      ],
      "metadata": {
        "colab": {
          "base_uri": "https://localhost:8080/"
        },
        "outputId": "b80018b4-0c64-46ed-8375-4d3ba8a069fc",
        "id": "3Fh-Gv8nNBUj"
      },
      "execution_count": 232,
      "outputs": [
        {
          "output_type": "execute_result",
          "data": {
            "text/plain": [
              "(2751, 2751)"
            ]
          },
          "metadata": {},
          "execution_count": 232
        }
      ]
    },
    {
      "cell_type": "code",
      "source": [
        "train_windows, train_labels, test_windows, test_labels = make_train_test_splits(full_windows, full_labels)\n",
        "len(train_windows), len(test_windows), len(train_labels), len(test_labels)"
      ],
      "metadata": {
        "colab": {
          "base_uri": "https://localhost:8080/"
        },
        "outputId": "d4c58a35-f9c1-44b6-b5ea-f5390bc6e2a3",
        "id": "ijeUu7k5NBUj"
      },
      "execution_count": 233,
      "outputs": [
        {
          "output_type": "execute_result",
          "data": {
            "text/plain": [
              "(2200, 551, 2200, 551)"
            ]
          },
          "metadata": {},
          "execution_count": 233
        }
      ]
    },
    {
      "cell_type": "code",
      "source": [
        "# Expand dimensions of your data\n",
        "train_windows = np.expand_dims(train_windows, axis=-1)\n",
        "test_windows = np.expand_dims(test_windows, axis=-1)"
      ],
      "metadata": {
        "id": "BYIuEE4iNBUj"
      },
      "execution_count": 234,
      "outputs": []
    },
    {
      "cell_type": "code",
      "source": [
        "model_5 = tf.keras.Sequential([\n",
        "    tf.keras.layers.LSTM(128, activation='relu'),\n",
        "    tf.keras.layers.Flatten(),\n",
        "    tf.keras.layers.Dense(HORIZON)\n",
        "])"
      ],
      "metadata": {
        "id": "-PkNY6KyNBUk"
      },
      "execution_count": 235,
      "outputs": []
    },
    {
      "cell_type": "code",
      "source": [
        "model_5.compile(loss='mean_absolute_error',\n",
        "              optimizer='adam',\n",
        "              metrics='mean_absolute_error')"
      ],
      "metadata": {
        "id": "g9ZLA91fNBUk"
      },
      "execution_count": 236,
      "outputs": []
    },
    {
      "cell_type": "code",
      "source": [
        "model_5_history = model_5.fit(x=train_windows,\n",
        "            y=train_labels,\n",
        "            epochs=100,\n",
        "            verbose=1,\n",
        "            batch_size=128,\n",
        "            validation_data=(test_windows, test_labels),\n",
        "            callbacks=[create_model_checkpoint(model_name=model_3.name)])"
      ],
      "metadata": {
        "colab": {
          "base_uri": "https://localhost:8080/"
        },
        "outputId": "29616f97-f1d8-41e3-a556-4315a815f6a9",
        "collapsed": true,
        "id": "zPhEIDn1NBUk"
      },
      "execution_count": 237,
      "outputs": [
        {
          "output_type": "stream",
          "name": "stdout",
          "text": [
            "Epoch 1/100\n",
            "18/18 [==============================] - 5s 181ms/step - loss: 3069.4998 - mean_absolute_error: 3069.4998 - val_loss: 17563.4492 - val_mean_absolute_error: 17563.4492\n",
            "Epoch 2/100\n",
            "18/18 [==============================] - 4s 202ms/step - loss: 2018.9784 - mean_absolute_error: 2018.9784 - val_loss: 7660.6816 - val_mean_absolute_error: 7660.6816\n",
            "Epoch 3/100\n",
            "18/18 [==============================] - 1s 71ms/step - loss: 1736.5957 - mean_absolute_error: 1736.5957 - val_loss: 14049.9365 - val_mean_absolute_error: 14049.9365\n",
            "Epoch 4/100\n",
            "18/18 [==============================] - 1s 72ms/step - loss: 2477.0515 - mean_absolute_error: 2477.0515 - val_loss: 11919.3701 - val_mean_absolute_error: 11919.3701\n",
            "Epoch 5/100\n",
            "18/18 [==============================] - 2s 92ms/step - loss: 1863.5568 - mean_absolute_error: 1863.5568 - val_loss: 8114.4272 - val_mean_absolute_error: 8114.4272\n",
            "Epoch 6/100\n",
            "18/18 [==============================] - 4s 222ms/step - loss: 1085.7819 - mean_absolute_error: 1085.7819 - val_loss: 4729.1401 - val_mean_absolute_error: 4729.1401\n",
            "Epoch 7/100\n",
            "18/18 [==============================] - 1s 71ms/step - loss: 807.6643 - mean_absolute_error: 807.6643 - val_loss: 9140.8975 - val_mean_absolute_error: 9140.8975\n",
            "Epoch 8/100\n",
            "18/18 [==============================] - 1s 70ms/step - loss: 3856.1133 - mean_absolute_error: 3856.1133 - val_loss: 11328.5938 - val_mean_absolute_error: 11328.5938\n",
            "Epoch 9/100\n",
            "18/18 [==============================] - 1s 72ms/step - loss: 2192.8984 - mean_absolute_error: 2192.8984 - val_loss: 14941.5967 - val_mean_absolute_error: 14941.5967\n",
            "Epoch 10/100\n",
            "18/18 [==============================] - 1s 72ms/step - loss: 2396.5117 - mean_absolute_error: 2396.5117 - val_loss: 8959.8271 - val_mean_absolute_error: 8959.8271\n",
            "Epoch 11/100\n",
            "18/18 [==============================] - 1s 71ms/step - loss: 1686.4830 - mean_absolute_error: 1686.4830 - val_loss: 7246.6968 - val_mean_absolute_error: 7246.6968\n",
            "Epoch 12/100\n",
            "18/18 [==============================] - 1s 69ms/step - loss: 1411.8967 - mean_absolute_error: 1411.8967 - val_loss: 6407.2188 - val_mean_absolute_error: 6407.2188\n",
            "Epoch 13/100\n",
            "18/18 [==============================] - 2s 87ms/step - loss: 1157.3743 - mean_absolute_error: 1157.3743 - val_loss: 7975.5825 - val_mean_absolute_error: 7975.5825\n",
            "Epoch 14/100\n",
            "18/18 [==============================] - 2s 115ms/step - loss: 1691.2614 - mean_absolute_error: 1691.2614 - val_loss: 5856.9829 - val_mean_absolute_error: 5856.9829\n",
            "Epoch 15/100\n",
            "18/18 [==============================] - 2s 86ms/step - loss: 977.8906 - mean_absolute_error: 977.8906 - val_loss: 8941.3740 - val_mean_absolute_error: 8941.3740\n",
            "Epoch 16/100\n",
            "18/18 [==============================] - 1s 71ms/step - loss: 1746.7823 - mean_absolute_error: 1746.7823 - val_loss: 9440.9404 - val_mean_absolute_error: 9440.9404\n",
            "Epoch 17/100\n",
            "18/18 [==============================] - 1s 71ms/step - loss: 1600.0210 - mean_absolute_error: 1600.0210 - val_loss: 6549.4380 - val_mean_absolute_error: 6549.4380\n",
            "Epoch 18/100\n",
            "18/18 [==============================] - 3s 167ms/step - loss: 848.2186 - mean_absolute_error: 848.2186 - val_loss: 3796.5803 - val_mean_absolute_error: 3796.5803\n",
            "Epoch 19/100\n",
            "18/18 [==============================] - 1s 70ms/step - loss: 715.0385 - mean_absolute_error: 715.0385 - val_loss: 5456.8286 - val_mean_absolute_error: 5456.8286\n",
            "Epoch 20/100\n",
            "18/18 [==============================] - 1s 71ms/step - loss: 2067.8232 - mean_absolute_error: 2067.8232 - val_loss: 18349.5645 - val_mean_absolute_error: 18349.5645\n",
            "Epoch 21/100\n",
            "18/18 [==============================] - 1s 74ms/step - loss: 10228.8848 - mean_absolute_error: 10228.8848 - val_loss: 18004.4668 - val_mean_absolute_error: 18004.4668\n",
            "Epoch 22/100\n",
            "18/18 [==============================] - 2s 114ms/step - loss: 2527.0276 - mean_absolute_error: 2527.0276 - val_loss: 4933.8931 - val_mean_absolute_error: 4933.8931\n",
            "Epoch 23/100\n",
            "18/18 [==============================] - 2s 94ms/step - loss: 959.5428 - mean_absolute_error: 959.5428 - val_loss: 4247.5151 - val_mean_absolute_error: 4247.5151\n",
            "Epoch 24/100\n",
            "18/18 [==============================] - 1s 72ms/step - loss: 657.2113 - mean_absolute_error: 657.2113 - val_loss: 4070.5745 - val_mean_absolute_error: 4070.5745\n",
            "Epoch 25/100\n",
            "18/18 [==============================] - 3s 167ms/step - loss: 619.2169 - mean_absolute_error: 619.2169 - val_loss: 2847.0322 - val_mean_absolute_error: 2847.0322\n",
            "Epoch 26/100\n",
            "18/18 [==============================] - 3s 165ms/step - loss: 524.7355 - mean_absolute_error: 524.7355 - val_loss: 2639.4456 - val_mean_absolute_error: 2639.4456\n",
            "Epoch 27/100\n",
            "18/18 [==============================] - 1s 71ms/step - loss: 606.6741 - mean_absolute_error: 606.6741 - val_loss: 3024.1619 - val_mean_absolute_error: 3024.1619\n",
            "Epoch 28/100\n",
            "18/18 [==============================] - 2s 85ms/step - loss: 554.2675 - mean_absolute_error: 554.2675 - val_loss: 3242.2654 - val_mean_absolute_error: 3242.2654\n",
            "Epoch 29/100\n",
            "18/18 [==============================] - 2s 119ms/step - loss: 595.8687 - mean_absolute_error: 595.8687 - val_loss: 3172.2703 - val_mean_absolute_error: 3172.2703\n",
            "Epoch 30/100\n",
            "18/18 [==============================] - 1s 77ms/step - loss: 621.8867 - mean_absolute_error: 621.8867 - val_loss: 3108.0017 - val_mean_absolute_error: 3108.0017\n",
            "Epoch 31/100\n",
            "18/18 [==============================] - 1s 70ms/step - loss: 1010.9175 - mean_absolute_error: 1010.9175 - val_loss: 4618.0518 - val_mean_absolute_error: 4618.0518\n",
            "Epoch 32/100\n",
            "18/18 [==============================] - 1s 71ms/step - loss: 915.3077 - mean_absolute_error: 915.3077 - val_loss: 5746.7124 - val_mean_absolute_error: 5746.7124\n",
            "Epoch 33/100\n",
            "18/18 [==============================] - 1s 71ms/step - loss: 772.9910 - mean_absolute_error: 772.9910 - val_loss: 3454.4551 - val_mean_absolute_error: 3454.4551\n",
            "Epoch 34/100\n",
            "18/18 [==============================] - 1s 71ms/step - loss: 599.4010 - mean_absolute_error: 599.4010 - val_loss: 3375.7949 - val_mean_absolute_error: 3375.7949\n",
            "Epoch 35/100\n",
            "18/18 [==============================] - 1s 72ms/step - loss: 656.6848 - mean_absolute_error: 656.6848 - val_loss: 5596.0962 - val_mean_absolute_error: 5596.0962\n",
            "Epoch 36/100\n",
            "18/18 [==============================] - 2s 88ms/step - loss: 737.9758 - mean_absolute_error: 737.9758 - val_loss: 3853.1616 - val_mean_absolute_error: 3853.1616\n",
            "Epoch 37/100\n",
            "18/18 [==============================] - 2s 124ms/step - loss: 569.4914 - mean_absolute_error: 569.4914 - val_loss: 3095.5388 - val_mean_absolute_error: 3095.5388\n",
            "Epoch 38/100\n",
            "18/18 [==============================] - 4s 233ms/step - loss: 515.1293 - mean_absolute_error: 515.1293 - val_loss: 2339.0886 - val_mean_absolute_error: 2339.0886\n",
            "Epoch 39/100\n",
            "18/18 [==============================] - 1s 72ms/step - loss: 492.0665 - mean_absolute_error: 492.0665 - val_loss: 2420.4536 - val_mean_absolute_error: 2420.4536\n",
            "Epoch 40/100\n",
            "18/18 [==============================] - 1s 72ms/step - loss: 463.8412 - mean_absolute_error: 463.8412 - val_loss: 2755.2793 - val_mean_absolute_error: 2755.2793\n",
            "Epoch 41/100\n",
            "18/18 [==============================] - 1s 69ms/step - loss: 462.6205 - mean_absolute_error: 462.6205 - val_loss: 2639.6958 - val_mean_absolute_error: 2639.6958\n",
            "Epoch 42/100\n",
            "18/18 [==============================] - 3s 166ms/step - loss: 459.8970 - mean_absolute_error: 459.8970 - val_loss: 2279.9851 - val_mean_absolute_error: 2279.9851\n",
            "Epoch 43/100\n",
            "18/18 [==============================] - 4s 250ms/step - loss: 442.9086 - mean_absolute_error: 442.9086 - val_loss: 2239.7834 - val_mean_absolute_error: 2239.7834\n",
            "Epoch 44/100\n",
            "18/18 [==============================] - 2s 81ms/step - loss: 450.7706 - mean_absolute_error: 450.7706 - val_loss: 2510.0186 - val_mean_absolute_error: 2510.0186\n",
            "Epoch 45/100\n",
            "18/18 [==============================] - 1s 71ms/step - loss: 440.7689 - mean_absolute_error: 440.7689 - val_loss: 2292.4187 - val_mean_absolute_error: 2292.4187\n",
            "Epoch 46/100\n",
            "18/18 [==============================] - 1s 72ms/step - loss: 431.2709 - mean_absolute_error: 431.2709 - val_loss: 2706.3823 - val_mean_absolute_error: 2706.3823\n",
            "Epoch 47/100\n",
            "18/18 [==============================] - 1s 71ms/step - loss: 527.0117 - mean_absolute_error: 527.0117 - val_loss: 2861.2170 - val_mean_absolute_error: 2861.2170\n",
            "Epoch 48/100\n",
            "18/18 [==============================] - 1s 71ms/step - loss: 544.7841 - mean_absolute_error: 544.7841 - val_loss: 3526.8481 - val_mean_absolute_error: 3526.8481\n",
            "Epoch 49/100\n",
            "18/18 [==============================] - 1s 73ms/step - loss: 519.0643 - mean_absolute_error: 519.0643 - val_loss: 2352.0635 - val_mean_absolute_error: 2352.0635\n",
            "Epoch 50/100\n",
            "18/18 [==============================] - 3s 181ms/step - loss: 460.1521 - mean_absolute_error: 460.1521 - val_loss: 2123.8262 - val_mean_absolute_error: 2123.8262\n",
            "Epoch 51/100\n",
            "18/18 [==============================] - 2s 121ms/step - loss: 445.2749 - mean_absolute_error: 445.2749 - val_loss: 2263.1296 - val_mean_absolute_error: 2263.1296\n",
            "Epoch 52/100\n",
            "18/18 [==============================] - 1s 77ms/step - loss: 454.3766 - mean_absolute_error: 454.3766 - val_loss: 2211.8650 - val_mean_absolute_error: 2211.8650\n",
            "Epoch 53/100\n",
            "18/18 [==============================] - 1s 71ms/step - loss: 457.8782 - mean_absolute_error: 457.8782 - val_loss: 3476.0571 - val_mean_absolute_error: 3476.0574\n",
            "Epoch 54/100\n",
            "18/18 [==============================] - 1s 71ms/step - loss: 560.6447 - mean_absolute_error: 560.6447 - val_loss: 2714.9524 - val_mean_absolute_error: 2714.9524\n",
            "Epoch 55/100\n",
            "18/18 [==============================] - 1s 70ms/step - loss: 918.1709 - mean_absolute_error: 918.1709 - val_loss: 13445.6152 - val_mean_absolute_error: 13445.6152\n",
            "Epoch 56/100\n",
            "18/18 [==============================] - 1s 73ms/step - loss: 1532.4994 - mean_absolute_error: 1532.4994 - val_loss: 5901.0474 - val_mean_absolute_error: 5901.0474\n",
            "Epoch 57/100\n",
            "18/18 [==============================] - 1s 74ms/step - loss: 896.3357 - mean_absolute_error: 896.3357 - val_loss: 4175.6689 - val_mean_absolute_error: 4175.6689\n",
            "Epoch 58/100\n",
            "18/18 [==============================] - 1s 71ms/step - loss: 671.3530 - mean_absolute_error: 671.3530 - val_loss: 4024.9119 - val_mean_absolute_error: 4024.9119\n",
            "Epoch 59/100\n",
            "18/18 [==============================] - 1s 81ms/step - loss: 3059.9019 - mean_absolute_error: 3059.9019 - val_loss: 12836.4756 - val_mean_absolute_error: 12836.4756\n",
            "Epoch 60/100\n",
            "18/18 [==============================] - 2s 117ms/step - loss: 1967.9384 - mean_absolute_error: 1967.9384 - val_loss: 8807.1514 - val_mean_absolute_error: 8807.1514\n",
            "Epoch 61/100\n",
            "18/18 [==============================] - 2s 90ms/step - loss: 1048.0276 - mean_absolute_error: 1048.0276 - val_loss: 4597.8804 - val_mean_absolute_error: 4597.8804\n",
            "Epoch 62/100\n",
            "18/18 [==============================] - 1s 71ms/step - loss: 660.9431 - mean_absolute_error: 660.9431 - val_loss: 3156.3652 - val_mean_absolute_error: 3156.3652\n",
            "Epoch 63/100\n",
            "18/18 [==============================] - 1s 72ms/step - loss: 597.8864 - mean_absolute_error: 597.8864 - val_loss: 3409.5208 - val_mean_absolute_error: 3409.5208\n",
            "Epoch 64/100\n",
            "18/18 [==============================] - 1s 70ms/step - loss: 579.9509 - mean_absolute_error: 579.9509 - val_loss: 3795.6619 - val_mean_absolute_error: 3795.6619\n",
            "Epoch 65/100\n",
            "18/18 [==============================] - 1s 70ms/step - loss: 719.3810 - mean_absolute_error: 719.3810 - val_loss: 4306.4336 - val_mean_absolute_error: 4306.4336\n",
            "Epoch 66/100\n",
            "18/18 [==============================] - 1s 72ms/step - loss: 3625.4976 - mean_absolute_error: 3625.4976 - val_loss: 20760.6367 - val_mean_absolute_error: 20760.6367\n",
            "Epoch 67/100\n",
            "18/18 [==============================] - 1s 73ms/step - loss: 2664.8362 - mean_absolute_error: 2664.8362 - val_loss: 12553.8828 - val_mean_absolute_error: 12553.8828\n",
            "Epoch 68/100\n",
            "18/18 [==============================] - 1s 72ms/step - loss: 2099.4990 - mean_absolute_error: 2099.4990 - val_loss: 11125.9189 - val_mean_absolute_error: 11125.9189\n",
            "Epoch 69/100\n",
            "18/18 [==============================] - 2s 115ms/step - loss: 1408.3873 - mean_absolute_error: 1408.3873 - val_loss: 6698.7930 - val_mean_absolute_error: 6698.7930\n",
            "Epoch 70/100\n",
            "18/18 [==============================] - 2s 100ms/step - loss: 898.9390 - mean_absolute_error: 898.9390 - val_loss: 3770.9893 - val_mean_absolute_error: 3770.9893\n",
            "Epoch 71/100\n",
            "18/18 [==============================] - 1s 72ms/step - loss: 706.6317 - mean_absolute_error: 706.6317 - val_loss: 4898.5728 - val_mean_absolute_error: 4898.5728\n",
            "Epoch 72/100\n",
            "18/18 [==============================] - 1s 73ms/step - loss: 664.6447 - mean_absolute_error: 664.6447 - val_loss: 3513.5757 - val_mean_absolute_error: 3513.5757\n",
            "Epoch 73/100\n",
            "18/18 [==============================] - 1s 73ms/step - loss: 478.5448 - mean_absolute_error: 478.5448 - val_loss: 2472.8511 - val_mean_absolute_error: 2472.8511\n",
            "Epoch 74/100\n",
            "18/18 [==============================] - 3s 165ms/step - loss: 418.8466 - mean_absolute_error: 418.8466 - val_loss: 2031.0796 - val_mean_absolute_error: 2031.0796\n",
            "Epoch 75/100\n",
            "18/18 [==============================] - 1s 82ms/step - loss: 392.8629 - mean_absolute_error: 392.8629 - val_loss: 2449.7109 - val_mean_absolute_error: 2449.7109\n",
            "Epoch 76/100\n",
            "18/18 [==============================] - 4s 221ms/step - loss: 390.0679 - mean_absolute_error: 390.0679 - val_loss: 1841.0648 - val_mean_absolute_error: 1841.0648\n",
            "Epoch 77/100\n",
            "18/18 [==============================] - 2s 85ms/step - loss: 374.2831 - mean_absolute_error: 374.2831 - val_loss: 1954.9923 - val_mean_absolute_error: 1954.9923\n",
            "Epoch 78/100\n",
            "18/18 [==============================] - 1s 73ms/step - loss: 392.2057 - mean_absolute_error: 392.2057 - val_loss: 1852.3721 - val_mean_absolute_error: 1852.3721\n",
            "Epoch 79/100\n",
            "18/18 [==============================] - 1s 73ms/step - loss: 380.0894 - mean_absolute_error: 380.0894 - val_loss: 1872.0789 - val_mean_absolute_error: 1872.0789\n",
            "Epoch 80/100\n",
            "18/18 [==============================] - 3s 171ms/step - loss: 385.7306 - mean_absolute_error: 385.7306 - val_loss: 1782.7390 - val_mean_absolute_error: 1782.7390\n",
            "Epoch 81/100\n",
            "18/18 [==============================] - 1s 71ms/step - loss: 364.6232 - mean_absolute_error: 364.6232 - val_loss: 1933.5925 - val_mean_absolute_error: 1933.5925\n",
            "Epoch 82/100\n",
            "18/18 [==============================] - 1s 74ms/step - loss: 352.7538 - mean_absolute_error: 352.7538 - val_loss: 1915.7119 - val_mean_absolute_error: 1915.7119\n",
            "Epoch 83/100\n",
            "18/18 [==============================] - 2s 88ms/step - loss: 365.8237 - mean_absolute_error: 365.8237 - val_loss: 1808.5682 - val_mean_absolute_error: 1808.5682\n",
            "Epoch 84/100\n",
            "18/18 [==============================] - 3s 140ms/step - loss: 358.7015 - mean_absolute_error: 358.7015 - val_loss: 1922.9485 - val_mean_absolute_error: 1922.9485\n",
            "Epoch 85/100\n",
            "18/18 [==============================] - 2s 129ms/step - loss: 357.7463 - mean_absolute_error: 357.7463 - val_loss: 1806.1132 - val_mean_absolute_error: 1806.1132\n",
            "Epoch 86/100\n",
            "18/18 [==============================] - 2s 99ms/step - loss: 355.5409 - mean_absolute_error: 355.5409 - val_loss: 1831.0829 - val_mean_absolute_error: 1831.0829\n",
            "Epoch 87/100\n",
            "18/18 [==============================] - 1s 71ms/step - loss: 353.9428 - mean_absolute_error: 353.9428 - val_loss: 1818.3832 - val_mean_absolute_error: 1818.3832\n",
            "Epoch 88/100\n",
            "18/18 [==============================] - 1s 74ms/step - loss: 350.3435 - mean_absolute_error: 350.3435 - val_loss: 2055.1008 - val_mean_absolute_error: 2055.1008\n",
            "Epoch 89/100\n",
            "18/18 [==============================] - 1s 73ms/step - loss: 348.7977 - mean_absolute_error: 348.7977 - val_loss: 2000.4395 - val_mean_absolute_error: 2000.4395\n",
            "Epoch 90/100\n",
            "18/18 [==============================] - 3s 165ms/step - loss: 345.3766 - mean_absolute_error: 345.3766 - val_loss: 1773.0431 - val_mean_absolute_error: 1773.0431\n",
            "Epoch 91/100\n",
            "18/18 [==============================] - 4s 229ms/step - loss: 339.7791 - mean_absolute_error: 339.7791 - val_loss: 1746.0365 - val_mean_absolute_error: 1746.0365\n",
            "Epoch 92/100\n",
            "18/18 [==============================] - 4s 212ms/step - loss: 336.4643 - mean_absolute_error: 336.4643 - val_loss: 1692.3788 - val_mean_absolute_error: 1692.3788\n",
            "Epoch 93/100\n",
            "18/18 [==============================] - 1s 73ms/step - loss: 343.0576 - mean_absolute_error: 343.0576 - val_loss: 1699.3971 - val_mean_absolute_error: 1699.3971\n",
            "Epoch 94/100\n",
            "18/18 [==============================] - 3s 167ms/step - loss: 341.4610 - mean_absolute_error: 341.4610 - val_loss: 1690.0361 - val_mean_absolute_error: 1690.0361\n",
            "Epoch 95/100\n",
            "18/18 [==============================] - 1s 73ms/step - loss: 335.6318 - mean_absolute_error: 335.6318 - val_loss: 1713.5142 - val_mean_absolute_error: 1713.5142\n",
            "Epoch 96/100\n",
            "18/18 [==============================] - 1s 72ms/step - loss: 335.0923 - mean_absolute_error: 335.0923 - val_loss: 1727.8492 - val_mean_absolute_error: 1727.8492\n",
            "Epoch 97/100\n",
            "18/18 [==============================] - 1s 73ms/step - loss: 365.1717 - mean_absolute_error: 365.1717 - val_loss: 1722.9781 - val_mean_absolute_error: 1722.9781\n",
            "Epoch 98/100\n",
            "18/18 [==============================] - 4s 233ms/step - loss: 333.5838 - mean_absolute_error: 333.5838 - val_loss: 1661.3405 - val_mean_absolute_error: 1661.3405\n",
            "Epoch 99/100\n",
            "18/18 [==============================] - 3s 163ms/step - loss: 337.7130 - mean_absolute_error: 337.7130 - val_loss: 1649.8571 - val_mean_absolute_error: 1649.8571\n",
            "Epoch 100/100\n",
            "18/18 [==============================] - 3s 169ms/step - loss: 324.2769 - mean_absolute_error: 324.2769 - val_loss: 1640.2780 - val_mean_absolute_error: 1640.2780\n"
          ]
        }
      ]
    },
    {
      "cell_type": "code",
      "source": [
        "model_5.evaluate(test_windows, test_labels)"
      ],
      "metadata": {
        "colab": {
          "base_uri": "https://localhost:8080/"
        },
        "id": "FoEp-I0jE3fI",
        "outputId": "5b501c53-30e5-494b-96cd-1c57ba984003"
      },
      "execution_count": 238,
      "outputs": [
        {
          "output_type": "stream",
          "name": "stdout",
          "text": [
            "18/18 [==============================] - 0s 13ms/step - loss: 1640.2780 - mean_absolute_error: 1640.2780\n"
          ]
        },
        {
          "output_type": "execute_result",
          "data": {
            "text/plain": [
              "[1640.2779541015625, 1640.2779541015625]"
            ]
          },
          "metadata": {},
          "execution_count": 238
        }
      ]
    },
    {
      "cell_type": "code",
      "source": [
        "model_5 = tf.keras.models.load_model('/content/model_experiments/sequential_4')\n",
        "model_5.evaluate(test_windows, test_labels)"
      ],
      "metadata": {
        "colab": {
          "base_uri": "https://localhost:8080/"
        },
        "id": "2eKfDNCwE3fJ",
        "outputId": "95688c69-35d9-4fcb-e176-c5148e9d2f75"
      },
      "execution_count": 239,
      "outputs": [
        {
          "output_type": "stream",
          "name": "stdout",
          "text": [
            "18/18 [==============================] - 0s 2ms/step - loss: 1217.7772 - mean_absolute_error: 1217.7772\n"
          ]
        },
        {
          "output_type": "execute_result",
          "data": {
            "text/plain": [
              "[1217.7772216796875, 1217.7772216796875]"
            ]
          },
          "metadata": {},
          "execution_count": 239
        }
      ]
    },
    {
      "cell_type": "markdown",
      "source": [
        "# Comparison"
      ],
      "metadata": {
        "id": "puvYZlqKQd5x"
      }
    },
    {
      "cell_type": "code",
      "source": [
        "model_4_history"
      ],
      "metadata": {
        "colab": {
          "base_uri": "https://localhost:8080/"
        },
        "id": "4wM57QKXUxyT",
        "outputId": "56a7720e-369b-494b-efcc-447a3e66c80f"
      },
      "execution_count": 244,
      "outputs": [
        {
          "output_type": "execute_result",
          "data": {
            "text/plain": [
              "<keras.src.callbacks.History at 0x7ae66d14ca30>"
            ]
          },
          "metadata": {},
          "execution_count": 244
        }
      ]
    },
    {
      "cell_type": "code",
      "source": [
        "mae_1 = model_1_history.history['mean_absolute_error'][-1]\n",
        "mae_2 = model_2_history.history['mean_absolute_error'][-1]\n",
        "mae_3 = model_3_history.history['mean_absolute_error'][-1]\n",
        "mae_4 = model_4_history.history['mean_absolute_error'][-1]\n",
        "mae_5 = model_5_history.history['mean_absolute_error'][-1]"
      ],
      "metadata": {
        "collapsed": true,
        "id": "fBfxenKkM9OI"
      },
      "execution_count": 245,
      "outputs": []
    },
    {
      "cell_type": "code",
      "source": [
        "val_mae_1 = model_1_history.history['val_mean_absolute_error'][-1]\n",
        "val_mae_2 = model_2_history.history['val_mean_absolute_error'][-1]\n",
        "val_mae_3 = model_3_history.history['val_mean_absolute_error'][-1]\n",
        "val_mae_4 = model_4_history.history['val_mean_absolute_error'][-1]\n",
        "val_mae_5 = model_5_history.history['val_mean_absolute_error'][-1]"
      ],
      "metadata": {
        "id": "so9Z5X2pfJb6"
      },
      "execution_count": 246,
      "outputs": []
    },
    {
      "cell_type": "code",
      "source": [
        "names = ['mae_1', 'mae_2', 'mae_3', 'mae_4', 'mae_5']\n",
        "val_names = ['val_mae_1', 'val_mae_2', 'val_mae_3', 'val_mae_4', 'val_mae_5']\n"
      ],
      "metadata": {
        "id": "Z80-kxSWe9Kk"
      },
      "execution_count": 249,
      "outputs": []
    },
    {
      "cell_type": "code",
      "source": [
        "fig, ax = plt.subplots(figsize=(14, 7))\n",
        "plt.subplot(121)\n",
        "plt.bar(names, [mae_1, mae_2, mae_3, mae_4, mae_5])\n",
        "plt.title(\"MAE of train\")\n",
        "plt.subplot(122)\n",
        "plt.bar(val_names, [val_mae_1, val_mae_2, val_mae_3, val_mae_4, val_mae_5])\n",
        "plt.title(\"MAE of validation\")"
      ],
      "metadata": {
        "colab": {
          "base_uri": "https://localhost:8080/",
          "height": 853
        },
        "id": "mgKsKflCecVA",
        "outputId": "61ac3c38-10be-4581-8ab6-872afba01d21"
      },
      "execution_count": 250,
      "outputs": [
        {
          "output_type": "stream",
          "name": "stderr",
          "text": [
            "<ipython-input-250-4a9f05c7377b>:2: MatplotlibDeprecationWarning: Auto-removal of overlapping axes is deprecated since 3.6 and will be removed two minor releases later; explicitly call ax.remove() as needed.\n",
            "  plt.subplot(121)\n"
          ]
        },
        {
          "output_type": "error",
          "ename": "NameError",
          "evalue": "name 'mae_4' is not defined",
          "traceback": [
            "\u001b[0;31m---------------------------------------------------------------------------\u001b[0m",
            "\u001b[0;31mNameError\u001b[0m                                 Traceback (most recent call last)",
            "\u001b[0;32m<ipython-input-250-4a9f05c7377b>\u001b[0m in \u001b[0;36m<cell line: 3>\u001b[0;34m()\u001b[0m\n\u001b[1;32m      1\u001b[0m \u001b[0mfig\u001b[0m\u001b[0;34m,\u001b[0m \u001b[0max\u001b[0m \u001b[0;34m=\u001b[0m \u001b[0mplt\u001b[0m\u001b[0;34m.\u001b[0m\u001b[0msubplots\u001b[0m\u001b[0;34m(\u001b[0m\u001b[0mfigsize\u001b[0m\u001b[0;34m=\u001b[0m\u001b[0;34m(\u001b[0m\u001b[0;36m14\u001b[0m\u001b[0;34m,\u001b[0m \u001b[0;36m7\u001b[0m\u001b[0;34m)\u001b[0m\u001b[0;34m)\u001b[0m\u001b[0;34m\u001b[0m\u001b[0;34m\u001b[0m\u001b[0m\n\u001b[1;32m      2\u001b[0m \u001b[0mplt\u001b[0m\u001b[0;34m.\u001b[0m\u001b[0msubplot\u001b[0m\u001b[0;34m(\u001b[0m\u001b[0;36m121\u001b[0m\u001b[0;34m)\u001b[0m\u001b[0;34m\u001b[0m\u001b[0;34m\u001b[0m\u001b[0m\n\u001b[0;32m----> 3\u001b[0;31m \u001b[0mplt\u001b[0m\u001b[0;34m.\u001b[0m\u001b[0mbar\u001b[0m\u001b[0;34m(\u001b[0m\u001b[0mnames\u001b[0m\u001b[0;34m,\u001b[0m \u001b[0;34m[\u001b[0m\u001b[0mmae_1\u001b[0m\u001b[0;34m,\u001b[0m \u001b[0mmae_2\u001b[0m\u001b[0;34m,\u001b[0m \u001b[0mmae_3\u001b[0m\u001b[0;34m,\u001b[0m \u001b[0mmae_4\u001b[0m\u001b[0;34m,\u001b[0m \u001b[0mmae_5\u001b[0m\u001b[0;34m]\u001b[0m\u001b[0;34m)\u001b[0m\u001b[0;34m\u001b[0m\u001b[0;34m\u001b[0m\u001b[0m\n\u001b[0m\u001b[1;32m      4\u001b[0m \u001b[0mplt\u001b[0m\u001b[0;34m.\u001b[0m\u001b[0mtitle\u001b[0m\u001b[0;34m(\u001b[0m\u001b[0;34m\"MAE of train\"\u001b[0m\u001b[0;34m)\u001b[0m\u001b[0;34m\u001b[0m\u001b[0;34m\u001b[0m\u001b[0m\n\u001b[1;32m      5\u001b[0m \u001b[0mplt\u001b[0m\u001b[0;34m.\u001b[0m\u001b[0msubplot\u001b[0m\u001b[0;34m(\u001b[0m\u001b[0;36m122\u001b[0m\u001b[0;34m)\u001b[0m\u001b[0;34m\u001b[0m\u001b[0;34m\u001b[0m\u001b[0m\n",
            "\u001b[0;31mNameError\u001b[0m: name 'mae_4' is not defined"
          ]
        },
        {
          "output_type": "display_data",
          "data": {
            "text/plain": [
              "<Figure size 1400x700 with 1 Axes>"
            ],
            "image/png": "[encoded data removed]"
          },
          "metadata": {}
        }
      ]
    },
    {
      "cell_type": "markdown",
      "source": [
        "# Multivariate time series"
      ],
      "metadata": {
        "id": "5ziwHm1qQAyf"
      }
    },
    {
      "cell_type": "code",
      "source": [
        "# Block reward values\n",
        "block_reward_1 = 50\n",
        "block_reward_2 = 25\n",
        "block_reward_3 = 12.5\n",
        "block_reward_4 = 6.25\n",
        "\n",
        "# Block reward dates (datetime form of the above data stamps)\n",
        "block_reward_2_datetime = np.datetime64('2012-11-28')\n",
        "block_reward_3_datetime = np.datetime64('2016-07-09')\n",
        "block_reward_4_datetime = np.datetime64('2020-05-11')"
      ],
      "metadata": {
        "id": "jQ0U0G9XVIOO"
      },
      "execution_count": 252,
      "outputs": []
    },
    {
      "cell_type": "code",
      "source": [
        "block_reward_2_days = (block_reward_3_datetime - bitcoin_prices.index[0]).days\n",
        "block_reward_3_days = (block_reward_4_datetime - bitcoin_prices.index[0]).days\n",
        "block_reward_2_days, block_reward_3_days"
      ],
      "metadata": {
        "colab": {
          "base_uri": "https://localhost:8080/"
        },
        "id": "PioxzCv4VmIF",
        "outputId": "e3d1732a-efd7-4827-b8ce-6f6981602693"
      },
      "execution_count": 253,
      "outputs": [
        {
          "output_type": "execute_result",
          "data": {
            "text/plain": [
              "(1012, 2414)"
            ]
          },
          "metadata": {},
          "execution_count": 253
        }
      ]
    },
    {
      "cell_type": "code",
      "source": [
        "# Add block_reward column\n",
        "bitcoin_prices_block = bitcoin_prices.copy()\n",
        "bitcoin_prices_block['block_reward'] = None\n",
        "\n",
        "# Set values of block_reward column (it's the last column hence -1 indexing on iloc)\n",
        "bitcoin_prices_block.iloc[:block_reward_2_days, -1] = block_reward_2\n",
        "bitcoin_prices_block.iloc[block_reward_2_days:block_reward_3_days, -1] = block_reward_3\n",
        "bitcoin_prices_block.iloc[block_reward_3_days:, -1] = block_reward_4\n",
        "bitcoin_prices_block.head()"
      ],
      "metadata": {
        "colab": {
          "base_uri": "https://localhost:8080/",
          "height": 238
        },
        "id": "mLKlYU_4WRtO",
        "outputId": "1a5b06af-ab88-477b-c9a0-bfb3f47a27da"
      },
      "execution_count": 256,
      "outputs": [
        {
          "output_type": "execute_result",
          "data": {
            "text/plain": [
              "                Price block_reward\n",
              "Date                              \n",
              "2013-10-01  123.65499           25\n",
              "2013-10-02  125.45500           25\n",
              "2013-10-03  108.58483           25\n",
              "2013-10-04  118.67466           25\n",
              "2013-10-05  121.33866           25"
            ],
            "text/html": [
              "\n",
              "  <div id=\"df-74843288-f25f-4853-a3c7-fef6c028d283\" class=\"colab-df-container\">\n",
              "    <div>\n",
              "<style scoped>\n",
              "    .dataframe tbody tr th:only-of-type {\n",
              "        vertical-align: middle;\n",
              "    }\n",
              "\n",
              "    .dataframe tbody tr th {\n",
              "        vertical-align: top;\n",
              "    }\n",
              "\n",
              "    .dataframe thead th {\n",
              "        text-align: right;\n",
              "    }\n",
              "</style>\n",
              "<table border=\"1\" class=\"dataframe\">\n",
              "  <thead>\n",
              "    <tr style=\"text-align: right;\">\n",
              "      <th></th>\n",
              "      <th>Price</th>\n",
              "      <th>block_reward</th>\n",
              "    </tr>\n",
              "    <tr>\n",
              "      <th>Date</th>\n",
              "      <th></th>\n",
              "      <th></th>\n",
              "    </tr>\n",
              "  </thead>\n",
              "  <tbody>\n",
              "    <tr>\n",
              "      <th>2013-10-01</th>\n",
              "      <td>123.65499</td>\n",
              "      <td>25</td>\n",
              "    </tr>\n",
              "    <tr>\n",
              "      <th>2013-10-02</th>\n",
              "      <td>125.45500</td>\n",
              "      <td>25</td>\n",
              "    </tr>\n",
              "    <tr>\n",
              "      <th>2013-10-03</th>\n",
              "      <td>108.58483</td>\n",
              "      <td>25</td>\n",
              "    </tr>\n",
              "    <tr>\n",
              "      <th>2013-10-04</th>\n",
              "      <td>118.67466</td>\n",
              "      <td>25</td>\n",
              "    </tr>\n",
              "    <tr>\n",
              "      <th>2013-10-05</th>\n",
              "      <td>121.33866</td>\n",
              "      <td>25</td>\n",
              "    </tr>\n",
              "  </tbody>\n",
              "</table>\n",
              "</div>\n",
              "    <div class=\"colab-df-buttons\">\n",
              "\n",
              "  <div class=\"colab-df-container\">\n",
              "    <button class=\"colab-df-convert\" onclick=\"convertToInteractive('df-74843288-f25f-4853-a3c7-fef6c028d283')\"\n",
              "            title=\"Convert this dataframe to an interactive table.\"\n",
              "            style=\"display:none;\">\n",
              "\n",
              "  <svg xmlns=\"http://www.w3.org/2000/svg\" height=\"24px\" viewBox=\"0 -960 960 960\">\n",
              "    <path d=\"M120-120v-720h720v720H120Zm60-500h600v-160H180v160Zm220 220h160v-160H400v160Zm0 220h160v-160H400v160ZM180-400h160v-160H180v160Zm440 0h160v-160H620v160ZM180-180h160v-160H180v160Zm440 0h160v-160H620v160Z\"/>\n",
              "  </svg>\n",
              "    </button>\n",
              "\n",
              "  <style>\n",
              "    .colab-df-container {\n",
              "      display:flex;\n",
              "      gap: 12px;\n",
              "    }\n",
              "\n",
              "    .colab-df-convert {\n",
              "      background-color: #E8F0FE;\n",
              "      border: none;\n",
              "      border-radius: 50%;\n",
              "      cursor: pointer;\n",
              "      display: none;\n",
              "      fill: #1967D2;\n",
              "      height: 32px;\n",
              "      padding: 0 0 0 0;\n",
              "      width: 32px;\n",
              "    }\n",
              "\n",
              "    .colab-df-convert:hover {\n",
              "      background-color: #E2EBFA;\n",
              "      box-shadow: 0px 1px 2px rgba(60, 64, 67, 0.3), 0px 1px 3px 1px rgba(60, 64, 67, 0.15);\n",
              "      fill: #174EA6;\n",
              "    }\n",
              "\n",
              "    .colab-df-buttons div {\n",
              "      margin-bottom: 4px;\n",
              "    }\n",
              "\n",
              "    [theme=dark] .colab-df-convert {\n",
              "      background-color: #3B4455;\n",
              "      fill: #D2E3FC;\n",
              "    }\n",
              "\n",
              "    [theme=dark] .colab-df-convert:hover {\n",
              "      background-color: #434B5C;\n",
              "      box-shadow: 0px 1px 3px 1px rgba(0, 0, 0, 0.15);\n",
              "      filter: drop-shadow(0px 1px 2px rgba(0, 0, 0, 0.3));\n",
              "      fill: #FFFFFF;\n",
              "    }\n",
              "  </style>\n",
              "\n",
              "    <script>\n",
              "      const buttonEl =\n",
              "        document.querySelector('#df-74843288-f25f-4853-a3c7-fef6c028d283 button.colab-df-convert');\n",
              "      buttonEl.style.display =\n",
              "        google.colab.kernel.accessAllowed ? 'block' : 'none';\n",
              "\n",
              "      async function convertToInteractive(key) {\n",
              "        const element = document.querySelector('#df-74843288-f25f-4853-a3c7-fef6c028d283');\n",
              "        const dataTable =\n",
              "          await google.colab.kernel.invokeFunction('convertToInteractive',\n",
              "                                                    [key], {});\n",
              "        if (!dataTable) return;\n",
              "\n",
              "        const docLinkHtml = 'Like what you see? Visit the ' +\n",
              "          '<a target=\"_blank\" href=https://colab.research.google.com/notebooks/data_table.ipynb>data table notebook</a>'\n",
              "          + ' to learn more about interactive tables.';\n",
              "        element.innerHTML = '';\n",
              "        dataTable['output_type'] = 'display_data';\n",
              "        await google.colab.output.renderOutput(dataTable, element);\n",
              "        const docLink = document.createElement('div');\n",
              "        docLink.innerHTML = docLinkHtml;\n",
              "        element.appendChild(docLink);\n",
              "      }\n",
              "    </script>\n",
              "  </div>\n",
              "\n",
              "\n",
              "<div id=\"df-c539ea3b-ce04-4995-8e2b-56ee1bcacb96\">\n",
              "  <button class=\"colab-df-quickchart\" onclick=\"quickchart('df-c539ea3b-ce04-4995-8e2b-56ee1bcacb96')\"\n",
              "            title=\"Suggest charts\"\n",
              "            style=\"display:none;\">\n",
              "\n",
              "<svg xmlns=\"http://www.w3.org/2000/svg\" height=\"24px\"viewBox=\"0 0 24 24\"\n",
              "     width=\"24px\">\n",
              "    <g>\n",
              "        <path d=\"M19 3H5c-1.1 0-2 .9-2 2v14c0 1.1.9 2 2 2h14c1.1 0 2-.9 2-2V5c0-1.1-.9-2-2-2zM9 17H7v-7h2v7zm4 0h-2V7h2v10zm4 0h-2v-4h2v4z\"/>\n",
              "    </g>\n",
              "</svg>\n",
              "  </button>\n",
              "\n",
              "<style>\n",
              "  .colab-df-quickchart {\n",
              "      --bg-color: #E8F0FE;\n",
              "      --fill-color: #1967D2;\n",
              "      --hover-bg-color: #E2EBFA;\n",
              "      --hover-fill-color: #174EA6;\n",
              "      --disabled-fill-color: #AAA;\n",
              "      --disabled-bg-color: #DDD;\n",
              "  }\n",
              "\n",
              "  [theme=dark] .colab-df-quickchart {\n",
              "      --bg-color: #3B4455;\n",
              "      --fill-color: #D2E3FC;\n",
              "      --hover-bg-color: #434B5C;\n",
              "      --hover-fill-color: #FFFFFF;\n",
              "      --disabled-bg-color: #3B4455;\n",
              "      --disabled-fill-color: #666;\n",
              "  }\n",
              "\n",
              "  .colab-df-quickchart {\n",
              "    background-color: var(--bg-color);\n",
              "    border: none;\n",
              "    border-radius: 50%;\n",
              "    cursor: pointer;\n",
              "    display: none;\n",
              "    fill: var(--fill-color);\n",
              "    height: 32px;\n",
              "    padding: 0;\n",
              "    width: 32px;\n",
              "  }\n",
              "\n",
              "  .colab-df-quickchart:hover {\n",
              "    background-color: var(--hover-bg-color);\n",
              "    box-shadow: 0 1px 2px rgba(60, 64, 67, 0.3), 0 1px 3px 1px rgba(60, 64, 67, 0.15);\n",
              "    fill: var(--button-hover-fill-color);\n",
              "  }\n",
              "\n",
              "  .colab-df-quickchart-complete:disabled,\n",
              "  .colab-df-quickchart-complete:disabled:hover {\n",
              "    background-color: var(--disabled-bg-color);\n",
              "    fill: var(--disabled-fill-color);\n",
              "    box-shadow: none;\n",
              "  }\n",
              "\n",
              "  .colab-df-spinner {\n",
              "    border: 2px solid var(--fill-color);\n",
              "    border-color: transparent;\n",
              "    border-bottom-color: var(--fill-color);\n",
              "    animation:\n",
              "      spin 1s steps(1) infinite;\n",
              "  }\n",
              "\n",
              "  @keyframes spin {\n",
              "    0% {\n",
              "      border-color: transparent;\n",
              "      border-bottom-color: var(--fill-color);\n",
              "      border-left-color: var(--fill-color);\n",
              "    }\n",
              "    20% {\n",
              "      border-color: transparent;\n",
              "      border-left-color: var(--fill-color);\n",
              "      border-top-color: var(--fill-color);\n",
              "    }\n",
              "    30% {\n",
              "      border-color: transparent;\n",
              "      border-left-color: var(--fill-color);\n",
              "      border-top-color: var(--fill-color);\n",
              "      border-right-color: var(--fill-color);\n",
              "    }\n",
              "    40% {\n",
              "      border-color: transparent;\n",
              "      border-right-color: var(--fill-color);\n",
              "      border-top-color: var(--fill-color);\n",
              "    }\n",
              "    60% {\n",
              "      border-color: transparent;\n",
              "      border-right-color: var(--fill-color);\n",
              "    }\n",
              "    80% {\n",
              "      border-color: transparent;\n",
              "      border-right-color: var(--fill-color);\n",
              "      border-bottom-color: var(--fill-color);\n",
              "    }\n",
              "    90% {\n",
              "      border-color: transparent;\n",
              "      border-bottom-color: var(--fill-color);\n",
              "    }\n",
              "  }\n",
              "</style>\n",
              "\n",
              "  <script>\n",
              "    async function quickchart(key) {\n",
              "      const quickchartButtonEl =\n",
              "        document.querySelector('#' + key + ' button');\n",
              "      quickchartButtonEl.disabled = true;  // To prevent multiple clicks.\n",
              "      quickchartButtonEl.classList.add('colab-df-spinner');\n",
              "      try {\n",
              "        const charts = await google.colab.kernel.invokeFunction(\n",
              "            'suggestCharts', [key], {});\n",
              "      } catch (error) {\n",
              "        console.error('Error during call to suggestCharts:', error);\n",
              "      }\n",
              "      quickchartButtonEl.classList.remove('colab-df-spinner');\n",
              "      quickchartButtonEl.classList.add('colab-df-quickchart-complete');\n",
              "    }\n",
              "    (() => {\n",
              "      let quickchartButtonEl =\n",
              "        document.querySelector('#df-c539ea3b-ce04-4995-8e2b-56ee1bcacb96 button');\n",
              "      quickchartButtonEl.style.display =\n",
              "        google.colab.kernel.accessAllowed ? 'block' : 'none';\n",
              "    })();\n",
              "  </script>\n",
              "</div>\n",
              "\n",
              "    </div>\n",
              "  </div>\n"
            ],
            "application/vnd.google.colaboratory.intrinsic+json": {
              "type": "dataframe",
              "variable_name": "bitcoin_prices_block",
              "summary": "{\n  \"name\": \"bitcoin_prices_block\",\n  \"rows\": 2787,\n  \"fields\": [\n    {\n      \"column\": \"Date\",\n      \"properties\": {\n        \"dtype\": \"date\",\n        \"min\": \"2013-10-01 00:00:00\",\n        \"max\": \"2021-05-18 00:00:00\",\n        \"num_unique_values\": 2787,\n        \"samples\": [\n          \"2019-06-11 00:00:00\",\n          \"2021-05-03 00:00:00\",\n          \"2017-10-05 00:00:00\"\n        ],\n        \"semantic_type\": \"\",\n        \"description\": \"\"\n      }\n    },\n    {\n      \"column\": \"Price\",\n      \"properties\": {\n        \"dtype\": \"number\",\n        \"std\": 10887.84744436952,\n        \"min\": 108.58483,\n        \"max\": 63346.7890351052,\n        \"num_unique_values\": 2787,\n        \"samples\": [\n          7954.0062377205,\n          56427.0431250152,\n          4186.78374\n        ],\n        \"semantic_type\": \"\",\n        \"description\": \"\"\n      }\n    },\n    {\n      \"column\": \"block_reward\",\n      \"properties\": {\n        \"dtype\": \"date\",\n        \"min\": 6.25,\n        \"max\": 25,\n        \"num_unique_values\": 3,\n        \"samples\": [\n          25,\n          12.5,\n          6.25\n        ],\n        \"semantic_type\": \"\",\n        \"description\": \"\"\n      }\n    }\n  ]\n}"
            }
          },
          "metadata": {},
          "execution_count": 256
        }
      ]
    },
    {
      "cell_type": "code",
      "source": [
        "# Plot the block reward/prize over time\n",
        "# Note: Because of the different scales of our values we'll scale them to be between 0 and 1.\n",
        "from sklearn.preprocessing import minmax_scale\n",
        "scaled_price_block_df = pd.DataFrame(minmax_scale(bitcoin_prices_block[['Price', 'block_reward']]),\n",
        "                                     columns=bitcoin_prices_block.columns,\n",
        "                                     index=bitcoin_prices_block.index)\n",
        "scaled_price_block_df.plot(figsize=(10, 7));"
      ],
      "metadata": {
        "colab": {
          "base_uri": "https://localhost:8080/",
          "height": 619
        },
        "id": "cOK7HbhQXHFi",
        "outputId": "722c13b8-aa5a-419c-d589-9e0f73045a84"
      },
      "execution_count": 257,
      "outputs": [
        {
          "output_type": "display_data",
          "data": {
            "text/plain": [
              "<Figure size 1000x700 with 1 Axes>"
            ],
            "image/png": "[encoded data removed]"
          },
          "metadata": {}
        }
      ]
    },
    {
      "cell_type": "code",
      "source": [],
      "metadata": {
        "id": "IR2Xx6zrYkpx"
      },
      "execution_count": null,
      "outputs": []
    }
  ]
}